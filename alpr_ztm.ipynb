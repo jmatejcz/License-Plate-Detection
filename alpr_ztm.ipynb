{
 "cells": [
  {
   "cell_type": "code",
   "execution_count": 1,
   "id": "8a156eee",
   "metadata": {},
   "outputs": [],
   "source": [
    "import os\n",
    "import alpr\n",
    "import cv2\n",
    "import matplotlib.pyplot as plt\n",
    "import numpy as np"
   ]
  },
  {
   "cell_type": "code",
   "execution_count": 2,
   "id": "2b5928fc",
   "metadata": {},
   "outputs": [],
   "source": [
    "num_classes = 2\n",
    "root = \"/workspace/alpr/\"\n",
    "# dataset_train = alpr.InstanceSegmentationCocoDataset(root = root, images_path=\"images/\", coco_labels_path=\"result_2.json\", transforms=alpr.get_transform(train=True))\n",
    "# dataset_test = alpr.InstanceSegmentationCocoDataset(root = root, images_path=\"images/\", coco_labels_path=\"result_2.json\", transforms=alpr.get_transform(train=True))\n",
    "\n",
    "model = alpr.get_model_instance_segmentation(num_classes, default=True)\n",
    "\n",
    "# engine = alpr.AlprSetupTraining(model, dataset_train, dataset_test, batch_size=2, train_split=0.8)\n",
    "# engine.load_state_dict(path_to_weights=root+\"fasterrcnn_resnet50_fpn_v2.pt\")\n",
    "\n",
    "# num_epochs = 50\n",
    "# engine.train(num_epochs=num_epochs, save_path=root+\"fasterrcnn_resnet50_fpn_v2.pt\")"
   ]
  },
  {
   "cell_type": "code",
   "execution_count": 3,
   "id": "64b3c406",
   "metadata": {},
   "outputs": [],
   "source": [
    "# model = get_model_instance_segmentation(num_classes, default=True)\n",
    "\n",
    "\n",
    "# iou = engine.eval(show_fr=50, score_threshold=0.7, save_boxes=True)\n",
    "# print(np.mean(iou))"
   ]
  },
  {
   "cell_type": "code",
   "execution_count": null,
   "id": "f750973f",
   "metadata": {},
   "outputs": [
    {
     "name": "stdout",
     "output_type": "stream",
     "text": [
      "could not open .ipynb_checkpoints\n",
      "images done -> 0, time_spent: 1.5187633037567139\n",
      "images done -> 100, time_spent: 15.950722694396973\n",
      "images done -> 200, time_spent: 32.05123043060303\n",
      "images done -> 300, time_spent: 44.9509973526001\n",
      "images done -> 400, time_spent: 57.85177397727966\n",
      "images done -> 500, time_spent: 71.84758019447327\n",
      "images done -> 600, time_spent: 86.28606700897217\n",
      "images done -> 700, time_spent: 101.05044627189636\n",
      "images done -> 800, time_spent: 114.45095014572144\n",
      "images done -> 900, time_spent: 128.36408305168152\n",
      "images done -> 1000, time_spent: 142.35958051681519\n",
      "images done -> 1100, time_spent: 157.45167922973633\n",
      "images done -> 1200, time_spent: 171.0519917011261\n",
      "images done -> 1300, time_spent: 186.04184198379517\n",
      "images done -> 1400, time_spent: 200.27080464363098\n",
      "images done -> 1500, time_spent: 216.45161151885986\n",
      "images done -> 1600, time_spent: 229.8602216243744\n",
      "images done -> 1700, time_spent: 244.8526554107666\n",
      "images done -> 1800, time_spent: 258.55586194992065\n",
      "images done -> 1900, time_spent: 274.0530378818512\n",
      "images done -> 2000, time_spent: 287.7662582397461\n",
      "images done -> 2100, time_spent: 301.95279121398926\n",
      "images done -> 2200, time_spent: 315.3649616241455\n",
      "images done -> 2300, time_spent: 334.0568883419037\n",
      "images done -> 2400, time_spent: 350.25477933883667\n",
      "images done -> 2700, time_spent: 412.36386036872864\n",
      "images done -> 2800, time_spent: 430.1509265899658\n",
      "images done -> 2900, time_spent: 444.063649892807\n",
      "images done -> 3000, time_spent: 458.1563718318939\n",
      "images done -> 3300, time_spent: 512.3639445304871\n",
      "images done -> 3400, time_spent: 529.0518002510071\n",
      "images done -> 3500, time_spent: 542.963324546814\n",
      "images done -> 3600, time_spent: 558.7646820545197\n",
      "images done -> 3700, time_spent: 574.163476228714\n",
      "images done -> 3800, time_spent: 594.24924659729\n",
      "images done -> 3900, time_spent: 616.2623023986816\n",
      "images done -> 4000, time_spent: 636.1494328975677\n"
     ]
    }
   ],
   "source": [
    "cropper = alpr.AlprSetupPlateCrop(root=root, model=model, path_to_imgs='frames/')\n",
    "cropper.load_state_dict(path_to_weights=root+\"fasterrcnn_resnet50_fpn_v2.pt\")\n",
    "cropper.crop_plates(path_to_save=root+'croped_plates/2/', score_threshold=0.9)"
   ]
  },
  {
   "cell_type": "code",
   "execution_count": null,
   "id": "e0684d7a",
   "metadata": {},
   "outputs": [],
   "source": [
    "# import easyocr\n",
    "# import pytesseract\n",
    "# from cv2 import dnn_superres\n",
    "\n",
    "# reader = easyocr.Reader(['en'])\n",
    "# sr = dnn_superres.DnnSuperResImpl_create()\n",
    "# sr.readModel(root+'EDSR_x3.pb')\n",
    "# sr.setModel(\"edsr\", 3)\n",
    "\n",
    "# # run OCR\n",
    "# for filename in list(sorted(os.listdir(root+\"croped_plates/\")))[:10]:\n",
    "#     img = cv2.imread(root+\"croped_plates/\"+filename)\n",
    "#     upsample_img = sr.upsample(img)\n",
    "#     string = pytesseract.image_to_string(upsample_img)\n",
    "#     # plt.imshow(upsample_img)\n",
    "#     # plt.show()\n",
    "#     print(f\"normal img res -> {img.shape}\")\n",
    "#     print(f\"img upsclaed res -> {upsample_img.shape}\")\n",
    "#     print(f\"detected text -> {string}\")\n",
    "#     # print(img)\n",
    "#     # results = reader.readtext(upsample_img)\n",
    "#     plt.imshow(upsample_img)\n",
    "#     # print(results)\n",
    "#     # print(img.shape)\n",
    "#     # for res in results:\n",
    "#     #     # bbox coordinates of the detected text\n",
    "#     #     xy = res[0]\n",
    "#     #     xy1, xy2, xy3, xy4 = xy[0], xy[1], xy[2], xy[3]\n",
    "#     #     # text results and confidence of detection\n",
    "#     #     det, conf = res[1], res[2]\n",
    "#     #     # show time :)\n",
    "#     #     plt.plot([xy1[0], xy2[0], xy3[0], xy4[0], xy1[0]], [xy1[1], xy2[1], xy3[1], xy4[1], xy1[1]], 'r-')\n",
    "#     #     plt.text(xy1[0], xy1[1], f'{det} [{round(conf, 2)}]')\n",
    "#     plt.show()"
   ]
  },
  {
   "cell_type": "code",
   "execution_count": null,
   "id": "ff035673",
   "metadata": {},
   "outputs": [],
   "source": []
  },
  {
   "cell_type": "code",
   "execution_count": null,
   "id": "3145c9a4",
   "metadata": {},
   "outputs": [],
   "source": []
  },
  {
   "cell_type": "code",
   "execution_count": null,
   "id": "d77f670a",
   "metadata": {},
   "outputs": [],
   "source": []
  },
  {
   "cell_type": "code",
   "execution_count": null,
   "id": "aad8d10c",
   "metadata": {},
   "outputs": [],
   "source": []
  },
  {
   "cell_type": "code",
   "execution_count": null,
   "id": "5340c99a",
   "metadata": {},
   "outputs": [],
   "source": []
  }
 ],
 "metadata": {
  "kernelspec": {
   "display_name": "Python 3.10",
   "language": "python",
   "name": "alpr_env"
  },
  "language_info": {
   "codemirror_mode": {
    "name": "ipython",
    "version": 3
   },
   "file_extension": ".py",
   "mimetype": "text/x-python",
   "name": "python",
   "nbconvert_exporter": "python",
   "pygments_lexer": "ipython3",
   "version": "3.10.12"
  }
 },
 "nbformat": 4,
 "nbformat_minor": 5
}
