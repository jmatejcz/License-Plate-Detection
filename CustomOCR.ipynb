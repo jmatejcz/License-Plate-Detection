{
 "cells": [
  {
   "cell_type": "code",
   "execution_count": null,
   "id": "0fee556b",
   "metadata": {},
   "outputs": [],
   "source": []
  },
  {
   "cell_type": "code",
   "execution_count": 5,
   "id": "b48aa9a3",
   "metadata": {},
   "outputs": [],
   "source": [
    "import os\n",
    "import sys\n",
    "import pdb\n",
    "import six\n",
    "import random\n",
    "import lmdb\n",
    "from PIL import Image\n",
    "import numpy as np\n",
    "import math\n",
    "from collections import OrderedDict\n",
    "from itertools import chain\n",
    "import logging\n",
    "\n",
    "\n",
    "import torch\n",
    "import torch.nn as nn\n",
    "import torch.nn.functional as F\n",
    "from torch.utils.data import Dataset\n",
    "from torch.utils.data import sampler\n",
    "import torchvision.transforms as transforms\n",
    "import torchvision.transforms.functional as TF\n",
    "from torch.optim.lr_scheduler import CosineAnnealingLR, StepLR\n",
    "from torch.nn.utils.clip_grad import clip_grad_norm_\n",
    "from torch.utils.data import random_split\n",
    "sys.path.insert(0, '../')\n",
    "# from src.utils.utils import AverageMeter, Eval, OCRLabelConverter\n",
    "# from src.utils.utils import EarlyStopping, gmkdir\n",
    "# from src.optim.optimizer import STLR\n",
    "# from src.utils.utils import gaussian\n",
    "from tqdm import *"
   ]
  },
  {
   "cell_type": "code",
   "execution_count": 6,
   "id": "fb9bb349",
   "metadata": {},
   "outputs": [],
   "source": [
    "device = torch.device(\"cuda:0\")"
   ]
  },
  {
   "cell_type": "code",
   "execution_count": 7,
   "id": "8279f044",
   "metadata": {},
   "outputs": [],
   "source": [
    "class SynthDataset(Dataset):\n",
    "    def __init__(self, opt):\n",
    "        super(SynthDataset, self).__init__()\n",
    "        self.path = os.path.join(opt['path'], opt['imgdir'])\n",
    "        self.images = os.listdir(self.path)\n",
    "        self.nSamples = len(self.images)\n",
    "        f = lambda x: os.path.join(self.path, x)\n",
    "        self.imagepaths = list(map(f, self.images))\n",
    "       \ttransform_list =  [transforms.Grayscale(1),\n",
    "                            transforms.ToTensor(), \n",
    "                            transforms.Normalize((0.5,), (0.5,))\n",
    "                            ]\n",
    "        self.transform = transforms.Compose(transform_list)\n",
    "        self.collate_fn = SynthCollator()\n",
    "\n",
    "    def __len__(self):\n",
    "        return self.nSamples\n",
    "\n",
    "    def __getitem__(self, index):\n",
    "        assert index <= len(self), 'index range error'\n",
    "        imagepath = self.imagepaths[index]\n",
    "        imagefile = os.path.basename(imagepath)\n",
    "        img = Image.open(imagepath)\n",
    "        if self.transform is not None:\n",
    "            img = self.transform(img)\n",
    "#             img = TF.autocontrast(img)\n",
    "        item = {'img': img, 'idx':index}\n",
    "        item['label'] = imagefile.split('_')[0]\n",
    "        return item\n",
    "    \n",
    "class SynthCollator(object):\n",
    "    \n",
    "    def __call__(self, batch):\n",
    "        width = [item['img'].shape[2] for item in batch]\n",
    "        indexes = [item['idx'] for item in batch]\n",
    "        imgs = torch.ones([len(batch), batch[0]['img'].shape[0], batch[0]['img'].shape[1], \n",
    "                           max(width)], dtype=torch.float32).to(device)\n",
    "        for idx, item in enumerate(batch):\n",
    "            try:\n",
    "                imgs[idx, :, :, 0:item['img'].shape[2]] = item['img']\n",
    "            except:\n",
    "                print(imgs.shape)\n",
    "        item = {'img': imgs, 'idx':indexes}\n",
    "        if 'label' in batch[0].keys():\n",
    "            labels = [item['label'] for item in batch]\n",
    "            item['label'] = labels\n",
    "        return item"
   ]
  },
  {
   "cell_type": "code",
   "execution_count": 8,
   "id": "b32567e9",
   "metadata": {},
   "outputs": [],
   "source": [
    "class BidirectionalLSTM(nn.Module):\n",
    "\n",
    "    def __init__(self, nIn, nHidden, nOut):\n",
    "        super(BidirectionalLSTM, self).__init__()\n",
    "        self.rnn = nn.LSTM(nIn, nHidden, bidirectional=True)\n",
    "        self.embedding = nn.Linear(nHidden * 2, nOut)\n",
    "    def forward(self, input):\n",
    "        self.rnn.flatten_parameters()\n",
    "        recurrent, _ = self.rnn(input)\n",
    "        T, b, h = recurrent.size()\n",
    "        t_rec = recurrent.view(T * b, h)\n",
    "        output = self.embedding(t_rec)  # [T * b, nOut]\n",
    "        output = output.view(T, b, -1)\n",
    "        return output\n",
    "\n",
    "class CRNN(nn.Module):\n",
    "\n",
    "    def __init__(self, opt, leakyRelu=False):\n",
    "        super(CRNN, self).__init__()\n",
    "\n",
    "        assert opt['imgH'] % 16 == 0, 'imgH has to be a multiple of 16'\n",
    "\n",
    "        ks = [3, 3, 3, 3, 3, 3, 2]\n",
    "#         ks = [3, 3, 3, 3, 3, 3, 1]\n",
    "        ps = [1, 1, 1, 1, 1, 1, 0]\n",
    "        ss = [1, 1, 1, 1, 1, 1, 1]\n",
    "        nm = [64, 128, 256, 256, 512, 512, 512]\n",
    "\n",
    "        cnn = nn.Sequential()\n",
    "\n",
    "        def convRelu(i, batchNormalization=False):\n",
    "            nIn = opt['nChannels'] if i == 0 else nm[i - 1]\n",
    "            nOut = nm[i]\n",
    "            cnn.add_module('conv{0}'.format(i),\n",
    "                           nn.Conv2d(nIn, nOut, ks[i], ss[i], ps[i]))\n",
    "            if batchNormalization:\n",
    "                cnn.add_module('batchnorm{0}'.format(i), nn.BatchNorm2d(nOut))\n",
    "            if leakyRelu:\n",
    "                cnn.add_module('relu{0}'.format(i),\n",
    "                               nn.LeakyReLU(0.2, inplace=True))\n",
    "            else:\n",
    "                cnn.add_module('relu{0}'.format(i), nn.ReLU(True))\n",
    "\n",
    "        convRelu(0)\n",
    "        cnn.add_module('pooling{0}'.format(0), nn.MaxPool2d(2, 2))  # 64x16x64\n",
    "        convRelu(1)\n",
    "        cnn.add_module('pooling{0}'.format(1), nn.MaxPool2d(2, 2))  # 128x8x32\n",
    "        convRelu(2, True)\n",
    "        convRelu(3)\n",
    "        cnn.add_module('pooling{0}'.format(2),\n",
    "                       nn.MaxPool2d((2, 2), (2, 1), (0, 1)))  # 256x4x16\n",
    "        convRelu(4, True)\n",
    "        convRelu(5)\n",
    "        cnn.add_module('pooling{0}'.format(3),\n",
    "                       nn.MaxPool2d((2, 2), (2, 1), (0, 1)))  # 512x2x16\n",
    "        convRelu(6, True)  # 512x1x16\n",
    "        self.cnn = cnn\n",
    "        self.rnn = nn.Sequential()\n",
    "        self.rnn = nn.Sequential(\n",
    "            BidirectionalLSTM(opt['nHidden']*2, opt['nHidden'], opt['nHidden']),\n",
    "            BidirectionalLSTM(opt['nHidden'], opt['nHidden'], opt['nClasses']))\n",
    "\n",
    "\n",
    "    def forward(self, input):\n",
    "        # conv features\n",
    "        conv = self.cnn(input)\n",
    "        b, c, h, w = conv.size()\n",
    "        assert h == 1, \"the height of conv must be 1\"\n",
    "        conv = conv.squeeze(2)\n",
    "        conv = conv.permute(2, 0, 1)  # [w, b, c]\n",
    "        # rnn features\n",
    "        output = self.rnn(conv)\n",
    "        output = output.transpose(1,0) #Tbh to bth\n",
    "        return output"
   ]
  },
  {
   "cell_type": "code",
   "execution_count": 9,
   "id": "9b46f228",
   "metadata": {},
   "outputs": [],
   "source": [
    "class CustomCTCLoss(torch.nn.Module):\n",
    "    # T x B x H => Softmax on dimension 2\n",
    "    def __init__(self, dim=2):\n",
    "        super().__init__()\n",
    "        self.dim = dim\n",
    "        self.ctc_loss = torch.nn.CTCLoss(reduction='mean', zero_infinity=True)\n",
    "\n",
    "    def forward(self, logits, labels,\n",
    "            prediction_sizes, target_sizes):\n",
    "        EPS = 1e-7\n",
    "        loss = self.ctc_loss(logits, labels, prediction_sizes, target_sizes)\n",
    "        loss = self.sanitize(loss)\n",
    "        return self.debug(loss, logits, labels, prediction_sizes, target_sizes)\n",
    "    \n",
    "    def sanitize(self, loss):\n",
    "        EPS = 1e-7\n",
    "        if abs(loss.item() - float('inf')) < EPS:\n",
    "            return torch.zeros_like(loss)\n",
    "        if math.isnan(loss.item()):\n",
    "            return torch.zeros_like(loss)\n",
    "        return loss\n",
    "\n",
    "    def debug(self, loss, logits, labels,\n",
    "            prediction_sizes, target_sizes):\n",
    "        if math.isnan(loss.item()):\n",
    "            print(\"Loss:\", loss)\n",
    "            print(\"logits:\", logits)\n",
    "            print(\"labels:\", labels)\n",
    "            print(\"prediction_sizes:\", prediction_sizes)\n",
    "            print(\"target_sizes:\", target_sizes)\n",
    "            raise Exception(\"NaN loss obtained. But why?\")\n",
    "        return loss"
   ]
  },
  {
   "cell_type": "code",
   "execution_count": 10,
   "id": "f59276d2",
   "metadata": {},
   "outputs": [],
   "source": [
    "class OCRTrainer(object):\n",
    "    def __init__(self, opt):\n",
    "        super(OCRTrainer, self).__init__()\n",
    "        self.data_train = opt['data_train']\n",
    "        self.data_val = opt['data_val']\n",
    "        self.model = opt['model']\n",
    "        self.criterion = opt['criterion']\n",
    "        self.optimizer = opt['optimizer']\n",
    "        self.schedule = opt['schedule']\n",
    "        self.converter = OCRLabelConverter(opt['alphabet'])\n",
    "        self.evaluator = Eval()\n",
    "        print('Scheduling is {}'.format(self.schedule))\n",
    "        self.scheduler = CosineAnnealingLR(self.optimizer, T_max=opt['epochs'])\n",
    "        self.batch_size = opt['batch_size']\n",
    "        self.count = opt['epoch']\n",
    "        self.epochs = opt['epochs']\n",
    "        self.cuda = opt['cuda']\n",
    "        self.collate_fn = opt['collate_fn']\n",
    "        self.init_meters()\n",
    "\n",
    "    def init_meters(self):\n",
    "        self.avgTrainLoss = AverageMeter(\"Train loss\")\n",
    "        self.avgTrainCharAccuracy = AverageMeter(\"Train Character Accuracy\")\n",
    "        self.avgTrainWordAccuracy = AverageMeter(\"Train Word Accuracy\")\n",
    "        self.avgValLoss = AverageMeter(\"Validation loss\")\n",
    "        self.avgValCharAccuracy = AverageMeter(\"Validation Character Accuracy\")\n",
    "        self.avgValWordAccuracy = AverageMeter(\"Validation Word Accuracy\")\n",
    "\n",
    "    def forward(self, x):\n",
    "        logits = self.model(x)\n",
    "        return logits.transpose(1, 0)\n",
    "\n",
    "    def loss_fn(self, logits, targets, pred_sizes, target_sizes):\n",
    "        loss = self.criterion(logits, targets, pred_sizes, target_sizes)\n",
    "        return loss\n",
    "\n",
    "    def step(self):\n",
    "        self.max_grad_norm = 0.05\n",
    "        clip_grad_norm_(self.model.parameters(), self.max_grad_norm)\n",
    "        self.optimizer.step()\n",
    "    \n",
    "    def schedule_lr(self):\n",
    "        if self.schedule:\n",
    "            self.scheduler.step()\n",
    "\n",
    "    def _run_batch(self, batch, report_accuracy=False, validation=False):\n",
    "        input_, targets = batch['img'], batch['label']\n",
    "        targets, lengths = self.converter.encode(targets)\n",
    "        logits = self.forward(input_)\n",
    "        logits = logits.contiguous().cpu()\n",
    "        logits = torch.nn.functional.log_softmax(logits, 2)\n",
    "        T, B, H = logits.size()\n",
    "        pred_sizes = torch.LongTensor([T for i in range(B)])\n",
    "        targets= targets.view(-1).contiguous()\n",
    "        loss = self.loss_fn(logits, targets, pred_sizes, lengths)\n",
    "        if report_accuracy:\n",
    "            probs, preds = logits.max(2)\n",
    "            preds = preds.transpose(1, 0).contiguous().view(-1)\n",
    "            sim_preds = self.converter.decode(preds.data, pred_sizes.data, raw=False)\n",
    "            ca = np.mean((list(map(self.evaluator.char_accuracy, list(zip(sim_preds, batch['label']))))))\n",
    "            wa = np.mean((list(map(self.evaluator.word_accuracy, list(zip(sim_preds, batch['label']))))))\n",
    "        return loss, ca, wa\n",
    "\n",
    "    def run_epoch(self, validation=False):\n",
    "        if not validation:\n",
    "            loader = self.train_dataloader()\n",
    "            pbar = tqdm(loader, desc='Epoch: [%d]/[%d] Training'%(self.count, \n",
    "                self.epochs), leave=True)\n",
    "            self.model.train()\n",
    "        else:\n",
    "            loader = self.val_dataloader()\n",
    "            pbar = tqdm(loader, desc='Validating', leave=True)\n",
    "            self.model.eval()\n",
    "        outputs = []\n",
    "        for batch_nb, batch in enumerate(pbar):\n",
    "            if not validation:\n",
    "                output = self.training_step(batch)\n",
    "            else:\n",
    "                output = self.validation_step(batch)\n",
    "            pbar.set_postfix(output)\n",
    "            outputs.append(output)\n",
    "        self.schedule_lr()\n",
    "        if not validation:\n",
    "            result = self.train_end(outputs)\n",
    "        else:\n",
    "            result = self.validation_end(outputs)\n",
    "        return result\n",
    "\n",
    "    def training_step(self, batch):\n",
    "        loss, ca, wa = self._run_batch(batch, report_accuracy=True)\n",
    "        self.optimizer.zero_grad()\n",
    "        loss.backward()\n",
    "        self.step()\n",
    "        output = OrderedDict({\n",
    "            'loss': abs(loss.item()),\n",
    "            'train_ca': ca.item(),\n",
    "            'train_wa': wa.item()\n",
    "            })\n",
    "        return output\n",
    "\n",
    "    def validation_step(self, batch):\n",
    "        loss, ca, wa = self._run_batch(batch, report_accuracy=True, validation=True)\n",
    "        output = OrderedDict({\n",
    "            'val_loss': abs(loss.item()),\n",
    "            'val_ca': ca.item(),\n",
    "            'val_wa': wa.item()\n",
    "            })\n",
    "        return output\n",
    "\n",
    "    def train_dataloader(self):\n",
    "        # logging.info('training data loader called')\n",
    "        loader = torch.utils.data.DataLoader(self.data_train,\n",
    "                batch_size=self.batch_size,\n",
    "                collate_fn=self.collate_fn,\n",
    "                shuffle=True)\n",
    "        return loader\n",
    "        \n",
    "    def val_dataloader(self):\n",
    "        # logging.info('val data loader called')\n",
    "        loader = torch.utils.data.DataLoader(self.data_val,\n",
    "                batch_size=self.batch_size,\n",
    "                collate_fn=self.collate_fn)\n",
    "        return loader\n",
    "\n",
    "    def train_end(self, outputs):\n",
    "        for output in outputs:\n",
    "            self.avgTrainLoss.add(output['loss'])\n",
    "            self.avgTrainCharAccuracy.add(output['train_ca'])\n",
    "            self.avgTrainWordAccuracy.add(output['train_wa'])\n",
    "\n",
    "        train_loss_mean = abs(self.avgTrainLoss.compute())\n",
    "        train_ca_mean = self.avgTrainCharAccuracy.compute()\n",
    "        train_wa_mean = self.avgTrainWordAccuracy.compute()\n",
    "\n",
    "        result = {'train_loss': train_loss_mean, 'train_ca': train_ca_mean,\n",
    "        'train_wa': train_wa_mean}\n",
    "        # result = {'progress_bar': tqdm_dict, 'log': tqdm_dict, 'val_loss': train_loss_mean}\n",
    "        return result\n",
    "\n",
    "    def validation_end(self, outputs):\n",
    "        for output in outputs:\n",
    "            self.avgValLoss.add(output['val_loss'])\n",
    "            self.avgValCharAccuracy.add(output['val_ca'])\n",
    "            self.avgValWordAccuracy.add(output['val_wa'])\n",
    "\n",
    "        val_loss_mean = abs(self.avgValLoss.compute())\n",
    "        val_ca_mean = self.avgValCharAccuracy.compute()\n",
    "        val_wa_mean = self.avgValWordAccuracy.compute()\n",
    "\n",
    "        result = {'val_loss': val_loss_mean, 'val_ca': val_ca_mean,\n",
    "        'val_wa': val_wa_mean}\n",
    "        return result"
   ]
  },
  {
   "cell_type": "code",
   "execution_count": 11,
   "id": "cc63ce60",
   "metadata": {},
   "outputs": [],
   "source": [
    "class Learner(object):\n",
    "    def __init__(self, model, optimizer, savepath=None, resume=False):\n",
    "        self.model = model\n",
    "        self.optimizer = optimizer\n",
    "        self.savepath = os.path.join(savepath, 'best.ckpt')\n",
    "        self.cuda = torch.cuda.is_available() \n",
    "        self.cuda_count = torch.cuda.device_count()\n",
    "        if self.cuda:\n",
    "            self.model = self.model.cuda()\n",
    "#             self.model = self.model\n",
    "        self.epoch = 0\n",
    "        if self.cuda_count > 1:\n",
    "            print(\"Let's use\", torch.cuda.device_count(), \"GPUs!\")\n",
    "            self.model = nn.DataParallel(self.model)\n",
    "        self.best_score = None\n",
    "        if resume and os.path.exists(self.savepath):\n",
    "            self.checkpoint = torch.load(self.savepath)\n",
    "            self.epoch = self.checkpoint['epoch']\n",
    "            self.best_score=self.checkpoint['best']\n",
    "            self.load()\n",
    "        else:\n",
    "            print('checkpoint does not exist')\n",
    "\n",
    "    def fit(self, opt):\n",
    "        opt['cuda'] = self.cuda\n",
    "        opt['model'] = self.model\n",
    "        opt['optimizer'] = self.optimizer\n",
    "        logging.basicConfig(filename=\"%s/%s.csv\" %(opt['log_dir'], opt['name']), level=logging.INFO)\n",
    "        self.saver = EarlyStopping(self.savepath, patience=15, verbose=True, best_score=self.best_score)\n",
    "        opt['epoch'] = self.epoch\n",
    "        trainer = OCRTrainer(opt)\n",
    "        \n",
    "        for epoch in range(opt['epoch'], opt['epochs']):\n",
    "            train_result = trainer.run_epoch()\n",
    "            val_result = trainer.run_epoch(validation=True)\n",
    "            trainer.count = epoch\n",
    "            info = '%d, %.6f, %.6f, %.6f, %.6f, %.6f, %.6f'%(epoch, train_result['train_loss'], \n",
    "                val_result['val_loss'], train_result['train_ca'],  val_result['val_ca'],\n",
    "                train_result['train_wa'], val_result['val_wa'])\n",
    "            logging.info(info)\n",
    "            self.val_loss = val_result['val_loss']\n",
    "            print(self.val_loss)\n",
    "            if self.savepath:\n",
    "                self.save(epoch)\n",
    "            if self.saver.early_stop:\n",
    "                print(\"Early stopping\")\n",
    "                break\n",
    "\n",
    "    def load(self):\n",
    "        print('Loading checkpoint at {} trained for {} epochs'.format(self.savepath, self.checkpoint['epoch']))\n",
    "        self.model.load_state_dict(self.checkpoint['state_dict'])\n",
    "        if 'opt_state_dict' in self.checkpoint.keys():\n",
    "            print('Loading optimizer')\n",
    "            self.optimizer.load_state_dict(self.checkpoint['opt_state_dict'])\n",
    "\n",
    "    def save(self, epoch):\n",
    "        self.saver(self.val_loss, epoch, self.model, self.optimizer)"
   ]
  },
  {
   "cell_type": "code",
   "execution_count": 12,
   "id": "eea29849",
   "metadata": {},
   "outputs": [
    {
     "ename": "FileNotFoundError",
     "evalue": "[Errno 2] No such file or directory: './data/train'",
     "output_type": "error",
     "traceback": [
      "\u001b[0;31m---------------------------------------------------------------------------\u001b[0m",
      "\u001b[0;31mFileNotFoundError\u001b[0m                         Traceback (most recent call last)",
      "Cell \u001b[0;32mIn[12], line 21\u001b[0m\n\u001b[1;32m      1\u001b[0m alphabet \u001b[39m=\u001b[39m \u001b[39m\"\"\"\u001b[39m\u001b[39mOnly thewigsofrcvdampbkuq.$A-210xT5\u001b[39m\u001b[39m'\u001b[39m\u001b[39mMDL,RYHJ\u001b[39m\u001b[39m\"\u001b[39m\u001b[39mISPWENj&BC93VGFKz();#:!7U64Q8?+*ZX/\u001b[39m\u001b[39m%\u001b[39m\u001b[39m\"\"\"\u001b[39m\n\u001b[1;32m      2\u001b[0m args \u001b[39m=\u001b[39m {\n\u001b[1;32m      3\u001b[0m     \u001b[39m'\u001b[39m\u001b[39mname\u001b[39m\u001b[39m'\u001b[39m:\u001b[39m'\u001b[39m\u001b[39monly_good_wo_contrast\u001b[39m\u001b[39m'\u001b[39m,\n\u001b[1;32m      4\u001b[0m     \u001b[39m'\u001b[39m\u001b[39mpath\u001b[39m\u001b[39m'\u001b[39m:\u001b[39m'\u001b[39m\u001b[39m./data\u001b[39m\u001b[39m'\u001b[39m,\n\u001b[0;32m   (...)\u001b[0m\n\u001b[1;32m     18\u001b[0m     \n\u001b[1;32m     19\u001b[0m }\n\u001b[0;32m---> 21\u001b[0m data \u001b[39m=\u001b[39m SynthDataset(args)\n\u001b[1;32m     22\u001b[0m args[\u001b[39m'\u001b[39m\u001b[39mcollate_fn\u001b[39m\u001b[39m'\u001b[39m] \u001b[39m=\u001b[39m SynthCollator()\n\u001b[1;32m     23\u001b[0m train_split \u001b[39m=\u001b[39m \u001b[39mint\u001b[39m(\u001b[39m0.9\u001b[39m\u001b[39m*\u001b[39m\u001b[39mlen\u001b[39m(data))\n",
      "Cell \u001b[0;32mIn[7], line 5\u001b[0m, in \u001b[0;36mSynthDataset.__init__\u001b[0;34m(self, opt)\u001b[0m\n\u001b[1;32m      3\u001b[0m \u001b[39msuper\u001b[39m(SynthDataset, \u001b[39mself\u001b[39m)\u001b[39m.\u001b[39m\u001b[39m__init__\u001b[39m()\n\u001b[1;32m      4\u001b[0m \u001b[39mself\u001b[39m\u001b[39m.\u001b[39mpath \u001b[39m=\u001b[39m os\u001b[39m.\u001b[39mpath\u001b[39m.\u001b[39mjoin(opt[\u001b[39m'\u001b[39m\u001b[39mpath\u001b[39m\u001b[39m'\u001b[39m], opt[\u001b[39m'\u001b[39m\u001b[39mimgdir\u001b[39m\u001b[39m'\u001b[39m])\n\u001b[0;32m----> 5\u001b[0m \u001b[39mself\u001b[39m\u001b[39m.\u001b[39mimages \u001b[39m=\u001b[39m os\u001b[39m.\u001b[39;49mlistdir(\u001b[39mself\u001b[39;49m\u001b[39m.\u001b[39;49mpath)\n\u001b[1;32m      6\u001b[0m \u001b[39mself\u001b[39m\u001b[39m.\u001b[39mnSamples \u001b[39m=\u001b[39m \u001b[39mlen\u001b[39m(\u001b[39mself\u001b[39m\u001b[39m.\u001b[39mimages)\n\u001b[1;32m      7\u001b[0m f \u001b[39m=\u001b[39m \u001b[39mlambda\u001b[39;00m x: os\u001b[39m.\u001b[39mpath\u001b[39m.\u001b[39mjoin(\u001b[39mself\u001b[39m\u001b[39m.\u001b[39mpath, x)\n",
      "\u001b[0;31mFileNotFoundError\u001b[0m: [Errno 2] No such file or directory: './data/train'"
     ]
    }
   ],
   "source": [
    "alphabet = \"\"\"Only thewigsofrcvdampbkuq.$A-210xT5'MDL,RYHJ\"ISPWENj&BC93VGFKz();#:!7U64Q8?+*ZX/%\"\"\"\n",
    "args = {\n",
    "    'name':'only_good_wo_contrast',\n",
    "    'path':'./data',\n",
    "    'imgdir': 'train',\n",
    "    'imgH':32,\n",
    "    'nChannels':1,\n",
    "    'nHidden':256,\n",
    "    'nClasses':len(alphabet),\n",
    "    'lr':0.001,\n",
    "    'epochs':1200,\n",
    "    'batch_size':128,\n",
    "    'save_dir':'./checkpoints/',\n",
    "    'log_dir':'./logs',\n",
    "    'resume':True,\n",
    "    'cuda':True,\n",
    "    'schedule':False\n",
    "    \n",
    "}\n",
    "\n",
    "data = SynthDataset(args)\n",
    "args['collate_fn'] = SynthCollator()\n",
    "train_split = int(0.9*len(data))\n",
    "val_split = len(data) - train_split\n",
    "args['data_train'], args['data_val'] = random_split(data, (train_split, val_split))\n",
    "print('Traininig Data Size:{}\\nVal Data Size:{}'.format(\n",
    "    len(args['data_train']), len(args['data_val'])))\n",
    "args['alphabet'] = alphabet\n"
   ]
  },
  {
   "cell_type": "code",
   "execution_count": null,
   "id": "bf83883c",
   "metadata": {},
   "outputs": [
    {
     "name": "stdout",
     "output_type": "stream",
     "text": [
      "Let's use 2 GPUs!\n",
      "checkpoint does not exist\n",
      "None\n",
      "Scheduling is False\n"
     ]
    },
    {
     "name": "stderr",
     "output_type": "stream",
     "text": [
      "Epoch: [0]/[1200] Training: 100%|██████████| 7/7 [00:05<00:00,  1.39it/s, loss=4.23, train_ca=0, train_wa=0]    \n",
      "Validating: 100%|██████████| 1/1 [00:00<00:00,  2.50it/s, val_loss=3.72, val_ca=0, val_wa=0]\n"
     ]
    },
    {
     "name": "stdout",
     "output_type": "stream",
     "text": [
      "3.7185263633728027\n",
      "Validation loss decreased (inf --> 3.718526).  Saving model ...\n"
     ]
    },
    {
     "name": "stderr",
     "output_type": "stream",
     "text": [
      "Epoch: [0]/[1200] Training: 100%|██████████| 7/7 [00:04<00:00,  1.51it/s, loss=3.59, train_ca=0, train_wa=0]\n",
      "Validating: 100%|██████████| 1/1 [00:00<00:00,  1.98it/s, val_loss=3.39, val_ca=0, val_wa=0]\n"
     ]
    },
    {
     "name": "stdout",
     "output_type": "stream",
     "text": [
      "3.553903102874756\n",
      "Validation loss decreased (3.718526 --> 3.553903).  Saving model ...\n"
     ]
    },
    {
     "name": "stderr",
     "output_type": "stream",
     "text": [
      "Epoch: [1]/[1200] Training: 100%|██████████| 7/7 [00:04<00:00,  1.65it/s, loss=3.39, train_ca=0, train_wa=0]\n",
      "Validating: 100%|██████████| 1/1 [00:00<00:00,  2.47it/s, val_loss=3.28, val_ca=0, val_wa=0]\n"
     ]
    },
    {
     "name": "stdout",
     "output_type": "stream",
     "text": [
      "3.4631349245707193\n",
      "Validation loss decreased (3.553903 --> 3.463135).  Saving model ...\n"
     ]
    },
    {
     "name": "stderr",
     "output_type": "stream",
     "text": [
      "Epoch: [2]/[1200] Training: 100%|██████████| 7/7 [00:04<00:00,  1.52it/s, loss=3.43, train_ca=0, train_wa=0]\n",
      "Validating: 100%|██████████| 1/1 [00:00<00:00,  2.56it/s, val_loss=3.18, val_ca=0, val_wa=0]\n"
     ]
    },
    {
     "name": "stdout",
     "output_type": "stream",
     "text": [
      "3.392176628112793\n",
      "Validation loss decreased (3.463135 --> 3.392177).  Saving model ...\n"
     ]
    },
    {
     "name": "stderr",
     "output_type": "stream",
     "text": [
      "Epoch: [3]/[1200] Training: 100%|██████████| 7/7 [00:04<00:00,  1.70it/s, loss=3.04, train_ca=11.4, train_wa=0]\n",
      "Validating: 100%|██████████| 1/1 [00:00<00:00,  1.99it/s, val_loss=3.25, val_ca=12.3, val_wa=0]\n"
     ]
    },
    {
     "name": "stdout",
     "output_type": "stream",
     "text": [
      "3.3642655849456786\n",
      "Validation loss decreased (3.392177 --> 3.364266).  Saving model ...\n"
     ]
    },
    {
     "name": "stderr",
     "output_type": "stream",
     "text": [
      "Epoch: [4]/[1200] Training: 100%|██████████| 7/7 [00:03<00:00,  1.80it/s, loss=2.96, train_ca=13.9, train_wa=0]\n",
      "Validating: 100%|██████████| 1/1 [00:00<00:00,  2.01it/s, val_loss=3.17, val_ca=12.3, val_wa=0]\n"
     ]
    },
    {
     "name": "stdout",
     "output_type": "stream",
     "text": [
      "3.3311362266540527\n",
      "Validation loss decreased (3.364266 --> 3.331136).  Saving model ...\n"
     ]
    },
    {
     "name": "stderr",
     "output_type": "stream",
     "text": [
      "Epoch: [5]/[1200] Training: 100%|██████████| 7/7 [00:04<00:00,  1.51it/s, loss=3.16, train_ca=16.4, train_wa=0]\n",
      "Validating: 100%|██████████| 1/1 [00:00<00:00,  2.43it/s, val_loss=2.97, val_ca=12.3, val_wa=0]\n"
     ]
    },
    {
     "name": "stdout",
     "output_type": "stream",
     "text": [
      "3.2790446622031078\n",
      "Validation loss decreased (3.331136 --> 3.279045).  Saving model ...\n"
     ]
    },
    {
     "name": "stderr",
     "output_type": "stream",
     "text": [
      "Epoch: [6]/[1200] Training: 100%|██████████| 7/7 [00:04<00:00,  1.43it/s, loss=2.96, train_ca=25.7, train_wa=0]\n",
      "Validating: 100%|██████████| 1/1 [00:00<00:00,  2.48it/s, val_loss=3.25, val_ca=10.7, val_wa=0]\n"
     ]
    },
    {
     "name": "stdout",
     "output_type": "stream",
     "text": [
      "3.275797665119171\n",
      "Validation loss decreased (3.279045 --> 3.275798).  Saving model ...\n"
     ]
    },
    {
     "name": "stderr",
     "output_type": "stream",
     "text": [
      "Epoch: [7]/[1200] Training: 100%|██████████| 7/7 [00:04<00:00,  1.46it/s, loss=2.63, train_ca=24.3, train_wa=0]\n",
      "Validating: 100%|██████████| 1/1 [00:00<00:00,  1.99it/s, val_loss=2.93, val_ca=19.8, val_wa=0]\n"
     ]
    },
    {
     "name": "stdout",
     "output_type": "stream",
     "text": [
      "3.237477011150784\n",
      "Validation loss decreased (3.275798 --> 3.237477).  Saving model ...\n"
     ]
    },
    {
     "name": "stderr",
     "output_type": "stream",
     "text": [
      "Epoch: [8]/[1200] Training: 100%|██████████| 7/7 [00:04<00:00,  1.52it/s, loss=3.23, train_ca=16.8, train_wa=0]\n",
      "Validating: 100%|██████████| 1/1 [00:00<00:00,  2.03it/s, val_loss=4.31, val_ca=22.7, val_wa=0]\n"
     ]
    },
    {
     "name": "stdout",
     "output_type": "stream",
     "text": [
      "3.3442399740219115\n",
      "EarlyStopping counter: (-3.237477 1 out of 15)\n"
     ]
    },
    {
     "name": "stderr",
     "output_type": "stream",
     "text": [
      "Epoch: [9]/[1200] Training: 100%|██████████| 7/7 [00:04<00:00,  1.49it/s, loss=2.91, train_ca=17.1, train_wa=0]\n",
      "Validating: 100%|██████████| 1/1 [00:00<00:00,  2.02it/s, val_loss=2.91, val_ca=18.9, val_wa=0]\n"
     ]
    },
    {
     "name": "stdout",
     "output_type": "stream",
     "text": [
      "3.3046299544247715\n",
      "EarlyStopping counter: (-3.237477 2 out of 15)\n"
     ]
    },
    {
     "name": "stderr",
     "output_type": "stream",
     "text": [
      "Epoch: [10]/[1200] Training: 100%|██████████| 7/7 [00:04<00:00,  1.63it/s, loss=2.68, train_ca=21.4, train_wa=0]\n",
      "Validating: 100%|██████████| 1/1 [00:00<00:00,  2.00it/s, val_loss=2.79, val_ca=22.5, val_wa=0]\n"
     ]
    },
    {
     "name": "stdout",
     "output_type": "stream",
     "text": [
      "3.2620654702186584\n",
      "EarlyStopping counter: (-3.237477 3 out of 15)\n"
     ]
    },
    {
     "name": "stderr",
     "output_type": "stream",
     "text": [
      "Epoch: [11]/[1200] Training: 100%|██████████| 7/7 [00:04<00:00,  1.56it/s, loss=3.17, train_ca=17.1, train_wa=0]\n",
      "Validating: 100%|██████████| 1/1 [00:00<00:00,  1.97it/s, val_loss=3.44, val_ca=0.166, val_wa=0]\n"
     ]
    },
    {
     "name": "stdout",
     "output_type": "stream",
     "text": [
      "3.2755481279813328\n",
      "EarlyStopping counter: (-3.237477 4 out of 15)\n"
     ]
    },
    {
     "name": "stderr",
     "output_type": "stream",
     "text": [
      "Epoch: [12]/[1200] Training: 100%|██████████| 7/7 [00:04<00:00,  1.49it/s, loss=3.01, train_ca=20, train_wa=0]  \n",
      "Validating: 100%|██████████| 1/1 [00:00<00:00,  1.99it/s, val_loss=2.81, val_ca=22.7, val_wa=0]\n"
     ]
    },
    {
     "name": "stdout",
     "output_type": "stream",
     "text": [
      "3.24252074105399\n",
      "EarlyStopping counter: (-3.237477 5 out of 15)\n"
     ]
    },
    {
     "name": "stderr",
     "output_type": "stream",
     "text": [
      "Epoch: [13]/[1200] Training: 100%|██████████| 7/7 [00:04<00:00,  1.59it/s, loss=2.79, train_ca=25, train_wa=0]  \n",
      "Validating: 100%|██████████| 1/1 [00:00<00:00,  1.98it/s, val_loss=2.74, val_ca=23.6, val_wa=0]\n"
     ]
    },
    {
     "name": "stdout",
     "output_type": "stream",
     "text": [
      "3.209024413426717\n",
      "Validation loss decreased (3.237477 --> 3.209024).  Saving model ...\n"
     ]
    },
    {
     "name": "stderr",
     "output_type": "stream",
     "text": [
      "Epoch: [14]/[1200] Training: 100%|██████████| 7/7 [00:04<00:00,  1.57it/s, loss=2.43, train_ca=25.7, train_wa=0]\n",
      "Validating: 100%|██████████| 1/1 [00:00<00:00,  1.63it/s, val_loss=4.1, val_ca=2.75, val_wa=0]\n"
     ]
    },
    {
     "name": "stdout",
     "output_type": "stream",
     "text": [
      "3.264751300215721\n",
      "EarlyStopping counter: (-3.209024 1 out of 15)\n"
     ]
    },
    {
     "name": "stderr",
     "output_type": "stream",
     "text": [
      "Epoch: [15]/[1200] Training: 100%|██████████| 7/7 [00:04<00:00,  1.49it/s, loss=2.59, train_ca=22.5, train_wa=0]\n",
      "Validating: 100%|██████████| 1/1 [00:00<00:00,  2.52it/s, val_loss=3.31, val_ca=9.36, val_wa=0]\n"
     ]
    },
    {
     "name": "stdout",
     "output_type": "stream",
     "text": [
      "3.2674081325531006\n",
      "EarlyStopping counter: (-3.209024 2 out of 15)\n"
     ]
    },
    {
     "name": "stderr",
     "output_type": "stream",
     "text": [
      "Epoch: [16]/[1200] Training: 100%|██████████| 7/7 [00:04<00:00,  1.52it/s, loss=2.51, train_ca=22.9, train_wa=0]\n",
      "Validating: 100%|██████████| 1/1 [00:00<00:00,  2.50it/s, val_loss=2.87, val_ca=17.6, val_wa=0]\n"
     ]
    },
    {
     "name": "stdout",
     "output_type": "stream",
     "text": [
      "3.2453475528293185\n",
      "EarlyStopping counter: (-3.209024 3 out of 15)\n"
     ]
    },
    {
     "name": "stderr",
     "output_type": "stream",
     "text": [
      "Epoch: [17]/[1200] Training: 100%|██████████| 7/7 [00:04<00:00,  1.46it/s, loss=2.41, train_ca=25, train_wa=0]        \n",
      "Validating: 100%|██████████| 1/1 [00:00<00:00,  2.46it/s, val_loss=2.59, val_ca=23.8, val_wa=0]\n"
     ]
    },
    {
     "name": "stdout",
     "output_type": "stream",
     "text": [
      "3.210754733336599\n",
      "EarlyStopping counter: (-3.209024 4 out of 15)\n"
     ]
    },
    {
     "name": "stderr",
     "output_type": "stream",
     "text": [
      "Epoch: [18]/[1200] Training: 100%|██████████| 7/7 [00:04<00:00,  1.40it/s, loss=2.74, train_ca=17.1, train_wa=0]\n",
      "Validating: 100%|██████████| 1/1 [00:00<00:00,  1.69it/s, val_loss=2.6, val_ca=23.6, val_wa=0]\n"
     ]
    },
    {
     "name": "stdout",
     "output_type": "stream",
     "text": [
      "3.180412268638611\n",
      "Validation loss decreased (3.209024 --> 3.180412).  Saving model ...\n"
     ]
    },
    {
     "name": "stderr",
     "output_type": "stream",
     "text": [
      "Epoch: [19]/[1200] Training: 100%|██████████| 7/7 [00:04<00:00,  1.54it/s, loss=2.33, train_ca=24.6, train_wa=0]    \n",
      "Validating: 100%|██████████| 1/1 [00:00<00:00,  2.00it/s, val_loss=2.7, val_ca=20.7, val_wa=0]\n"
     ]
    },
    {
     "name": "stdout",
     "output_type": "stream",
     "text": [
      "3.1575115408216203\n",
      "Validation loss decreased (3.180412 --> 3.157512).  Saving model ...\n"
     ]
    },
    {
     "name": "stderr",
     "output_type": "stream",
     "text": [
      "Epoch: [20]/[1200] Training: 100%|██████████| 7/7 [00:04<00:00,  1.57it/s, loss=2.52, train_ca=22.9, train_wa=0]      \n",
      "Validating: 100%|██████████| 1/1 [00:00<00:00,  2.01it/s, val_loss=5.01, val_ca=3.59, val_wa=0]\n"
     ]
    },
    {
     "name": "stdout",
     "output_type": "stream",
     "text": [
      "3.2415631359273736\n",
      "EarlyStopping counter: (-3.157512 1 out of 15)\n"
     ]
    },
    {
     "name": "stderr",
     "output_type": "stream",
     "text": [
      "Epoch: [21]/[1200] Training: 100%|██████████| 7/7 [00:04<00:00,  1.52it/s, loss=2.4, train_ca=24.6, train_wa=0]       \n",
      "Validating: 100%|██████████| 1/1 [00:00<00:00,  1.97it/s, val_loss=2.55, val_ca=23.2, val_wa=0]\n"
     ]
    },
    {
     "name": "stdout",
     "output_type": "stream",
     "text": [
      "3.2114869718966275\n",
      "EarlyStopping counter: (-3.157512 2 out of 15)\n"
     ]
    },
    {
     "name": "stderr",
     "output_type": "stream",
     "text": [
      "Epoch: [22]/[1200] Training: 100%|██████████| 7/7 [00:04<00:00,  1.63it/s, loss=2.46, train_ca=19.3, train_wa=0]      \n",
      "Validating: 100%|██████████| 1/1 [00:00<00:00,  2.49it/s, val_loss=2.63, val_ca=24.6, val_wa=0]\n"
     ]
    },
    {
     "name": "stdout",
     "output_type": "stream",
     "text": [
      "3.187089115381241\n",
      "EarlyStopping counter: (-3.157512 3 out of 15)\n"
     ]
    },
    {
     "name": "stderr",
     "output_type": "stream",
     "text": [
      "Epoch: [23]/[1200] Training: 100%|██████████| 7/7 [00:04<00:00,  1.49it/s, loss=2.23, train_ca=22.1, train_wa=0]      \n",
      "Validating: 100%|██████████| 1/1 [00:00<00:00,  2.02it/s, val_loss=2.99, val_ca=13.8, val_wa=0]\n"
     ]
    },
    {
     "name": "stdout",
     "output_type": "stream",
     "text": [
      "3.1793731307983397\n",
      "EarlyStopping counter: (-3.157512 4 out of 15)\n"
     ]
    },
    {
     "name": "stderr",
     "output_type": "stream",
     "text": [
      "Epoch: [24]/[1200] Training: 100%|██████████| 7/7 [00:04<00:00,  1.43it/s, loss=2.03, train_ca=25.7, train_wa=0]      \n",
      "Validating: 100%|██████████| 1/1 [00:00<00:00,  3.27it/s, val_loss=2.51, val_ca=23.4, val_wa=0]\n"
     ]
    },
    {
     "name": "stdout",
     "output_type": "stream",
     "text": [
      "3.1535306802162757\n",
      "Validation loss decreased (3.157512 --> 3.153531).  Saving model ...\n"
     ]
    },
    {
     "name": "stderr",
     "output_type": "stream",
     "text": [
      "Epoch: [25]/[1200] Training: 100%|██████████| 7/7 [00:04<00:00,  1.47it/s, loss=2.31, train_ca=17.1, train_wa=0]      \n",
      "Validating: 100%|██████████| 1/1 [00:00<00:00,  1.68it/s, val_loss=3.3, val_ca=23.8, val_wa=0]\n"
     ]
    },
    {
     "name": "stdout",
     "output_type": "stream",
     "text": [
      "3.159018322273537\n",
      "EarlyStopping counter: (-3.153531 1 out of 15)\n"
     ]
    },
    {
     "name": "stderr",
     "output_type": "stream",
     "text": [
      "Epoch: [26]/[1200] Training: 100%|██████████| 7/7 [00:04<00:00,  1.59it/s, loss=1.93, train_ca=25.4, train_wa=0]      \n",
      "Validating: 100%|██████████| 1/1 [00:00<00:00,  1.67it/s, val_loss=3.84, val_ca=12.4, val_wa=0]\n"
     ]
    },
    {
     "name": "stdout",
     "output_type": "stream",
     "text": [
      "3.1832094958850314\n",
      "EarlyStopping counter: (-3.153531 2 out of 15)\n"
     ]
    },
    {
     "name": "stderr",
     "output_type": "stream",
     "text": [
      "Epoch: [27]/[1200] Training: 100%|██████████| 7/7 [00:04<00:00,  1.56it/s, loss=2.1, train_ca=19.6, train_wa=0]      \n",
      "Validating: 100%|██████████| 1/1 [00:00<00:00,  1.98it/s, val_loss=3.85, val_ca=22.1, val_wa=0]\n"
     ]
    },
    {
     "name": "stdout",
     "output_type": "stream",
     "text": [
      "3.206243498571988\n",
      "EarlyStopping counter: (-3.153531 3 out of 15)\n"
     ]
    },
    {
     "name": "stderr",
     "output_type": "stream",
     "text": [
      "Epoch: [28]/[1200] Training: 100%|██████████| 7/7 [00:04<00:00,  1.59it/s, loss=2.48, train_ca=20, train_wa=0]        \n",
      "Validating: 100%|██████████| 1/1 [00:00<00:00,  2.51it/s, val_loss=2.51, val_ca=21.7, val_wa=0]\n"
     ]
    },
    {
     "name": "stdout",
     "output_type": "stream",
     "text": [
      "3.1829511086146036\n",
      "EarlyStopping counter: (-3.153531 4 out of 15)\n"
     ]
    },
    {
     "name": "stderr",
     "output_type": "stream",
     "text": [
      "Epoch: [29]/[1200] Training: 100%|██████████| 7/7 [00:04<00:00,  1.52it/s, loss=1.47, train_ca=41.8, train_wa=0]      \n",
      "Validating: 100%|██████████| 1/1 [00:00<00:00,  2.46it/s, val_loss=3.34, val_ca=24.9, val_wa=0]\n"
     ]
    },
    {
     "name": "stdout",
     "output_type": "stream",
     "text": [
      "3.1881748091789985\n",
      "EarlyStopping counter: (-3.153531 5 out of 15)\n"
     ]
    },
    {
     "name": "stderr",
     "output_type": "stream",
     "text": [
      "Epoch: [30]/[1200] Training: 100%|██████████| 7/7 [00:04<00:00,  1.43it/s, loss=2.01, train_ca=33.2, train_wa=0]     \n",
      "Validating: 100%|██████████| 1/1 [00:00<00:00,  2.00it/s, val_loss=4.68, val_ca=14.1, val_wa=0]\n"
     ]
    },
    {
     "name": "stdout",
     "output_type": "stream",
     "text": [
      "3.234807036817074\n",
      "EarlyStopping counter: (-3.153531 6 out of 15)\n"
     ]
    },
    {
     "name": "stderr",
     "output_type": "stream",
     "text": [
      "Epoch: [31]/[1200] Training: 100%|██████████| 7/7 [00:04<00:00,  1.43it/s, loss=1.74, train_ca=37.1, train_wa=0]    \n",
      "Validating: 100%|██████████| 1/1 [00:00<00:00,  1.67it/s, val_loss=2.24, val_ca=31.3, val_wa=0]\n"
     ]
    },
    {
     "name": "stdout",
     "output_type": "stream",
     "text": [
      "3.204590161641439\n",
      "EarlyStopping counter: (-3.153531 7 out of 15)\n"
     ]
    },
    {
     "name": "stderr",
     "output_type": "stream",
     "text": [
      "Epoch: [32]/[1200] Training: 100%|██████████| 7/7 [00:04<00:00,  1.52it/s, loss=1.56, train_ca=45.7, train_wa=0.2]  \n",
      "Validating: 100%|██████████| 1/1 [00:00<00:00,  1.67it/s, val_loss=3.97, val_ca=14.6, val_wa=0]\n"
     ]
    },
    {
     "name": "stdout",
     "output_type": "stream",
     "text": [
      "3.2272340480019066\n",
      "EarlyStopping counter: (-3.153531 8 out of 15)\n"
     ]
    },
    {
     "name": "stderr",
     "output_type": "stream",
     "text": [
      "Epoch: [33]/[1200] Training: 100%|██████████| 7/7 [00:04<00:00,  1.43it/s, loss=1.25, train_ca=45.7, train_wa=0]\n",
      "Validating: 100%|██████████| 1/1 [00:00<00:00,  2.48it/s, val_loss=2.55, val_ca=23.1, val_wa=0]\n"
     ]
    },
    {
     "name": "stdout",
     "output_type": "stream",
     "text": [
      "3.207881648199899\n",
      "EarlyStopping counter: (-3.153531 9 out of 15)\n"
     ]
    },
    {
     "name": "stderr",
     "output_type": "stream",
     "text": [
      "Epoch: [34]/[1200] Training: 100%|██████████| 7/7 [00:04<00:00,  1.40it/s, loss=1.94, train_ca=42.9, train_wa=0]      \n",
      "Validating: 100%|██████████| 1/1 [00:00<00:00,  2.52it/s, val_loss=2.37, val_ca=32.8, val_wa=0]\n"
     ]
    },
    {
     "name": "stdout",
     "output_type": "stream",
     "text": [
      "3.1845077408684626\n",
      "EarlyStopping counter: (-3.153531 10 out of 15)\n"
     ]
    },
    {
     "name": "stderr",
     "output_type": "stream",
     "text": [
      "Epoch: [35]/[1200] Training: 100%|██████████| 7/7 [00:04<00:00,  1.43it/s, loss=1.38, train_ca=39.6, train_wa=0]      \n",
      "Validating: 100%|██████████| 1/1 [00:00<00:00,  1.65it/s, val_loss=1.87, val_ca=41.6, val_wa=0]\n"
     ]
    },
    {
     "name": "stdout",
     "output_type": "stream",
     "text": [
      "3.1490657683965324\n",
      "Validation loss decreased (3.153531 --> 3.149066).  Saving model ...\n"
     ]
    },
    {
     "name": "stderr",
     "output_type": "stream",
     "text": [
      "Epoch: [36]/[1200] Training: 100%|██████████| 7/7 [00:04<00:00,  1.44it/s, loss=0.928, train_ca=75.7, train_wa=0]     \n",
      "Validating: 100%|██████████| 1/1 [00:00<00:00,  1.68it/s, val_loss=1.75, val_ca=45.8, val_wa=0]\n"
     ]
    },
    {
     "name": "stdout",
     "output_type": "stream",
     "text": [
      "3.1122359915783533\n",
      "Validation loss decreased (3.149066 --> 3.112236).  Saving model ...\n"
     ]
    },
    {
     "name": "stderr",
     "output_type": "stream",
     "text": [
      "Epoch: [37]/[1200] Training: 100%|██████████| 7/7 [00:04<00:00,  1.45it/s, loss=1.29, train_ca=58.2, train_wa=0]      \n",
      "Validating: 100%|██████████| 1/1 [00:00<00:00,  2.46it/s, val_loss=1.93, val_ca=45.6, val_wa=0]\n"
     ]
    },
    {
     "name": "stdout",
     "output_type": "stream",
     "text": [
      "3.0818513356722317\n",
      "Validation loss decreased (3.112236 --> 3.081851).  Saving model ...\n"
     ]
    },
    {
     "name": "stderr",
     "output_type": "stream",
     "text": [
      "Epoch: [38]/[1200] Training: 100%|██████████| 7/7 [00:04<00:00,  1.51it/s, loss=1.23, train_ca=54.3, train_wa=0]      \n",
      "Validating: 100%|██████████| 1/1 [00:00<00:00,  1.41it/s, val_loss=1.77, val_ca=50.2, val_wa=0.0116]\n"
     ]
    },
    {
     "name": "stdout",
     "output_type": "stream",
     "text": [
      "3.0489576309919357\n",
      "Validation loss decreased (3.081851 --> 3.048958).  Saving model ...\n"
     ]
    },
    {
     "name": "stderr",
     "output_type": "stream",
     "text": [
      "Epoch: [39]/[1200] Training: 100%|██████████| 7/7 [00:04<00:00,  1.47it/s, loss=1.01, train_ca=71.4, train_wa=0]      \n",
      "Validating: 100%|██████████| 1/1 [00:00<00:00,  1.66it/s, val_loss=4.84, val_ca=27.1, val_wa=0]\n"
     ]
    },
    {
     "name": "stdout",
     "output_type": "stream",
     "text": [
      "3.0927428007125854\n",
      "EarlyStopping counter: (-3.048958 1 out of 15)\n"
     ]
    },
    {
     "name": "stderr",
     "output_type": "stream",
     "text": [
      "Epoch: [40]/[1200] Training: 100%|██████████| 7/7 [00:04<00:00,  1.46it/s, loss=0.906, train_ca=75.4, train_wa=0]     \n",
      "Validating: 100%|██████████| 1/1 [00:00<00:00,  1.70it/s, val_loss=1.62, val_ca=50.8, val_wa=0]\n"
     ]
    },
    {
     "name": "stdout",
     "output_type": "stream",
     "text": [
      "3.057679454485575\n",
      "EarlyStopping counter: (-3.048958 2 out of 15)\n"
     ]
    },
    {
     "name": "stderr",
     "output_type": "stream",
     "text": [
      "Epoch: [41]/[1200] Training: 100%|██████████| 7/7 [00:04<00:00,  1.56it/s, loss=0.776, train_ca=71.4, train_wa=0.2]  \n",
      "Validating: 100%|██████████| 1/1 [00:00<00:00,  2.49it/s, val_loss=1.02, val_ca=69.4, val_wa=0.0698]\n"
     ]
    },
    {
     "name": "stdout",
     "output_type": "stream",
     "text": [
      "3.0104021527046383\n",
      "Validation loss decreased (3.048958 --> 3.010402).  Saving model ...\n"
     ]
    },
    {
     "name": "stderr",
     "output_type": "stream",
     "text": [
      "Epoch: [42]/[1200] Training: 100%|██████████| 7/7 [00:04<00:00,  1.47it/s, loss=1.41, train_ca=61, train_wa=0.2]     \n",
      "Validating: 100%|██████████| 1/1 [00:00<00:00,  2.43it/s, val_loss=1.79, val_ca=54, val_wa=0]\n"
     ]
    },
    {
     "name": "stdout",
     "output_type": "stream",
     "text": [
      "2.9825684509494086\n",
      "Validation loss decreased (3.010402 --> 2.982568).  Saving model ...\n"
     ]
    },
    {
     "name": "stderr",
     "output_type": "stream",
     "text": [
      "Epoch: [43]/[1200] Training: 100%|██████████| 7/7 [00:04<00:00,  1.55it/s, loss=0.467, train_ca=94.6, train_wa=0.6]  \n",
      "Validating: 100%|██████████| 1/1 [00:00<00:00,  1.92it/s, val_loss=1.65, val_ca=57.7, val_wa=0.0116]\n"
     ]
    },
    {
     "name": "stdout",
     "output_type": "stream",
     "text": [
      "2.9529975758658513\n",
      "Validation loss decreased (2.982568 --> 2.952998).  Saving model ...\n"
     ]
    },
    {
     "name": "stderr",
     "output_type": "stream",
     "text": [
      "Epoch: [44]/[1200] Training: 100%|██████████| 7/7 [00:04<00:00,  1.58it/s, loss=0.382, train_ca=88.9, train_wa=0.4]  \n",
      "Validating: 100%|██████████| 1/1 [00:00<00:00,  1.58it/s, val_loss=1.4, val_ca=59.7, val_wa=0.0233]\n"
     ]
    },
    {
     "name": "stdout",
     "output_type": "stream",
     "text": [
      "2.919217317000679\n",
      "Validation loss decreased (2.952998 --> 2.919217).  Saving model ...\n"
     ]
    },
    {
     "name": "stderr",
     "output_type": "stream",
     "text": [
      "Epoch: [45]/[1200] Training: 100%|██████████| 7/7 [00:04<00:00,  1.51it/s, loss=0.816, train_ca=77.5, train_wa=0]    \n",
      "Validating: 100%|██████████| 1/1 [00:00<00:00,  2.45it/s, val_loss=1.17, val_ca=68.7, val_wa=0.0465]\n"
     ]
    },
    {
     "name": "stdout",
     "output_type": "stream",
     "text": [
      "2.8819029331207275\n",
      "Validation loss decreased (2.919217 --> 2.881903).  Saving model ...\n"
     ]
    },
    {
     "name": "stderr",
     "output_type": "stream",
     "text": [
      "Epoch: [46]/[1200] Training: 100%|██████████| 7/7 [00:04<00:00,  1.66it/s, loss=0.851, train_ca=68.6, train_wa=0]    \n",
      "Validating: 100%|██████████| 1/1 [00:00<00:00,  2.39it/s, val_loss=1.06, val_ca=72.9, val_wa=0.093]\n"
     ]
    },
    {
     "name": "stdout",
     "output_type": "stream",
     "text": [
      "2.8440265903870263\n",
      "Validation loss decreased (2.881903 --> 2.844027).  Saving model ...\n"
     ]
    },
    {
     "name": "stderr",
     "output_type": "stream",
     "text": [
      "Epoch: [47]/[1200] Training: 100%|██████████| 7/7 [00:04<00:00,  1.62it/s, loss=0.257, train_ca=95, train_wa=0.6]    \n",
      "Validating: 100%|██████████| 1/1 [00:00<00:00,  1.63it/s, val_loss=0.599, val_ca=85.2, val_wa=0.337]\n"
     ]
    },
    {
     "name": "stdout",
     "output_type": "stream",
     "text": [
      "2.7982193705986957\n",
      "Validation loss decreased (2.844027 --> 2.798219).  Saving model ...\n"
     ]
    },
    {
     "name": "stderr",
     "output_type": "stream",
     "text": [
      "Epoch: [48]/[1200] Training: 100%|██████████| 7/7 [00:04<00:00,  1.61it/s, loss=0.508, train_ca=88.6, train_wa=0.4]  \n",
      "Validating: 100%|██████████| 1/1 [00:00<00:00,  1.93it/s, val_loss=2.16, val_ca=48.6, val_wa=0.0116]\n"
     ]
    },
    {
     "name": "stdout",
     "output_type": "stream",
     "text": [
      "2.7854576408863068\n",
      "Validation loss decreased (2.798219 --> 2.785458).  Saving model ...\n"
     ]
    },
    {
     "name": "stderr",
     "output_type": "stream",
     "text": [
      "Epoch: [49]/[1200] Training: 100%|██████████| 7/7 [00:04<00:00,  1.44it/s, loss=0.298, train_ca=94.6, train_wa=0.6]  \n",
      "Validating: 100%|██████████| 1/1 [00:00<00:00,  3.21it/s, val_loss=2.44, val_ca=56.7, val_wa=0.0116]\n"
     ]
    },
    {
     "name": "stdout",
     "output_type": "stream",
     "text": [
      "2.77858732845269\n",
      "Validation loss decreased (2.785458 --> 2.778587).  Saving model ...\n"
     ]
    },
    {
     "name": "stderr",
     "output_type": "stream",
     "text": [
      "Epoch: [50]/[1200] Training: 100%|██████████| 7/7 [00:04<00:00,  1.64it/s, loss=0.36, train_ca=82.9, train_wa=0.2]   \n",
      "Validating: 100%|██████████| 1/1 [00:00<00:00,  1.92it/s, val_loss=1.88, val_ca=54.6, val_wa=0]\n"
     ]
    },
    {
     "name": "stdout",
     "output_type": "stream",
     "text": [
      "2.761292135486236\n",
      "Validation loss decreased (2.778587 --> 2.761292).  Saving model ...\n"
     ]
    },
    {
     "name": "stderr",
     "output_type": "stream",
     "text": [
      "Epoch: [51]/[1200] Training: 100%|██████████| 7/7 [00:04<00:00,  1.69it/s, loss=0.315, train_ca=88.6, train_wa=0.4]  \n",
      "Validating: 100%|██████████| 1/1 [00:00<00:00,  2.46it/s, val_loss=0.688, val_ca=82.5, val_wa=0.349]\n"
     ]
    },
    {
     "name": "stdout",
     "output_type": "stream",
     "text": [
      "2.722168700874976\n",
      "Validation loss decreased (2.761292 --> 2.722169).  Saving model ...\n"
     ]
    },
    {
     "name": "stderr",
     "output_type": "stream",
     "text": [
      "Epoch: [52]/[1200] Training: 100%|██████████| 7/7 [00:04<00:00,  1.61it/s, loss=0.17, train_ca=97.1, train_wa=0.8]   \n",
      "Validating: 100%|██████████| 1/1 [00:00<00:00,  1.67it/s, val_loss=1.18, val_ca=69.8, val_wa=0.14]\n"
     ]
    },
    {
     "name": "stdout",
     "output_type": "stream",
     "text": [
      "2.6936805193071014\n",
      "Validation loss decreased (2.722169 --> 2.693681).  Saving model ...\n"
     ]
    },
    {
     "name": "stderr",
     "output_type": "stream",
     "text": [
      "Epoch: [53]/[1200] Training: 100%|██████████| 7/7 [00:04<00:00,  1.51it/s, loss=0.575, train_ca=83.9, train_wa=0]    \n",
      "Validating: 100%|██████████| 1/1 [00:00<00:00,  1.39it/s, val_loss=1.15, val_ca=69.8, val_wa=0.116]\n"
     ]
    },
    {
     "name": "stdout",
     "output_type": "stream",
     "text": [
      "2.665551975640384\n",
      "Validation loss decreased (2.693681 --> 2.665552).  Saving model ...\n"
     ]
    },
    {
     "name": "stderr",
     "output_type": "stream",
     "text": [
      "Epoch: [54]/[1200] Training: 100%|██████████| 7/7 [00:04<00:00,  1.61it/s, loss=0.219, train_ca=91.8, train_wa=0.4]  \n",
      "Validating: 100%|██████████| 1/1 [00:00<00:00,  2.50it/s, val_loss=0.507, val_ca=87.6, val_wa=0.535]\n"
     ]
    },
    {
     "name": "stdout",
     "output_type": "stream",
     "text": [
      "2.6270092725753784\n",
      "Validation loss decreased (2.665552 --> 2.627009).  Saving model ...\n"
     ]
    },
    {
     "name": "stderr",
     "output_type": "stream",
     "text": [
      "Epoch: [55]/[1200] Training: 100%|██████████| 7/7 [00:04<00:00,  1.58it/s, loss=0.662, train_ca=80.4, train_wa=0.4]   \n",
      "Validating: 100%|██████████| 1/1 [00:00<00:00,  1.94it/s, val_loss=0.612, val_ca=84.1, val_wa=0.384]\n"
     ]
    },
    {
     "name": "stdout",
     "output_type": "stream",
     "text": [
      "2.591658526345303\n",
      "Validation loss decreased (2.627009 --> 2.591659).  Saving model ...\n"
     ]
    },
    {
     "name": "stderr",
     "output_type": "stream",
     "text": [
      "Epoch: [56]/[1200] Training: 100%|██████████| 7/7 [00:04<00:00,  1.72it/s, loss=0.117, train_ca=97.1, train_wa=0.8]  \n",
      "Validating: 100%|██████████| 1/1 [00:00<00:00,  2.46it/s, val_loss=1.09, val_ca=75.7, val_wa=0.244]\n"
     ]
    },
    {
     "name": "stdout",
     "output_type": "stream",
     "text": [
      "2.5657734798974006\n",
      "Validation loss decreased (2.591659 --> 2.565773).  Saving model ...\n"
     ]
    },
    {
     "name": "stderr",
     "output_type": "stream",
     "text": [
      "Epoch: [57]/[1200] Training: 100%|██████████| 7/7 [00:04<00:00,  1.60it/s, loss=0.103, train_ca=97.1, train_wa=0.8]   \n",
      "Validating: 100%|██████████| 1/1 [00:00<00:00,  1.66it/s, val_loss=0.631, val_ca=85.1, val_wa=0.372]\n"
     ]
    },
    {
     "name": "stdout",
     "output_type": "stream",
     "text": [
      "2.532983761722759\n",
      "Validation loss decreased (2.565773 --> 2.532984).  Saving model ...\n"
     ]
    },
    {
     "name": "stderr",
     "output_type": "stream",
     "text": [
      "Epoch: [58]/[1200] Training: 100%|██████████| 7/7 [00:04<00:00,  1.60it/s, loss=0.687, train_ca=77.9, train_wa=0.2]   \n",
      "Validating: 100%|██████████| 1/1 [00:00<00:00,  1.65it/s, val_loss=1.97, val_ca=52.5, val_wa=0]\n"
     ]
    },
    {
     "name": "stdout",
     "output_type": "stream",
     "text": [
      "2.5236010293165845\n",
      "Validation loss decreased (2.532984 --> 2.523601).  Saving model ...\n"
     ]
    },
    {
     "name": "stderr",
     "output_type": "stream",
     "text": [
      "Epoch: [59]/[1200] Training: 100%|██████████| 7/7 [00:04<00:00,  1.65it/s, loss=0.127, train_ca=94.6, train_wa=0.6]   \n",
      "Validating: 100%|██████████| 1/1 [00:00<00:00,  2.00it/s, val_loss=0.696, val_ca=82.3, val_wa=0.395]\n"
     ]
    },
    {
     "name": "stdout",
     "output_type": "stream",
     "text": [
      "2.493645701252046\n",
      "Validation loss decreased (2.523601 --> 2.493646).  Saving model ...\n"
     ]
    },
    {
     "name": "stderr",
     "output_type": "stream",
     "text": [
      "Epoch: [60]/[1200] Training: 100%|██████████| 7/7 [00:04<00:00,  1.50it/s, loss=0.0567, train_ca=100, train_wa=1]     \n",
      "Validating: 100%|██████████| 1/1 [00:00<00:00,  2.52it/s, val_loss=0.738, val_ca=83.2, val_wa=0.384]\n"
     ]
    },
    {
     "name": "stdout",
     "output_type": "stream",
     "text": [
      "2.4653274416923523\n",
      "Validation loss decreased (2.493646 --> 2.465327).  Saving model ...\n"
     ]
    },
    {
     "name": "stderr",
     "output_type": "stream",
     "text": [
      "Epoch: [61]/[1200] Training: 100%|██████████| 7/7 [00:05<00:00,  1.40it/s, loss=0.334, train_ca=91.4, train_wa=0.6]   \n",
      "Validating: 100%|██████████| 1/1 [00:00<00:00,  1.95it/s, val_loss=0.57, val_ca=84.7, val_wa=0.384]\n"
     ]
    },
    {
     "name": "stdout",
     "output_type": "stream",
     "text": [
      "2.4352504544787936\n",
      "Validation loss decreased (2.465327 --> 2.435250).  Saving model ...\n"
     ]
    },
    {
     "name": "stderr",
     "output_type": "stream",
     "text": [
      "Epoch: [62]/[1200] Training: 100%|██████████| 7/7 [00:04<00:00,  1.47it/s, loss=0.087, train_ca=97.1, train_wa=0.8]   \n",
      "Validating: 100%|██████████| 1/1 [00:00<00:00,  2.42it/s, val_loss=1.26, val_ca=71.3, val_wa=0.116]\n"
     ]
    },
    {
     "name": "stdout",
     "output_type": "stream",
     "text": [
      "2.416874933987856\n",
      "Validation loss decreased (2.435250 --> 2.416875).  Saving model ...\n"
     ]
    },
    {
     "name": "stderr",
     "output_type": "stream",
     "text": [
      "Epoch: [63]/[1200] Training: 100%|██████████| 7/7 [00:04<00:00,  1.53it/s, loss=0.461, train_ca=88.1, train_wa=0.6]   \n",
      "Validating: 100%|██████████| 1/1 [00:00<00:00,  1.96it/s, val_loss=1.55, val_ca=66.8, val_wa=0.0581]\n"
     ]
    },
    {
     "name": "stdout",
     "output_type": "stream",
     "text": [
      "2.4034803555561948\n",
      "Validation loss decreased (2.416875 --> 2.403480).  Saving model ...\n"
     ]
    },
    {
     "name": "stderr",
     "output_type": "stream",
     "text": [
      "Epoch: [64]/[1200] Training: 100%|██████████| 7/7 [00:04<00:00,  1.45it/s, loss=0.33, train_ca=94.6, train_wa=0.6]    \n",
      "Validating: 100%|██████████| 1/1 [00:00<00:00,  2.41it/s, val_loss=0.699, val_ca=83.4, val_wa=0.384]\n"
     ]
    },
    {
     "name": "stdout",
     "output_type": "stream",
     "text": [
      "2.377658541455413\n",
      "Validation loss decreased (2.403480 --> 2.377659).  Saving model ...\n"
     ]
    },
    {
     "name": "stderr",
     "output_type": "stream",
     "text": [
      "Epoch: [65]/[1200] Training: 100%|██████████| 7/7 [00:04<00:00,  1.61it/s, loss=0.22, train_ca=91.4, train_wa=0.6]    \n",
      "Validating: 100%|██████████| 1/1 [00:00<00:00,  2.52it/s, val_loss=0.488, val_ca=89.1, val_wa=0.57]\n"
     ]
    },
    {
     "name": "stdout",
     "output_type": "stream",
     "text": [
      "2.349458414227215\n",
      "Validation loss decreased (2.377659 --> 2.349458).  Saving model ...\n"
     ]
    },
    {
     "name": "stderr",
     "output_type": "stream",
     "text": [
      "Epoch: [66]/[1200] Training: 100%|██████████| 7/7 [00:03<00:00,  1.76it/s, loss=0.199, train_ca=91.4, train_wa=0.6]   \n",
      "Validating: 100%|██████████| 1/1 [00:00<00:00,  1.65it/s, val_loss=0.783, val_ca=82.3, val_wa=0.337]\n"
     ]
    },
    {
     "name": "stdout",
     "output_type": "stream",
     "text": [
      "2.3264230568619335\n",
      "Validation loss decreased (2.349458 --> 2.326423).  Saving model ...\n"
     ]
    },
    {
     "name": "stderr",
     "output_type": "stream",
     "text": [
      "Epoch: [67]/[1200] Training: 100%|██████████| 7/7 [00:04<00:00,  1.41it/s, loss=0.124, train_ca=97.1, train_wa=0.8]   \n",
      "Validating: 100%|██████████| 1/1 [00:00<00:00,  1.97it/s, val_loss=0.57, val_ca=85.1, val_wa=0.407]\n"
     ]
    },
    {
     "name": "stdout",
     "output_type": "stream",
     "text": [
      "2.3009724565174268\n",
      "Validation loss decreased (2.326423 --> 2.300972).  Saving model ...\n"
     ]
    },
    {
     "name": "stderr",
     "output_type": "stream",
     "text": [
      "Epoch: [68]/[1200] Training: 100%|██████████| 7/7 [00:04<00:00,  1.63it/s, loss=0.0225, train_ca=100, train_wa=1]     \n",
      "Validating: 100%|██████████| 1/1 [00:00<00:00,  1.69it/s, val_loss=1.21, val_ca=70.7, val_wa=0.151]\n"
     ]
    },
    {
     "name": "stdout",
     "output_type": "stream",
     "text": [
      "2.285368290969304\n",
      "Validation loss decreased (2.300972 --> 2.285368).  Saving model ...\n"
     ]
    },
    {
     "name": "stderr",
     "output_type": "stream",
     "text": [
      "Epoch: [69]/[1200] Training: 100%|██████████| 7/7 [00:04<00:00,  1.68it/s, loss=0.0329, train_ca=100, train_wa=1]     \n",
      "Validating: 100%|██████████| 1/1 [00:00<00:00,  2.02it/s, val_loss=0.755, val_ca=83.8, val_wa=0.302]\n"
     ]
    },
    {
     "name": "stdout",
     "output_type": "stream",
     "text": [
      "2.2638115253247006\n",
      "Validation loss decreased (2.285368 --> 2.263812).  Saving model ...\n"
     ]
    },
    {
     "name": "stderr",
     "output_type": "stream",
     "text": [
      "Epoch: [70]/[1200] Training: 100%|██████████| 7/7 [00:04<00:00,  1.63it/s, loss=0.0764, train_ca=97.1, train_wa=0.8]  \n",
      "Validating: 100%|██████████| 1/1 [00:00<00:00,  1.67it/s, val_loss=0.755, val_ca=82, val_wa=0.349]\n"
     ]
    },
    {
     "name": "stdout",
     "output_type": "stream",
     "text": [
      "2.242856428027153\n",
      "Validation loss decreased (2.263812 --> 2.242856).  Saving model ...\n"
     ]
    },
    {
     "name": "stderr",
     "output_type": "stream",
     "text": [
      "Epoch: [71]/[1200] Training: 100%|██████████| 7/7 [00:04<00:00,  1.65it/s, loss=0.0516, train_ca=97.5, train_wa=0.8]  \n",
      "Validating: 100%|██████████| 1/1 [00:00<00:00,  1.96it/s, val_loss=0.557, val_ca=88.7, val_wa=0.5]\n"
     ]
    },
    {
     "name": "stdout",
     "output_type": "stream",
     "text": [
      "2.219768359236521\n",
      "Validation loss decreased (2.242856 --> 2.219768).  Saving model ...\n"
     ]
    },
    {
     "name": "stderr",
     "output_type": "stream",
     "text": [
      "Epoch: [72]/[1200] Training: 100%|██████████| 7/7 [00:04<00:00,  1.68it/s, loss=0.0173, train_ca=100, train_wa=1]     \n",
      "Validating: 100%|██████████| 1/1 [00:00<00:00,  2.02it/s, val_loss=1.01, val_ca=76.3, val_wa=0.221]\n"
     ]
    },
    {
     "name": "stdout",
     "output_type": "stream",
     "text": [
      "2.203482395893819\n",
      "Validation loss decreased (2.219768 --> 2.203482).  Saving model ...\n"
     ]
    },
    {
     "name": "stderr",
     "output_type": "stream",
     "text": [
      "Epoch: [73]/[1200] Training: 100%|██████████| 7/7 [00:03<00:00,  1.77it/s, loss=0.0134, train_ca=100, train_wa=1]     \n",
      "Validating: 100%|██████████| 1/1 [00:00<00:00,  1.42it/s, val_loss=0.941, val_ca=77.2, val_wa=0.244]\n"
     ]
    },
    {
     "name": "stdout",
     "output_type": "stream",
     "text": [
      "2.1866492716471355\n",
      "Validation loss decreased (2.203482 --> 2.186649).  Saving model ...\n"
     ]
    },
    {
     "name": "stderr",
     "output_type": "stream",
     "text": [
      "Epoch: [74]/[1200] Training: 100%|██████████| 7/7 [00:04<00:00,  1.67it/s, loss=0.131, train_ca=94.6, train_wa=0.6]   \n",
      "Validating: 100%|██████████| 1/1 [00:00<00:00,  2.03it/s, val_loss=0.558, val_ca=88.3, val_wa=0.547]\n"
     ]
    },
    {
     "name": "stdout",
     "output_type": "stream",
     "text": [
      "2.165221128024553\n",
      "Validation loss decreased (2.186649 --> 2.165221).  Saving model ...\n"
     ]
    },
    {
     "name": "stderr",
     "output_type": "stream",
     "text": [
      "Epoch: [75]/[1200] Training: 100%|██████████| 7/7 [00:04<00:00,  1.63it/s, loss=0.0371, train_ca=97.1, train_wa=0.8]  \n",
      "Validating: 100%|██████████| 1/1 [00:00<00:00,  2.03it/s, val_loss=0.446, val_ca=91, val_wa=0.605]\n"
     ]
    },
    {
     "name": "stdout",
     "output_type": "stream",
     "text": [
      "2.142890135963242\n",
      "Validation loss decreased (2.165221 --> 2.142890).  Saving model ...\n"
     ]
    },
    {
     "name": "stderr",
     "output_type": "stream",
     "text": [
      "Epoch: [76]/[1200] Training: 100%|██████████| 7/7 [00:04<00:00,  1.53it/s, loss=0.016, train_ca=100, train_wa=1]      \n",
      "Validating: 100%|██████████| 1/1 [00:00<00:00,  2.45it/s, val_loss=0.883, val_ca=80.6, val_wa=0.302]\n"
     ]
    },
    {
     "name": "stdout",
     "output_type": "stream",
     "text": [
      "2.12673575985126\n",
      "Validation loss decreased (2.142890 --> 2.126736).  Saving model ...\n"
     ]
    },
    {
     "name": "stderr",
     "output_type": "stream",
     "text": [
      "Epoch: [77]/[1200] Training: 100%|██████████| 7/7 [00:04<00:00,  1.65it/s, loss=0.528, train_ca=88.6, train_wa=0.6]   \n",
      "Validating: 100%|██████████| 1/1 [00:00<00:00,  2.02it/s, val_loss=2.86, val_ca=47.4, val_wa=0.0116]\n"
     ]
    },
    {
     "name": "stdout",
     "output_type": "stream",
     "text": [
      "2.1359836564788335\n",
      "EarlyStopping counter: (-2.126736 1 out of 15)\n"
     ]
    },
    {
     "name": "stderr",
     "output_type": "stream",
     "text": [
      "Epoch: [78]/[1200] Training: 100%|██████████| 7/7 [00:03<00:00,  1.89it/s, loss=0.0267, train_ca=100, train_wa=1]     \n",
      "Validating: 100%|██████████| 1/1 [00:00<00:00,  2.02it/s, val_loss=0.851, val_ca=80.5, val_wa=0.337]\n"
     ]
    },
    {
     "name": "stdout",
     "output_type": "stream",
     "text": [
      "2.119924924522638\n",
      "Validation loss decreased (2.126736 --> 2.119925).  Saving model ...\n"
     ]
    },
    {
     "name": "stderr",
     "output_type": "stream",
     "text": [
      "Epoch: [79]/[1200] Training: 100%|██████████| 7/7 [00:04<00:00,  1.65it/s, loss=0.123, train_ca=94.3, train_wa=0.6]   \n",
      "Validating: 100%|██████████| 1/1 [00:00<00:00,  1.65it/s, val_loss=0.459, val_ca=90.3, val_wa=0.581]\n"
     ]
    },
    {
     "name": "stdout",
     "output_type": "stream",
     "text": [
      "2.099421940467976\n",
      "Validation loss decreased (2.119925 --> 2.099422).  Saving model ...\n"
     ]
    },
    {
     "name": "stderr",
     "output_type": "stream",
     "text": [
      "Epoch: [80]/[1200] Training: 100%|██████████| 7/7 [00:04<00:00,  1.55it/s, loss=0.0158, train_ca=100, train_wa=1]     \n",
      "Validating: 100%|██████████| 1/1 [00:00<00:00,  1.95it/s, val_loss=0.569, val_ca=87.3, val_wa=0.523]\n"
     ]
    },
    {
     "name": "stdout",
     "output_type": "stream",
     "text": [
      "2.080760148240299\n",
      "Validation loss decreased (2.099422 --> 2.080760).  Saving model ...\n"
     ]
    },
    {
     "name": "stderr",
     "output_type": "stream",
     "text": [
      "Epoch: [81]/[1200] Training: 100%|██████████| 7/7 [00:03<00:00,  1.76it/s, loss=0.0324, train_ca=100, train_wa=1]     \n",
      "Validating: 100%|██████████| 1/1 [00:00<00:00,  1.97it/s, val_loss=1.24, val_ca=76.8, val_wa=0.221]\n"
     ]
    },
    {
     "name": "stdout",
     "output_type": "stream",
     "text": [
      "2.0706570112561606\n",
      "Validation loss decreased (2.080760 --> 2.070657).  Saving model ...\n"
     ]
    },
    {
     "name": "stderr",
     "output_type": "stream",
     "text": [
      "Epoch: [82]/[1200] Training: 100%|██████████| 7/7 [00:04<00:00,  1.65it/s, loss=0.158, train_ca=94.6, train_wa=0.6]   \n",
      "Validating: 100%|██████████| 1/1 [00:00<00:00,  1.99it/s, val_loss=0.789, val_ca=84.9, val_wa=0.419]\n"
     ]
    },
    {
     "name": "stdout",
     "output_type": "stream",
     "text": [
      "2.055395479003588\n",
      "Validation loss decreased (2.070657 --> 2.055395).  Saving model ...\n"
     ]
    },
    {
     "name": "stderr",
     "output_type": "stream",
     "text": [
      "Epoch: [83]/[1200] Training: 100%|██████████| 7/7 [00:04<00:00,  1.57it/s, loss=0.177, train_ca=97.1, train_wa=0.8]   \n",
      "Validating: 100%|██████████| 1/1 [00:00<00:00,  2.55it/s, val_loss=0.518, val_ca=89.2, val_wa=0.57]\n"
     ]
    },
    {
     "name": "stdout",
     "output_type": "stream",
     "text": [
      "2.037309364010306\n",
      "Validation loss decreased (2.055395 --> 2.037309).  Saving model ...\n"
     ]
    },
    {
     "name": "stderr",
     "output_type": "stream",
     "text": [
      "Epoch: [84]/[1200] Training: 100%|██████████| 7/7 [00:04<00:00,  1.62it/s, loss=1.28, train_ca=75, train_wa=0.2]      \n",
      "Validating: 100%|██████████| 1/1 [00:00<00:00,  1.42it/s, val_loss=0.389, val_ca=90.6, val_wa=0.64]\n"
     ]
    },
    {
     "name": "stdout",
     "output_type": "stream",
     "text": [
      "2.0181413940912067\n",
      "Validation loss decreased (2.037309 --> 2.018141).  Saving model ...\n"
     ]
    },
    {
     "name": "stderr",
     "output_type": "stream",
     "text": [
      "Epoch: [85]/[1200] Training: 100%|██████████| 7/7 [00:04<00:00,  1.51it/s, loss=0.147, train_ca=93.8, train_wa=0.6]   \n",
      "Validating: 100%|██████████| 1/1 [00:00<00:00,  1.97it/s, val_loss=1.21, val_ca=79.6, val_wa=0.267]\n"
     ]
    },
    {
     "name": "stdout",
     "output_type": "stream",
     "text": [
      "2.0088948802701356\n",
      "Validation loss decreased (2.018141 --> 2.008895).  Saving model ...\n"
     ]
    },
    {
     "name": "stderr",
     "output_type": "stream",
     "text": [
      "Epoch: [86]/[1200] Training: 100%|██████████| 7/7 [00:04<00:00,  1.55it/s, loss=0.146, train_ca=97.1, train_wa=0.8]   \n",
      "Validating: 100%|██████████| 1/1 [00:00<00:00,  2.44it/s, val_loss=0.543, val_ca=87.4, val_wa=0.465]\n"
     ]
    },
    {
     "name": "stdout",
     "output_type": "stream",
     "text": [
      "1.9922330430285498\n",
      "Validation loss decreased (2.008895 --> 1.992233).  Saving model ...\n"
     ]
    },
    {
     "name": "stderr",
     "output_type": "stream",
     "text": [
      "Epoch: [87]/[1200] Training: 100%|██████████| 7/7 [00:04<00:00,  1.67it/s, loss=0.0484, train_ca=100, train_wa=1]      \n",
      "Validating: 100%|██████████| 1/1 [00:00<00:00,  2.04it/s, val_loss=0.434, val_ca=89.8, val_wa=0.547]\n"
     ]
    },
    {
     "name": "stdout",
     "output_type": "stream",
     "text": [
      "1.9747205503870933\n",
      "Validation loss decreased (1.992233 --> 1.974721).  Saving model ...\n"
     ]
    },
    {
     "name": "stderr",
     "output_type": "stream",
     "text": [
      "Epoch: [88]/[1200] Training: 100%|██████████| 7/7 [00:04<00:00,  1.57it/s, loss=0.0426, train_ca=100, train_wa=1]      \n",
      "Validating: 100%|██████████| 1/1 [00:00<00:00,  2.00it/s, val_loss=0.525, val_ca=89.6, val_wa=0.581]\n"
     ]
    },
    {
     "name": "stdout",
     "output_type": "stream",
     "text": [
      "1.958608748515447\n",
      "Validation loss decreased (1.974721 --> 1.958609).  Saving model ...\n"
     ]
    },
    {
     "name": "stderr",
     "output_type": "stream",
     "text": [
      "Epoch: [89]/[1200] Training: 100%|██████████| 7/7 [00:04<00:00,  1.51it/s, loss=0.0119, train_ca=100, train_wa=1]      \n",
      "Validating: 100%|██████████| 1/1 [00:00<00:00,  1.99it/s, val_loss=0.48, val_ca=89.9, val_wa=0.581]\n"
     ]
    },
    {
     "name": "stdout",
     "output_type": "stream",
     "text": [
      "1.9423648829643543\n",
      "Validation loss decreased (1.958609 --> 1.942365).  Saving model ...\n"
     ]
    },
    {
     "name": "stderr",
     "output_type": "stream",
     "text": [
      "Epoch: [90]/[1200] Training: 100%|██████████| 7/7 [00:04<00:00,  1.71it/s, loss=0.179, train_ca=97.5, train_wa=0.8]    \n",
      "Validating: 100%|██████████| 1/1 [00:00<00:00,  2.00it/s, val_loss=0.402, val_ca=92.8, val_wa=0.733]\n"
     ]
    },
    {
     "name": "stdout",
     "output_type": "stream",
     "text": [
      "1.9256271762044535\n",
      "Validation loss decreased (1.942365 --> 1.925627).  Saving model ...\n"
     ]
    },
    {
     "name": "stderr",
     "output_type": "stream",
     "text": [
      "Epoch: [91]/[1200] Training: 100%|██████████| 7/7 [00:04<00:00,  1.61it/s, loss=0.00858, train_ca=100, train_wa=1]     \n",
      "Validating: 100%|██████████| 1/1 [00:00<00:00,  3.33it/s, val_loss=0.564, val_ca=87.3, val_wa=0.5]\n"
     ]
    },
    {
     "name": "stdout",
     "output_type": "stream",
     "text": [
      "1.9109844818551054\n",
      "Validation loss decreased (1.925627 --> 1.910984).  Saving model ...\n"
     ]
    },
    {
     "name": "stderr",
     "output_type": "stream",
     "text": [
      "Epoch: [92]/[1200] Training: 100%|██████████| 7/7 [00:04<00:00,  1.66it/s, loss=0.211, train_ca=94.6, train_wa=0.6]   \n",
      "Validating: 100%|██████████| 1/1 [00:00<00:00,  1.65it/s, val_loss=0.439, val_ca=90.1, val_wa=0.628]\n"
     ]
    },
    {
     "name": "stdout",
     "output_type": "stream",
     "text": [
      "1.8953288590654414\n",
      "Validation loss decreased (1.910984 --> 1.895329).  Saving model ...\n"
     ]
    },
    {
     "name": "stderr",
     "output_type": "stream",
     "text": [
      "Epoch: [93]/[1200] Training: 100%|██████████| 7/7 [00:04<00:00,  1.54it/s, loss=0.00487, train_ca=100, train_wa=1]     \n",
      "Validating: 100%|██████████| 1/1 [00:00<00:00,  2.58it/s, val_loss=0.43, val_ca=90.7, val_wa=0.616]\n"
     ]
    },
    {
     "name": "stdout",
     "output_type": "stream",
     "text": [
      "1.8799032515601108\n",
      "Validation loss decreased (1.895329 --> 1.879903).  Saving model ...\n"
     ]
    },
    {
     "name": "stderr",
     "output_type": "stream",
     "text": [
      "Epoch: [94]/[1200] Training: 100%|██████████| 7/7 [00:04<00:00,  1.53it/s, loss=0.11, train_ca=97.1, train_wa=0.8]    \n",
      "Validating: 100%|██████████| 1/1 [00:00<00:00,  2.01it/s, val_loss=0.753, val_ca=82.3, val_wa=0.326]\n"
     ]
    },
    {
     "name": "stdout",
     "output_type": "stream",
     "text": [
      "1.8681685194994013\n",
      "Validation loss decreased (1.879903 --> 1.868169).  Saving model ...\n"
     ]
    },
    {
     "name": "stderr",
     "output_type": "stream",
     "text": [
      "Epoch: [95]/[1200] Training: 100%|██████████| 7/7 [00:04<00:00,  1.57it/s, loss=0.0731, train_ca=97.1, train_wa=0.8]  \n",
      "Validating: 100%|██████████| 1/1 [00:00<00:00,  1.99it/s, val_loss=1.02, val_ca=80.3, val_wa=0.233]\n"
     ]
    },
    {
     "name": "stdout",
     "output_type": "stream",
     "text": [
      "1.8594018187105041\n",
      "Validation loss decreased (1.868169 --> 1.859402).  Saving model ...\n"
     ]
    },
    {
     "name": "stderr",
     "output_type": "stream",
     "text": [
      "Epoch: [96]/[1200] Training: 100%|██████████| 7/7 [00:04<00:00,  1.54it/s, loss=0.142, train_ca=92.1, train_wa=0.6]    \n",
      "Validating: 100%|██████████| 1/1 [00:00<00:00,  1.97it/s, val_loss=0.449, val_ca=91.4, val_wa=0.616]\n"
     ]
    },
    {
     "name": "stdout",
     "output_type": "stream",
     "text": [
      "1.845013083547962\n",
      "Validation loss decreased (1.859402 --> 1.845013).  Saving model ...\n"
     ]
    },
    {
     "name": "stderr",
     "output_type": "stream",
     "text": [
      "Epoch: [97]/[1200] Training: 100%|██████████| 7/7 [00:04<00:00,  1.54it/s, loss=0.15, train_ca=97.1, train_wa=0.8]    \n",
      "Validating: 100%|██████████| 1/1 [00:00<00:00,  1.97it/s, val_loss=0.523, val_ca=90, val_wa=0.616]\n"
     ]
    },
    {
     "name": "stdout",
     "output_type": "stream",
     "text": [
      "1.8316584702091987\n",
      "Validation loss decreased (1.845013 --> 1.831658).  Saving model ...\n"
     ]
    },
    {
     "name": "stderr",
     "output_type": "stream",
     "text": [
      "Epoch: [98]/[1200] Training: 100%|██████████| 7/7 [00:04<00:00,  1.48it/s, loss=0.00822, train_ca=100, train_wa=1]     \n",
      "Validating: 100%|██████████| 1/1 [00:00<00:00,  1.94it/s, val_loss=1.29, val_ca=75.7, val_wa=0.302]\n"
     ]
    },
    {
     "name": "stdout",
     "output_type": "stream",
     "text": [
      "1.8262586745619773\n",
      "Validation loss decreased (1.831658 --> 1.826259).  Saving model ...\n"
     ]
    },
    {
     "name": "stderr",
     "output_type": "stream",
     "text": [
      "Epoch: [99]/[1200] Training: 100%|██████████| 7/7 [00:04<00:00,  1.61it/s, loss=0.0286, train_ca=97.1, train_wa=0.8]   \n",
      "Validating: 100%|██████████| 1/1 [00:00<00:00,  1.63it/s, val_loss=1.3, val_ca=75.9, val_wa=0.256]\n"
     ]
    },
    {
     "name": "stdout",
     "output_type": "stream",
     "text": [
      "1.8210219826438638\n",
      "Validation loss decreased (1.826259 --> 1.821022).  Saving model ...\n"
     ]
    },
    {
     "name": "stderr",
     "output_type": "stream",
     "text": [
      "Epoch: [100]/[1200] Training: 100%|██████████| 7/7 [00:04<00:00,  1.71it/s, loss=0.073, train_ca=97.1, train_wa=0.8]    \n",
      "Validating: 100%|██████████| 1/1 [00:00<00:00,  1.65it/s, val_loss=0.523, val_ca=90.3, val_wa=0.616]\n"
     ]
    },
    {
     "name": "stdout",
     "output_type": "stream",
     "text": [
      "1.8082982380600536\n",
      "Validation loss decreased (1.821022 --> 1.808298).  Saving model ...\n"
     ]
    },
    {
     "name": "stderr",
     "output_type": "stream",
     "text": [
      "Epoch: [101]/[1200] Training: 100%|██████████| 7/7 [00:04<00:00,  1.64it/s, loss=0.0495, train_ca=100, train_wa=1]     \n",
      "Validating: 100%|██████████| 1/1 [00:00<00:00,  1.60it/s, val_loss=0.376, val_ca=91.9, val_wa=0.663]\n"
     ]
    },
    {
     "name": "stdout",
     "output_type": "stream",
     "text": [
      "1.794394341487329\n",
      "Validation loss decreased (1.808298 --> 1.794394).  Saving model ...\n"
     ]
    },
    {
     "name": "stderr",
     "output_type": "stream",
     "text": [
      "Epoch: [102]/[1200] Training: 100%|██████████| 7/7 [00:04<00:00,  1.67it/s, loss=0.136, train_ca=97.1, train_wa=0.8]    \n",
      "Validating: 100%|██████████| 1/1 [00:00<00:00,  1.99it/s, val_loss=0.532, val_ca=91.4, val_wa=0.605]\n"
     ]
    },
    {
     "name": "stdout",
     "output_type": "stream",
     "text": [
      "1.782257463496465\n",
      "Validation loss decreased (1.794394 --> 1.782257).  Saving model ...\n"
     ]
    },
    {
     "name": "stderr",
     "output_type": "stream",
     "text": [
      "Epoch: [103]/[1200] Training: 100%|██████████| 7/7 [00:04<00:00,  1.54it/s, loss=0.00443, train_ca=100, train_wa=1]    \n",
      "Validating: 100%|██████████| 1/1 [00:00<00:00,  2.00it/s, val_loss=0.523, val_ca=89.7, val_wa=0.535]\n"
     ]
    },
    {
     "name": "stdout",
     "output_type": "stream",
     "text": [
      "1.7702663989294143\n",
      "Validation loss decreased (1.782257 --> 1.770266).  Saving model ...\n"
     ]
    },
    {
     "name": "stderr",
     "output_type": "stream",
     "text": [
      "Epoch: [104]/[1200] Training: 100%|██████████| 7/7 [00:03<00:00,  1.81it/s, loss=0.0336, train_ca=100, train_wa=1]      \n",
      "Validating: 100%|██████████| 1/1 [00:00<00:00,  2.00it/s, val_loss=1.04, val_ca=80.6, val_wa=0.291]\n"
     ]
    },
    {
     "name": "stdout",
     "output_type": "stream",
     "text": [
      "1.7633832175776643\n",
      "Validation loss decreased (1.770266 --> 1.763383).  Saving model ...\n"
     ]
    },
    {
     "name": "stderr",
     "output_type": "stream",
     "text": [
      "Epoch: [105]/[1200] Training: 100%|██████████| 7/7 [00:04<00:00,  1.67it/s, loss=0.0022, train_ca=100, train_wa=1]      \n",
      "Validating: 100%|██████████| 1/1 [00:00<00:00,  2.01it/s, val_loss=0.405, val_ca=92.2, val_wa=0.698]\n"
     ]
    },
    {
     "name": "stdout",
     "output_type": "stream",
     "text": [
      "1.7506896171057336\n",
      "Validation loss decreased (1.763383 --> 1.750690).  Saving model ...\n"
     ]
    },
    {
     "name": "stderr",
     "output_type": "stream",
     "text": [
      "Epoch: [106]/[1200] Training: 100%|██████████| 7/7 [00:04<00:00,  1.53it/s, loss=0.495, train_ca=87.1, train_wa=0.6]    \n",
      "Validating: 100%|██████████| 1/1 [00:00<00:00,  1.97it/s, val_loss=0.459, val_ca=92.6, val_wa=0.651]\n"
     ]
    },
    {
     "name": "stdout",
     "output_type": "stream",
     "text": [
      "1.7387257979975805\n",
      "Validation loss decreased (1.750690 --> 1.738726).  Saving model ...\n"
     ]
    },
    {
     "name": "stderr",
     "output_type": "stream",
     "text": [
      "Epoch: [107]/[1200] Training: 100%|██████████| 7/7 [00:04<00:00,  1.57it/s, loss=0.0262, train_ca=100, train_wa=1]      \n",
      "Validating: 100%|██████████| 1/1 [00:00<00:00,  2.45it/s, val_loss=0.673, val_ca=87.5, val_wa=0.523]\n"
     ]
    },
    {
     "name": "stdout",
     "output_type": "stream",
     "text": [
      "1.7289499312365821\n",
      "Validation loss decreased (1.738726 --> 1.728950).  Saving model ...\n"
     ]
    },
    {
     "name": "stderr",
     "output_type": "stream",
     "text": [
      "Epoch: [108]/[1200] Training: 100%|██████████| 7/7 [00:04<00:00,  1.53it/s, loss=0.00189, train_ca=100, train_wa=1]     \n",
      "Validating: 100%|██████████| 1/1 [00:00<00:00,  3.22it/s, val_loss=0.894, val_ca=81.8, val_wa=0.302]\n"
     ]
    },
    {
     "name": "stdout",
     "output_type": "stream",
     "text": [
      "1.7213612751527265\n",
      "Validation loss decreased (1.728950 --> 1.721361).  Saving model ...\n"
     ]
    },
    {
     "name": "stderr",
     "output_type": "stream",
     "text": [
      "Epoch: [109]/[1200] Training: 100%|██████████| 7/7 [00:04<00:00,  1.60it/s, loss=0.0382, train_ca=97.5, train_wa=0.8]   \n",
      "Validating: 100%|██████████| 1/1 [00:00<00:00,  2.01it/s, val_loss=0.574, val_ca=89.5, val_wa=0.605]\n"
     ]
    },
    {
     "name": "stdout",
     "output_type": "stream",
     "text": [
      "1.7110273027205252\n",
      "Validation loss decreased (1.721361 --> 1.711027).  Saving model ...\n"
     ]
    },
    {
     "name": "stderr",
     "output_type": "stream",
     "text": [
      "Epoch: [110]/[1200] Training: 100%|██████████| 7/7 [00:04<00:00,  1.55it/s, loss=0.00724, train_ca=100, train_wa=1]     \n",
      "Validating: 100%|██████████| 1/1 [00:00<00:00,  1.97it/s, val_loss=0.401, val_ca=92.4, val_wa=0.674]\n"
     ]
    },
    {
     "name": "stdout",
     "output_type": "stream",
     "text": [
      "1.6993331887892313\n",
      "Validation loss decreased (1.711027 --> 1.699333).  Saving model ...\n"
     ]
    },
    {
     "name": "stderr",
     "output_type": "stream",
     "text": [
      "Epoch: [111]/[1200] Training: 100%|██████████| 7/7 [00:04<00:00,  1.56it/s, loss=0.0026, train_ca=100, train_wa=1]      \n",
      "Validating: 100%|██████████| 1/1 [00:00<00:00,  1.99it/s, val_loss=0.351, val_ca=92.9, val_wa=0.733]\n"
     ]
    },
    {
     "name": "stdout",
     "output_type": "stream",
     "text": [
      "1.6873973325817986\n",
      "Validation loss decreased (1.699333 --> 1.687397).  Saving model ...\n"
     ]
    },
    {
     "name": "stderr",
     "output_type": "stream",
     "text": [
      "Epoch: [112]/[1200] Training: 100%|██████████| 7/7 [00:04<00:00,  1.56it/s, loss=0.0555, train_ca=97.1, train_wa=0.8]   \n",
      "Validating: 100%|██████████| 1/1 [00:00<00:00,  2.49it/s, val_loss=0.415, val_ca=92.4, val_wa=0.686]\n"
     ]
    },
    {
     "name": "stdout",
     "output_type": "stream",
     "text": [
      "1.676235237142496\n",
      "Validation loss decreased (1.687397 --> 1.676235).  Saving model ...\n"
     ]
    },
    {
     "name": "stderr",
     "output_type": "stream",
     "text": [
      "Epoch: [113]/[1200] Training: 100%|██████████| 7/7 [00:04<00:00,  1.69it/s, loss=0.122, train_ca=97.1, train_wa=0.8]    \n",
      "Validating: 100%|██████████| 1/1 [00:00<00:00,  2.50it/s, val_loss=0.411, val_ca=93.5, val_wa=0.733]\n"
     ]
    },
    {
     "name": "stdout",
     "output_type": "stream",
     "text": [
      "1.6652296125888824\n",
      "Validation loss decreased (1.676235 --> 1.665230).  Saving model ...\n"
     ]
    },
    {
     "name": "stderr",
     "output_type": "stream",
     "text": [
      "Epoch: [114]/[1200] Training: 100%|██████████| 7/7 [00:04<00:00,  1.64it/s, loss=0.00133, train_ca=100, train_wa=1]     \n",
      "Validating: 100%|██████████| 1/1 [00:00<00:00,  1.67it/s, val_loss=0.429, val_ca=92.5, val_wa=0.663]\n"
     ]
    },
    {
     "name": "stdout",
     "output_type": "stream",
     "text": [
      "1.6545756078999618\n",
      "Validation loss decreased (1.665230 --> 1.654576).  Saving model ...\n"
     ]
    },
    {
     "name": "stderr",
     "output_type": "stream",
     "text": [
      "Epoch: [115]/[1200] Training: 100%|██████████| 7/7 [00:04<00:00,  1.50it/s, loss=0.15, train_ca=97.1, train_wa=0.8]     \n",
      "Validating: 100%|██████████| 1/1 [00:00<00:00,  2.41it/s, val_loss=0.551, val_ca=91, val_wa=0.663]\n"
     ]
    },
    {
     "name": "stdout",
     "output_type": "stream",
     "text": [
      "1.645141244953514\n",
      "Validation loss decreased (1.654576 --> 1.645141).  Saving model ...\n"
     ]
    },
    {
     "name": "stderr",
     "output_type": "stream",
     "text": [
      "Epoch: [116]/[1200] Training: 100%|██████████| 7/7 [00:04<00:00,  1.57it/s, loss=0.0135, train_ca=100, train_wa=1]      \n",
      "Validating: 100%|██████████| 1/1 [00:00<00:00,  1.99it/s, val_loss=0.572, val_ca=89.9, val_wa=0.57]\n"
     ]
    },
    {
     "name": "stdout",
     "output_type": "stream",
     "text": [
      "1.6360500111418255\n",
      "Validation loss decreased (1.645141 --> 1.636050).  Saving model ...\n"
     ]
    },
    {
     "name": "stderr",
     "output_type": "stream",
     "text": [
      "Epoch: [117]/[1200] Training: 100%|██████████| 7/7 [00:04<00:00,  1.64it/s, loss=0.00411, train_ca=100, train_wa=1]     \n",
      "Validating: 100%|██████████| 1/1 [00:00<00:00,  2.01it/s, val_loss=0.797, val_ca=86, val_wa=0.419]\n"
     ]
    },
    {
     "name": "stdout",
     "output_type": "stream",
     "text": [
      "1.6289985099760425\n",
      "Validation loss decreased (1.636050 --> 1.628999).  Saving model ...\n"
     ]
    },
    {
     "name": "stderr",
     "output_type": "stream",
     "text": [
      "Epoch: [118]/[1200] Training: 100%|██████████| 7/7 [00:04<00:00,  1.57it/s, loss=0.014, train_ca=100, train_wa=1]       \n",
      "Validating: 100%|██████████| 1/1 [00:00<00:00,  2.46it/s, val_loss=0.531, val_ca=90.8, val_wa=0.628]\n"
     ]
    },
    {
     "name": "stdout",
     "output_type": "stream",
     "text": [
      "1.6198458403348923\n",
      "Validation loss decreased (1.628999 --> 1.619846).  Saving model ...\n"
     ]
    },
    {
     "name": "stderr",
     "output_type": "stream",
     "text": [
      "Epoch: [119]/[1200] Training: 100%|██████████| 7/7 [00:04<00:00,  1.59it/s, loss=0.00246, train_ca=100, train_wa=1]     \n",
      "Validating: 100%|██████████| 1/1 [00:00<00:00,  2.42it/s, val_loss=0.485, val_ca=92.2, val_wa=0.64]\n"
     ]
    },
    {
     "name": "stdout",
     "output_type": "stream",
     "text": [
      "1.6104634914023817\n",
      "Validation loss decreased (1.619846 --> 1.610463).  Saving model ...\n"
     ]
    },
    {
     "name": "stderr",
     "output_type": "stream",
     "text": [
      "Epoch: [120]/[1200] Training: 100%|██████████| 7/7 [00:04<00:00,  1.64it/s, loss=0.0172, train_ca=100, train_wa=1]      \n",
      "Validating: 100%|██████████| 1/1 [00:00<00:00,  1.98it/s, val_loss=0.442, val_ca=90.5, val_wa=0.628]\n"
     ]
    },
    {
     "name": "stdout",
     "output_type": "stream",
     "text": [
      "1.6008837118012007\n",
      "Validation loss decreased (1.610463 --> 1.600884).  Saving model ...\n"
     ]
    },
    {
     "name": "stderr",
     "output_type": "stream",
     "text": [
      "Epoch: [121]/[1200] Training: 100%|██████████| 7/7 [00:04<00:00,  1.52it/s, loss=0.0375, train_ca=100, train_wa=1]      \n",
      "Validating: 100%|██████████| 1/1 [00:00<00:00,  2.00it/s, val_loss=0.442, val_ca=92.3, val_wa=0.674]\n"
     ]
    },
    {
     "name": "stdout",
     "output_type": "stream",
     "text": [
      "1.5914636157392485\n",
      "Validation loss decreased (1.600884 --> 1.591464).  Saving model ...\n"
     ]
    },
    {
     "name": "stderr",
     "output_type": "stream",
     "text": [
      "Epoch: [122]/[1200] Training: 100%|██████████| 7/7 [00:04<00:00,  1.47it/s, loss=0.00279, train_ca=100, train_wa=1]     \n",
      "Validating: 100%|██████████| 1/1 [00:00<00:00,  1.98it/s, val_loss=0.753, val_ca=85.4, val_wa=0.43]\n"
     ]
    },
    {
     "name": "stdout",
     "output_type": "stream",
     "text": [
      "1.5847049826575863\n",
      "Validation loss decreased (1.591464 --> 1.584705).  Saving model ...\n"
     ]
    },
    {
     "name": "stderr",
     "output_type": "stream",
     "text": [
      "Epoch: [123]/[1200] Training: 100%|██████████| 7/7 [00:04<00:00,  1.70it/s, loss=0.00128, train_ca=100, train_wa=1]     \n",
      "Validating: 100%|██████████| 1/1 [00:00<00:00,  1.96it/s, val_loss=0.633, val_ca=90, val_wa=0.57]\n"
     ]
    },
    {
     "name": "stdout",
     "output_type": "stream",
     "text": [
      "1.5770917162895202\n",
      "Validation loss decreased (1.584705 --> 1.577092).  Saving model ...\n"
     ]
    },
    {
     "name": "stderr",
     "output_type": "stream",
     "text": [
      "Epoch: [124]/[1200] Training: 100%|██████████| 7/7 [00:04<00:00,  1.58it/s, loss=0.0174, train_ca=100, train_wa=1]      \n",
      "Validating: 100%|██████████| 1/1 [00:00<00:00,  2.01it/s, val_loss=0.405, val_ca=92, val_wa=0.674]\n"
     ]
    },
    {
     "name": "stdout",
     "output_type": "stream",
     "text": [
      "1.5677920196737563\n",
      "Validation loss decreased (1.577092 --> 1.567792).  Saving model ...\n"
     ]
    },
    {
     "name": "stderr",
     "output_type": "stream",
     "text": [
      "Epoch: [125]/[1200] Training: 100%|██████████| 7/7 [00:04<00:00,  1.50it/s, loss=0.102, train_ca=94.3, train_wa=0.6]    \n",
      "Validating: 100%|██████████| 1/1 [00:00<00:00,  2.03it/s, val_loss=0.462, val_ca=92.8, val_wa=0.698]\n"
     ]
    },
    {
     "name": "stdout",
     "output_type": "stream",
     "text": [
      "1.5590841167085752\n",
      "Validation loss decreased (1.567792 --> 1.559084).  Saving model ...\n"
     ]
    },
    {
     "name": "stderr",
     "output_type": "stream",
     "text": [
      "Epoch: [126]/[1200] Training: 100%|██████████| 7/7 [00:04<00:00,  1.52it/s, loss=0.299, train_ca=94.3, train_wa=0.6]    \n",
      "Validating: 100%|██████████| 1/1 [00:00<00:00,  2.58it/s, val_loss=0.444, val_ca=92.4, val_wa=0.663]\n"
     ]
    },
    {
     "name": "stdout",
     "output_type": "stream",
     "text": [
      "1.5503760010469705\n",
      "Validation loss decreased (1.559084 --> 1.550376).  Saving model ...\n"
     ]
    },
    {
     "name": "stderr",
     "output_type": "stream",
     "text": [
      "Epoch: [127]/[1200] Training: 100%|██████████| 7/7 [00:04<00:00,  1.52it/s, loss=0.149, train_ca=97.1, train_wa=0.8]    \n",
      "Validating: 100%|██████████| 1/1 [00:00<00:00,  1.66it/s, val_loss=1.54, val_ca=75.5, val_wa=0.267]\n"
     ]
    },
    {
     "name": "stdout",
     "output_type": "stream",
     "text": [
      "1.5502702757831692\n",
      "Validation loss decreased (1.550376 --> 1.550270).  Saving model ...\n"
     ]
    },
    {
     "name": "stderr",
     "output_type": "stream",
     "text": [
      "Epoch: [128]/[1200] Training: 100%|██████████| 7/7 [00:04<00:00,  1.53it/s, loss=0.00946, train_ca=100, train_wa=1]     \n",
      "Validating: 100%|██████████| 1/1 [00:00<00:00,  3.32it/s, val_loss=0.468, val_ca=91.2, val_wa=0.616]\n"
     ]
    },
    {
     "name": "stdout",
     "output_type": "stream",
     "text": [
      "1.5419427676842763\n",
      "Validation loss decreased (1.550270 --> 1.541943).  Saving model ...\n"
     ]
    },
    {
     "name": "stderr",
     "output_type": "stream",
     "text": [
      "Epoch: [129]/[1200] Training: 100%|██████████| 7/7 [00:04<00:00,  1.52it/s, loss=0.284, train_ca=94.3, train_wa=0.6]    \n",
      "Validating: 100%|██████████| 1/1 [00:00<00:00,  2.51it/s, val_loss=0.406, val_ca=92.4, val_wa=0.686]\n"
     ]
    },
    {
     "name": "stdout",
     "output_type": "stream",
     "text": [
      "1.5332719883845962\n",
      "Validation loss decreased (1.541943 --> 1.533272).  Saving model ...\n"
     ]
    },
    {
     "name": "stderr",
     "output_type": "stream",
     "text": [
      "Epoch: [130]/[1200] Training: 100%|██████████| 7/7 [00:04<00:00,  1.60it/s, loss=0.00303, train_ca=100, train_wa=1]     \n",
      "Validating: 100%|██████████| 1/1 [00:00<00:00,  1.96it/s, val_loss=0.425, val_ca=91.7, val_wa=0.616]\n"
     ]
    },
    {
     "name": "stdout",
     "output_type": "stream",
     "text": [
      "1.524875248697671\n",
      "Validation loss decreased (1.533272 --> 1.524875).  Saving model ...\n"
     ]
    },
    {
     "name": "stderr",
     "output_type": "stream",
     "text": [
      "Epoch: [131]/[1200] Training: 100%|██████████| 7/7 [00:04<00:00,  1.57it/s, loss=0.0841, train_ca=97.1, train_wa=0.8]   \n",
      "Validating: 100%|██████████| 1/1 [00:00<00:00,  1.95it/s, val_loss=0.54, val_ca=90.7, val_wa=0.57]\n"
     ]
    },
    {
     "name": "stdout",
     "output_type": "stream",
     "text": [
      "1.5174698719852848\n",
      "Validation loss decreased (1.524875 --> 1.517470).  Saving model ...\n"
     ]
    },
    {
     "name": "stderr",
     "output_type": "stream",
     "text": [
      "Epoch: [132]/[1200] Training: 100%|██████████| 7/7 [00:04<00:00,  1.69it/s, loss=0.0856, train_ca=94.6, train_wa=0.6]   \n",
      "Validating: 100%|██████████| 1/1 [00:00<00:00,  2.01it/s, val_loss=0.418, val_ca=92.4, val_wa=0.651]\n"
     ]
    },
    {
     "name": "stdout",
     "output_type": "stream",
     "text": [
      "1.5092624490385624\n",
      "Validation loss decreased (1.517470 --> 1.509262).  Saving model ...\n"
     ]
    },
    {
     "name": "stderr",
     "output_type": "stream",
     "text": [
      "Epoch: [133]/[1200] Training: 100%|██████████| 7/7 [00:04<00:00,  1.65it/s, loss=0.0012, train_ca=100, train_wa=1]      \n",
      "Validating: 100%|██████████| 1/1 [00:00<00:00,  2.03it/s, val_loss=0.627, val_ca=89, val_wa=0.581]\n"
     ]
    },
    {
     "name": "stdout",
     "output_type": "stream",
     "text": [
      "1.5027297808064355\n",
      "Validation loss decreased (1.509262 --> 1.502730).  Saving model ...\n"
     ]
    },
    {
     "name": "stderr",
     "output_type": "stream",
     "text": [
      "Epoch: [134]/[1200] Training: 100%|██████████| 7/7 [00:04<00:00,  1.61it/s, loss=0.00297, train_ca=100, train_wa=1]     \n",
      "Validating: 100%|██████████| 1/1 [00:00<00:00,  2.58it/s, val_loss=0.48, val_ca=91.4, val_wa=0.674]\n"
     ]
    },
    {
     "name": "stdout",
     "output_type": "stream",
     "text": [
      "1.4952118892003508\n",
      "Validation loss decreased (1.502730 --> 1.495212).  Saving model ...\n"
     ]
    },
    {
     "name": "stderr",
     "output_type": "stream",
     "text": [
      "Epoch: [135]/[1200] Training: 100%|██████████| 7/7 [00:04<00:00,  1.49it/s, loss=0.000522, train_ca=100, train_wa=1]    \n",
      "Validating: 100%|██████████| 1/1 [00:00<00:00,  2.04it/s, val_loss=0.384, val_ca=93.6, val_wa=0.721]\n"
     ]
    },
    {
     "name": "stdout",
     "output_type": "stream",
     "text": [
      "1.4871044406925675\n",
      "Validation loss decreased (1.495212 --> 1.487104).  Saving model ...\n"
     ]
    },
    {
     "name": "stderr",
     "output_type": "stream",
     "text": [
      "Epoch: [136]/[1200] Training: 100%|██████████| 7/7 [00:04<00:00,  1.56it/s, loss=0.268, train_ca=91.8, train_wa=0.6]    \n",
      "Validating: 100%|██████████| 1/1 [00:00<00:00,  1.97it/s, val_loss=0.468, val_ca=91, val_wa=0.663]\n"
     ]
    },
    {
     "name": "stdout",
     "output_type": "stream",
     "text": [
      "1.4797165033178052\n",
      "Validation loss decreased (1.487104 --> 1.479717).  Saving model ...\n"
     ]
    },
    {
     "name": "stderr",
     "output_type": "stream",
     "text": [
      "Epoch: [137]/[1200] Training: 100%|██████████| 7/7 [00:04<00:00,  1.64it/s, loss=0.00225, train_ca=100, train_wa=1]     \n",
      "Validating: 100%|██████████| 1/1 [00:00<00:00,  1.99it/s, val_loss=0.454, val_ca=92, val_wa=0.663]\n"
     ]
    },
    {
     "name": "stdout",
     "output_type": "stream",
     "text": [
      "1.4723406326856545\n",
      "Validation loss decreased (1.479717 --> 1.472341).  Saving model ...\n"
     ]
    },
    {
     "name": "stderr",
     "output_type": "stream",
     "text": [
      "Epoch: [138]/[1200] Training: 100%|██████████| 7/7 [00:04<00:00,  1.54it/s, loss=0.0329, train_ca=100, train_wa=1]      \n",
      "Validating: 100%|██████████| 1/1 [00:00<00:00,  1.98it/s, val_loss=0.435, val_ca=93, val_wa=0.709]\n"
     ]
    },
    {
     "name": "stdout",
     "output_type": "stream",
     "text": [
      "1.4649275867002352\n",
      "Validation loss decreased (1.472341 --> 1.464928).  Saving model ...\n"
     ]
    },
    {
     "name": "stderr",
     "output_type": "stream",
     "text": [
      "Epoch: [139]/[1200] Training: 100%|██████████| 7/7 [00:04<00:00,  1.65it/s, loss=0.00158, train_ca=100, train_wa=1]     \n",
      "Validating: 100%|██████████| 1/1 [00:00<00:00,  1.65it/s, val_loss=0.506, val_ca=91.1, val_wa=0.628]\n"
     ]
    },
    {
     "name": "stdout",
     "output_type": "stream",
     "text": [
      "1.458128478298796\n",
      "Validation loss decreased (1.464928 --> 1.458128).  Saving model ...\n"
     ]
    },
    {
     "name": "stderr",
     "output_type": "stream",
     "text": [
      "Epoch: [140]/[1200] Training: 100%|██████████| 7/7 [00:04<00:00,  1.61it/s, loss=0.0196, train_ca=97.1, train_wa=0.8]   \n",
      "Validating: 100%|██████████| 1/1 [00:00<00:00,  1.99it/s, val_loss=0.501, val_ca=91.7, val_wa=0.663]\n"
     ]
    },
    {
     "name": "stdout",
     "output_type": "stream",
     "text": [
      "1.4513883760697406\n",
      "Validation loss decreased (1.458128 --> 1.451388).  Saving model ...\n"
     ]
    },
    {
     "name": "stderr",
     "output_type": "stream",
     "text": [
      "Epoch: [141]/[1200] Training: 100%|██████████| 7/7 [00:04<00:00,  1.49it/s, loss=0.0309, train_ca=97.5, train_wa=0.8]   \n",
      "Validating: 100%|██████████| 1/1 [00:00<00:00,  2.44it/s, val_loss=0.355, val_ca=94, val_wa=0.733]\n"
     ]
    },
    {
     "name": "stdout",
     "output_type": "stream",
     "text": [
      "1.4437236219019323\n",
      "Validation loss decreased (1.451388 --> 1.443724).  Saving model ...\n"
     ]
    },
    {
     "name": "stderr",
     "output_type": "stream",
     "text": [
      "Epoch: [142]/[1200] Training: 100%|██████████| 7/7 [00:04<00:00,  1.56it/s, loss=0.0018, train_ca=100, train_wa=1]      \n",
      "Validating: 100%|██████████| 1/1 [00:00<00:00,  3.28it/s, val_loss=0.418, val_ca=92.5, val_wa=0.674]\n"
     ]
    },
    {
     "name": "stdout",
     "output_type": "stream",
     "text": [
      "1.4366010692384508\n",
      "Validation loss decreased (1.443724 --> 1.436601).  Saving model ...\n"
     ]
    },
    {
     "name": "stderr",
     "output_type": "stream",
     "text": [
      "Epoch: [143]/[1200] Training: 100%|██████████| 7/7 [00:04<00:00,  1.57it/s, loss=0.134, train_ca=90.5, train_wa=0.6]    \n",
      "Validating: 100%|██████████| 1/1 [00:00<00:00,  1.97it/s, val_loss=0.661, val_ca=89.1, val_wa=0.547]\n"
     ]
    },
    {
     "name": "stdout",
     "output_type": "stream",
     "text": [
      "1.431253316895715\n",
      "Validation loss decreased (1.436601 --> 1.431253).  Saving model ...\n"
     ]
    },
    {
     "name": "stderr",
     "output_type": "stream",
     "text": [
      "Epoch: [144]/[1200] Training: 100%|██████████| 7/7 [00:04<00:00,  1.58it/s, loss=0.00051, train_ca=100, train_wa=1]     \n",
      "Validating: 100%|██████████| 1/1 [00:00<00:00,  1.99it/s, val_loss=0.439, val_ca=92.8, val_wa=0.698]\n"
     ]
    },
    {
     "name": "stdout",
     "output_type": "stream",
     "text": [
      "1.4244547874143678\n",
      "Validation loss decreased (1.431253 --> 1.424455).  Saving model ...\n"
     ]
    },
    {
     "name": "stderr",
     "output_type": "stream",
     "text": [
      "Epoch: [145]/[1200] Training: 100%|██████████| 7/7 [00:04<00:00,  1.53it/s, loss=0.00392, train_ca=100, train_wa=1]     \n",
      "Validating: 100%|██████████| 1/1 [00:00<00:00,  1.65it/s, val_loss=0.433, val_ca=93, val_wa=0.698]\n"
     ]
    },
    {
     "name": "stdout",
     "output_type": "stream",
     "text": [
      "1.4177102416145557\n",
      "Validation loss decreased (1.424455 --> 1.417710).  Saving model ...\n"
     ]
    },
    {
     "name": "stderr",
     "output_type": "stream",
     "text": [
      "Epoch: [146]/[1200] Training: 100%|██████████| 7/7 [00:04<00:00,  1.72it/s, loss=0.00485, train_ca=100, train_wa=1]     \n",
      "Validating: 100%|██████████| 1/1 [00:00<00:00,  1.98it/s, val_loss=0.434, val_ca=93.1, val_wa=0.733]\n"
     ]
    },
    {
     "name": "stdout",
     "output_type": "stream",
     "text": [
      "1.4110627746259845\n",
      "Validation loss decreased (1.417710 --> 1.411063).  Saving model ...\n"
     ]
    },
    {
     "name": "stderr",
     "output_type": "stream",
     "text": [
      "Epoch: [147]/[1200] Training: 100%|██████████| 7/7 [00:04<00:00,  1.55it/s, loss=0.0995, train_ca=97.1, train_wa=0.8]   \n",
      "Validating: 100%|██████████| 1/1 [00:00<00:00,  2.00it/s, val_loss=0.501, val_ca=93, val_wa=0.698]\n"
     ]
    },
    {
     "name": "stdout",
     "output_type": "stream",
     "text": [
      "1.4049521564637255\n",
      "Validation loss decreased (1.411063 --> 1.404952).  Saving model ...\n"
     ]
    },
    {
     "name": "stderr",
     "output_type": "stream",
     "text": [
      "Epoch: [148]/[1200] Training: 100%|██████████| 7/7 [00:04<00:00,  1.53it/s, loss=0.000305, train_ca=100, train_wa=1]    \n",
      "Validating: 100%|██████████| 1/1 [00:00<00:00,  2.48it/s, val_loss=0.397, val_ca=93.4, val_wa=0.709]\n"
     ]
    },
    {
     "name": "stdout",
     "output_type": "stream",
     "text": [
      "1.3982345364491144\n",
      "Validation loss decreased (1.404952 --> 1.398235).  Saving model ...\n"
     ]
    },
    {
     "name": "stderr",
     "output_type": "stream",
     "text": [
      "Epoch: [149]/[1200] Training: 100%|██████████| 7/7 [00:04<00:00,  1.51it/s, loss=0.0128, train_ca=100, train_wa=1]      \n",
      "Validating: 100%|██████████| 1/1 [00:00<00:00,  2.48it/s, val_loss=0.705, val_ca=89.1, val_wa=0.523]\n"
     ]
    },
    {
     "name": "stdout",
     "output_type": "stream",
     "text": [
      "1.3936432617784336\n",
      "Validation loss decreased (1.398235 --> 1.393643).  Saving model ...\n"
     ]
    },
    {
     "name": "stderr",
     "output_type": "stream",
     "text": [
      "Epoch: [150]/[1200] Training: 100%|██████████| 7/7 [00:04<00:00,  1.55it/s, loss=0.0142, train_ca=100, train_wa=1]      \n",
      "Validating: 100%|██████████| 1/1 [00:00<00:00,  1.97it/s, val_loss=0.454, val_ca=92, val_wa=0.698]\n"
     ]
    },
    {
     "name": "stdout",
     "output_type": "stream",
     "text": [
      "1.3874634621958983\n",
      "Validation loss decreased (1.393643 --> 1.387463).  Saving model ...\n"
     ]
    },
    {
     "name": "stderr",
     "output_type": "stream",
     "text": [
      "Epoch: [151]/[1200] Training: 100%|██████████| 7/7 [00:04<00:00,  1.51it/s, loss=0.00512, train_ca=100, train_wa=1]     \n",
      "Validating: 100%|██████████| 1/1 [00:00<00:00,  1.98it/s, val_loss=0.444, val_ca=92.3, val_wa=0.686]\n"
     ]
    },
    {
     "name": "stdout",
     "output_type": "stream",
     "text": [
      "1.381294215621512\n",
      "Validation loss decreased (1.387463 --> 1.381294).  Saving model ...\n"
     ]
    },
    {
     "name": "stderr",
     "output_type": "stream",
     "text": [
      "Epoch: [152]/[1200] Training: 100%|██████████| 7/7 [00:04<00:00,  1.50it/s, loss=0.00199, train_ca=100, train_wa=1]     \n",
      "Validating: 100%|██████████| 1/1 [00:00<00:00,  2.02it/s, val_loss=0.405, val_ca=92.9, val_wa=0.686]\n"
     ]
    },
    {
     "name": "stdout",
     "output_type": "stream",
     "text": [
      "1.3749555300969583\n",
      "Validation loss decreased (1.381294 --> 1.374956).  Saving model ...\n"
     ]
    },
    {
     "name": "stderr",
     "output_type": "stream",
     "text": [
      "Epoch: [153]/[1200] Training: 100%|██████████| 7/7 [00:04<00:00,  1.63it/s, loss=0.0302, train_ca=97.1, train_wa=0.8]   \n",
      "Validating: 100%|██████████| 1/1 [00:00<00:00,  2.43it/s, val_loss=0.479, val_ca=90.8, val_wa=0.593]\n"
     ]
    },
    {
     "name": "stdout",
     "output_type": "stream",
     "text": [
      "1.369175773474478\n",
      "Validation loss decreased (1.374956 --> 1.369176).  Saving model ...\n"
     ]
    },
    {
     "name": "stderr",
     "output_type": "stream",
     "text": [
      "Epoch: [154]/[1200] Training: 100%|██████████| 7/7 [00:04<00:00,  1.47it/s, loss=0.0703, train_ca=97.1, train_wa=0.8]   \n",
      "Validating: 100%|██████████| 1/1 [00:00<00:00,  1.99it/s, val_loss=0.458, val_ca=92.7, val_wa=0.721]\n"
     ]
    },
    {
     "name": "stdout",
     "output_type": "stream",
     "text": [
      "1.3633358650482619\n",
      "Validation loss decreased (1.369176 --> 1.363336).  Saving model ...\n"
     ]
    },
    {
     "name": "stderr",
     "output_type": "stream",
     "text": [
      "Epoch: [155]/[1200] Training: 100%|██████████| 7/7 [00:04<00:00,  1.58it/s, loss=0.00205, train_ca=100, train_wa=1]     \n",
      "Validating: 100%|██████████| 1/1 [00:00<00:00,  1.99it/s, val_loss=0.371, val_ca=93.9, val_wa=0.756]\n"
     ]
    },
    {
     "name": "stdout",
     "output_type": "stream",
     "text": [
      "1.3570146186716239\n",
      "Validation loss decreased (1.363336 --> 1.357015).  Saving model ...\n"
     ]
    },
    {
     "name": "stderr",
     "output_type": "stream",
     "text": [
      "Epoch: [156]/[1200] Training: 100%|██████████| 7/7 [00:04<00:00,  1.46it/s, loss=0.0162, train_ca=100, train_wa=1]      \n",
      "Validating: 100%|██████████| 1/1 [00:00<00:00,  2.41it/s, val_loss=0.631, val_ca=89.3, val_wa=0.57]\n"
     ]
    },
    {
     "name": "stdout",
     "output_type": "stream",
     "text": [
      "1.352420892707909\n",
      "Validation loss decreased (1.357015 --> 1.352421).  Saving model ...\n"
     ]
    },
    {
     "name": "stderr",
     "output_type": "stream",
     "text": [
      "Epoch: [157]/[1200] Training: 100%|██████████| 7/7 [00:04<00:00,  1.58it/s, loss=0.0141, train_ca=100, train_wa=1]      \n",
      "Validating: 100%|██████████| 1/1 [00:00<00:00,  3.28it/s, val_loss=0.465, val_ca=92.4, val_wa=0.651]\n"
     ]
    },
    {
     "name": "stdout",
     "output_type": "stream",
     "text": [
      "1.3468412942481491\n",
      "Validation loss decreased (1.352421 --> 1.346841).  Saving model ...\n"
     ]
    },
    {
     "name": "stderr",
     "output_type": "stream",
     "text": [
      "Epoch: [158]/[1200] Training: 100%|██████████| 7/7 [00:04<00:00,  1.64it/s, loss=0.195, train_ca=97.1, train_wa=0.8]    \n",
      "Validating: 100%|██████████| 1/1 [00:00<00:00,  1.98it/s, val_loss=0.348, val_ca=94.5, val_wa=0.744]\n"
     ]
    },
    {
     "name": "stdout",
     "output_type": "stream",
     "text": [
      "1.3405960362404585\n",
      "Validation loss decreased (1.346841 --> 1.340596).  Saving model ...\n"
     ]
    },
    {
     "name": "stderr",
     "output_type": "stream",
     "text": [
      "Epoch: [159]/[1200] Training: 100%|██████████| 7/7 [00:04<00:00,  1.53it/s, loss=0.00215, train_ca=100, train_wa=1]     \n",
      "Validating: 100%|██████████| 1/1 [00:00<00:00,  1.68it/s, val_loss=0.335, val_ca=93.7, val_wa=0.756]\n"
     ]
    },
    {
     "name": "stdout",
     "output_type": "stream",
     "text": [
      "1.3343479170562318\n",
      "Validation loss decreased (1.340596 --> 1.334348).  Saving model ...\n"
     ]
    },
    {
     "name": "stderr",
     "output_type": "stream",
     "text": [
      "Epoch: [160]/[1200] Training: 100%|██████████| 7/7 [00:04<00:00,  1.53it/s, loss=0.348, train_ca=90.5, train_wa=0.6]    \n",
      "Validating: 100%|██████████| 1/1 [00:00<00:00,  2.50it/s, val_loss=0.414, val_ca=93.9, val_wa=0.733]\n"
     ]
    },
    {
     "name": "stdout",
     "output_type": "stream",
     "text": [
      "1.3286645885234998\n",
      "Validation loss decreased (1.334348 --> 1.328665).  Saving model ...\n"
     ]
    },
    {
     "name": "stderr",
     "output_type": "stream",
     "text": [
      "Epoch: [161]/[1200] Training: 100%|██████████| 7/7 [00:04<00:00,  1.60it/s, loss=0.034, train_ca=97.5, train_wa=0.8]    \n",
      "Validating: 100%|██████████| 1/1 [00:00<00:00,  2.03it/s, val_loss=0.454, val_ca=93, val_wa=0.721]\n"
     ]
    },
    {
     "name": "stdout",
     "output_type": "stream",
     "text": [
      "1.3232956333028758\n",
      "Validation loss decreased (1.328665 --> 1.323296).  Saving model ...\n"
     ]
    },
    {
     "name": "stderr",
     "output_type": "stream",
     "text": [
      "Epoch: [162]/[1200] Training: 100%|██████████| 7/7 [00:04<00:00,  1.57it/s, loss=0.0197, train_ca=100, train_wa=1]      \n",
      "Validating: 100%|██████████| 1/1 [00:00<00:00,  2.45it/s, val_loss=0.622, val_ca=91, val_wa=0.651]\n"
     ]
    },
    {
     "name": "stdout",
     "output_type": "stream",
     "text": [
      "1.3190178018881054\n",
      "Validation loss decreased (1.323296 --> 1.319018).  Saving model ...\n"
     ]
    },
    {
     "name": "stderr",
     "output_type": "stream",
     "text": [
      "Epoch: [163]/[1200] Training: 100%|██████████| 7/7 [00:04<00:00,  1.47it/s, loss=0.00339, train_ca=100, train_wa=1]     \n",
      "Validating: 100%|██████████| 1/1 [00:00<00:00,  2.00it/s, val_loss=0.925, val_ca=83.8, val_wa=0.407]\n"
     ]
    },
    {
     "name": "stdout",
     "output_type": "stream",
     "text": [
      "1.3166275669227947\n",
      "Validation loss decreased (1.319018 --> 1.316628).  Saving model ...\n"
     ]
    },
    {
     "name": "stderr",
     "output_type": "stream",
     "text": [
      "Epoch: [164]/[1200] Training: 100%|██████████| 7/7 [00:04<00:00,  1.66it/s, loss=0.00104, train_ca=100, train_wa=1]     \n",
      "Validating: 100%|██████████| 1/1 [00:00<00:00,  1.95it/s, val_loss=0.463, val_ca=92.4, val_wa=0.64]\n"
     ]
    },
    {
     "name": "stdout",
     "output_type": "stream",
     "text": [
      "1.3114867018288876\n",
      "Validation loss decreased (1.316628 --> 1.311487).  Saving model ...\n"
     ]
    },
    {
     "name": "stderr",
     "output_type": "stream",
     "text": [
      "Epoch: [165]/[1200] Training: 100%|██████████| 7/7 [00:04<00:00,  1.54it/s, loss=0.309, train_ca=94.3, train_wa=0.8]    \n",
      "Validating: 100%|██████████| 1/1 [00:00<00:00,  2.47it/s, val_loss=0.429, val_ca=94, val_wa=0.814]\n"
     ]
    },
    {
     "name": "stdout",
     "output_type": "stream",
     "text": [
      "1.3062018432660016\n",
      "Validation loss decreased (1.311487 --> 1.306202).  Saving model ...\n"
     ]
    },
    {
     "name": "stderr",
     "output_type": "stream",
     "text": [
      "Epoch: [166]/[1200] Training: 100%|██████████| 7/7 [00:04<00:00,  1.61it/s, loss=0.0424, train_ca=97.5, train_wa=0.8]   \n",
      "Validating: 100%|██████████| 1/1 [00:00<00:00,  2.45it/s, val_loss=0.45, val_ca=92.7, val_wa=0.721]\n"
     ]
    },
    {
     "name": "stdout",
     "output_type": "stream",
     "text": [
      "1.3011056376355035\n",
      "Validation loss decreased (1.306202 --> 1.301106).  Saving model ...\n"
     ]
    },
    {
     "name": "stderr",
     "output_type": "stream",
     "text": [
      "Epoch: [167]/[1200] Training: 100%|██████████| 7/7 [00:04<00:00,  1.66it/s, loss=0.000573, train_ca=100, train_wa=1]    \n",
      "Validating: 100%|██████████| 1/1 [00:00<00:00,  2.42it/s, val_loss=0.406, val_ca=93.8, val_wa=0.756]\n"
     ]
    },
    {
     "name": "stdout",
     "output_type": "stream",
     "text": [
      "1.295810722387754\n",
      "Validation loss decreased (1.301106 --> 1.295811).  Saving model ...\n"
     ]
    },
    {
     "name": "stderr",
     "output_type": "stream",
     "text": [
      "Epoch: [168]/[1200] Training: 100%|██████████| 7/7 [00:04<00:00,  1.54it/s, loss=0.000521, train_ca=100, train_wa=1]    \n",
      "Validating: 100%|██████████| 1/1 [00:00<00:00,  2.01it/s, val_loss=0.513, val_ca=93, val_wa=0.744]\n"
     ]
    },
    {
     "name": "stdout",
     "output_type": "stream",
     "text": [
      "1.2912065825041603\n",
      "Validation loss decreased (1.295811 --> 1.291207).  Saving model ...\n"
     ]
    },
    {
     "name": "stderr",
     "output_type": "stream",
     "text": [
      "Epoch: [169]/[1200] Training: 100%|██████████| 7/7 [00:04<00:00,  1.56it/s, loss=0.0281, train_ca=97.1, train_wa=0.8]   \n",
      "Validating: 100%|██████████| 1/1 [00:00<00:00,  1.99it/s, val_loss=0.461, val_ca=94.1, val_wa=0.779]\n"
     ]
    },
    {
     "name": "stdout",
     "output_type": "stream",
     "text": [
      "1.2863530417283375\n",
      "Validation loss decreased (1.291207 --> 1.286353).  Saving model ...\n"
     ]
    },
    {
     "name": "stderr",
     "output_type": "stream",
     "text": [
      "Epoch: [170]/[1200] Training: 100%|██████████| 7/7 [00:04<00:00,  1.60it/s, loss=0.093, train_ca=94.6, train_wa=0.6]    \n",
      "Validating: 100%|██████████| 1/1 [00:00<00:00,  1.66it/s, val_loss=0.432, val_ca=93.8, val_wa=0.721]\n"
     ]
    },
    {
     "name": "stdout",
     "output_type": "stream",
     "text": [
      "1.281388134284075\n",
      "Validation loss decreased (1.286353 --> 1.281388).  Saving model ...\n"
     ]
    },
    {
     "name": "stderr",
     "output_type": "stream",
     "text": [
      "Epoch: [171]/[1200] Training: 100%|██████████| 7/7 [00:04<00:00,  1.45it/s, loss=0.0517, train_ca=97.1, train_wa=0.8]   \n",
      "Validating: 100%|██████████| 1/1 [00:00<00:00,  2.00it/s, val_loss=0.369, val_ca=94.5, val_wa=0.779]\n"
     ]
    },
    {
     "name": "stdout",
     "output_type": "stream",
     "text": [
      "1.2761140159099778\n",
      "Validation loss decreased (1.281388 --> 1.276114).  Saving model ...\n"
     ]
    },
    {
     "name": "stderr",
     "output_type": "stream",
     "text": [
      "Epoch: [172]/[1200] Training: 100%|██████████| 7/7 [00:04<00:00,  1.68it/s, loss=0.000249, train_ca=100, train_wa=1]    \n",
      "Validating: 100%|██████████| 1/1 [00:00<00:00,  2.41it/s, val_loss=0.424, val_ca=94.1, val_wa=0.779]\n"
     ]
    },
    {
     "name": "stdout",
     "output_type": "stream",
     "text": [
      "1.2712142135220013\n",
      "Validation loss decreased (1.276114 --> 1.271214).  Saving model ...\n"
     ]
    },
    {
     "name": "stderr",
     "output_type": "stream",
     "text": [
      "Epoch: [173]/[1200] Training: 100%|██████████| 7/7 [00:04<00:00,  1.68it/s, loss=0.442, train_ca=94.3, train_wa=0.8]    \n",
      "Validating: 100%|██████████| 1/1 [00:00<00:00,  1.66it/s, val_loss=0.437, val_ca=93.3, val_wa=0.733]\n"
     ]
    },
    {
     "name": "stdout",
     "output_type": "stream",
     "text": [
      "1.266446329695838\n",
      "Validation loss decreased (1.271214 --> 1.266446).  Saving model ...\n"
     ]
    },
    {
     "name": "stderr",
     "output_type": "stream",
     "text": [
      "Epoch: [174]/[1200] Training: 100%|██████████| 7/7 [00:04<00:00,  1.69it/s, loss=0.000573, train_ca=100, train_wa=1]    \n",
      "Validating: 100%|██████████| 1/1 [00:00<00:00,  2.49it/s, val_loss=0.497, val_ca=93.2, val_wa=0.733]\n"
     ]
    },
    {
     "name": "stdout",
     "output_type": "stream",
     "text": [
      "1.2620721369643102\n",
      "Validation loss decreased (1.266446 --> 1.262072).  Saving model ...\n"
     ]
    },
    {
     "name": "stderr",
     "output_type": "stream",
     "text": [
      "Epoch: [175]/[1200] Training: 100%|██████████| 7/7 [00:04<00:00,  1.66it/s, loss=0.00267, train_ca=100, train_wa=1]     \n",
      "Validating: 100%|██████████| 1/1 [00:00<00:00,  1.67it/s, val_loss=0.384, val_ca=94.3, val_wa=0.814]\n"
     ]
    },
    {
     "name": "stdout",
     "output_type": "stream",
     "text": [
      "1.2571113355415688\n",
      "Validation loss decreased (1.262072 --> 1.257111).  Saving model ...\n"
     ]
    },
    {
     "name": "stderr",
     "output_type": "stream",
     "text": [
      "Epoch: [176]/[1200] Training: 100%|██████████| 7/7 [00:04<00:00,  1.62it/s, loss=0.00324, train_ca=100, train_wa=1]     \n",
      "Validating: 100%|██████████| 1/1 [00:00<00:00,  1.66it/s, val_loss=0.499, val_ca=92.6, val_wa=0.686]\n"
     ]
    },
    {
     "name": "stdout",
     "output_type": "stream",
     "text": [
      "1.2528495189179196\n",
      "Validation loss decreased (1.257111 --> 1.252850).  Saving model ...\n"
     ]
    },
    {
     "name": "stderr",
     "output_type": "stream",
     "text": [
      "Epoch: [177]/[1200] Training: 100%|██████████| 7/7 [00:04<00:00,  1.52it/s, loss=0.00286, train_ca=100, train_wa=1]     \n",
      "Validating: 100%|██████████| 1/1 [00:00<00:00,  1.68it/s, val_loss=0.456, val_ca=92.2, val_wa=0.686]\n"
     ]
    },
    {
     "name": "stdout",
     "output_type": "stream",
     "text": [
      "1.2483988857136092\n",
      "Validation loss decreased (1.252850 --> 1.248399).  Saving model ...\n"
     ]
    },
    {
     "name": "stderr",
     "output_type": "stream",
     "text": [
      "Epoch: [178]/[1200] Training: 100%|██████████| 7/7 [00:04<00:00,  1.58it/s, loss=0.0526, train_ca=97.5, train_wa=0.8]   \n",
      "Validating: 100%|██████████| 1/1 [00:00<00:00,  1.42it/s, val_loss=0.504, val_ca=92.8, val_wa=0.733]\n"
     ]
    },
    {
     "name": "stdout",
     "output_type": "stream",
     "text": [
      "1.244265123208364\n",
      "Validation loss decreased (1.248399 --> 1.244265).  Saving model ...\n"
     ]
    },
    {
     "name": "stderr",
     "output_type": "stream",
     "text": [
      "Epoch: [179]/[1200] Training: 100%|██████████| 7/7 [00:04<00:00,  1.58it/s, loss=0.00147, train_ca=100, train_wa=1]     \n",
      "Validating: 100%|██████████| 1/1 [00:00<00:00,  3.38it/s, val_loss=0.421, val_ca=93.6, val_wa=0.744]\n"
     ]
    },
    {
     "name": "stdout",
     "output_type": "stream",
     "text": [
      "1.2397178134865523\n",
      "Validation loss decreased (1.244265 --> 1.239718).  Saving model ...\n"
     ]
    },
    {
     "name": "stderr",
     "output_type": "stream",
     "text": [
      "Epoch: [180]/[1200] Training: 100%|██████████| 7/7 [00:04<00:00,  1.54it/s, loss=0.00192, train_ca=100, train_wa=1]     \n",
      "Validating: 100%|██████████| 1/1 [00:00<00:00,  1.66it/s, val_loss=0.447, val_ca=93, val_wa=0.733]\n"
     ]
    },
    {
     "name": "stdout",
     "output_type": "stream",
     "text": [
      "1.235362592798013\n",
      "Validation loss decreased (1.239718 --> 1.235363).  Saving model ...\n"
     ]
    },
    {
     "name": "stderr",
     "output_type": "stream",
     "text": [
      "Epoch: [181]/[1200] Training: 100%|██████████| 7/7 [00:04<00:00,  1.57it/s, loss=0.00467, train_ca=100, train_wa=1]     \n",
      "Validating: 100%|██████████| 1/1 [00:00<00:00,  2.51it/s, val_loss=0.516, val_ca=92.1, val_wa=0.651]\n"
     ]
    },
    {
     "name": "stdout",
     "output_type": "stream",
     "text": [
      "1.2314328432408839\n",
      "Validation loss decreased (1.235363 --> 1.231433).  Saving model ...\n"
     ]
    },
    {
     "name": "stderr",
     "output_type": "stream",
     "text": [
      "Epoch: [182]/[1200] Training: 100%|██████████| 7/7 [00:04<00:00,  1.53it/s, loss=0.0122, train_ca=100, train_wa=1]      \n",
      "Validating: 100%|██████████| 1/1 [00:00<00:00,  2.54it/s, val_loss=0.552, val_ca=90.2, val_wa=0.547]\n"
     ]
    },
    {
     "name": "stdout",
     "output_type": "stream",
     "text": [
      "1.2277402863230393\n",
      "Validation loss decreased (1.231433 --> 1.227740).  Saving model ...\n"
     ]
    },
    {
     "name": "stderr",
     "output_type": "stream",
     "text": [
      "Epoch: [183]/[1200] Training: 100%|██████████| 7/7 [00:04<00:00,  1.46it/s, loss=0.053, train_ca=97.1, train_wa=0.8]    \n",
      "Validating: 100%|██████████| 1/1 [00:00<00:00,  2.48it/s, val_loss=0.447, val_ca=92.9, val_wa=0.686]\n"
     ]
    },
    {
     "name": "stdout",
     "output_type": "stream",
     "text": [
      "1.2235201906513524\n",
      "Validation loss decreased (1.227740 --> 1.223520).  Saving model ...\n"
     ]
    },
    {
     "name": "stderr",
     "output_type": "stream",
     "text": [
      "Epoch: [184]/[1200] Training: 100%|██████████| 7/7 [00:04<00:00,  1.64it/s, loss=0.177, train_ca=94.3, train_wa=0.6]    \n",
      "Validating: 100%|██████████| 1/1 [00:00<00:00,  1.98it/s, val_loss=0.65, val_ca=88.5, val_wa=0.453]\n"
     ]
    },
    {
     "name": "stdout",
     "output_type": "stream",
     "text": [
      "1.2204385880501039\n",
      "Validation loss decreased (1.223520 --> 1.220439).  Saving model ...\n"
     ]
    },
    {
     "name": "stderr",
     "output_type": "stream",
     "text": [
      "Epoch: [185]/[1200] Training: 100%|██████████| 7/7 [00:04<00:00,  1.60it/s, loss=0.00267, train_ca=100, train_wa=1]     \n",
      "Validating: 100%|██████████| 1/1 [00:00<00:00,  1.97it/s, val_loss=0.413, val_ca=92.6, val_wa=0.698]\n"
     ]
    },
    {
     "name": "stdout",
     "output_type": "stream",
     "text": [
      "1.21612108725915\n",
      "Validation loss decreased (1.220439 --> 1.216121).  Saving model ...\n"
     ]
    },
    {
     "name": "stderr",
     "output_type": "stream",
     "text": [
      "Epoch: [186]/[1200] Training: 100%|██████████| 7/7 [00:04<00:00,  1.50it/s, loss=0.0155, train_ca=100, train_wa=1]      \n",
      "Validating: 100%|██████████| 1/1 [00:00<00:00,  1.98it/s, val_loss=0.464, val_ca=92.5, val_wa=0.767]\n"
     ]
    },
    {
     "name": "stdout",
     "output_type": "stream",
     "text": [
      "1.2121208008933575\n",
      "Validation loss decreased (1.216121 --> 1.212121).  Saving model ...\n"
     ]
    },
    {
     "name": "stderr",
     "output_type": "stream",
     "text": [
      "Epoch: [187]/[1200] Training: 100%|██████████| 7/7 [00:04<00:00,  1.44it/s, loss=0.0341, train_ca=97.1, train_wa=0.8]   \n",
      "Validating: 100%|██████████| 1/1 [00:00<00:00,  1.64it/s, val_loss=0.388, val_ca=93.3, val_wa=0.709]\n"
     ]
    },
    {
     "name": "stdout",
     "output_type": "stream",
     "text": [
      "1.2077601826380169\n",
      "Validation loss decreased (1.212121 --> 1.207760).  Saving model ...\n"
     ]
    },
    {
     "name": "stderr",
     "output_type": "stream",
     "text": [
      "Epoch: [188]/[1200] Training: 100%|██████████| 7/7 [00:04<00:00,  1.59it/s, loss=0.131, train_ca=94.3, train_wa=0.8]    \n",
      "Validating: 100%|██████████| 1/1 [00:00<00:00,  1.68it/s, val_loss=0.498, val_ca=92.5, val_wa=0.709]\n"
     ]
    },
    {
     "name": "stdout",
     "output_type": "stream",
     "text": [
      "1.2040243860922362\n",
      "Validation loss decreased (1.207760 --> 1.204024).  Saving model ...\n"
     ]
    },
    {
     "name": "stderr",
     "output_type": "stream",
     "text": [
      "Epoch: [189]/[1200] Training: 100%|██████████| 7/7 [00:04<00:00,  1.64it/s, loss=0.000312, train_ca=100, train_wa=1]    \n",
      "Validating: 100%|██████████| 1/1 [00:00<00:00,  2.55it/s, val_loss=0.381, val_ca=94, val_wa=0.733]\n"
     ]
    },
    {
     "name": "stdout",
     "output_type": "stream",
     "text": [
      "1.1997156996689542\n",
      "Validation loss decreased (1.204024 --> 1.199716).  Saving model ...\n"
     ]
    },
    {
     "name": "stderr",
     "output_type": "stream",
     "text": [
      "Epoch: [190]/[1200] Training: 100%|██████████| 7/7 [00:04<00:00,  1.72it/s, loss=0.000559, train_ca=100, train_wa=1]    \n",
      "Validating: 100%|██████████| 1/1 [00:00<00:00,  2.46it/s, val_loss=0.384, val_ca=93.9, val_wa=0.709]\n"
     ]
    },
    {
     "name": "stdout",
     "output_type": "stream",
     "text": [
      "1.1954677297423284\n",
      "Validation loss decreased (1.199716 --> 1.195468).  Saving model ...\n"
     ]
    },
    {
     "name": "stderr",
     "output_type": "stream",
     "text": [
      "Epoch: [191]/[1200] Training: 100%|██████████| 7/7 [00:04<00:00,  1.53it/s, loss=0.000149, train_ca=100, train_wa=1]    \n",
      "Validating: 100%|██████████| 1/1 [00:00<00:00,  2.49it/s, val_loss=0.51, val_ca=91.9, val_wa=0.686]\n"
     ]
    },
    {
     "name": "stdout",
     "output_type": "stream",
     "text": [
      "1.1919173465491577\n",
      "Validation loss decreased (1.195468 --> 1.191917).  Saving model ...\n"
     ]
    },
    {
     "name": "stderr",
     "output_type": "stream",
     "text": [
      "Epoch: [192]/[1200] Training: 100%|██████████| 7/7 [00:04<00:00,  1.60it/s, loss=0.000824, train_ca=100, train_wa=1]    \n",
      "Validating: 100%|██████████| 1/1 [00:00<00:00,  2.49it/s, val_loss=0.465, val_ca=93.2, val_wa=0.733]\n"
     ]
    },
    {
     "name": "stdout",
     "output_type": "stream",
     "text": [
      "1.1881680061522217\n",
      "Validation loss decreased (1.191917 --> 1.188168).  Saving model ...\n"
     ]
    },
    {
     "name": "stderr",
     "output_type": "stream",
     "text": [
      "Epoch: [193]/[1200] Training: 100%|██████████| 7/7 [00:04<00:00,  1.54it/s, loss=0.000324, train_ca=100, train_wa=1]    \n",
      "Validating: 100%|██████████| 1/1 [00:00<00:00,  2.52it/s, val_loss=0.514, val_ca=91.1, val_wa=0.663]\n"
     ]
    },
    {
     "name": "stdout",
     "output_type": "stream",
     "text": [
      "1.1847115681721614\n",
      "Validation loss decreased (1.188168 --> 1.184712).  Saving model ...\n"
     ]
    },
    {
     "name": "stderr",
     "output_type": "stream",
     "text": [
      "Epoch: [194]/[1200] Training: 100%|██████████| 7/7 [00:04<00:00,  1.50it/s, loss=0.000212, train_ca=100, train_wa=1]    \n",
      "Validating: 100%|██████████| 1/1 [00:00<00:00,  2.01it/s, val_loss=0.543, val_ca=93, val_wa=0.733]\n"
     ]
    },
    {
     "name": "stdout",
     "output_type": "stream",
     "text": [
      "1.1814362370238012\n",
      "Validation loss decreased (1.184712 --> 1.181436).  Saving model ...\n"
     ]
    },
    {
     "name": "stderr",
     "output_type": "stream",
     "text": [
      "Epoch: [195]/[1200] Training: 100%|██████████| 7/7 [00:04<00:00,  1.51it/s, loss=0.0255, train_ca=100, train_wa=1]      \n",
      "Validating: 100%|██████████| 1/1 [00:00<00:00,  2.00it/s, val_loss=0.471, val_ca=92.8, val_wa=0.733]\n"
     ]
    },
    {
     "name": "stdout",
     "output_type": "stream",
     "text": [
      "1.1778312750576716\n",
      "Validation loss decreased (1.181436 --> 1.177831).  Saving model ...\n"
     ]
    },
    {
     "name": "stderr",
     "output_type": "stream",
     "text": [
      "Epoch: [196]/[1200] Training: 100%|██████████| 7/7 [00:04<00:00,  1.64it/s, loss=0.000245, train_ca=100, train_wa=1]    \n",
      "Validating: 100%|██████████| 1/1 [00:00<00:00,  2.48it/s, val_loss=0.616, val_ca=91.6, val_wa=0.709]\n"
     ]
    },
    {
     "name": "stdout",
     "output_type": "stream",
     "text": [
      "1.1749952668794479\n",
      "Validation loss decreased (1.177831 --> 1.174995).  Saving model ...\n"
     ]
    },
    {
     "name": "stderr",
     "output_type": "stream",
     "text": [
      "Epoch: [197]/[1200] Training: 100%|██████████| 7/7 [00:04<00:00,  1.72it/s, loss=0.000134, train_ca=100, train_wa=1]    \n",
      "Validating: 100%|██████████| 1/1 [00:00<00:00,  2.05it/s, val_loss=0.506, val_ca=91.2, val_wa=0.663]\n"
     ]
    },
    {
     "name": "stdout",
     "output_type": "stream",
     "text": [
      "1.1716353634194514\n",
      "Validation loss decreased (1.174995 --> 1.171635).  Saving model ...\n"
     ]
    },
    {
     "name": "stderr",
     "output_type": "stream",
     "text": [
      "Epoch: [198]/[1200] Training: 100%|██████████| 7/7 [00:04<00:00,  1.47it/s, loss=0.00078, train_ca=100, train_wa=1]     \n",
      "Validating: 100%|██████████| 1/1 [00:00<00:00,  1.42it/s, val_loss=0.442, val_ca=92.3, val_wa=0.733]\n"
     ]
    },
    {
     "name": "stdout",
     "output_type": "stream",
     "text": [
      "1.1679865702986718\n",
      "Validation loss decreased (1.171635 --> 1.167987).  Saving model ...\n"
     ]
    },
    {
     "name": "stderr",
     "output_type": "stream",
     "text": [
      "Epoch: [199]/[1200] Training: 100%|██████████| 7/7 [00:04<00:00,  1.61it/s, loss=0.000581, train_ca=100, train_wa=1]    \n",
      "Validating: 100%|██████████| 1/1 [00:00<00:00,  1.97it/s, val_loss=0.718, val_ca=89.7, val_wa=0.547]\n"
     ]
    },
    {
     "name": "stdout",
     "output_type": "stream",
     "text": [
      "1.1657479443953405\n",
      "Validation loss decreased (1.167987 --> 1.165748).  Saving model ...\n"
     ]
    },
    {
     "name": "stderr",
     "output_type": "stream",
     "text": [
      "Epoch: [200]/[1200] Training: 100%|██████████| 7/7 [00:04<00:00,  1.61it/s, loss=0.00166, train_ca=100, train_wa=1]     \n",
      "Validating: 100%|██████████| 1/1 [00:00<00:00,  2.02it/s, val_loss=0.532, val_ca=93.4, val_wa=0.674]\n"
     ]
    },
    {
     "name": "stdout",
     "output_type": "stream",
     "text": [
      "1.162611593999485\n",
      "Validation loss decreased (1.165748 --> 1.162612).  Saving model ...\n"
     ]
    },
    {
     "name": "stderr",
     "output_type": "stream",
     "text": [
      "Epoch: [201]/[1200] Training: 100%|██████████| 7/7 [00:04<00:00,  1.60it/s, loss=0.000337, train_ca=100, train_wa=1]    \n",
      "Validating: 100%|██████████| 1/1 [00:00<00:00,  2.47it/s, val_loss=0.347, val_ca=95.7, val_wa=0.802]\n"
     ]
    },
    {
     "name": "stdout",
     "output_type": "stream",
     "text": [
      "1.1585937568119593\n",
      "Validation loss decreased (1.162612 --> 1.158594).  Saving model ...\n"
     ]
    },
    {
     "name": "stderr",
     "output_type": "stream",
     "text": [
      "Epoch: [202]/[1200] Training: 100%|██████████| 7/7 [00:04<00:00,  1.72it/s, loss=0.00369, train_ca=100, train_wa=1]     \n",
      "Validating: 100%|██████████| 1/1 [00:00<00:00,  2.47it/s, val_loss=0.36, val_ca=93.9, val_wa=0.709]\n"
     ]
    },
    {
     "name": "stdout",
     "output_type": "stream",
     "text": [
      "1.1546796301708502\n",
      "Validation loss decreased (1.158594 --> 1.154680).  Saving model ...\n"
     ]
    },
    {
     "name": "stderr",
     "output_type": "stream",
     "text": [
      "Epoch: [203]/[1200] Training: 100%|██████████| 7/7 [00:04<00:00,  1.60it/s, loss=0.000401, train_ca=100, train_wa=1]    \n",
      "Validating: 100%|██████████| 1/1 [00:00<00:00,  1.64it/s, val_loss=0.455, val_ca=93.1, val_wa=0.674]\n"
     ]
    },
    {
     "name": "stdout",
     "output_type": "stream",
     "text": [
      "1.1512674565722303\n",
      "Validation loss decreased (1.154680 --> 1.151267).  Saving model ...\n"
     ]
    },
    {
     "name": "stderr",
     "output_type": "stream",
     "text": [
      "Epoch: [204]/[1200] Training: 100%|██████████| 7/7 [00:03<00:00,  1.81it/s, loss=0.0012, train_ca=100, train_wa=1]      \n",
      "Validating: 100%|██████████| 1/1 [00:00<00:00,  3.34it/s, val_loss=0.431, val_ca=94.2, val_wa=0.733]\n"
     ]
    },
    {
     "name": "stdout",
     "output_type": "stream",
     "text": [
      "1.1477708984347224\n",
      "Validation loss decreased (1.151267 --> 1.147771).  Saving model ...\n"
     ]
    },
    {
     "name": "stderr",
     "output_type": "stream",
     "text": [
      "Epoch: [205]/[1200] Training: 100%|██████████| 7/7 [00:03<00:00,  1.76it/s, loss=0.000715, train_ca=100, train_wa=1]    \n",
      "Validating: 100%|██████████| 1/1 [00:00<00:00,  1.98it/s, val_loss=0.552, val_ca=91.9, val_wa=0.651]\n"
     ]
    },
    {
     "name": "stdout",
     "output_type": "stream",
     "text": [
      "1.1448938184314303\n",
      "Validation loss decreased (1.147771 --> 1.144894).  Saving model ...\n"
     ]
    },
    {
     "name": "stderr",
     "output_type": "stream",
     "text": [
      "Epoch: [206]/[1200] Training: 100%|██████████| 7/7 [00:03<00:00,  1.86it/s, loss=0.000382, train_ca=100, train_wa=1]    \n",
      "Validating: 100%|██████████| 1/1 [00:00<00:00,  1.97it/s, val_loss=0.45, val_ca=93.4, val_wa=0.756]\n"
     ]
    },
    {
     "name": "stdout",
     "output_type": "stream",
     "text": [
      "1.1415512934327126\n",
      "Validation loss decreased (1.144894 --> 1.141551).  Saving model ...\n"
     ]
    },
    {
     "name": "stderr",
     "output_type": "stream",
     "text": [
      "Epoch: [207]/[1200] Training: 100%|██████████| 7/7 [00:04<00:00,  1.71it/s, loss=0.000286, train_ca=100, train_wa=1]    \n",
      "Validating: 100%|██████████| 1/1 [00:00<00:00,  1.65it/s, val_loss=0.519, val_ca=92.2, val_wa=0.674]\n"
     ]
    },
    {
     "name": "stdout",
     "output_type": "stream",
     "text": [
      "1.1385704641136827\n",
      "Validation loss decreased (1.141551 --> 1.138570).  Saving model ...\n"
     ]
    },
    {
     "name": "stderr",
     "output_type": "stream",
     "text": [
      "Epoch: [208]/[1200] Training: 100%|██████████| 7/7 [00:04<00:00,  1.51it/s, loss=0.0007, train_ca=100, train_wa=1]      \n",
      "Validating: 100%|██████████| 1/1 [00:00<00:00,  1.98it/s, val_loss=0.57, val_ca=93.2, val_wa=0.686]\n"
     ]
    },
    {
     "name": "stdout",
     "output_type": "stream",
     "text": [
      "1.135864494811921\n",
      "Validation loss decreased (1.138570 --> 1.135864).  Saving model ...\n"
     ]
    },
    {
     "name": "stderr",
     "output_type": "stream",
     "text": [
      "Epoch: [209]/[1200] Training: 100%|██████████| 7/7 [00:04<00:00,  1.67it/s, loss=0.0054, train_ca=100, train_wa=1]      \n",
      "Validating: 100%|██████████| 1/1 [00:00<00:00,  1.97it/s, val_loss=0.491, val_ca=92.5, val_wa=0.721]\n"
     ]
    },
    {
     "name": "stdout",
     "output_type": "stream",
     "text": [
      "1.1328082869968144\n",
      "Validation loss decreased (1.135864 --> 1.132808).  Saving model ...\n"
     ]
    },
    {
     "name": "stderr",
     "output_type": "stream",
     "text": [
      "Epoch: [210]/[1200] Training: 100%|██████████| 7/7 [00:04<00:00,  1.59it/s, loss=0.000127, train_ca=100, train_wa=1]    \n",
      "Validating: 100%|██████████| 1/1 [00:00<00:00,  2.49it/s, val_loss=0.804, val_ca=87, val_wa=0.477]\n"
     ]
    },
    {
     "name": "stdout",
     "output_type": "stream",
     "text": [
      "1.1312588652912177\n",
      "Validation loss decreased (1.132808 --> 1.131259).  Saving model ...\n"
     ]
    },
    {
     "name": "stderr",
     "output_type": "stream",
     "text": [
      "Epoch: [211]/[1200] Training: 100%|██████████| 7/7 [00:04<00:00,  1.68it/s, loss=0.00271, train_ca=100, train_wa=1]     \n",
      "Validating: 100%|██████████| 1/1 [00:00<00:00,  1.66it/s, val_loss=0.516, val_ca=92.6, val_wa=0.674]\n"
     ]
    },
    {
     "name": "stdout",
     "output_type": "stream",
     "text": [
      "1.128370400605627\n",
      "Validation loss decreased (1.131259 --> 1.128370).  Saving model ...\n"
     ]
    },
    {
     "name": "stderr",
     "output_type": "stream",
     "text": [
      "Epoch: [212]/[1200] Training: 100%|██████████| 7/7 [00:04<00:00,  1.56it/s, loss=0.0022, train_ca=100, train_wa=1]      \n",
      "Validating: 100%|██████████| 1/1 [00:00<00:00,  1.99it/s, val_loss=0.44, val_ca=93.4, val_wa=0.721]\n"
     ]
    },
    {
     "name": "stdout",
     "output_type": "stream",
     "text": [
      "1.125155321069967\n",
      "Validation loss decreased (1.128370 --> 1.125155).  Saving model ...\n"
     ]
    },
    {
     "name": "stderr",
     "output_type": "stream",
     "text": [
      "Epoch: [213]/[1200] Training: 100%|██████████| 7/7 [00:04<00:00,  1.53it/s, loss=0.0234, train_ca=97.1, train_wa=0.8]   \n",
      "Validating: 100%|██████████| 1/1 [00:00<00:00,  1.68it/s, val_loss=0.423, val_ca=94.5, val_wa=0.756]\n"
     ]
    },
    {
     "name": "stdout",
     "output_type": "stream",
     "text": [
      "1.1218895980091983\n",
      "Validation loss decreased (1.125155 --> 1.121890).  Saving model ...\n"
     ]
    },
    {
     "name": "stderr",
     "output_type": "stream",
     "text": [
      "Epoch: [214]/[1200] Training: 100%|██████████| 7/7 [00:04<00:00,  1.70it/s, loss=0.00213, train_ca=100, train_wa=1]     \n",
      "Validating: 100%|██████████| 1/1 [00:00<00:00,  2.01it/s, val_loss=0.523, val_ca=91.1, val_wa=0.64]\n"
     ]
    },
    {
     "name": "stdout",
     "output_type": "stream",
     "text": [
      "1.1191174916371152\n",
      "Validation loss decreased (1.121890 --> 1.119117).  Saving model ...\n"
     ]
    },
    {
     "name": "stderr",
     "output_type": "stream",
     "text": [
      "Epoch: [215]/[1200] Training: 100%|██████████| 7/7 [00:04<00:00,  1.68it/s, loss=0.00018, train_ca=100, train_wa=1]     \n",
      "Validating: 100%|██████████| 1/1 [00:00<00:00,  1.65it/s, val_loss=0.465, val_ca=92.2, val_wa=0.628]\n"
     ]
    },
    {
     "name": "stdout",
     "output_type": "stream",
     "text": [
      "1.1161052163020806\n",
      "Validation loss decreased (1.119117 --> 1.116105).  Saving model ...\n"
     ]
    },
    {
     "name": "stderr",
     "output_type": "stream",
     "text": [
      "Epoch: [216]/[1200] Training: 100%|██████████| 7/7 [00:04<00:00,  1.53it/s, loss=0.00425, train_ca=100, train_wa=1]     \n",
      "Validating: 100%|██████████| 1/1 [00:00<00:00,  2.51it/s, val_loss=0.376, val_ca=95.2, val_wa=0.802]\n"
     ]
    },
    {
     "name": "stdout",
     "output_type": "stream",
     "text": [
      "1.112711251875676\n",
      "Validation loss decreased (1.116105 --> 1.112711).  Saving model ...\n"
     ]
    },
    {
     "name": "stderr",
     "output_type": "stream",
     "text": [
      "Epoch: [217]/[1200] Training: 100%|██████████| 7/7 [00:04<00:00,  1.64it/s, loss=0.000336, train_ca=100, train_wa=1]    \n",
      "Validating: 100%|██████████| 1/1 [00:00<00:00,  1.64it/s, val_loss=0.438, val_ca=93.5, val_wa=0.674]\n"
     ]
    },
    {
     "name": "stdout",
     "output_type": "stream",
     "text": [
      "1.1096305014335945\n",
      "Validation loss decreased (1.112711 --> 1.109631).  Saving model ...\n"
     ]
    },
    {
     "name": "stderr",
     "output_type": "stream",
     "text": [
      "Epoch: [218]/[1200] Training: 100%|██████████| 7/7 [00:04<00:00,  1.57it/s, loss=0.00211, train_ca=100, train_wa=1]     \n",
      "Validating: 100%|██████████| 1/1 [00:00<00:00,  2.47it/s, val_loss=0.365, val_ca=95.5, val_wa=0.802]\n"
     ]
    },
    {
     "name": "stdout",
     "output_type": "stream",
     "text": [
      "1.106245675005696\n",
      "Validation loss decreased (1.109631 --> 1.106246).  Saving model ...\n"
     ]
    },
    {
     "name": "stderr",
     "output_type": "stream",
     "text": [
      "Epoch: [219]/[1200] Training: 100%|██████████| 7/7 [00:04<00:00,  1.60it/s, loss=0.000778, train_ca=100, train_wa=1]     \n",
      "Validating: 100%|██████████| 1/1 [00:00<00:00,  1.99it/s, val_loss=0.514, val_ca=92.6, val_wa=0.628]\n"
     ]
    },
    {
     "name": "stdout",
     "output_type": "stream",
     "text": [
      "1.103564391983041\n",
      "Validation loss decreased (1.106246 --> 1.103564).  Saving model ...\n"
     ]
    },
    {
     "name": "stderr",
     "output_type": "stream",
     "text": [
      "Epoch: [220]/[1200] Training: 100%|██████████| 7/7 [00:04<00:00,  1.65it/s, loss=0.0224, train_ca=100, train_wa=1]      \n",
      "Validating: 100%|██████████| 1/1 [00:00<00:00,  1.68it/s, val_loss=0.404, val_ca=94.3, val_wa=0.767]\n"
     ]
    },
    {
     "name": "stdout",
     "output_type": "stream",
     "text": [
      "1.1004152738296233\n",
      "Validation loss decreased (1.103564 --> 1.100415).  Saving model ...\n"
     ]
    },
    {
     "name": "stderr",
     "output_type": "stream",
     "text": [
      "Epoch: [221]/[1200] Training: 100%|██████████| 7/7 [00:04<00:00,  1.57it/s, loss=0.00639, train_ca=100, train_wa=1]     \n",
      "Validating: 100%|██████████| 1/1 [00:00<00:00,  2.51it/s, val_loss=0.341, val_ca=95.3, val_wa=0.791]\n"
     ]
    },
    {
     "name": "stdout",
     "output_type": "stream",
     "text": [
      "1.0970114045880834\n",
      "Validation loss decreased (1.100415 --> 1.097011).  Saving model ...\n"
     ]
    },
    {
     "name": "stderr",
     "output_type": "stream",
     "text": [
      "Epoch: [222]/[1200] Training: 100%|██████████| 7/7 [00:04<00:00,  1.70it/s, loss=0.00479, train_ca=100, train_wa=1]     \n",
      "Validating: 100%|██████████| 1/1 [00:00<00:00,  1.99it/s, val_loss=0.346, val_ca=95.8, val_wa=0.802]\n"
     ]
    },
    {
     "name": "stdout",
     "output_type": "stream",
     "text": [
      "1.0936599341886384\n",
      "Validation loss decreased (1.097011 --> 1.093660).  Saving model ...\n"
     ]
    },
    {
     "name": "stderr",
     "output_type": "stream",
     "text": [
      "Epoch: [223]/[1200] Training: 100%|██████████| 7/7 [00:04<00:00,  1.61it/s, loss=0.228, train_ca=94.3, train_wa=0.8]    \n",
      "Validating: 100%|██████████| 1/1 [00:00<00:00,  2.01it/s, val_loss=0.486, val_ca=92.8, val_wa=0.709]\n"
     ]
    },
    {
     "name": "stdout",
     "output_type": "stream",
     "text": [
      "1.090957554578781\n",
      "Validation loss decreased (1.093660 --> 1.090958).  Saving model ...\n"
     ]
    },
    {
     "name": "stderr",
     "output_type": "stream",
     "text": [
      "Epoch: [224]/[1200] Training: 100%|██████████| 7/7 [00:04<00:00,  1.64it/s, loss=0.0762, train_ca=97.1, train_wa=0.8]   \n",
      "Validating: 100%|██████████| 1/1 [00:00<00:00,  2.04it/s, val_loss=0.514, val_ca=93, val_wa=0.674]\n"
     ]
    },
    {
     "name": "stdout",
     "output_type": "stream",
     "text": [
      "1.0884026656899832\n",
      "Validation loss decreased (1.090958 --> 1.088403).  Saving model ...\n"
     ]
    },
    {
     "name": "stderr",
     "output_type": "stream",
     "text": [
      "Epoch: [225]/[1200] Training: 100%|██████████| 7/7 [00:04<00:00,  1.64it/s, loss=0.000804, train_ca=100, train_wa=1]    \n",
      "Validating: 100%|██████████| 1/1 [00:00<00:00,  2.05it/s, val_loss=0.496, val_ca=93.2, val_wa=0.674]\n"
     ]
    },
    {
     "name": "stdout",
     "output_type": "stream",
     "text": [
      "1.085793419425183\n",
      "Validation loss decreased (1.088403 --> 1.085793).  Saving model ...\n"
     ]
    },
    {
     "name": "stderr",
     "output_type": "stream",
     "text": [
      "Epoch: [226]/[1200] Training: 100%|██████████| 7/7 [00:04<00:00,  1.65it/s, loss=0.000343, train_ca=100, train_wa=1]    \n",
      "Validating: 100%|██████████| 1/1 [00:00<00:00,  2.01it/s, val_loss=0.434, val_ca=93.7, val_wa=0.721]\n"
     ]
    },
    {
     "name": "stdout",
     "output_type": "stream",
     "text": [
      "1.0829367705604487\n",
      "Validation loss decreased (1.085793 --> 1.082937).  Saving model ...\n"
     ]
    },
    {
     "name": "stderr",
     "output_type": "stream",
     "text": [
      "Epoch: [227]/[1200] Training: 100%|██████████| 7/7 [00:03<00:00,  1.82it/s, loss=0.000687, train_ca=100, train_wa=1]    \n",
      "Validating: 100%|██████████| 1/1 [00:00<00:00,  2.04it/s, val_loss=0.403, val_ca=93.3, val_wa=0.756]\n"
     ]
    },
    {
     "name": "stdout",
     "output_type": "stream",
     "text": [
      "1.079965834143901\n",
      "Validation loss decreased (1.082937 --> 1.079966).  Saving model ...\n"
     ]
    },
    {
     "name": "stderr",
     "output_type": "stream",
     "text": [
      "Epoch: [228]/[1200] Training: 100%|██████████| 7/7 [00:03<00:00,  1.86it/s, loss=0.00179, train_ca=100, train_wa=1]     \n",
      "Validating: 100%|██████████| 1/1 [00:00<00:00,  2.04it/s, val_loss=0.401, val_ca=93.8, val_wa=0.733]\n"
     ]
    },
    {
     "name": "stdout",
     "output_type": "stream",
     "text": [
      "1.0770144693229509\n",
      "Validation loss decreased (1.079966 --> 1.077014).  Saving model ...\n"
     ]
    },
    {
     "name": "stderr",
     "output_type": "stream",
     "text": [
      "Epoch: [229]/[1200] Training: 100%|██████████| 7/7 [00:04<00:00,  1.54it/s, loss=0.000153, train_ca=100, train_wa=1]    \n",
      "Validating: 100%|██████████| 1/1 [00:00<00:00,  1.92it/s, val_loss=0.549, val_ca=91.8, val_wa=0.628]\n"
     ]
    },
    {
     "name": "stdout",
     "output_type": "stream",
     "text": [
      "1.0747278771359168\n",
      "Validation loss decreased (1.077014 --> 1.074728).  Saving model ...\n"
     ]
    },
    {
     "name": "stderr",
     "output_type": "stream",
     "text": [
      "Epoch: [230]/[1200] Training: 100%|██████████| 7/7 [00:03<00:00,  1.78it/s, loss=0.00639, train_ca=100, train_wa=1]     \n",
      "Validating: 100%|██████████| 1/1 [00:00<00:00,  2.44it/s, val_loss=0.501, val_ca=92.2, val_wa=0.651]\n"
     ]
    },
    {
     "name": "stdout",
     "output_type": "stream",
     "text": [
      "1.0722562883948457\n",
      "Validation loss decreased (1.074728 --> 1.072256).  Saving model ...\n"
     ]
    },
    {
     "name": "stderr",
     "output_type": "stream",
     "text": [
      "Epoch: [231]/[1200] Training: 100%|██████████| 7/7 [00:04<00:00,  1.71it/s, loss=0.00158, train_ca=100, train_wa=1]     \n",
      "Validating: 100%|██████████| 1/1 [00:00<00:00,  1.69it/s, val_loss=0.494, val_ca=91.8, val_wa=0.616]\n"
     ]
    },
    {
     "name": "stdout",
     "output_type": "stream",
     "text": [
      "1.069774796906459\n",
      "Validation loss decreased (1.072256 --> 1.069775).  Saving model ...\n"
     ]
    },
    {
     "name": "stderr",
     "output_type": "stream",
     "text": [
      "Epoch: [232]/[1200] Training: 100%|██████████| 7/7 [00:04<00:00,  1.65it/s, loss=0.00244, train_ca=100, train_wa=1]     \n",
      "Validating: 100%|██████████| 1/1 [00:00<00:00,  1.66it/s, val_loss=0.448, val_ca=92.9, val_wa=0.674]\n"
     ]
    },
    {
     "name": "stdout",
     "output_type": "stream",
     "text": [
      "1.0671168899434245\n",
      "Validation loss decreased (1.069775 --> 1.067117).  Saving model ...\n"
     ]
    },
    {
     "name": "stderr",
     "output_type": "stream",
     "text": [
      "Epoch: [233]/[1200] Training: 100%|██████████| 7/7 [00:04<00:00,  1.60it/s, loss=0.0162, train_ca=100, train_wa=1]      \n",
      "Validating: 100%|██████████| 1/1 [00:00<00:00,  2.55it/s, val_loss=0.374, val_ca=94.5, val_wa=0.733]\n"
     ]
    },
    {
     "name": "stdout",
     "output_type": "stream",
     "text": [
      "1.0641680234290183\n",
      "Validation loss decreased (1.067117 --> 1.064168).  Saving model ...\n"
     ]
    },
    {
     "name": "stderr",
     "output_type": "stream",
     "text": [
      "Epoch: [234]/[1200] Training: 100%|██████████| 7/7 [00:03<00:00,  1.81it/s, loss=0.00052, train_ca=100, train_wa=1]     \n",
      "Validating: 100%|██████████| 1/1 [00:00<00:00,  2.00it/s, val_loss=0.386, val_ca=94.7, val_wa=0.709]\n"
     ]
    },
    {
     "name": "stdout",
     "output_type": "stream",
     "text": [
      "1.0612929262599702\n",
      "Validation loss decreased (1.064168 --> 1.061293).  Saving model ...\n"
     ]
    },
    {
     "name": "stderr",
     "output_type": "stream",
     "text": [
      "Epoch: [235]/[1200] Training: 100%|██████████| 7/7 [00:04<00:00,  1.55it/s, loss=0.000464, train_ca=100, train_wa=1]    \n",
      "Validating: 100%|██████████| 1/1 [00:00<00:00,  1.94it/s, val_loss=0.536, val_ca=90.2, val_wa=0.57]\n"
     ]
    },
    {
     "name": "stdout",
     "output_type": "stream",
     "text": [
      "1.0590784744622839\n",
      "Validation loss decreased (1.061293 --> 1.059078).  Saving model ...\n"
     ]
    },
    {
     "name": "stderr",
     "output_type": "stream",
     "text": [
      "Epoch: [236]/[1200] Training: 100%|██████████| 7/7 [00:04<00:00,  1.65it/s, loss=0.0631, train_ca=94.3, train_wa=0.6]   \n",
      "Validating: 100%|██████████| 1/1 [00:00<00:00,  1.99it/s, val_loss=0.417, val_ca=93.9, val_wa=0.663]\n"
     ]
    },
    {
     "name": "stdout",
     "output_type": "stream",
     "text": [
      "1.0563824513629705\n",
      "Validation loss decreased (1.059078 --> 1.056382).  Saving model ...\n"
     ]
    },
    {
     "name": "stderr",
     "output_type": "stream",
     "text": [
      "Epoch: [237]/[1200] Training: 100%|██████████| 7/7 [00:04<00:00,  1.60it/s, loss=0.00422, train_ca=100, train_wa=1]     \n",
      "Validating: 100%|██████████| 1/1 [00:00<00:00,  1.70it/s, val_loss=0.354, val_ca=95.2, val_wa=0.756]\n"
     ]
    },
    {
     "name": "stdout",
     "output_type": "stream",
     "text": [
      "1.0534454984395574\n",
      "Validation loss decreased (1.056382 --> 1.053445).  Saving model ...\n"
     ]
    },
    {
     "name": "stderr",
     "output_type": "stream",
     "text": [
      "Epoch: [238]/[1200] Training: 100%|██████████| 7/7 [00:04<00:00,  1.65it/s, loss=0.000558, train_ca=100, train_wa=1]    \n",
      "Validating: 100%|██████████| 1/1 [00:00<00:00,  1.65it/s, val_loss=0.418, val_ca=93.9, val_wa=0.721]\n"
     ]
    },
    {
     "name": "stdout",
     "output_type": "stream",
     "text": [
      "1.0507983314494291\n",
      "Validation loss decreased (1.053445 --> 1.050798).  Saving model ...\n"
     ]
    },
    {
     "name": "stderr",
     "output_type": "stream",
     "text": [
      "Epoch: [239]/[1200] Training: 100%|██████████| 7/7 [00:03<00:00,  1.80it/s, loss=0.017, train_ca=100, train_wa=1]       \n",
      "Validating: 100%|██████████| 1/1 [00:00<00:00,  1.95it/s, val_loss=0.352, val_ca=95, val_wa=0.756]\n"
     ]
    },
    {
     "name": "stdout",
     "output_type": "stream",
     "text": [
      "1.0478982632338258\n",
      "Validation loss decreased (1.050798 --> 1.047898).  Saving model ...\n"
     ]
    },
    {
     "name": "stderr",
     "output_type": "stream",
     "text": [
      "Epoch: [240]/[1200] Training: 100%|██████████| 7/7 [00:04<00:00,  1.61it/s, loss=0.000209, train_ca=100, train_wa=1]    \n",
      "Validating: 100%|██████████| 1/1 [00:00<00:00,  2.02it/s, val_loss=0.351, val_ca=94.8, val_wa=0.779]\n"
     ]
    },
    {
     "name": "stdout",
     "output_type": "stream",
     "text": [
      "1.045017864709058\n",
      "Validation loss decreased (1.047898 --> 1.045018).  Saving model ...\n"
     ]
    },
    {
     "name": "stderr",
     "output_type": "stream",
     "text": [
      "Epoch: [241]/[1200] Training: 100%|██████████| 7/7 [00:04<00:00,  1.65it/s, loss=0.00422, train_ca=100, train_wa=1]     \n",
      "Validating: 100%|██████████| 1/1 [00:00<00:00,  2.00it/s, val_loss=0.609, val_ca=90, val_wa=0.581]\n"
     ]
    },
    {
     "name": "stdout",
     "output_type": "stream",
     "text": [
      "1.043222894761788\n",
      "Validation loss decreased (1.045018 --> 1.043223).  Saving model ...\n"
     ]
    },
    {
     "name": "stderr",
     "output_type": "stream",
     "text": [
      "Epoch: [242]/[1200] Training: 100%|██████████| 7/7 [00:04<00:00,  1.61it/s, loss=0.000306, train_ca=100, train_wa=1]    \n",
      "Validating: 100%|██████████| 1/1 [00:00<00:00,  2.51it/s, val_loss=0.374, val_ca=95, val_wa=0.802]\n"
     ]
    },
    {
     "name": "stdout",
     "output_type": "stream",
     "text": [
      "1.040480549096084\n",
      "Validation loss decreased (1.043223 --> 1.040481).  Saving model ...\n"
     ]
    },
    {
     "name": "stderr",
     "output_type": "stream",
     "text": [
      "Epoch: [243]/[1200] Training: 100%|██████████| 7/7 [00:04<00:00,  1.58it/s, loss=0.000321, train_ca=100, train_wa=1]    \n",
      "Validating: 100%|██████████| 1/1 [00:00<00:00,  1.66it/s, val_loss=0.402, val_ca=93.9, val_wa=0.709]\n"
     ]
    },
    {
     "name": "stdout",
     "output_type": "stream",
     "text": [
      "1.0378749949591501\n",
      "Validation loss decreased (1.040481 --> 1.037875).  Saving model ...\n"
     ]
    },
    {
     "name": "stderr",
     "output_type": "stream",
     "text": [
      "Epoch: [244]/[1200] Training: 100%|██████████| 7/7 [00:04<00:00,  1.59it/s, loss=0.000634, train_ca=100, train_wa=1]    \n",
      "Validating: 100%|██████████| 1/1 [00:00<00:00,  1.43it/s, val_loss=0.498, val_ca=92.5, val_wa=0.651]\n"
     ]
    },
    {
     "name": "stdout",
     "output_type": "stream",
     "text": [
      "1.0356800122474268\n",
      "Validation loss decreased (1.037875 --> 1.035680).  Saving model ...\n"
     ]
    },
    {
     "name": "stderr",
     "output_type": "stream",
     "text": [
      "Epoch: [245]/[1200] Training: 100%|██████████| 7/7 [00:04<00:00,  1.47it/s, loss=0.000208, train_ca=100, train_wa=1]    \n",
      "Validating: 100%|██████████| 1/1 [00:00<00:00,  1.41it/s, val_loss=0.471, val_ca=93.1, val_wa=0.674]\n"
     ]
    },
    {
     "name": "stdout",
     "output_type": "stream",
     "text": [
      "1.0333957981001511\n",
      "Validation loss decreased (1.035680 --> 1.033396).  Saving model ...\n"
     ]
    },
    {
     "name": "stderr",
     "output_type": "stream",
     "text": [
      "Epoch: [246]/[1200] Training: 100%|██████████| 7/7 [00:04<00:00,  1.72it/s, loss=0.000276, train_ca=100, train_wa=1]    \n",
      "Validating: 100%|██████████| 1/1 [00:00<00:00,  2.00it/s, val_loss=0.34, val_ca=95.9, val_wa=0.791]\n"
     ]
    },
    {
     "name": "stdout",
     "output_type": "stream",
     "text": [
      "1.0305985576443133\n",
      "Validation loss decreased (1.033396 --> 1.030599).  Saving model ...\n"
     ]
    },
    {
     "name": "stderr",
     "output_type": "stream",
     "text": [
      "Epoch: [247]/[1200] Training: 100%|██████████| 7/7 [00:04<00:00,  1.68it/s, loss=0.00226, train_ca=100, train_wa=1]     \n",
      "Validating: 100%|██████████| 1/1 [00:00<00:00,  2.54it/s, val_loss=0.463, val_ca=94.7, val_wa=0.744]\n"
     ]
    },
    {
     "name": "stdout",
     "output_type": "stream",
     "text": [
      "1.0283209081873836\n",
      "Validation loss decreased (1.030599 --> 1.028321).  Saving model ...\n"
     ]
    },
    {
     "name": "stderr",
     "output_type": "stream",
     "text": [
      "Epoch: [248]/[1200] Training: 100%|██████████| 7/7 [00:04<00:00,  1.57it/s, loss=0.000326, train_ca=100, train_wa=1]    \n",
      "Validating: 100%|██████████| 1/1 [00:00<00:00,  1.98it/s, val_loss=0.348, val_ca=95.1, val_wa=0.802]\n"
     ]
    },
    {
     "name": "stdout",
     "output_type": "stream",
     "text": [
      "1.0255994474887848\n",
      "Validation loss decreased (1.028321 --> 1.025599).  Saving model ...\n"
     ]
    },
    {
     "name": "stderr",
     "output_type": "stream",
     "text": [
      "Epoch: [249]/[1200] Training: 100%|██████████| 7/7 [00:04<00:00,  1.64it/s, loss=0.000476, train_ca=100, train_wa=1]    \n",
      "Validating: 100%|██████████| 1/1 [00:00<00:00,  2.55it/s, val_loss=0.375, val_ca=95, val_wa=0.779]\n"
     ]
    },
    {
     "name": "stdout",
     "output_type": "stream",
     "text": [
      "1.0230077806696949\n",
      "Validation loss decreased (1.025599 --> 1.023008).  Saving model ...\n"
     ]
    },
    {
     "name": "stderr",
     "output_type": "stream",
     "text": [
      "Epoch: [250]/[1200] Training: 100%|██████████| 7/7 [00:03<00:00,  1.85it/s, loss=0.0274, train_ca=97.1, train_wa=0.8]   \n",
      "Validating: 100%|██████████| 1/1 [00:00<00:00,  1.41it/s, val_loss=0.46, val_ca=93.5, val_wa=0.721]\n"
     ]
    },
    {
     "name": "stdout",
     "output_type": "stream",
     "text": [
      "1.0207748886138674\n",
      "Validation loss decreased (1.023008 --> 1.020775).  Saving model ...\n"
     ]
    },
    {
     "name": "stderr",
     "output_type": "stream",
     "text": [
      "Epoch: [251]/[1200] Training: 100%|██████████| 7/7 [00:04<00:00,  1.57it/s, loss=0.0018, train_ca=100, train_wa=1]      \n",
      "Validating: 100%|██████████| 1/1 [00:00<00:00,  2.02it/s, val_loss=0.475, val_ca=94.5, val_wa=0.709]\n"
     ]
    },
    {
     "name": "stdout",
     "output_type": "stream",
     "text": [
      "1.018617810232366\n",
      "Validation loss decreased (1.020775 --> 1.018618).  Saving model ...\n"
     ]
    },
    {
     "name": "stderr",
     "output_type": "stream",
     "text": [
      "Epoch: [252]/[1200] Training: 100%|██████████| 7/7 [00:04<00:00,  1.69it/s, loss=0.000706, train_ca=100, train_wa=1]    \n",
      "Validating: 100%|██████████| 1/1 [00:00<00:00,  1.93it/s, val_loss=1.15, val_ca=84.9, val_wa=0.419]\n"
     ]
    },
    {
     "name": "stdout",
     "output_type": "stream",
     "text": [
      "1.0191455753300134\n",
      "EarlyStopping counter: (-1.018618 1 out of 15)\n"
     ]
    },
    {
     "name": "stderr",
     "output_type": "stream",
     "text": [
      "Epoch: [253]/[1200] Training: 100%|██████████| 7/7 [00:04<00:00,  1.67it/s, loss=0.0019, train_ca=100, train_wa=1]      \n",
      "Validating: 100%|██████████| 1/1 [00:00<00:00,  2.00it/s, val_loss=0.405, val_ca=95.5, val_wa=0.779]\n"
     ]
    },
    {
     "name": "stdout",
     "output_type": "stream",
     "text": [
      "1.0167373854739994\n",
      "Validation loss decreased (1.018618 --> 1.016737).  Saving model ...\n"
     ]
    },
    {
     "name": "stderr",
     "output_type": "stream",
     "text": [
      "Epoch: [254]/[1200] Training: 100%|██████████| 7/7 [00:04<00:00,  1.73it/s, loss=0.0408, train_ca=97.1, train_wa=0.8]   \n",
      "Validating: 100%|██████████| 1/1 [00:00<00:00,  2.49it/s, val_loss=0.356, val_ca=93.8, val_wa=0.721]\n"
     ]
    },
    {
     "name": "stdout",
     "output_type": "stream",
     "text": [
      "1.0141578168841079\n",
      "Validation loss decreased (1.016737 --> 1.014158).  Saving model ...\n"
     ]
    },
    {
     "name": "stderr",
     "output_type": "stream",
     "text": [
      "Epoch: [255]/[1200] Training: 100%|██████████| 7/7 [00:03<00:00,  1.81it/s, loss=0.00421, train_ca=100, train_wa=1]     \n",
      "Validating: 100%|██████████| 1/1 [00:00<00:00,  3.26it/s, val_loss=0.63, val_ca=91.5, val_wa=0.686]\n"
     ]
    },
    {
     "name": "stdout",
     "output_type": "stream",
     "text": [
      "1.0126637151964908\n",
      "Validation loss decreased (1.014158 --> 1.012664).  Saving model ...\n"
     ]
    },
    {
     "name": "stderr",
     "output_type": "stream",
     "text": [
      "Epoch: [256]/[1200] Training: 100%|██████████| 7/7 [00:03<00:00,  1.86it/s, loss=0.00167, train_ca=100, train_wa=1]     \n",
      "Validating: 100%|██████████| 1/1 [00:00<00:00,  2.00it/s, val_loss=0.575, val_ca=92.1, val_wa=0.628]\n"
     ]
    },
    {
     "name": "stdout",
     "output_type": "stream",
     "text": [
      "1.0109681777020758\n",
      "Validation loss decreased (1.012664 --> 1.010968).  Saving model ...\n"
     ]
    },
    {
     "name": "stderr",
     "output_type": "stream",
     "text": [
      "Epoch: [257]/[1200] Training: 100%|██████████| 7/7 [00:03<00:00,  1.87it/s, loss=0.00147, train_ca=100, train_wa=1]     \n",
      "Validating: 100%|██████████| 1/1 [00:00<00:00,  1.97it/s, val_loss=0.764, val_ca=88.7, val_wa=0.558]\n"
     ]
    },
    {
     "name": "stdout",
     "output_type": "stream",
     "text": [
      "1.0100164573395114\n",
      "Validation loss decreased (1.010968 --> 1.010016).  Saving model ...\n"
     ]
    },
    {
     "name": "stderr",
     "output_type": "stream",
     "text": [
      "Epoch: [258]/[1200] Training: 100%|██████████| 7/7 [00:04<00:00,  1.61it/s, loss=0.000604, train_ca=100, train_wa=1]    \n",
      "Validating: 100%|██████████| 1/1 [00:00<00:00,  1.69it/s, val_loss=0.416, val_ca=95, val_wa=0.791]\n"
     ]
    },
    {
     "name": "stdout",
     "output_type": "stream",
     "text": [
      "1.0077309029606671\n",
      "Validation loss decreased (1.010016 --> 1.007731).  Saving model ...\n"
     ]
    },
    {
     "name": "stderr",
     "output_type": "stream",
     "text": [
      "Epoch: [259]/[1200] Training: 100%|██████████| 7/7 [00:04<00:00,  1.61it/s, loss=0.0013, train_ca=100, train_wa=1]      \n",
      "Validating: 100%|██████████| 1/1 [00:00<00:00,  1.65it/s, val_loss=0.53, val_ca=92.7, val_wa=0.709]\n"
     ]
    },
    {
     "name": "stdout",
     "output_type": "stream",
     "text": [
      "1.0059014646714675\n",
      "Validation loss decreased (1.007731 --> 1.005901).  Saving model ...\n"
     ]
    },
    {
     "name": "stderr",
     "output_type": "stream",
     "text": [
      "Epoch: [260]/[1200] Training: 100%|██████████| 7/7 [00:04<00:00,  1.57it/s, loss=0.000855, train_ca=100, train_wa=1]    \n",
      "Validating: 100%|██████████| 1/1 [00:00<00:00,  1.96it/s, val_loss=0.481, val_ca=93.7, val_wa=0.686]\n"
     ]
    },
    {
     "name": "stdout",
     "output_type": "stream",
     "text": [
      "1.0038988906463593\n",
      "Validation loss decreased (1.005901 --> 1.003899).  Saving model ...\n"
     ]
    },
    {
     "name": "stderr",
     "output_type": "stream",
     "text": [
      "Epoch: [261]/[1200] Training: 100%|██████████| 7/7 [00:04<00:00,  1.54it/s, loss=0.00724, train_ca=100, train_wa=1]     \n",
      "Validating: 100%|██████████| 1/1 [00:00<00:00,  1.99it/s, val_loss=0.519, val_ca=91.9, val_wa=0.674]\n"
     ]
    },
    {
     "name": "stdout",
     "output_type": "stream",
     "text": [
      "1.0020543817331582\n",
      "Validation loss decreased (1.003899 --> 1.002054).  Saving model ...\n"
     ]
    },
    {
     "name": "stderr",
     "output_type": "stream",
     "text": [
      "Epoch: [262]/[1200] Training: 100%|██████████| 7/7 [00:04<00:00,  1.72it/s, loss=0.000603, train_ca=100, train_wa=1]    \n",
      "Validating: 100%|██████████| 1/1 [00:00<00:00,  3.28it/s, val_loss=0.426, val_ca=94, val_wa=0.698]\n"
     ]
    },
    {
     "name": "stdout",
     "output_type": "stream",
     "text": [
      "0.9998709902618871\n",
      "Validation loss decreased (1.002054 --> 0.999871).  Saving model ...\n"
     ]
    },
    {
     "name": "stderr",
     "output_type": "stream",
     "text": [
      "Epoch: [263]/[1200] Training: 100%|██████████| 7/7 [00:04<00:00,  1.60it/s, loss=0.000575, train_ca=100, train_wa=1]    \n",
      "Validating: 100%|██████████| 1/1 [00:00<00:00,  2.02it/s, val_loss=0.357, val_ca=94.5, val_wa=0.744]\n"
     ]
    },
    {
     "name": "stdout",
     "output_type": "stream",
     "text": [
      "0.9974451540776019\n",
      "Validation loss decreased (0.999871 --> 0.997445).  Saving model ...\n"
     ]
    },
    {
     "name": "stderr",
     "output_type": "stream",
     "text": [
      "Epoch: [264]/[1200] Training: 100%|██████████| 7/7 [00:04<00:00,  1.51it/s, loss=0.000116, train_ca=100, train_wa=1]    \n",
      "Validating: 100%|██████████| 1/1 [00:00<00:00,  1.97it/s, val_loss=0.422, val_ca=92.9, val_wa=0.651]\n"
     ]
    },
    {
     "name": "stdout",
     "output_type": "stream",
     "text": [
      "0.9952800111438995\n",
      "Validation loss decreased (0.997445 --> 0.995280).  Saving model ...\n"
     ]
    },
    {
     "name": "stderr",
     "output_type": "stream",
     "text": [
      "Epoch: [265]/[1200] Training: 100%|██████████| 7/7 [00:04<00:00,  1.47it/s, loss=0.00128, train_ca=100, train_wa=1]     \n",
      "Validating: 100%|██████████| 1/1 [00:00<00:00,  1.98it/s, val_loss=0.356, val_ca=94, val_wa=0.721]\n"
     ]
    },
    {
     "name": "stdout",
     "output_type": "stream",
     "text": [
      "0.9928860426618812\n",
      "Validation loss decreased (0.995280 --> 0.992886).  Saving model ...\n"
     ]
    },
    {
     "name": "stderr",
     "output_type": "stream",
     "text": [
      "Epoch: [266]/[1200] Training: 100%|██████████| 7/7 [00:04<00:00,  1.72it/s, loss=0.000223, train_ca=100, train_wa=1]    \n",
      "Validating: 100%|██████████| 1/1 [00:00<00:00,  2.50it/s, val_loss=0.499, val_ca=93, val_wa=0.686]\n"
     ]
    },
    {
     "name": "stdout",
     "output_type": "stream",
     "text": [
      "0.9910431667717535\n",
      "Validation loss decreased (0.992886 --> 0.991043).  Saving model ...\n"
     ]
    },
    {
     "name": "stderr",
     "output_type": "stream",
     "text": [
      "Epoch: [267]/[1200] Training: 100%|██████████| 7/7 [00:04<00:00,  1.63it/s, loss=0.00968, train_ca=100, train_wa=1]     \n",
      "Validating: 100%|██████████| 1/1 [00:00<00:00,  1.63it/s, val_loss=0.357, val_ca=94.8, val_wa=0.791]\n"
     ]
    },
    {
     "name": "stdout",
     "output_type": "stream",
     "text": [
      "0.9886847521735833\n",
      "Validation loss decreased (0.991043 --> 0.988685).  Saving model ...\n"
     ]
    },
    {
     "name": "stderr",
     "output_type": "stream",
     "text": [
      "Epoch: [268]/[1200] Training: 100%|██████████| 7/7 [00:04<00:00,  1.65it/s, loss=0.000493, train_ca=100, train_wa=1]    \n",
      "Validating: 100%|██████████| 1/1 [00:00<00:00,  2.52it/s, val_loss=0.422, val_ca=94.2, val_wa=0.779]\n"
     ]
    },
    {
     "name": "stdout",
     "output_type": "stream",
     "text": [
      "0.9865856094492806\n",
      "Validation loss decreased (0.988685 --> 0.986586).  Saving model ...\n"
     ]
    },
    {
     "name": "stderr",
     "output_type": "stream",
     "text": [
      "Epoch: [269]/[1200] Training: 100%|██████████| 7/7 [00:04<00:00,  1.62it/s, loss=0.182, train_ca=97.5, train_wa=0.8]    \n",
      "Validating: 100%|██████████| 1/1 [00:00<00:00,  3.22it/s, val_loss=0.346, val_ca=95.6, val_wa=0.791]\n"
     ]
    },
    {
     "name": "stdout",
     "output_type": "stream",
     "text": [
      "0.9842225609010437\n",
      "Validation loss decreased (0.986586 --> 0.984223).  Saving model ...\n"
     ]
    },
    {
     "name": "stderr",
     "output_type": "stream",
     "text": [
      "Epoch: [270]/[1200] Training: 100%|██████████| 7/7 [00:04<00:00,  1.51it/s, loss=0.0306, train_ca=97.1, train_wa=0.8]   \n",
      "Validating: 100%|██████████| 1/1 [00:00<00:00,  1.99it/s, val_loss=0.386, val_ca=93.7, val_wa=0.674]\n"
     ]
    },
    {
     "name": "stdout",
     "output_type": "stream",
     "text": [
      "0.9820232815383112\n",
      "Validation loss decreased (0.984223 --> 0.982023).  Saving model ...\n"
     ]
    },
    {
     "name": "stderr",
     "output_type": "stream",
     "text": [
      "Epoch: [271]/[1200] Training: 100%|██████████| 7/7 [00:04<00:00,  1.65it/s, loss=0.00128, train_ca=100, train_wa=1]     \n",
      "Validating: 100%|██████████| 1/1 [00:00<00:00,  2.44it/s, val_loss=0.566, val_ca=92.1, val_wa=0.686]\n"
     ]
    },
    {
     "name": "stdout",
     "output_type": "stream",
     "text": [
      "0.9804997993257892\n",
      "Validation loss decreased (0.982023 --> 0.980500).  Saving model ...\n"
     ]
    },
    {
     "name": "stderr",
     "output_type": "stream",
     "text": [
      "Epoch: [272]/[1200] Training: 100%|██████████| 7/7 [00:04<00:00,  1.50it/s, loss=0.000357, train_ca=100, train_wa=1]    \n",
      "Validating: 100%|██████████| 1/1 [00:00<00:00,  1.92it/s, val_loss=0.342, val_ca=95, val_wa=0.779]\n"
     ]
    },
    {
     "name": "stdout",
     "output_type": "stream",
     "text": [
      "0.9781700024639604\n",
      "Validation loss decreased (0.980500 --> 0.978170).  Saving model ...\n"
     ]
    },
    {
     "name": "stderr",
     "output_type": "stream",
     "text": [
      "Epoch: [273]/[1200] Training: 100%|██████████| 7/7 [00:04<00:00,  1.69it/s, loss=0.0538, train_ca=97.1, train_wa=0.8]   \n",
      "Validating: 100%|██████████| 1/1 [00:00<00:00,  2.43it/s, val_loss=0.412, val_ca=94.1, val_wa=0.709]\n"
     ]
    },
    {
     "name": "stdout",
     "output_type": "stream",
     "text": [
      "0.9761123932491649\n",
      "Validation loss decreased (0.978170 --> 0.976112).  Saving model ...\n"
     ]
    },
    {
     "name": "stderr",
     "output_type": "stream",
     "text": [
      "Epoch: [274]/[1200] Training: 100%|██████████| 7/7 [00:04<00:00,  1.53it/s, loss=0.0925, train_ca=97.5, train_wa=0.8]   \n",
      "Validating: 100%|██████████| 1/1 [00:00<00:00,  2.01it/s, val_loss=0.444, val_ca=93.9, val_wa=0.721]\n"
     ]
    },
    {
     "name": "stdout",
     "output_type": "stream",
     "text": [
      "0.9741855155730593\n",
      "Validation loss decreased (0.976112 --> 0.974186).  Saving model ...\n"
     ]
    },
    {
     "name": "stderr",
     "output_type": "stream",
     "text": [
      "Epoch: [275]/[1200] Training: 100%|██████████| 7/7 [00:04<00:00,  1.64it/s, loss=0.0108, train_ca=100, train_wa=1]      \n",
      "Validating: 100%|██████████| 1/1 [00:00<00:00,  2.53it/s, val_loss=0.421, val_ca=94, val_wa=0.756]\n"
     ]
    },
    {
     "name": "stdout",
     "output_type": "stream",
     "text": [
      "0.9721891141970666\n",
      "Validation loss decreased (0.974186 --> 0.972189).  Saving model ...\n"
     ]
    },
    {
     "name": "stderr",
     "output_type": "stream",
     "text": [
      "Epoch: [276]/[1200] Training: 100%|██████████| 7/7 [00:04<00:00,  1.67it/s, loss=0.029, train_ca=97.5, train_wa=0.8]    \n",
      "Validating: 100%|██████████| 1/1 [00:00<00:00,  1.68it/s, val_loss=0.393, val_ca=94, val_wa=0.709]\n"
     ]
    },
    {
     "name": "stdout",
     "output_type": "stream",
     "text": [
      "0.9701042783131703\n",
      "Validation loss decreased (0.972189 --> 0.970104).  Saving model ...\n"
     ]
    },
    {
     "name": "stderr",
     "output_type": "stream",
     "text": [
      "Epoch: [277]/[1200] Training: 100%|██████████| 7/7 [00:04<00:00,  1.60it/s, loss=0.00183, train_ca=100, train_wa=1]     \n",
      "Validating: 100%|██████████| 1/1 [00:00<00:00,  2.04it/s, val_loss=0.481, val_ca=92.7, val_wa=0.721]\n"
     ]
    },
    {
     "name": "stdout",
     "output_type": "stream",
     "text": [
      "0.9683522385508356\n",
      "Validation loss decreased (0.970104 --> 0.968352).  Saving model ...\n"
     ]
    },
    {
     "name": "stderr",
     "output_type": "stream",
     "text": [
      "Epoch: [278]/[1200] Training: 100%|██████████| 7/7 [00:04<00:00,  1.64it/s, loss=0.000309, train_ca=100, train_wa=1]    \n",
      "Validating: 100%|██████████| 1/1 [00:00<00:00,  1.98it/s, val_loss=0.368, val_ca=94.8, val_wa=0.791]\n"
     ]
    },
    {
     "name": "stdout",
     "output_type": "stream",
     "text": [
      "0.9662064494831222\n",
      "Validation loss decreased (0.968352 --> 0.966206).  Saving model ...\n"
     ]
    },
    {
     "name": "stderr",
     "output_type": "stream",
     "text": [
      "Epoch: [279]/[1200] Training: 100%|██████████| 7/7 [00:04<00:00,  1.63it/s, loss=0.00198, train_ca=100, train_wa=1]     \n",
      "Validating: 100%|██████████| 1/1 [00:00<00:00,  1.97it/s, val_loss=0.478, val_ca=93.4, val_wa=0.709]\n"
     ]
    },
    {
     "name": "stdout",
     "output_type": "stream",
     "text": [
      "0.964468287191357\n",
      "Validation loss decreased (0.966206 --> 0.964468).  Saving model ...\n"
     ]
    },
    {
     "name": "stderr",
     "output_type": "stream",
     "text": [
      "Epoch: [280]/[1200] Training: 100%|██████████| 7/7 [00:04<00:00,  1.64it/s, loss=0.000754, train_ca=100, train_wa=1]    \n",
      "Validating: 100%|██████████| 1/1 [00:00<00:00,  2.53it/s, val_loss=0.391, val_ca=95, val_wa=0.744]\n"
     ]
    },
    {
     "name": "stdout",
     "output_type": "stream",
     "text": [
      "0.9624359810605962\n",
      "Validation loss decreased (0.964468 --> 0.962436).  Saving model ...\n"
     ]
    },
    {
     "name": "stderr",
     "output_type": "stream",
     "text": [
      "Epoch: [281]/[1200] Training: 100%|██████████| 7/7 [00:04<00:00,  1.68it/s, loss=7.24e-5, train_ca=100, train_wa=1]      \n",
      "Validating: 100%|██████████| 1/1 [00:00<00:00,  2.50it/s, val_loss=0.339, val_ca=95.5, val_wa=0.814]\n"
     ]
    },
    {
     "name": "stdout",
     "output_type": "stream",
     "text": [
      "0.9602331206360469\n",
      "Validation loss decreased (0.962436 --> 0.960233).  Saving model ...\n"
     ]
    },
    {
     "name": "stderr",
     "output_type": "stream",
     "text": [
      "Epoch: [282]/[1200] Training: 100%|██████████| 7/7 [00:04<00:00,  1.72it/s, loss=0.0116, train_ca=100, train_wa=1]      \n",
      "Validating: 100%|██████████| 1/1 [00:00<00:00,  1.64it/s, val_loss=0.434, val_ca=94.4, val_wa=0.744]\n"
     ]
    },
    {
     "name": "stdout",
     "output_type": "stream",
     "text": [
      "0.958380536819008\n",
      "Validation loss decreased (0.960233 --> 0.958381).  Saving model ...\n"
     ]
    },
    {
     "name": "stderr",
     "output_type": "stream",
     "text": [
      "Epoch: [283]/[1200] Training: 100%|██████████| 7/7 [00:04<00:00,  1.73it/s, loss=0.00203, train_ca=100, train_wa=1]      \n",
      "Validating: 100%|██████████| 1/1 [00:00<00:00,  1.69it/s, val_loss=0.422, val_ca=93.7, val_wa=0.721]\n"
     ]
    },
    {
     "name": "stdout",
     "output_type": "stream",
     "text": [
      "0.9564995587917796\n",
      "Validation loss decreased (0.958381 --> 0.956500).  Saving model ...\n"
     ]
    },
    {
     "name": "stderr",
     "output_type": "stream",
     "text": [
      "Epoch: [284]/[1200] Training: 100%|██████████| 7/7 [00:03<00:00,  1.76it/s, loss=0.0226, train_ca=97.1, train_wa=0.8]   \n",
      "Validating: 100%|██████████| 1/1 [00:00<00:00,  1.68it/s, val_loss=0.389, val_ca=94, val_wa=0.767]\n"
     ]
    },
    {
     "name": "stdout",
     "output_type": "stream",
     "text": [
      "0.9545150599279604\n",
      "Validation loss decreased (0.956500 --> 0.954515).  Saving model ...\n"
     ]
    },
    {
     "name": "stderr",
     "output_type": "stream",
     "text": [
      "Epoch: [285]/[1200] Training: 100%|██████████| 7/7 [00:04<00:00,  1.61it/s, loss=0.00059, train_ca=100, train_wa=1]     \n",
      "Validating: 100%|██████████| 1/1 [00:00<00:00,  2.00it/s, val_loss=0.341, val_ca=95.7, val_wa=0.802]\n"
     ]
    },
    {
     "name": "stdout",
     "output_type": "stream",
     "text": [
      "0.9523781487127629\n",
      "Validation loss decreased (0.954515 --> 0.952378).  Saving model ...\n"
     ]
    },
    {
     "name": "stderr",
     "output_type": "stream",
     "text": [
      "Epoch: [286]/[1200] Training: 100%|██████████| 7/7 [00:04<00:00,  1.74it/s, loss=0.000185, train_ca=100, train_wa=1]    \n",
      "Validating: 100%|██████████| 1/1 [00:00<00:00,  1.67it/s, val_loss=0.312, val_ca=95.9, val_wa=0.814]\n"
     ]
    },
    {
     "name": "stdout",
     "output_type": "stream",
     "text": [
      "0.9501562476572063\n",
      "Validation loss decreased (0.952378 --> 0.950156).  Saving model ...\n"
     ]
    },
    {
     "name": "stderr",
     "output_type": "stream",
     "text": [
      "Epoch: [287]/[1200] Training: 100%|██████████| 7/7 [00:04<00:00,  1.64it/s, loss=0.0153, train_ca=100, train_wa=1]      \n",
      "Validating: 100%|██████████| 1/1 [00:00<00:00,  1.64it/s, val_loss=0.337, val_ca=95, val_wa=0.767]\n"
     ]
    },
    {
     "name": "stdout",
     "output_type": "stream",
     "text": [
      "0.948034788498004\n",
      "Validation loss decreased (0.950156 --> 0.948035).  Saving model ...\n"
     ]
    },
    {
     "name": "stderr",
     "output_type": "stream",
     "text": [
      "Epoch: [288]/[1200] Training: 100%|██████████| 7/7 [00:03<00:00,  1.86it/s, loss=0.000168, train_ca=100, train_wa=1]    \n",
      "Validating: 100%|██████████| 1/1 [00:00<00:00,  3.32it/s, val_loss=0.339, val_ca=95.3, val_wa=0.802]\n"
     ]
    },
    {
     "name": "stdout",
     "output_type": "stream",
     "text": [
      "0.9459330898934397\n",
      "Validation loss decreased (0.948035 --> 0.945933).  Saving model ...\n"
     ]
    },
    {
     "name": "stderr",
     "output_type": "stream",
     "text": [
      "Epoch: [289]/[1200] Training: 100%|██████████| 7/7 [00:03<00:00,  1.81it/s, loss=0.000364, train_ca=100, train_wa=1]    \n",
      "Validating: 100%|██████████| 1/1 [00:00<00:00,  2.53it/s, val_loss=0.384, val_ca=94.7, val_wa=0.791]\n"
     ]
    },
    {
     "name": "stdout",
     "output_type": "stream",
     "text": [
      "0.9440026386701774\n",
      "Validation loss decreased (0.945933 --> 0.944003).  Saving model ...\n"
     ]
    },
    {
     "name": "stderr",
     "output_type": "stream",
     "text": [
      "Epoch: [290]/[1200] Training: 100%|██████████| 7/7 [00:04<00:00,  1.73it/s, loss=0.000123, train_ca=100, train_wa=1]    \n",
      "Validating: 100%|██████████| 1/1 [00:00<00:00,  3.42it/s, val_loss=0.296, val_ca=95.8, val_wa=0.814]\n"
     ]
    },
    {
     "name": "stdout",
     "output_type": "stream",
     "text": [
      "0.9417839731051497\n",
      "Validation loss decreased (0.944003 --> 0.941784).  Saving model ...\n"
     ]
    },
    {
     "name": "stderr",
     "output_type": "stream",
     "text": [
      "Epoch: [291]/[1200] Training: 100%|██████████| 7/7 [00:04<00:00,  1.62it/s, loss=0.0114, train_ca=100, train_wa=1]      \n",
      "Validating: 100%|██████████| 1/1 [00:00<00:00,  3.27it/s, val_loss=0.31, val_ca=95.8, val_wa=0.802]\n"
     ]
    },
    {
     "name": "stdout",
     "output_type": "stream",
     "text": [
      "0.939626541255684\n",
      "Validation loss decreased (0.941784 --> 0.939627).  Saving model ...\n"
     ]
    },
    {
     "name": "stderr",
     "output_type": "stream",
     "text": [
      "Epoch: [292]/[1200] Training: 100%|██████████| 7/7 [00:04<00:00,  1.61it/s, loss=0.0634, train_ca=97.1, train_wa=0.8]   \n",
      "Validating: 100%|██████████| 1/1 [00:00<00:00,  2.47it/s, val_loss=0.36, val_ca=94.5, val_wa=0.721]\n"
     ]
    },
    {
     "name": "stdout",
     "output_type": "stream",
     "text": [
      "0.9376561723801554\n",
      "Validation loss decreased (0.939627 --> 0.937656).  Saving model ...\n"
     ]
    },
    {
     "name": "stderr",
     "output_type": "stream",
     "text": [
      "Epoch: [293]/[1200] Training: 100%|██████████| 7/7 [00:04<00:00,  1.54it/s, loss=0.00191, train_ca=100, train_wa=1]      \n",
      "Validating: 100%|██████████| 1/1 [00:00<00:00,  1.98it/s, val_loss=0.362, val_ca=95.5, val_wa=0.779]\n"
     ]
    },
    {
     "name": "stdout",
     "output_type": "stream",
     "text": [
      "0.9357061620485985\n",
      "Validation loss decreased (0.937656 --> 0.935706).  Saving model ...\n"
     ]
    },
    {
     "name": "stderr",
     "output_type": "stream",
     "text": [
      "Epoch: [294]/[1200] Training: 100%|██████████| 7/7 [00:04<00:00,  1.69it/s, loss=0.000186, train_ca=100, train_wa=1]    \n",
      "Validating: 100%|██████████| 1/1 [00:00<00:00,  1.98it/s, val_loss=0.451, val_ca=94.3, val_wa=0.756]\n"
     ]
    },
    {
     "name": "stdout",
     "output_type": "stream",
     "text": [
      "0.9340690402565776\n",
      "Validation loss decreased (0.935706 --> 0.934069).  Saving model ...\n"
     ]
    },
    {
     "name": "stderr",
     "output_type": "stream",
     "text": [
      "Epoch: [295]/[1200] Training: 100%|██████████| 7/7 [00:04<00:00,  1.71it/s, loss=0.000493, train_ca=100, train_wa=1]    \n",
      "Validating: 100%|██████████| 1/1 [00:00<00:00,  2.02it/s, val_loss=0.372, val_ca=94.6, val_wa=0.791]\n"
     ]
    },
    {
     "name": "stdout",
     "output_type": "stream",
     "text": [
      "0.9321759096299759\n",
      "Validation loss decreased (0.934069 --> 0.932176).  Saving model ...\n"
     ]
    },
    {
     "name": "stderr",
     "output_type": "stream",
     "text": [
      "Epoch: [296]/[1200] Training: 100%|██████████| 7/7 [00:04<00:00,  1.50it/s, loss=0.00228, train_ca=100, train_wa=1]     \n",
      "Validating: 100%|██████████| 1/1 [00:00<00:00,  1.67it/s, val_loss=0.426, val_ca=93.4, val_wa=0.756]\n"
     ]
    },
    {
     "name": "stdout",
     "output_type": "stream",
     "text": [
      "0.9304786754534549\n",
      "Validation loss decreased (0.932176 --> 0.930479).  Saving model ...\n"
     ]
    },
    {
     "name": "stderr",
     "output_type": "stream",
     "text": [
      "Epoch: [297]/[1200] Training: 100%|██████████| 7/7 [00:04<00:00,  1.64it/s, loss=0.00163, train_ca=100, train_wa=1]     \n",
      "Validating: 100%|██████████| 1/1 [00:00<00:00,  2.39it/s, val_loss=0.366, val_ca=95.3, val_wa=0.802]\n"
     ]
    },
    {
     "name": "stdout",
     "output_type": "stream",
     "text": [
      "0.9285895815461774\n",
      "Validation loss decreased (0.930479 --> 0.928590).  Saving model ...\n"
     ]
    },
    {
     "name": "stderr",
     "output_type": "stream",
     "text": [
      "Epoch: [298]/[1200] Training: 100%|██████████| 7/7 [00:04<00:00,  1.75it/s, loss=0.121, train_ca=94.6, train_wa=0.6]    \n",
      "Validating: 100%|██████████| 1/1 [00:00<00:00,  1.99it/s, val_loss=0.351, val_ca=93.8, val_wa=0.744]\n"
     ]
    },
    {
     "name": "stdout",
     "output_type": "stream",
     "text": [
      "0.9266634080807368\n",
      "Validation loss decreased (0.928590 --> 0.926663).  Saving model ...\n"
     ]
    },
    {
     "name": "stderr",
     "output_type": "stream",
     "text": [
      "Epoch: [299]/[1200] Training: 100%|██████████| 7/7 [00:04<00:00,  1.47it/s, loss=0.0613, train_ca=97.1, train_wa=0.8]   \n",
      "Validating: 100%|██████████| 1/1 [00:00<00:00,  1.98it/s, val_loss=0.382, val_ca=95, val_wa=0.791]\n"
     ]
    },
    {
     "name": "stdout",
     "output_type": "stream",
     "text": [
      "0.9248549710476517\n",
      "Validation loss decreased (0.926663 --> 0.924855).  Saving model ...\n"
     ]
    },
    {
     "name": "stderr",
     "output_type": "stream",
     "text": [
      "Epoch: [300]/[1200] Training: 100%|██████████| 7/7 [00:04<00:00,  1.54it/s, loss=0.102, train_ca=97.5, train_wa=0.8]    \n",
      "Validating: 100%|██████████| 1/1 [00:00<00:00,  1.66it/s, val_loss=0.418, val_ca=95, val_wa=0.779]\n"
     ]
    },
    {
     "name": "stdout",
     "output_type": "stream",
     "text": [
      "0.9231767918889886\n",
      "Validation loss decreased (0.924855 --> 0.923177).  Saving model ...\n"
     ]
    },
    {
     "name": "stderr",
     "output_type": "stream",
     "text": [
      "Epoch: [301]/[1200] Training: 100%|██████████| 7/7 [00:04<00:00,  1.50it/s, loss=0.00535, train_ca=100, train_wa=1]     \n",
      "Validating: 100%|██████████| 1/1 [00:00<00:00,  1.67it/s, val_loss=0.473, val_ca=94.2, val_wa=0.733]\n"
     ]
    },
    {
     "name": "stdout",
     "output_type": "stream",
     "text": [
      "0.9216910644923106\n",
      "Validation loss decreased (0.923177 --> 0.921691).  Saving model ...\n"
     ]
    },
    {
     "name": "stderr",
     "output_type": "stream",
     "text": [
      "Epoch: [302]/[1200] Training: 100%|██████████| 7/7 [00:04<00:00,  1.58it/s, loss=0.0539, train_ca=97.1, train_wa=0.8]   \n",
      "Validating: 100%|██████████| 1/1 [00:00<00:00,  1.96it/s, val_loss=0.34, val_ca=95.6, val_wa=0.826]\n"
     ]
    },
    {
     "name": "stdout",
     "output_type": "stream",
     "text": [
      "0.919777803809235\n",
      "Validation loss decreased (0.921691 --> 0.919778).  Saving model ...\n"
     ]
    },
    {
     "name": "stderr",
     "output_type": "stream",
     "text": [
      "Epoch: [303]/[1200] Training: 100%|██████████| 7/7 [00:04<00:00,  1.57it/s, loss=0.00175, train_ca=100, train_wa=1]     \n",
      "Validating: 100%|██████████| 1/1 [00:00<00:00,  2.42it/s, val_loss=0.345, val_ca=95, val_wa=0.779]\n"
     ]
    },
    {
     "name": "stdout",
     "output_type": "stream",
     "text": [
      "0.9178948832339928\n",
      "Validation loss decreased (0.919778 --> 0.917895).  Saving model ...\n"
     ]
    },
    {
     "name": "stderr",
     "output_type": "stream",
     "text": [
      "Epoch: [304]/[1200] Training: 100%|██████████| 7/7 [00:04<00:00,  1.62it/s, loss=0.000177, train_ca=100, train_wa=1]    \n",
      "Validating: 100%|██████████| 1/1 [00:00<00:00,  2.47it/s, val_loss=0.35, val_ca=95.6, val_wa=0.791]\n"
     ]
    },
    {
     "name": "stdout",
     "output_type": "stream",
     "text": [
      "0.9160375213311389\n",
      "Validation loss decreased (0.917895 --> 0.916038).  Saving model ...\n"
     ]
    },
    {
     "name": "stderr",
     "output_type": "stream",
     "text": [
      "Epoch: [305]/[1200] Training: 100%|██████████| 7/7 [00:04<00:00,  1.66it/s, loss=0.0124, train_ca=97.1, train_wa=0.8]   \n",
      "Validating: 100%|██████████| 1/1 [00:00<00:00,  1.43it/s, val_loss=0.417, val_ca=94.6, val_wa=0.779]\n"
     ]
    },
    {
     "name": "stdout",
     "output_type": "stream",
     "text": [
      "0.9144130430703055\n",
      "Validation loss decreased (0.916038 --> 0.914413).  Saving model ...\n"
     ]
    },
    {
     "name": "stderr",
     "output_type": "stream",
     "text": [
      "Epoch: [306]/[1200] Training: 100%|██████████| 7/7 [00:04<00:00,  1.67it/s, loss=0.000886, train_ca=100, train_wa=1]    \n",
      "Validating: 100%|██████████| 1/1 [00:00<00:00,  2.47it/s, val_loss=0.39, val_ca=93.5, val_wa=0.744]\n"
     ]
    },
    {
     "name": "stdout",
     "output_type": "stream",
     "text": [
      "0.9127111849072692\n",
      "Validation loss decreased (0.914413 --> 0.912711).  Saving model ...\n"
     ]
    },
    {
     "name": "stderr",
     "output_type": "stream",
     "text": [
      "Epoch: [307]/[1200] Training: 100%|██████████| 7/7 [00:04<00:00,  1.68it/s, loss=0.0201, train_ca=97.1, train_wa=0.8]   \n",
      "Validating: 100%|██████████| 1/1 [00:00<00:00,  1.91it/s, val_loss=0.489, val_ca=94, val_wa=0.744]\n"
     ]
    },
    {
     "name": "stdout",
     "output_type": "stream",
     "text": [
      "0.9113414569194263\n",
      "Validation loss decreased (0.912711 --> 0.911341).  Saving model ...\n"
     ]
    },
    {
     "name": "stderr",
     "output_type": "stream",
     "text": [
      "Epoch: [308]/[1200] Training: 100%|██████████| 7/7 [00:04<00:00,  1.62it/s, loss=0.000318, train_ca=100, train_wa=1]    \n",
      "Validating: 100%|██████████| 1/1 [00:00<00:00,  1.98it/s, val_loss=0.422, val_ca=94.3, val_wa=0.767]\n"
     ]
    },
    {
     "name": "stdout",
     "output_type": "stream",
     "text": [
      "0.9097638695470749\n",
      "Validation loss decreased (0.911341 --> 0.909764).  Saving model ...\n"
     ]
    },
    {
     "name": "stderr",
     "output_type": "stream",
     "text": [
      "Epoch: [309]/[1200] Training: 100%|██████████| 7/7 [00:04<00:00,  1.71it/s, loss=0.0897, train_ca=97.1, train_wa=0.8]   \n",
      "Validating: 100%|██████████| 1/1 [00:00<00:00,  1.96it/s, val_loss=0.415, val_ca=94.7, val_wa=0.767]\n"
     ]
    },
    {
     "name": "stdout",
     "output_type": "stream",
     "text": [
      "0.9081745584678037\n",
      "Validation loss decreased (0.909764 --> 0.908175).  Saving model ...\n"
     ]
    },
    {
     "name": "stderr",
     "output_type": "stream",
     "text": [
      "Epoch: [310]/[1200] Training: 100%|██████████| 7/7 [00:04<00:00,  1.61it/s, loss=0.000294, train_ca=100, train_wa=1]    \n",
      "Validating: 100%|██████████| 1/1 [00:00<00:00,  1.94it/s, val_loss=0.434, val_ca=95, val_wa=0.779]\n"
     ]
    },
    {
     "name": "stdout",
     "output_type": "stream",
     "text": [
      "0.906655624222297\n",
      "Validation loss decreased (0.908175 --> 0.906656).  Saving model ...\n"
     ]
    },
    {
     "name": "stderr",
     "output_type": "stream",
     "text": [
      "Epoch: [311]/[1200] Training: 100%|██████████| 7/7 [00:04<00:00,  1.60it/s, loss=0.000394, train_ca=100, train_wa=1]    \n",
      "Validating: 100%|██████████| 1/1 [00:00<00:00,  2.02it/s, val_loss=0.435, val_ca=94.7, val_wa=0.791]\n"
     ]
    },
    {
     "name": "stdout",
     "output_type": "stream",
     "text": [
      "0.9051492662665943\n",
      "Validation loss decreased (0.906656 --> 0.905149).  Saving model ...\n"
     ]
    },
    {
     "name": "stderr",
     "output_type": "stream",
     "text": [
      "Epoch: [312]/[1200] Training: 100%|██████████| 7/7 [00:04<00:00,  1.54it/s, loss=0.118, train_ca=97.5, train_wa=0.8]    \n",
      "Validating: 100%|██████████| 1/1 [00:00<00:00,  1.68it/s, val_loss=0.481, val_ca=94.2, val_wa=0.779]\n"
     ]
    },
    {
     "name": "stdout",
     "output_type": "stream",
     "text": [
      "0.9037986112058543\n",
      "Validation loss decreased (0.905149 --> 0.903799).  Saving model ...\n"
     ]
    },
    {
     "name": "stderr",
     "output_type": "stream",
     "text": [
      "Epoch: [313]/[1200] Training: 100%|██████████| 7/7 [00:04<00:00,  1.68it/s, loss=0.51, train_ca=97.1, train_wa=0.8]     \n",
      "Validating: 100%|██████████| 1/1 [00:00<00:00,  1.99it/s, val_loss=0.455, val_ca=93.9, val_wa=0.779]\n"
     ]
    },
    {
     "name": "stdout",
     "output_type": "stream",
     "text": [
      "0.9023747192488776\n",
      "Validation loss decreased (0.903799 --> 0.902375).  Saving model ...\n"
     ]
    },
    {
     "name": "stderr",
     "output_type": "stream",
     "text": [
      "Epoch: [314]/[1200] Training: 100%|██████████| 7/7 [00:04<00:00,  1.68it/s, loss=0.000601, train_ca=100, train_wa=1]    \n",
      "Validating: 100%|██████████| 1/1 [00:00<00:00,  4.76it/s, val_loss=0.449, val_ca=94.1, val_wa=0.721]\n"
     ]
    },
    {
     "name": "stdout",
     "output_type": "stream",
     "text": [
      "0.9009410076880757\n",
      "Validation loss decreased (0.902375 --> 0.900941).  Saving model ...\n"
     ]
    },
    {
     "name": "stderr",
     "output_type": "stream",
     "text": [
      "Epoch: [315]/[1200] Training: 100%|██████████| 7/7 [00:04<00:00,  1.68it/s, loss=0.0314, train_ca=97.1, train_wa=0.8]   \n",
      "Validating: 100%|██████████| 1/1 [00:00<00:00,  1.98it/s, val_loss=0.449, val_ca=94.4, val_wa=0.756]\n"
     ]
    },
    {
     "name": "stdout",
     "output_type": "stream",
     "text": [
      "0.8995141614498776\n",
      "Validation loss decreased (0.900941 --> 0.899514).  Saving model ...\n"
     ]
    },
    {
     "name": "stderr",
     "output_type": "stream",
     "text": [
      "Epoch: [316]/[1200] Training: 100%|██████████| 7/7 [00:04<00:00,  1.67it/s, loss=0.000303, train_ca=100, train_wa=1]    \n",
      "Validating: 100%|██████████| 1/1 [00:00<00:00,  1.69it/s, val_loss=0.391, val_ca=95.2, val_wa=0.802]\n"
     ]
    },
    {
     "name": "stdout",
     "output_type": "stream",
     "text": [
      "0.8979165989835307\n",
      "Validation loss decreased (0.899514 --> 0.897917).  Saving model ...\n"
     ]
    },
    {
     "name": "stderr",
     "output_type": "stream",
     "text": [
      "Epoch: [317]/[1200] Training: 100%|██████████| 7/7 [00:04<00:00,  1.65it/s, loss=0.000226, train_ca=100, train_wa=1]    \n",
      "Validating: 100%|██████████| 1/1 [00:00<00:00,  1.96it/s, val_loss=0.35, val_ca=95.3, val_wa=0.767]\n"
     ]
    },
    {
     "name": "stdout",
     "output_type": "stream",
     "text": [
      "0.896198598101595\n",
      "Validation loss decreased (0.897917 --> 0.896199).  Saving model ...\n"
     ]
    },
    {
     "name": "stderr",
     "output_type": "stream",
     "text": [
      "Epoch: [318]/[1200] Training: 100%|██████████| 7/7 [00:04<00:00,  1.56it/s, loss=9.25e-5, train_ca=100, train_wa=1]     \n",
      "Validating: 100%|██████████| 1/1 [00:00<00:00,  1.95it/s, val_loss=0.36, val_ca=94.4, val_wa=0.744]\n"
     ]
    },
    {
     "name": "stdout",
     "output_type": "stream",
     "text": [
      "0.8945228756405413\n",
      "Validation loss decreased (0.896199 --> 0.894523).  Saving model ...\n"
     ]
    },
    {
     "name": "stderr",
     "output_type": "stream",
     "text": [
      "Epoch: [319]/[1200] Training: 100%|██████████| 7/7 [00:04<00:00,  1.61it/s, loss=0.00089, train_ca=100, train_wa=1]     \n",
      "Validating: 100%|██████████| 1/1 [00:00<00:00,  1.96it/s, val_loss=0.364, val_ca=94.7, val_wa=0.733]\n"
     ]
    },
    {
     "name": "stdout",
     "output_type": "stream",
     "text": [
      "0.8928713440152344\n",
      "Validation loss decreased (0.894523 --> 0.892871).  Saving model ...\n"
     ]
    },
    {
     "name": "stderr",
     "output_type": "stream",
     "text": [
      "Epoch: [320]/[1200] Training: 100%|██████████| 7/7 [00:04<00:00,  1.66it/s, loss=4.42e-5, train_ca=100, train_wa=1]     \n",
      "Validating: 100%|██████████| 1/1 [00:00<00:00,  2.49it/s, val_loss=0.485, val_ca=92.7, val_wa=0.709]\n"
     ]
    },
    {
     "name": "stdout",
     "output_type": "stream",
     "text": [
      "0.8916032608621609\n",
      "Validation loss decreased (0.892871 --> 0.891603).  Saving model ...\n"
     ]
    },
    {
     "name": "stderr",
     "output_type": "stream",
     "text": [
      "Epoch: [321]/[1200] Training: 100%|██████████| 7/7 [00:04<00:00,  1.59it/s, loss=9.28e-5, train_ca=100, train_wa=1]     \n",
      "Validating: 100%|██████████| 1/1 [00:00<00:00,  2.01it/s, val_loss=0.37, val_ca=94.9, val_wa=0.791]\n"
     ]
    },
    {
     "name": "stdout",
     "output_type": "stream",
     "text": [
      "0.8899888196043185\n",
      "Validation loss decreased (0.891603 --> 0.889989).  Saving model ...\n"
     ]
    },
    {
     "name": "stderr",
     "output_type": "stream",
     "text": [
      "Epoch: [322]/[1200] Training: 100%|██████████| 7/7 [00:04<00:00,  1.63it/s, loss=0.000117, train_ca=100, train_wa=1]    \n",
      "Validating: 100%|██████████| 1/1 [00:00<00:00,  1.98it/s, val_loss=0.342, val_ca=95.8, val_wa=0.86]\n"
     ]
    },
    {
     "name": "stdout",
     "output_type": "stream",
     "text": [
      "0.8882972497814967\n",
      "Validation loss decreased (0.889989 --> 0.888297).  Saving model ...\n"
     ]
    },
    {
     "name": "stderr",
     "output_type": "stream",
     "text": [
      "Epoch: [323]/[1200] Training: 100%|██████████| 7/7 [00:04<00:00,  1.50it/s, loss=0.00372, train_ca=100, train_wa=1]     \n",
      "Validating: 100%|██████████| 1/1 [00:00<00:00,  1.68it/s, val_loss=0.345, val_ca=95.8, val_wa=0.837]\n"
     ]
    },
    {
     "name": "stdout",
     "output_type": "stream",
     "text": [
      "0.8866240812264956\n",
      "Validation loss decreased (0.888297 --> 0.886624).  Saving model ...\n"
     ]
    },
    {
     "name": "stderr",
     "output_type": "stream",
     "text": [
      "Epoch: [324]/[1200] Training: 100%|██████████| 7/7 [00:04<00:00,  1.63it/s, loss=0.000263, train_ca=100, train_wa=1]    \n",
      "Validating: 100%|██████████| 1/1 [00:00<00:00,  2.43it/s, val_loss=0.375, val_ca=95.7, val_wa=0.837]\n"
     ]
    },
    {
     "name": "stdout",
     "output_type": "stream",
     "text": [
      "0.8850532830492851\n",
      "Validation loss decreased (0.886624 --> 0.885053).  Saving model ...\n"
     ]
    },
    {
     "name": "stderr",
     "output_type": "stream",
     "text": [
      "Epoch: [325]/[1200] Training: 100%|██████████| 7/7 [00:04<00:00,  1.58it/s, loss=0.000179, train_ca=100, train_wa=1]     \n",
      "Validating: 100%|██████████| 1/1 [00:00<00:00,  1.68it/s, val_loss=0.392, val_ca=94.7, val_wa=0.791]\n"
     ]
    },
    {
     "name": "stdout",
     "output_type": "stream",
     "text": [
      "0.8835460384139956\n",
      "Validation loss decreased (0.885053 --> 0.883546).  Saving model ...\n"
     ]
    },
    {
     "name": "stderr",
     "output_type": "stream",
     "text": [
      "Epoch: [326]/[1200] Training: 100%|██████████| 7/7 [00:04<00:00,  1.66it/s, loss=0.00205, train_ca=100, train_wa=1]     \n",
      "Validating: 100%|██████████| 1/1 [00:00<00:00,  2.47it/s, val_loss=0.449, val_ca=94.7, val_wa=0.779]\n"
     ]
    },
    {
     "name": "stdout",
     "output_type": "stream",
     "text": [
      "0.8822219262762767\n",
      "Validation loss decreased (0.883546 --> 0.882222).  Saving model ...\n"
     ]
    },
    {
     "name": "stderr",
     "output_type": "stream",
     "text": [
      "Epoch: [327]/[1200] Training: 100%|██████████| 7/7 [00:03<00:00,  1.75it/s, loss=0.00051, train_ca=100, train_wa=1]      \n",
      "Validating: 100%|██████████| 1/1 [00:00<00:00,  1.67it/s, val_loss=0.402, val_ca=94, val_wa=0.733]\n"
     ]
    },
    {
     "name": "stdout",
     "output_type": "stream",
     "text": [
      "0.8807616437640958\n",
      "Validation loss decreased (0.882222 --> 0.880762).  Saving model ...\n"
     ]
    },
    {
     "name": "stderr",
     "output_type": "stream",
     "text": [
      "Epoch: [328]/[1200] Training: 100%|██████████| 7/7 [00:04<00:00,  1.61it/s, loss=0.000282, train_ca=100, train_wa=1]    \n",
      "Validating: 100%|██████████| 1/1 [00:00<00:00,  1.66it/s, val_loss=0.359, val_ca=94.5, val_wa=0.779]\n"
     ]
    },
    {
     "name": "stdout",
     "output_type": "stream",
     "text": [
      "0.8791791246695952\n",
      "Validation loss decreased (0.880762 --> 0.879179).  Saving model ...\n"
     ]
    },
    {
     "name": "stderr",
     "output_type": "stream",
     "text": [
      "Epoch: [329]/[1200] Training: 100%|██████████| 7/7 [00:04<00:00,  1.54it/s, loss=0.0276, train_ca=97.5, train_wa=0.8]   \n",
      "Validating: 100%|██████████| 1/1 [00:00<00:00,  2.01it/s, val_loss=0.371, val_ca=94.9, val_wa=0.779]\n"
     ]
    },
    {
     "name": "stdout",
     "output_type": "stream",
     "text": [
      "0.8776427440772964\n",
      "Validation loss decreased (0.879179 --> 0.877643).  Saving model ...\n"
     ]
    },
    {
     "name": "stderr",
     "output_type": "stream",
     "text": [
      "Epoch: [330]/[1200] Training: 100%|██████████| 7/7 [00:04<00:00,  1.68it/s, loss=0.00013, train_ca=100, train_wa=1]     \n",
      "Validating: 100%|██████████| 1/1 [00:00<00:00,  2.00it/s, val_loss=0.353, val_ca=96.2, val_wa=0.849]\n"
     ]
    },
    {
     "name": "stdout",
     "output_type": "stream",
     "text": [
      "0.8760635683155922\n",
      "Validation loss decreased (0.877643 --> 0.876064).  Saving model ...\n"
     ]
    },
    {
     "name": "stderr",
     "output_type": "stream",
     "text": [
      "Epoch: [331]/[1200] Training: 100%|██████████| 7/7 [00:04<00:00,  1.57it/s, loss=0.000335, train_ca=100, train_wa=1]    \n",
      "Validating: 100%|██████████| 1/1 [00:00<00:00,  2.47it/s, val_loss=0.365, val_ca=95.7, val_wa=0.814]\n"
     ]
    },
    {
     "name": "stdout",
     "output_type": "stream",
     "text": [
      "0.8745280113127138\n",
      "Validation loss decreased (0.876064 --> 0.874528).  Saving model ...\n"
     ]
    },
    {
     "name": "stderr",
     "output_type": "stream",
     "text": [
      "Epoch: [332]/[1200] Training: 100%|██████████| 7/7 [00:04<00:00,  1.64it/s, loss=9.14e-5, train_ca=100, train_wa=1]     \n",
      "Validating: 100%|██████████| 1/1 [00:00<00:00,  1.65it/s, val_loss=0.413, val_ca=94.8, val_wa=0.791]\n"
     ]
    },
    {
     "name": "stdout",
     "output_type": "stream",
     "text": [
      "0.8731461563510096\n",
      "Validation loss decreased (0.874528 --> 0.873146).  Saving model ...\n"
     ]
    },
    {
     "name": "stderr",
     "output_type": "stream",
     "text": [
      "Epoch: [333]/[1200] Training: 100%|██████████| 7/7 [00:04<00:00,  1.68it/s, loss=0.033, train_ca=97.1, train_wa=0.8]    \n",
      "Validating: 100%|██████████| 1/1 [00:00<00:00,  2.48it/s, val_loss=0.419, val_ca=95, val_wa=0.767]\n"
     ]
    },
    {
     "name": "stdout",
     "output_type": "stream",
     "text": [
      "0.8717917188779631\n",
      "Validation loss decreased (0.873146 --> 0.871792).  Saving model ...\n"
     ]
    },
    {
     "name": "stderr",
     "output_type": "stream",
     "text": [
      "Epoch: [334]/[1200] Training: 100%|██████████| 7/7 [00:04<00:00,  1.53it/s, loss=0.00023, train_ca=100, train_wa=1]     \n",
      "Validating: 100%|██████████| 1/1 [00:00<00:00,  1.95it/s, val_loss=0.384, val_ca=95.4, val_wa=0.767]\n"
     ]
    },
    {
     "name": "stdout",
     "output_type": "stream",
     "text": [
      "0.8703392873562518\n",
      "Validation loss decreased (0.871792 --> 0.870339).  Saving model ...\n"
     ]
    },
    {
     "name": "stderr",
     "output_type": "stream",
     "text": [
      "Epoch: [335]/[1200] Training: 100%|██████████| 7/7 [00:04<00:00,  1.47it/s, loss=9.1e-5, train_ca=100, train_wa=1]      \n",
      "Validating: 100%|██████████| 1/1 [00:00<00:00,  1.66it/s, val_loss=0.381, val_ca=95.7, val_wa=0.779]\n"
     ]
    },
    {
     "name": "stdout",
     "output_type": "stream",
     "text": [
      "0.868886721770912\n",
      "Validation loss decreased (0.870339 --> 0.868887).  Saving model ...\n"
     ]
    },
    {
     "name": "stderr",
     "output_type": "stream",
     "text": [
      "Epoch: [336]/[1200] Training: 100%|██████████| 7/7 [00:04<00:00,  1.62it/s, loss=9.32e-5, train_ca=100, train_wa=1]     \n",
      "Validating: 100%|██████████| 1/1 [00:00<00:00,  1.65it/s, val_loss=0.384, val_ca=95.5, val_wa=0.779]\n"
     ]
    },
    {
     "name": "stdout",
     "output_type": "stream",
     "text": [
      "0.867451982208963\n",
      "Validation loss decreased (0.868887 --> 0.867452).  Saving model ...\n"
     ]
    },
    {
     "name": "stderr",
     "output_type": "stream",
     "text": [
      "Epoch: [337]/[1200] Training: 100%|██████████| 7/7 [00:04<00:00,  1.57it/s, loss=3.7e-5, train_ca=100, train_wa=1]      \n",
      "Validating: 100%|██████████| 1/1 [00:00<00:00,  4.74it/s, val_loss=0.387, val_ca=95.4, val_wa=0.779]\n"
     ]
    },
    {
     "name": "stdout",
     "output_type": "stream",
     "text": [
      "0.8660359975159344\n",
      "Validation loss decreased (0.867452 --> 0.866036).  Saving model ...\n"
     ]
    },
    {
     "name": "stderr",
     "output_type": "stream",
     "text": [
      "Epoch: [338]/[1200] Training: 100%|██████████| 7/7 [00:04<00:00,  1.63it/s, loss=4.37e-5, train_ca=100, train_wa=1]    \n",
      "Validating: 100%|██████████| 1/1 [00:00<00:00,  3.23it/s, val_loss=0.387, val_ca=95.4, val_wa=0.779]\n"
     ]
    },
    {
     "name": "stdout",
     "output_type": "stream",
     "text": [
      "0.8646278929184464\n",
      "Validation loss decreased (0.866036 --> 0.864628).  Saving model ...\n"
     ]
    },
    {
     "name": "stderr",
     "output_type": "stream",
     "text": [
      "Epoch: [339]/[1200] Training: 100%|██████████| 7/7 [00:04<00:00,  1.56it/s, loss=0.000953, train_ca=100, train_wa=1]    \n",
      "Validating: 100%|██████████| 1/1 [00:00<00:00,  2.46it/s, val_loss=0.373, val_ca=95.5, val_wa=0.791]\n"
     ]
    },
    {
     "name": "stdout",
     "output_type": "stream",
     "text": [
      "0.863184957210619\n",
      "Validation loss decreased (0.864628 --> 0.863185).  Saving model ...\n"
     ]
    },
    {
     "name": "stderr",
     "output_type": "stream",
     "text": [
      "Epoch: [340]/[1200] Training: 100%|██████████| 7/7 [00:04<00:00,  1.52it/s, loss=4.61e-5, train_ca=100, train_wa=1]     \n",
      "Validating: 100%|██████████| 1/1 [00:00<00:00,  1.97it/s, val_loss=0.41, val_ca=95.2, val_wa=0.756]\n"
     ]
    },
    {
     "name": "stdout",
     "output_type": "stream",
     "text": [
      "0.8618594400192562\n",
      "Validation loss decreased (0.863185 --> 0.861859).  Saving model ...\n"
     ]
    },
    {
     "name": "stderr",
     "output_type": "stream",
     "text": [
      "Epoch: [341]/[1200] Training: 100%|██████████| 7/7 [00:04<00:00,  1.51it/s, loss=0.00896, train_ca=100, train_wa=1]     \n",
      "Validating: 100%|██████████| 1/1 [00:00<00:00,  1.99it/s, val_loss=0.386, val_ca=95.2, val_wa=0.767]\n"
     ]
    },
    {
     "name": "stdout",
     "output_type": "stream",
     "text": [
      "0.8604730462367611\n",
      "Validation loss decreased (0.861859 --> 0.860473).  Saving model ...\n"
     ]
    },
    {
     "name": "stderr",
     "output_type": "stream",
     "text": [
      "Epoch: [342]/[1200] Training: 100%|██████████| 7/7 [00:04<00:00,  1.54it/s, loss=0.000132, train_ca=100, train_wa=1]    \n",
      "Validating: 100%|██████████| 1/1 [00:00<00:00,  2.48it/s, val_loss=0.42, val_ca=95.2, val_wa=0.767]\n"
     ]
    },
    {
     "name": "stdout",
     "output_type": "stream",
     "text": [
      "0.8591934741409712\n",
      "Validation loss decreased (0.860473 --> 0.859193).  Saving model ...\n"
     ]
    },
    {
     "name": "stderr",
     "output_type": "stream",
     "text": [
      "Epoch: [343]/[1200] Training: 100%|██████████| 7/7 [00:04<00:00,  1.74it/s, loss=2.03e-5, train_ca=100, train_wa=1]     \n",
      "Validating: 100%|██████████| 1/1 [00:00<00:00,  2.02it/s, val_loss=0.416, val_ca=95.2, val_wa=0.791]\n"
     ]
    },
    {
     "name": "stdout",
     "output_type": "stream",
     "text": [
      "0.8579094682050787\n",
      "Validation loss decreased (0.859193 --> 0.857909).  Saving model ...\n"
     ]
    },
    {
     "name": "stderr",
     "output_type": "stream",
     "text": [
      "Epoch: [344]/[1200] Training: 100%|██████████| 7/7 [00:04<00:00,  1.59it/s, loss=0.00218, train_ca=100, train_wa=1]     \n",
      "Validating: 100%|██████████| 1/1 [00:00<00:00,  2.48it/s, val_loss=0.406, val_ca=95.4, val_wa=0.802]\n"
     ]
    },
    {
     "name": "stdout",
     "output_type": "stream",
     "text": [
      "0.8566044584519601\n",
      "Validation loss decreased (0.857909 --> 0.856604).  Saving model ...\n"
     ]
    },
    {
     "name": "stderr",
     "output_type": "stream",
     "text": [
      "Epoch: [345]/[1200] Training: 100%|██████████| 7/7 [00:04<00:00,  1.53it/s, loss=0.000216, train_ca=100, train_wa=1]    \n",
      "Validating: 100%|██████████| 1/1 [00:00<00:00,  2.52it/s, val_loss=0.445, val_ca=95, val_wa=0.779]\n"
     ]
    },
    {
     "name": "stdout",
     "output_type": "stream",
     "text": [
      "0.855419293432483\n",
      "Validation loss decreased (0.856604 --> 0.855419).  Saving model ...\n"
     ]
    },
    {
     "name": "stderr",
     "output_type": "stream",
     "text": [
      "Epoch: [346]/[1200] Training: 100%|██████████| 7/7 [00:04<00:00,  1.51it/s, loss=0.000121, train_ca=100, train_wa=1]    \n",
      "Validating: 100%|██████████| 1/1 [00:00<00:00,  2.00it/s, val_loss=0.419, val_ca=95.2, val_wa=0.779]\n"
     ]
    },
    {
     "name": "stdout",
     "output_type": "stream",
     "text": [
      "0.8541647911756888\n",
      "Validation loss decreased (0.855419 --> 0.854165).  Saving model ...\n"
     ]
    },
    {
     "name": "stderr",
     "output_type": "stream",
     "text": [
      "Epoch: [347]/[1200] Training: 100%|██████████| 7/7 [00:04<00:00,  1.70it/s, loss=9.39e-5, train_ca=100, train_wa=1]      \n",
      "Validating: 100%|██████████| 1/1 [00:00<00:00,  1.97it/s, val_loss=0.392, val_ca=95.5, val_wa=0.814]\n"
     ]
    },
    {
     "name": "stdout",
     "output_type": "stream",
     "text": [
      "0.8528401444327183\n",
      "Validation loss decreased (0.854165 --> 0.852840).  Saving model ...\n"
     ]
    },
    {
     "name": "stderr",
     "output_type": "stream",
     "text": [
      "Epoch: [348]/[1200] Training: 100%|██████████| 7/7 [00:04<00:00,  1.59it/s, loss=0.00154, train_ca=100, train_wa=1]     \n",
      "Validating: 100%|██████████| 1/1 [00:00<00:00,  2.49it/s, val_loss=0.393, val_ca=95.7, val_wa=0.837]\n"
     ]
    },
    {
     "name": "stdout",
     "output_type": "stream",
     "text": [
      "0.8515264305046627\n",
      "Validation loss decreased (0.852840 --> 0.851526).  Saving model ...\n"
     ]
    },
    {
     "name": "stderr",
     "output_type": "stream",
     "text": [
      "Epoch: [349]/[1200] Training: 100%|██████████| 7/7 [00:04<00:00,  1.72it/s, loss=0.000657, train_ca=100, train_wa=1]     \n",
      "Validating: 100%|██████████| 1/1 [00:00<00:00,  1.95it/s, val_loss=0.392, val_ca=95.1, val_wa=0.826]\n"
     ]
    },
    {
     "name": "stdout",
     "output_type": "stream",
     "text": [
      "0.850217792722914\n",
      "Validation loss decreased (0.851526 --> 0.850218).  Saving model ...\n"
     ]
    },
    {
     "name": "stderr",
     "output_type": "stream",
     "text": [
      "Epoch: [350]/[1200] Training: 100%|██████████| 7/7 [00:04<00:00,  1.55it/s, loss=0.000105, train_ca=100, train_wa=1]    \n",
      "Validating: 100%|██████████| 1/1 [00:00<00:00,  2.02it/s, val_loss=0.363, val_ca=95.8, val_wa=0.802]\n"
     ]
    },
    {
     "name": "stdout",
     "output_type": "stream",
     "text": [
      "0.8488325748423283\n",
      "Validation loss decreased (0.850218 --> 0.848833).  Saving model ...\n"
     ]
    },
    {
     "name": "stderr",
     "output_type": "stream",
     "text": [
      "Epoch: [351]/[1200] Training: 100%|██████████| 7/7 [00:04<00:00,  1.64it/s, loss=0.0229, train_ca=100, train_wa=1]       \n",
      "Validating: 100%|██████████| 1/1 [00:00<00:00,  1.66it/s, val_loss=0.472, val_ca=94.5, val_wa=0.756]\n"
     ]
    },
    {
     "name": "stdout",
     "output_type": "stream",
     "text": [
      "0.8477663316740193\n",
      "Validation loss decreased (0.848833 --> 0.847766).  Saving model ...\n"
     ]
    },
    {
     "name": "stderr",
     "output_type": "stream",
     "text": [
      "Epoch: [352]/[1200] Training: 100%|██████████| 7/7 [00:04<00:00,  1.51it/s, loss=8.95e-5, train_ca=100, train_wa=1]     \n",
      "Validating: 100%|██████████| 1/1 [00:00<00:00,  2.48it/s, val_loss=0.45, val_ca=95.8, val_wa=0.814]\n"
     ]
    },
    {
     "name": "stdout",
     "output_type": "stream",
     "text": [
      "0.8466437405112099\n",
      "Validation loss decreased (0.847766 --> 0.846644).  Saving model ...\n"
     ]
    },
    {
     "name": "stderr",
     "output_type": "stream",
     "text": [
      "Epoch: [353]/[1200] Training: 100%|██████████| 7/7 [00:04<00:00,  1.62it/s, loss=5.87e-5, train_ca=100, train_wa=1]    \n",
      "Validating: 100%|██████████| 1/1 [00:00<00:00,  1.97it/s, val_loss=0.349, val_ca=96.3, val_wa=0.826]\n"
     ]
    },
    {
     "name": "stdout",
     "output_type": "stream",
     "text": [
      "0.845242842066456\n",
      "Validation loss decreased (0.846644 --> 0.845243).  Saving model ...\n"
     ]
    },
    {
     "name": "stderr",
     "output_type": "stream",
     "text": [
      "Epoch: [354]/[1200] Training: 100%|██████████| 7/7 [00:04<00:00,  1.56it/s, loss=0.00126, train_ca=100, train_wa=1]     \n",
      "Validating: 100%|██████████| 1/1 [00:00<00:00,  1.95it/s, val_loss=0.554, val_ca=91.9, val_wa=0.628]\n"
     ]
    },
    {
     "name": "stdout",
     "output_type": "stream",
     "text": [
      "0.8444242242179559\n",
      "Validation loss decreased (0.845243 --> 0.844424).  Saving model ...\n"
     ]
    },
    {
     "name": "stderr",
     "output_type": "stream",
     "text": [
      "Epoch: [355]/[1200] Training: 100%|██████████| 7/7 [00:04<00:00,  1.47it/s, loss=4.79e-5, train_ca=100, train_wa=1]     \n",
      "Validating: 100%|██████████| 1/1 [00:00<00:00,  2.53it/s, val_loss=0.451, val_ca=95, val_wa=0.791]\n"
     ]
    },
    {
     "name": "stdout",
     "output_type": "stream",
     "text": [
      "0.8433214692341513\n",
      "Validation loss decreased (0.844424 --> 0.843321).  Saving model ...\n"
     ]
    },
    {
     "name": "stderr",
     "output_type": "stream",
     "text": [
      "Epoch: [356]/[1200] Training: 100%|██████████| 7/7 [00:04<00:00,  1.56it/s, loss=0.0432, train_ca=97.1, train_wa=0.8]   \n",
      "Validating: 100%|██████████| 1/1 [00:00<00:00,  2.03it/s, val_loss=0.41, val_ca=95.2, val_wa=0.802]\n"
     ]
    },
    {
     "name": "stdout",
     "output_type": "stream",
     "text": [
      "0.8421111439859401\n",
      "Validation loss decreased (0.843321 --> 0.842111).  Saving model ...\n"
     ]
    },
    {
     "name": "stderr",
     "output_type": "stream",
     "text": [
      "Epoch: [357]/[1200] Training: 100%|██████████| 7/7 [00:04<00:00,  1.48it/s, loss=0.000329, train_ca=100, train_wa=1]    \n",
      "Validating: 100%|██████████| 1/1 [00:00<00:00,  2.00it/s, val_loss=0.519, val_ca=92.9, val_wa=0.686]\n"
     ]
    },
    {
     "name": "stdout",
     "output_type": "stream",
     "text": [
      "0.8412118173907395\n",
      "Validation loss decreased (0.842111 --> 0.841212).  Saving model ...\n"
     ]
    },
    {
     "name": "stderr",
     "output_type": "stream",
     "text": [
      "Epoch: [358]/[1200] Training: 100%|██████████| 7/7 [00:04<00:00,  1.62it/s, loss=0.00278, train_ca=100, train_wa=1]     \n",
      "Validating: 100%|██████████| 1/1 [00:00<00:00,  3.27it/s, val_loss=0.727, val_ca=89.7, val_wa=0.535]\n"
     ]
    },
    {
     "name": "stdout",
     "output_type": "stream",
     "text": [
      "0.8408935922715399\n",
      "Validation loss decreased (0.841212 --> 0.840894).  Saving model ...\n"
     ]
    },
    {
     "name": "stderr",
     "output_type": "stream",
     "text": [
      "Epoch: [359]/[1200] Training: 100%|██████████| 7/7 [00:04<00:00,  1.45it/s, loss=0.000292, train_ca=100, train_wa=1]    \n",
      "Validating: 100%|██████████| 1/1 [00:00<00:00,  1.67it/s, val_loss=0.775, val_ca=89.8, val_wa=0.547]\n"
     ]
    },
    {
     "name": "stdout",
     "output_type": "stream",
     "text": [
      "0.8407122745408245\n",
      "Validation loss decreased (0.840894 --> 0.840712).  Saving model ...\n"
     ]
    },
    {
     "name": "stderr",
     "output_type": "stream",
     "text": [
      "Epoch: [360]/[1200] Training: 100%|██████████| 7/7 [00:04<00:00,  1.55it/s, loss=0.129, train_ca=95, train_wa=0.8]      \n",
      "Validating: 100%|██████████| 1/1 [00:00<00:00,  2.02it/s, val_loss=0.433, val_ca=93.9, val_wa=0.756]\n"
     ]
    },
    {
     "name": "stdout",
     "output_type": "stream",
     "text": [
      "0.8395869886677568\n",
      "Validation loss decreased (0.840712 --> 0.839587).  Saving model ...\n"
     ]
    },
    {
     "name": "stderr",
     "output_type": "stream",
     "text": [
      "Epoch: [361]/[1200] Training: 100%|██████████| 7/7 [00:04<00:00,  1.59it/s, loss=0.00129, train_ca=100, train_wa=1]     \n",
      "Validating: 100%|██████████| 1/1 [00:00<00:00,  2.42it/s, val_loss=0.756, val_ca=89.5, val_wa=0.616]\n"
     ]
    },
    {
     "name": "stdout",
     "output_type": "stream",
     "text": [
      "0.8393562600303944\n",
      "Validation loss decreased (0.839587 --> 0.839356).  Saving model ...\n"
     ]
    },
    {
     "name": "stderr",
     "output_type": "stream",
     "text": [
      "Epoch: [362]/[1200] Training: 100%|██████████| 7/7 [00:04<00:00,  1.56it/s, loss=0.117, train_ca=97.1, train_wa=0.8]    \n",
      "Validating: 100%|██████████| 1/1 [00:00<00:00,  1.98it/s, val_loss=0.487, val_ca=93.7, val_wa=0.733]\n"
     ]
    },
    {
     "name": "stdout",
     "output_type": "stream",
     "text": [
      "0.838388011105113\n",
      "Validation loss decreased (0.839356 --> 0.838388).  Saving model ...\n"
     ]
    },
    {
     "name": "stderr",
     "output_type": "stream",
     "text": [
      "Epoch: [363]/[1200] Training: 100%|██████████| 7/7 [00:04<00:00,  1.58it/s, loss=0.000191, train_ca=100, train_wa=1]    \n",
      "Validating: 100%|██████████| 1/1 [00:00<00:00,  2.01it/s, val_loss=0.441, val_ca=95, val_wa=0.814]\n"
     ]
    },
    {
     "name": "stdout",
     "output_type": "stream",
     "text": [
      "0.8372994044055677\n",
      "Validation loss decreased (0.838388 --> 0.837299).  Saving model ...\n"
     ]
    },
    {
     "name": "stderr",
     "output_type": "stream",
     "text": [
      "Epoch: [364]/[1200] Training: 100%|██████████| 7/7 [00:03<00:00,  1.76it/s, loss=0.000754, train_ca=100, train_wa=1]    \n",
      "Validating: 100%|██████████| 1/1 [00:00<00:00,  2.45it/s, val_loss=0.428, val_ca=94.8, val_wa=0.779]\n"
     ]
    },
    {
     "name": "stdout",
     "output_type": "stream",
     "text": [
      "0.8361814770379353\n",
      "Validation loss decreased (0.837299 --> 0.836181).  Saving model ...\n"
     ]
    },
    {
     "name": "stderr",
     "output_type": "stream",
     "text": [
      "Epoch: [365]/[1200] Training: 100%|██████████| 7/7 [00:04<00:00,  1.54it/s, loss=0.000193, train_ca=100, train_wa=1]    \n",
      "Validating: 100%|██████████| 1/1 [00:00<00:00,  3.20it/s, val_loss=0.445, val_ca=92.1, val_wa=0.663]\n"
     ]
    },
    {
     "name": "stdout",
     "output_type": "stream",
     "text": [
      "0.8351169386903986\n",
      "Validation loss decreased (0.836181 --> 0.835117).  Saving model ...\n"
     ]
    },
    {
     "name": "stderr",
     "output_type": "stream",
     "text": [
      "Epoch: [366]/[1200] Training: 100%|██████████| 7/7 [00:04<00:00,  1.63it/s, loss=0.00675, train_ca=100, train_wa=1]     \n",
      "Validating: 100%|██████████| 1/1 [00:00<00:00,  2.41it/s, val_loss=0.632, val_ca=91.1, val_wa=0.605]\n"
     ]
    },
    {
     "name": "stdout",
     "output_type": "stream",
     "text": [
      "0.8345645262009423\n",
      "Validation loss decreased (0.835117 --> 0.834565).  Saving model ...\n"
     ]
    },
    {
     "name": "stderr",
     "output_type": "stream",
     "text": [
      "Epoch: [367]/[1200] Training: 100%|██████████| 7/7 [00:04<00:00,  1.73it/s, loss=0.000209, train_ca=100, train_wa=1]    \n",
      "Validating: 100%|██████████| 1/1 [00:00<00:00,  1.41it/s, val_loss=0.4, val_ca=94.3, val_wa=0.733]\n"
     ]
    },
    {
     "name": "stdout",
     "output_type": "stream",
     "text": [
      "0.8333878125440137\n",
      "Validation loss decreased (0.834565 --> 0.833388).  Saving model ...\n"
     ]
    },
    {
     "name": "stderr",
     "output_type": "stream",
     "text": [
      "Epoch: [368]/[1200] Training: 100%|██████████| 7/7 [00:04<00:00,  1.46it/s, loss=0.00212, train_ca=100, train_wa=1]     \n",
      "Validating: 100%|██████████| 1/1 [00:00<00:00,  2.49it/s, val_loss=0.493, val_ca=94.1, val_wa=0.721]\n"
     ]
    },
    {
     "name": "stdout",
     "output_type": "stream",
     "text": [
      "0.8324667667214934\n",
      "Validation loss decreased (0.833388 --> 0.832467).  Saving model ...\n"
     ]
    },
    {
     "name": "stderr",
     "output_type": "stream",
     "text": [
      "Epoch: [369]/[1200] Training: 100%|██████████| 7/7 [00:04<00:00,  1.69it/s, loss=0.0178, train_ca=100, train_wa=1]      \n",
      "Validating: 100%|██████████| 1/1 [00:00<00:00,  1.62it/s, val_loss=0.486, val_ca=93, val_wa=0.674]\n"
     ]
    },
    {
     "name": "stdout",
     "output_type": "stream",
     "text": [
      "0.8315336546004621\n",
      "Validation loss decreased (0.832467 --> 0.831534).  Saving model ...\n"
     ]
    },
    {
     "name": "stderr",
     "output_type": "stream",
     "text": [
      "Epoch: [370]/[1200] Training: 100%|██████████| 7/7 [00:04<00:00,  1.60it/s, loss=0.0201, train_ca=97.1, train_wa=0.8]   \n",
      "Validating: 100%|██████████| 1/1 [00:00<00:00,  2.02it/s, val_loss=0.421, val_ca=94.8, val_wa=0.767]\n"
     ]
    },
    {
     "name": "stdout",
     "output_type": "stream",
     "text": [
      "0.8304292068526309\n",
      "Validation loss decreased (0.831534 --> 0.830429).  Saving model ...\n"
     ]
    },
    {
     "name": "stderr",
     "output_type": "stream",
     "text": [
      "Epoch: [371]/[1200] Training: 100%|██████████| 7/7 [00:04<00:00,  1.58it/s, loss=0.000351, train_ca=100, train_wa=1]    \n",
      "Validating: 100%|██████████| 1/1 [00:00<00:00,  1.69it/s, val_loss=0.374, val_ca=95, val_wa=0.767]\n"
     ]
    },
    {
     "name": "stdout",
     "output_type": "stream",
     "text": [
      "0.8292060215575445\n",
      "Validation loss decreased (0.830429 --> 0.829206).  Saving model ...\n"
     ]
    },
    {
     "name": "stderr",
     "output_type": "stream",
     "text": [
      "Epoch: [372]/[1200] Training: 100%|██████████| 7/7 [00:04<00:00,  1.59it/s, loss=0.000713, train_ca=100, train_wa=1]    \n",
      "Validating: 100%|██████████| 1/1 [00:00<00:00,  2.01it/s, val_loss=0.508, val_ca=91.9, val_wa=0.651]\n"
     ]
    },
    {
     "name": "stdout",
     "output_type": "stream",
     "text": [
      "0.828347858340345\n",
      "Validation loss decreased (0.829206 --> 0.828348).  Saving model ...\n"
     ]
    },
    {
     "name": "stderr",
     "output_type": "stream",
     "text": [
      "Epoch: [373]/[1200] Training: 100%|██████████| 7/7 [00:04<00:00,  1.60it/s, loss=0.00145, train_ca=100, train_wa=1]     \n",
      "Validating: 100%|██████████| 1/1 [00:00<00:00,  2.52it/s, val_loss=0.421, val_ca=94, val_wa=0.733]\n"
     ]
    },
    {
     "name": "stdout",
     "output_type": "stream",
     "text": [
      "0.827262930393219\n",
      "Validation loss decreased (0.828348 --> 0.827263).  Saving model ...\n"
     ]
    },
    {
     "name": "stderr",
     "output_type": "stream",
     "text": [
      "Epoch: [374]/[1200] Training: 100%|██████████| 7/7 [00:04<00:00,  1.55it/s, loss=0.000293, train_ca=100, train_wa=1]    \n",
      "Validating: 100%|██████████| 1/1 [00:00<00:00,  1.94it/s, val_loss=0.379, val_ca=94.5, val_wa=0.756]\n"
     ]
    },
    {
     "name": "stdout",
     "output_type": "stream",
     "text": [
      "0.8260710466098278\n",
      "Validation loss decreased (0.827263 --> 0.826071).  Saving model ...\n"
     ]
    },
    {
     "name": "stderr",
     "output_type": "stream",
     "text": [
      "Epoch: [375]/[1200] Training: 100%|██████████| 7/7 [00:04<00:00,  1.63it/s, loss=0.0513, train_ca=97.1, train_wa=0.8]   \n",
      "Validating: 100%|██████████| 1/1 [00:00<00:00,  2.03it/s, val_loss=0.454, val_ca=93.2, val_wa=0.709]\n"
     ]
    },
    {
     "name": "stdout",
     "output_type": "stream",
     "text": [
      "0.8250849028797301\n",
      "Validation loss decreased (0.826071 --> 0.825085).  Saving model ...\n"
     ]
    },
    {
     "name": "stderr",
     "output_type": "stream",
     "text": [
      "Epoch: [376]/[1200] Training: 100%|██████████| 7/7 [00:04<00:00,  1.71it/s, loss=0.000122, train_ca=100, train_wa=1]    \n",
      "Validating: 100%|██████████| 1/1 [00:00<00:00,  2.00it/s, val_loss=0.423, val_ca=95, val_wa=0.767]\n"
     ]
    },
    {
     "name": "stdout",
     "output_type": "stream",
     "text": [
      "0.8240211860685752\n",
      "Validation loss decreased (0.825085 --> 0.824021).  Saving model ...\n"
     ]
    },
    {
     "name": "stderr",
     "output_type": "stream",
     "text": [
      "Epoch: [377]/[1200] Training: 100%|██████████| 7/7 [00:04<00:00,  1.51it/s, loss=0.000308, train_ca=100, train_wa=1]    \n",
      "Validating: 100%|██████████| 1/1 [00:00<00:00,  2.40it/s, val_loss=0.589, val_ca=92.7, val_wa=0.698]\n"
     ]
    },
    {
     "name": "stdout",
     "output_type": "stream",
     "text": [
      "0.8233998075795992\n",
      "Validation loss decreased (0.824021 --> 0.823400).  Saving model ...\n"
     ]
    },
    {
     "name": "stderr",
     "output_type": "stream",
     "text": [
      "Epoch: [378]/[1200] Training: 100%|██████████| 7/7 [00:04<00:00,  1.57it/s, loss=0.000609, train_ca=100, train_wa=1]    \n",
      "Validating: 100%|██████████| 1/1 [00:00<00:00,  1.66it/s, val_loss=0.659, val_ca=91.3, val_wa=0.686]\n"
     ]
    },
    {
     "name": "stdout",
     "output_type": "stream",
     "text": [
      "0.822966430610732\n",
      "Validation loss decreased (0.823400 --> 0.822966).  Saving model ...\n"
     ]
    },
    {
     "name": "stderr",
     "output_type": "stream",
     "text": [
      "Epoch: [379]/[1200] Training: 100%|██████████| 7/7 [00:04<00:00,  1.57it/s, loss=0.00051, train_ca=100, train_wa=1]     \n",
      "Validating: 100%|██████████| 1/1 [00:00<00:00,  2.44it/s, val_loss=0.715, val_ca=91.2, val_wa=0.605]\n"
     ]
    },
    {
     "name": "stdout",
     "output_type": "stream",
     "text": [
      "0.822682073657594\n",
      "Validation loss decreased (0.822966 --> 0.822682).  Saving model ...\n"
     ]
    },
    {
     "name": "stderr",
     "output_type": "stream",
     "text": [
      "Epoch: [380]/[1200] Training: 100%|██████████| 7/7 [00:04<00:00,  1.60it/s, loss=0.00057, train_ca=100, train_wa=1]     \n",
      "Validating: 100%|██████████| 1/1 [00:00<00:00,  2.44it/s, val_loss=0.422, val_ca=93, val_wa=0.709]\n"
     ]
    },
    {
     "name": "stdout",
     "output_type": "stream",
     "text": [
      "0.8216331942855376\n",
      "Validation loss decreased (0.822682 --> 0.821633).  Saving model ...\n"
     ]
    },
    {
     "name": "stderr",
     "output_type": "stream",
     "text": [
      "Epoch: [381]/[1200] Training: 100%|██████████| 7/7 [00:04<00:00,  1.54it/s, loss=7.71e-5, train_ca=100, train_wa=1]     \n",
      "Validating: 100%|██████████| 1/1 [00:00<00:00,  1.68it/s, val_loss=0.285, val_ca=95.5, val_wa=0.791]\n"
     ]
    },
    {
     "name": "stdout",
     "output_type": "stream",
     "text": [
      "0.8202317242678401\n",
      "Validation loss decreased (0.821633 --> 0.820232).  Saving model ...\n"
     ]
    },
    {
     "name": "stderr",
     "output_type": "stream",
     "text": [
      "Epoch: [382]/[1200] Training: 100%|██████████| 7/7 [00:04<00:00,  1.48it/s, loss=0.000154, train_ca=100, train_wa=1]    \n",
      "Validating: 100%|██████████| 1/1 [00:00<00:00,  2.48it/s, val_loss=0.31, val_ca=95.4, val_wa=0.791]\n"
     ]
    },
    {
     "name": "stdout",
     "output_type": "stream",
     "text": [
      "0.8189037147288522\n",
      "Validation loss decreased (0.820232 --> 0.818904).  Saving model ...\n"
     ]
    },
    {
     "name": "stderr",
     "output_type": "stream",
     "text": [
      "Epoch: [383]/[1200] Training: 100%|██████████| 7/7 [00:04<00:00,  1.61it/s, loss=7.01e-5, train_ca=100, train_wa=1]     \n",
      "Validating: 100%|██████████| 1/1 [00:00<00:00,  2.53it/s, val_loss=0.318, val_ca=96, val_wa=0.814]\n"
     ]
    },
    {
     "name": "stdout",
     "output_type": "stream",
     "text": [
      "0.8176030807680897\n",
      "Validation loss decreased (0.818904 --> 0.817603).  Saving model ...\n"
     ]
    },
    {
     "name": "stderr",
     "output_type": "stream",
     "text": [
      "Epoch: [384]/[1200] Training: 100%|██████████| 7/7 [00:03<00:00,  1.79it/s, loss=6.54e-5, train_ca=100, train_wa=1]     \n",
      "Validating: 100%|██████████| 1/1 [00:00<00:00,  3.30it/s, val_loss=0.371, val_ca=94.5, val_wa=0.733]\n"
     ]
    },
    {
     "name": "stdout",
     "output_type": "stream",
     "text": [
      "0.8164470164887028\n",
      "Validation loss decreased (0.817603 --> 0.816447).  Saving model ...\n"
     ]
    },
    {
     "name": "stderr",
     "output_type": "stream",
     "text": [
      "Epoch: [385]/[1200] Training: 100%|██████████| 7/7 [00:04<00:00,  1.63it/s, loss=0.000185, train_ca=100, train_wa=1]    \n",
      "Validating: 100%|██████████| 1/1 [00:00<00:00,  1.64it/s, val_loss=0.356, val_ca=95.2, val_wa=0.756]\n"
     ]
    },
    {
     "name": "stdout",
     "output_type": "stream",
     "text": [
      "0.8152579698297713\n",
      "Validation loss decreased (0.816447 --> 0.815258).  Saving model ...\n"
     ]
    },
    {
     "name": "stderr",
     "output_type": "stream",
     "text": [
      "Epoch: [386]/[1200] Training: 100%|██████████| 7/7 [00:04<00:00,  1.56it/s, loss=8.26e-5, train_ca=100, train_wa=1]      \n",
      "Validating: 100%|██████████| 1/1 [00:00<00:00,  1.69it/s, val_loss=0.337, val_ca=95.7, val_wa=0.791]\n"
     ]
    },
    {
     "name": "stdout",
     "output_type": "stream",
     "text": [
      "0.8140255502357925\n",
      "Validation loss decreased (0.815258 --> 0.814026).  Saving model ...\n"
     ]
    },
    {
     "name": "stderr",
     "output_type": "stream",
     "text": [
      "Epoch: [387]/[1200] Training: 100%|██████████| 7/7 [00:04<00:00,  1.60it/s, loss=0.0198, train_ca=100, train_wa=1]      \n",
      "Validating: 100%|██████████| 1/1 [00:00<00:00,  1.42it/s, val_loss=0.331, val_ca=95.8, val_wa=0.802]\n"
     ]
    },
    {
     "name": "stdout",
     "output_type": "stream",
     "text": [
      "0.8127849590042869\n",
      "Validation loss decreased (0.814026 --> 0.812785).  Saving model ...\n"
     ]
    },
    {
     "name": "stderr",
     "output_type": "stream",
     "text": [
      "Epoch: [388]/[1200] Training: 100%|██████████| 7/7 [00:04<00:00,  1.54it/s, loss=0.0029, train_ca=100, train_wa=1]      \n",
      "Validating: 100%|██████████| 1/1 [00:00<00:00,  2.51it/s, val_loss=0.308, val_ca=96.2, val_wa=0.814]\n"
     ]
    },
    {
     "name": "stdout",
     "output_type": "stream",
     "text": [
      "0.8114912346387521\n",
      "Validation loss decreased (0.812785 --> 0.811491).  Saving model ...\n"
     ]
    },
    {
     "name": "stderr",
     "output_type": "stream",
     "text": [
      "Epoch: [389]/[1200] Training: 100%|██████████| 7/7 [00:04<00:00,  1.53it/s, loss=0.0092, train_ca=100, train_wa=1]      \n",
      "Validating: 100%|██████████| 1/1 [00:00<00:00,  2.48it/s, val_loss=0.367, val_ca=95.3, val_wa=0.779]\n"
     ]
    },
    {
     "name": "stdout",
     "output_type": "stream",
     "text": [
      "0.8103542998623665\n",
      "Validation loss decreased (0.811491 --> 0.810354).  Saving model ...\n"
     ]
    },
    {
     "name": "stderr",
     "output_type": "stream",
     "text": [
      "Epoch: [390]/[1200] Training: 100%|██████████| 7/7 [00:04<00:00,  1.58it/s, loss=5.4e-5, train_ca=100, train_wa=1]      \n",
      "Validating: 100%|██████████| 1/1 [00:00<00:00,  2.02it/s, val_loss=0.434, val_ca=94, val_wa=0.733]\n"
     ]
    },
    {
     "name": "stdout",
     "output_type": "stream",
     "text": [
      "0.8093941581948679\n",
      "Validation loss decreased (0.810354 --> 0.809394).  Saving model ...\n"
     ]
    },
    {
     "name": "stderr",
     "output_type": "stream",
     "text": [
      "Epoch: [391]/[1200] Training: 100%|██████████| 7/7 [00:04<00:00,  1.44it/s, loss=5.15e-5, train_ca=100, train_wa=1]     \n",
      "Validating: 100%|██████████| 1/1 [00:00<00:00,  2.00it/s, val_loss=0.426, val_ca=95.7, val_wa=0.802]\n"
     ]
    },
    {
     "name": "stdout",
     "output_type": "stream",
     "text": [
      "0.8084191067224847\n",
      "Validation loss decreased (0.809394 --> 0.808419).  Saving model ...\n"
     ]
    },
    {
     "name": "stderr",
     "output_type": "stream",
     "text": [
      "Epoch: [392]/[1200] Training: 100%|██████████| 7/7 [00:04<00:00,  1.49it/s, loss=0.000285, train_ca=100, train_wa=1]    \n",
      "Validating: 100%|██████████| 1/1 [00:00<00:00,  2.52it/s, val_loss=0.47, val_ca=94.8, val_wa=0.756]\n"
     ]
    },
    {
     "name": "stdout",
     "output_type": "stream",
     "text": [
      "0.8075598159871126\n",
      "Validation loss decreased (0.808419 --> 0.807560).  Saving model ...\n"
     ]
    },
    {
     "name": "stderr",
     "output_type": "stream",
     "text": [
      "Epoch: [393]/[1200] Training: 100%|██████████| 7/7 [00:04<00:00,  1.50it/s, loss=4.2e-5, train_ca=100, train_wa=1]      \n",
      "Validating: 100%|██████████| 1/1 [00:00<00:00,  2.58it/s, val_loss=0.411, val_ca=95.8, val_wa=0.826]\n"
     ]
    },
    {
     "name": "stdout",
     "output_type": "stream",
     "text": [
      "0.8065561902673939\n",
      "Validation loss decreased (0.807560 --> 0.806556).  Saving model ...\n"
     ]
    },
    {
     "name": "stderr",
     "output_type": "stream",
     "text": [
      "Epoch: [394]/[1200] Training: 100%|██████████| 7/7 [00:04<00:00,  1.65it/s, loss=5.11e-5, train_ca=100, train_wa=1]     \n",
      "Validating: 100%|██████████| 1/1 [00:00<00:00,  3.20it/s, val_loss=0.475, val_ca=95.7, val_wa=0.814]\n"
     ]
    },
    {
     "name": "stdout",
     "output_type": "stream",
     "text": [
      "0.8057179279399641\n",
      "Validation loss decreased (0.806556 --> 0.805718).  Saving model ...\n"
     ]
    },
    {
     "name": "stderr",
     "output_type": "stream",
     "text": [
      "Epoch: [395]/[1200] Training: 100%|██████████| 7/7 [00:04<00:00,  1.69it/s, loss=0.064, train_ca=97.1, train_wa=0.8]    \n",
      "Validating: 100%|██████████| 1/1 [00:00<00:00,  1.66it/s, val_loss=0.466, val_ca=95.3, val_wa=0.802]\n"
     ]
    },
    {
     "name": "stdout",
     "output_type": "stream",
     "text": [
      "0.8048625443534226\n",
      "Validation loss decreased (0.805718 --> 0.804863).  Saving model ...\n"
     ]
    },
    {
     "name": "stderr",
     "output_type": "stream",
     "text": [
      "Epoch: [396]/[1200] Training: 100%|██████████| 7/7 [00:04<00:00,  1.41it/s, loss=5.61e-5, train_ca=100, train_wa=1]     \n",
      "Validating: 100%|██████████| 1/1 [00:00<00:00,  2.46it/s, val_loss=0.405, val_ca=94.3, val_wa=0.779]\n"
     ]
    },
    {
     "name": "stdout",
     "output_type": "stream",
     "text": [
      "0.8038585007789746\n",
      "Validation loss decreased (0.804863 --> 0.803859).  Saving model ...\n"
     ]
    },
    {
     "name": "stderr",
     "output_type": "stream",
     "text": [
      "Epoch: [397]/[1200] Training: 100%|██████████| 7/7 [00:04<00:00,  1.60it/s, loss=0.00286, train_ca=100, train_wa=1]     \n",
      "Validating: 100%|██████████| 1/1 [00:00<00:00,  1.98it/s, val_loss=0.45, val_ca=94.5, val_wa=0.767]\n"
     ]
    },
    {
     "name": "stdout",
     "output_type": "stream",
     "text": [
      "0.8029728602795374\n",
      "Validation loss decreased (0.803859 --> 0.802973).  Saving model ...\n"
     ]
    },
    {
     "name": "stderr",
     "output_type": "stream",
     "text": [
      "Epoch: [398]/[1200] Training: 100%|██████████| 7/7 [00:04<00:00,  1.50it/s, loss=0.0136, train_ca=100, train_wa=1]      \n",
      "Validating: 100%|██████████| 1/1 [00:00<00:00,  1.67it/s, val_loss=0.396, val_ca=94.7, val_wa=0.733]\n"
     ]
    },
    {
     "name": "stdout",
     "output_type": "stream",
     "text": [
      "0.8019553533941507\n",
      "Validation loss decreased (0.802973 --> 0.801955).  Saving model ...\n"
     ]
    },
    {
     "name": "stderr",
     "output_type": "stream",
     "text": [
      "Epoch: [399]/[1200] Training: 100%|██████████| 7/7 [00:04<00:00,  1.64it/s, loss=0.0253, train_ca=97.1, train_wa=0.8]   \n",
      "Validating: 100%|██████████| 1/1 [00:00<00:00,  1.69it/s, val_loss=0.372, val_ca=94.7, val_wa=0.779]\n"
     ]
    },
    {
     "name": "stdout",
     "output_type": "stream",
     "text": [
      "0.8008841580137648\n",
      "Validation loss decreased (0.801955 --> 0.800884).  Saving model ...\n"
     ]
    },
    {
     "name": "stderr",
     "output_type": "stream",
     "text": [
      "Epoch: [400]/[1200] Training: 100%|██████████| 7/7 [00:04<00:00,  1.57it/s, loss=5.76e-5, train_ca=100, train_wa=1]     \n",
      "Validating: 100%|██████████| 1/1 [00:00<00:00,  1.96it/s, val_loss=0.361, val_ca=95.6, val_wa=0.826]\n"
     ]
    },
    {
     "name": "stdout",
     "output_type": "stream",
     "text": [
      "0.7997907990246863\n",
      "Validation loss decreased (0.800884 --> 0.799791).  Saving model ...\n"
     ]
    },
    {
     "name": "stderr",
     "output_type": "stream",
     "text": [
      "Epoch: [401]/[1200] Training: 100%|██████████| 7/7 [00:04<00:00,  1.52it/s, loss=0.0696, train_ca=97.1, train_wa=0.8]   \n",
      "Validating: 100%|██████████| 1/1 [00:00<00:00,  1.97it/s, val_loss=0.337, val_ca=96.5, val_wa=0.86]\n"
     ]
    },
    {
     "name": "stdout",
     "output_type": "stream",
     "text": [
      "0.7986425659053084\n",
      "Validation loss decreased (0.799791 --> 0.798643).  Saving model ...\n"
     ]
    },
    {
     "name": "stderr",
     "output_type": "stream",
     "text": [
      "Epoch: [402]/[1200] Training: 100%|██████████| 7/7 [00:04<00:00,  1.60it/s, loss=0.0416, train_ca=97.5, train_wa=0.8]   \n",
      "Validating: 100%|██████████| 1/1 [00:00<00:00,  1.45it/s, val_loss=0.318, val_ca=96.5, val_wa=0.849]\n"
     ]
    },
    {
     "name": "stdout",
     "output_type": "stream",
     "text": [
      "0.7974531129002571\n",
      "Validation loss decreased (0.798643 --> 0.797453).  Saving model ...\n"
     ]
    },
    {
     "name": "stderr",
     "output_type": "stream",
     "text": [
      "Epoch: [403]/[1200] Training: 100%|██████████| 7/7 [00:04<00:00,  1.46it/s, loss=0.000372, train_ca=100, train_wa=1]    \n",
      "Validating: 100%|██████████| 1/1 [00:00<00:00,  1.99it/s, val_loss=0.378, val_ca=96.3, val_wa=0.837]\n"
     ]
    },
    {
     "name": "stdout",
     "output_type": "stream",
     "text": [
      "0.7964186520488173\n",
      "Validation loss decreased (0.797453 --> 0.796419).  Saving model ...\n"
     ]
    },
    {
     "name": "stderr",
     "output_type": "stream",
     "text": [
      "Epoch: [404]/[1200] Training: 100%|██████████| 7/7 [00:04<00:00,  1.64it/s, loss=8.42e-5, train_ca=100, train_wa=1]     \n",
      "Validating: 100%|██████████| 1/1 [00:00<00:00,  1.97it/s, val_loss=0.357, val_ca=96.3, val_wa=0.837]\n"
     ]
    },
    {
     "name": "stdout",
     "output_type": "stream",
     "text": [
      "0.7953371988435097\n",
      "Validation loss decreased (0.796419 --> 0.795337).  Saving model ...\n"
     ]
    },
    {
     "name": "stderr",
     "output_type": "stream",
     "text": [
      "Epoch: [405]/[1200] Training: 100%|██████████| 7/7 [00:04<00:00,  1.60it/s, loss=4.12e-5, train_ca=100, train_wa=1]     \n",
      "Validating: 100%|██████████| 1/1 [00:00<00:00,  2.00it/s, val_loss=0.361, val_ca=95.8, val_wa=0.826]\n"
     ]
    },
    {
     "name": "stdout",
     "output_type": "stream",
     "text": [
      "0.7942689927409263\n",
      "Validation loss decreased (0.795337 --> 0.794269).  Saving model ...\n"
     ]
    },
    {
     "name": "stderr",
     "output_type": "stream",
     "text": [
      "Epoch: [406]/[1200] Training: 100%|██████████| 7/7 [00:04<00:00,  1.51it/s, loss=0.000881, train_ca=100, train_wa=1]     \n",
      "Validating: 100%|██████████| 1/1 [00:00<00:00,  1.99it/s, val_loss=0.41, val_ca=96.1, val_wa=0.802]\n"
     ]
    },
    {
     "name": "stdout",
     "output_type": "stream",
     "text": [
      "0.7933282049409315\n",
      "Validation loss decreased (0.794269 --> 0.793328).  Saving model ...\n"
     ]
    },
    {
     "name": "stderr",
     "output_type": "stream",
     "text": [
      "Epoch: [407]/[1200] Training: 100%|██████████| 7/7 [00:04<00:00,  1.60it/s, loss=0.0389, train_ca=97.1, train_wa=0.8]   \n",
      "Validating: 100%|██████████| 1/1 [00:00<00:00,  2.00it/s, val_loss=0.374, val_ca=95.6, val_wa=0.814]\n"
     ]
    },
    {
     "name": "stdout",
     "output_type": "stream",
     "text": [
      "0.7923041716181561\n",
      "Validation loss decreased (0.793328 --> 0.792304).  Saving model ...\n"
     ]
    },
    {
     "name": "stderr",
     "output_type": "stream",
     "text": [
      "Epoch: [408]/[1200] Training: 100%|██████████| 7/7 [00:04<00:00,  1.68it/s, loss=0.00852, train_ca=100, train_wa=1]     \n",
      "Validating: 100%|██████████| 1/1 [00:00<00:00,  2.43it/s, val_loss=0.412, val_ca=95.5, val_wa=0.802]\n"
     ]
    },
    {
     "name": "stdout",
     "output_type": "stream",
     "text": [
      "0.7913767974551131\n",
      "Validation loss decreased (0.792304 --> 0.791377).  Saving model ...\n"
     ]
    },
    {
     "name": "stderr",
     "output_type": "stream",
     "text": [
      "Epoch: [409]/[1200] Training: 100%|██████████| 7/7 [00:04<00:00,  1.64it/s, loss=0.000133, train_ca=100, train_wa=1]    \n",
      "Validating: 100%|██████████| 1/1 [00:00<00:00,  2.40it/s, val_loss=0.488, val_ca=94.2, val_wa=0.802]\n"
     ]
    },
    {
     "name": "stdout",
     "output_type": "stream",
     "text": [
      "0.7906397707995997\n",
      "Validation loss decreased (0.791377 --> 0.790640).  Saving model ...\n"
     ]
    },
    {
     "name": "stderr",
     "output_type": "stream",
     "text": [
      "Epoch: [410]/[1200] Training: 100%|██████████| 7/7 [00:04<00:00,  1.58it/s, loss=0.000527, train_ca=100, train_wa=1]    \n",
      "Validating: 100%|██████████| 1/1 [00:00<00:00,  2.49it/s, val_loss=0.375, val_ca=95.8, val_wa=0.837]\n"
     ]
    },
    {
     "name": "stdout",
     "output_type": "stream",
     "text": [
      "0.7896312342830074\n",
      "Validation loss decreased (0.790640 --> 0.789631).  Saving model ...\n"
     ]
    },
    {
     "name": "stderr",
     "output_type": "stream",
     "text": [
      "Epoch: [411]/[1200] Training: 100%|██████████| 7/7 [00:04<00:00,  1.50it/s, loss=0.000695, train_ca=100, train_wa=1]    \n",
      "Validating: 100%|██████████| 1/1 [00:00<00:00,  1.66it/s, val_loss=0.413, val_ca=94.8, val_wa=0.802]\n"
     ]
    },
    {
     "name": "stdout",
     "output_type": "stream",
     "text": [
      "0.7887182285508578\n",
      "Validation loss decreased (0.789631 --> 0.788718).  Saving model ...\n"
     ]
    },
    {
     "name": "stderr",
     "output_type": "stream",
     "text": [
      "Epoch: [412]/[1200] Training: 100%|██████████| 7/7 [00:04<00:00,  1.54it/s, loss=0.000218, train_ca=100, train_wa=1]    \n",
      "Validating: 100%|██████████| 1/1 [00:00<00:00,  1.99it/s, val_loss=0.364, val_ca=95.3, val_wa=0.814]\n"
     ]
    },
    {
     "name": "stdout",
     "output_type": "stream",
     "text": [
      "0.7876929347065912\n",
      "Validation loss decreased (0.788718 --> 0.787693).  Saving model ...\n"
     ]
    },
    {
     "name": "stderr",
     "output_type": "stream",
     "text": [
      "Epoch: [413]/[1200] Training: 100%|██████████| 7/7 [00:04<00:00,  1.54it/s, loss=0.108, train_ca=94.2, train_wa=0.6]    \n",
      "Validating: 100%|██████████| 1/1 [00:00<00:00,  2.02it/s, val_loss=0.437, val_ca=94.5, val_wa=0.767]\n"
     ]
    },
    {
     "name": "stdout",
     "output_type": "stream",
     "text": [
      "0.7868472044726452\n",
      "Validation loss decreased (0.787693 --> 0.786847).  Saving model ...\n"
     ]
    },
    {
     "name": "stderr",
     "output_type": "stream",
     "text": [
      "Epoch: [414]/[1200] Training: 100%|██████████| 7/7 [00:04<00:00,  1.65it/s, loss=0.00313, train_ca=100, train_wa=1]     \n",
      "Validating: 100%|██████████| 1/1 [00:00<00:00,  2.00it/s, val_loss=0.414, val_ca=94.6, val_wa=0.779]\n"
     ]
    },
    {
     "name": "stdout",
     "output_type": "stream",
     "text": [
      "0.7859521139269838\n",
      "Validation loss decreased (0.786847 --> 0.785952).  Saving model ...\n"
     ]
    },
    {
     "name": "stderr",
     "output_type": "stream",
     "text": [
      "Epoch: [415]/[1200] Training: 100%|██████████| 7/7 [00:04<00:00,  1.61it/s, loss=0.0173, train_ca=100, train_wa=1]      \n",
      "Validating: 100%|██████████| 1/1 [00:00<00:00,  1.97it/s, val_loss=0.324, val_ca=95.3, val_wa=0.791]\n"
     ]
    },
    {
     "name": "stdout",
     "output_type": "stream",
     "text": [
      "0.7848431228590812\n",
      "Validation loss decreased (0.785952 --> 0.784843).  Saving model ...\n"
     ]
    },
    {
     "name": "stderr",
     "output_type": "stream",
     "text": [
      "Epoch: [416]/[1200] Training: 100%|██████████| 7/7 [00:04<00:00,  1.58it/s, loss=0.000104, train_ca=100, train_wa=1]    \n",
      "Validating: 100%|██████████| 1/1 [00:00<00:00,  1.63it/s, val_loss=0.326, val_ca=95.8, val_wa=0.826]\n"
     ]
    },
    {
     "name": "stdout",
     "output_type": "stream",
     "text": [
      "0.783744995531283\n",
      "Validation loss decreased (0.784843 --> 0.783745).  Saving model ...\n"
     ]
    },
    {
     "name": "stderr",
     "output_type": "stream",
     "text": [
      "Epoch: [417]/[1200] Training: 100%|██████████| 7/7 [00:04<00:00,  1.51it/s, loss=0.000137, train_ca=100, train_wa=1]     \n",
      "Validating: 100%|██████████| 1/1 [00:00<00:00,  1.69it/s, val_loss=0.311, val_ca=96.1, val_wa=0.837]\n"
     ]
    },
    {
     "name": "stdout",
     "output_type": "stream",
     "text": [
      "0.7826170088425457\n",
      "Validation loss decreased (0.783745 --> 0.782617).  Saving model ...\n"
     ]
    },
    {
     "name": "stderr",
     "output_type": "stream",
     "text": [
      "Epoch: [418]/[1200] Training: 100%|██████████| 7/7 [00:04<00:00,  1.50it/s, loss=0.0379, train_ca=97.1, train_wa=0.8]   \n",
      "Validating: 100%|██████████| 1/1 [00:00<00:00,  2.50it/s, val_loss=0.347, val_ca=96, val_wa=0.826]\n"
     ]
    },
    {
     "name": "stdout",
     "output_type": "stream",
     "text": [
      "0.7815791312427748\n",
      "Validation loss decreased (0.782617 --> 0.781579).  Saving model ...\n"
     ]
    },
    {
     "name": "stderr",
     "output_type": "stream",
     "text": [
      "Epoch: [419]/[1200] Training: 100%|██████████| 7/7 [00:04<00:00,  1.47it/s, loss=0.000122, train_ca=100, train_wa=1]    \n",
      "Validating: 100%|██████████| 1/1 [00:00<00:00,  1.98it/s, val_loss=0.344, val_ca=96.1, val_wa=0.849]\n"
     ]
    },
    {
     "name": "stdout",
     "output_type": "stream",
     "text": [
      "0.7805391022683322\n",
      "Validation loss decreased (0.781579 --> 0.780539).  Saving model ...\n"
     ]
    },
    {
     "name": "stderr",
     "output_type": "stream",
     "text": [
      "Epoch: [420]/[1200] Training: 100%|██████████| 7/7 [00:04<00:00,  1.53it/s, loss=3.46e-5, train_ca=100, train_wa=1]     \n",
      "Validating: 100%|██████████| 1/1 [00:00<00:00,  1.67it/s, val_loss=0.386, val_ca=95.1, val_wa=0.791]\n"
     ]
    },
    {
     "name": "stdout",
     "output_type": "stream",
     "text": [
      "0.7796040042457988\n",
      "Validation loss decreased (0.780539 --> 0.779604).  Saving model ...\n"
     ]
    },
    {
     "name": "stderr",
     "output_type": "stream",
     "text": [
      "Epoch: [421]/[1200] Training: 100%|██████████| 7/7 [00:04<00:00,  1.53it/s, loss=0.000172, train_ca=100, train_wa=1]    \n",
      "Validating: 100%|██████████| 1/1 [00:00<00:00,  1.68it/s, val_loss=0.359, val_ca=95.3, val_wa=0.826]\n"
     ]
    },
    {
     "name": "stdout",
     "output_type": "stream",
     "text": [
      "0.778610670327013\n",
      "Validation loss decreased (0.779604 --> 0.778611).  Saving model ...\n"
     ]
    },
    {
     "name": "stderr",
     "output_type": "stream",
     "text": [
      "Epoch: [422]/[1200] Training: 100%|██████████| 7/7 [00:04<00:00,  1.57it/s, loss=0.0025, train_ca=100, train_wa=1]      \n",
      "Validating: 100%|██████████| 1/1 [00:00<00:00,  1.66it/s, val_loss=0.322, val_ca=95.8, val_wa=0.826]\n"
     ]
    },
    {
     "name": "stdout",
     "output_type": "stream",
     "text": [
      "0.7775346154593071\n",
      "Validation loss decreased (0.778611 --> 0.777535).  Saving model ...\n"
     ]
    },
    {
     "name": "stderr",
     "output_type": "stream",
     "text": [
      "Epoch: [423]/[1200] Training: 100%|██████████| 7/7 [00:04<00:00,  1.45it/s, loss=0.00317, train_ca=100, train_wa=1]      \n",
      "Validating: 100%|██████████| 1/1 [00:00<00:00,  2.47it/s, val_loss=0.32, val_ca=95, val_wa=0.779]\n"
     ]
    },
    {
     "name": "stdout",
     "output_type": "stream",
     "text": [
      "0.7764592235228595\n",
      "Validation loss decreased (0.777535 --> 0.776459).  Saving model ...\n"
     ]
    },
    {
     "name": "stderr",
     "output_type": "stream",
     "text": [
      "Epoch: [424]/[1200] Training: 100%|██████████| 7/7 [00:04<00:00,  1.52it/s, loss=0.000175, train_ca=100, train_wa=1]    \n",
      "Validating: 100%|██████████| 1/1 [00:00<00:00,  2.45it/s, val_loss=0.338, val_ca=95.6, val_wa=0.767]\n"
     ]
    },
    {
     "name": "stdout",
     "output_type": "stream",
     "text": [
      "0.7754304736432894\n",
      "Validation loss decreased (0.776459 --> 0.775430).  Saving model ...\n"
     ]
    },
    {
     "name": "stderr",
     "output_type": "stream",
     "text": [
      "Epoch: [425]/[1200] Training: 100%|██████████| 7/7 [00:04<00:00,  1.52it/s, loss=0.00148, train_ca=100, train_wa=1]     \n",
      "Validating: 100%|██████████| 1/1 [00:00<00:00,  1.96it/s, val_loss=0.389, val_ca=94.5, val_wa=0.756]\n"
     ]
    },
    {
     "name": "stdout",
     "output_type": "stream",
     "text": [
      "0.774524450930276\n",
      "Validation loss decreased (0.775430 --> 0.774524).  Saving model ...\n"
     ]
    },
    {
     "name": "stderr",
     "output_type": "stream",
     "text": [
      "Epoch: [426]/[1200] Training: 100%|██████████| 7/7 [00:04<00:00,  1.58it/s, loss=0.0146, train_ca=100, train_wa=1]       \n",
      "Validating: 100%|██████████| 1/1 [00:00<00:00,  2.00it/s, val_loss=0.375, val_ca=96, val_wa=0.814]\n"
     ]
    },
    {
     "name": "stdout",
     "output_type": "stream",
     "text": [
      "0.7735911752576026\n",
      "Validation loss decreased (0.774524 --> 0.773591).  Saving model ...\n"
     ]
    },
    {
     "name": "stderr",
     "output_type": "stream",
     "text": [
      "Epoch: [427]/[1200] Training: 100%|██████████| 7/7 [00:04<00:00,  1.64it/s, loss=8.92e-5, train_ca=100, train_wa=1]     \n",
      "Validating: 100%|██████████| 1/1 [00:00<00:00,  3.24it/s, val_loss=0.368, val_ca=95.3, val_wa=0.814]\n"
     ]
    },
    {
     "name": "stdout",
     "output_type": "stream",
     "text": [
      "0.7726462994005296\n",
      "Validation loss decreased (0.773591 --> 0.772646).  Saving model ...\n"
     ]
    },
    {
     "name": "stderr",
     "output_type": "stream",
     "text": [
      "Epoch: [428]/[1200] Training: 100%|██████████| 7/7 [00:04<00:00,  1.53it/s, loss=0.0237, train_ca=100, train_wa=1]      \n",
      "Validating: 100%|██████████| 1/1 [00:00<00:00,  1.96it/s, val_loss=0.446, val_ca=94.7, val_wa=0.756]\n"
     ]
    },
    {
     "name": "stdout",
     "output_type": "stream",
     "text": [
      "0.771886963275976\n",
      "Validation loss decreased (0.772646 --> 0.771887).  Saving model ...\n"
     ]
    },
    {
     "name": "stderr",
     "output_type": "stream",
     "text": [
      "Epoch: [429]/[1200] Training: 100%|██████████| 7/7 [00:04<00:00,  1.48it/s, loss=0.0325, train_ca=97.1, train_wa=0.8]   \n",
      "Validating: 100%|██████████| 1/1 [00:00<00:00,  2.02it/s, val_loss=0.391, val_ca=94.7, val_wa=0.791]\n"
     ]
    },
    {
     "name": "stdout",
     "output_type": "stream",
     "text": [
      "0.7710037159532516\n",
      "Validation loss decreased (0.771887 --> 0.771004).  Saving model ...\n"
     ]
    },
    {
     "name": "stderr",
     "output_type": "stream",
     "text": [
      "Epoch: [430]/[1200] Training: 100%|██████████| 7/7 [00:04<00:00,  1.45it/s, loss=0.000578, train_ca=100, train_wa=1]    \n",
      "Validating: 100%|██████████| 1/1 [00:00<00:00,  2.00it/s, val_loss=0.407, val_ca=94.3, val_wa=0.791]\n"
     ]
    },
    {
     "name": "stdout",
     "output_type": "stream",
     "text": [
      "0.7701618078130262\n",
      "Validation loss decreased (0.771004 --> 0.770162).  Saving model ...\n"
     ]
    },
    {
     "name": "stderr",
     "output_type": "stream",
     "text": [
      "Epoch: [431]/[1200] Training: 100%|██████████| 7/7 [00:04<00:00,  1.69it/s, loss=0.00191, train_ca=100, train_wa=1]     \n",
      "Validating: 100%|██████████| 1/1 [00:00<00:00,  1.95it/s, val_loss=0.357, val_ca=95.4, val_wa=0.802]\n"
     ]
    },
    {
     "name": "stdout",
     "output_type": "stream",
     "text": [
      "0.7692081818129118\n",
      "Validation loss decreased (0.770162 --> 0.769208).  Saving model ...\n"
     ]
    },
    {
     "name": "stderr",
     "output_type": "stream",
     "text": [
      "Epoch: [432]/[1200] Training: 100%|██████████| 7/7 [00:04<00:00,  1.67it/s, loss=0.000276, train_ca=100, train_wa=1]    \n",
      "Validating: 100%|██████████| 1/1 [00:00<00:00,  1.99it/s, val_loss=0.362, val_ca=95.5, val_wa=0.802]\n"
     ]
    },
    {
     "name": "stdout",
     "output_type": "stream",
     "text": [
      "0.7682702296889872\n",
      "Validation loss decreased (0.769208 --> 0.768270).  Saving model ...\n"
     ]
    },
    {
     "name": "stderr",
     "output_type": "stream",
     "text": [
      "Epoch: [433]/[1200] Training: 100%|██████████| 7/7 [00:04<00:00,  1.49it/s, loss=0.00112, train_ca=100, train_wa=1]     \n",
      "Validating: 100%|██████████| 1/1 [00:00<00:00,  2.50it/s, val_loss=0.384, val_ca=95.9, val_wa=0.814]\n"
     ]
    },
    {
     "name": "stdout",
     "output_type": "stream",
     "text": [
      "0.7673874210352185\n",
      "Validation loss decreased (0.768270 --> 0.767387).  Saving model ...\n"
     ]
    },
    {
     "name": "stderr",
     "output_type": "stream",
     "text": [
      "Epoch: [434]/[1200] Training: 100%|██████████| 7/7 [00:04<00:00,  1.49it/s, loss=0.000201, train_ca=100, train_wa=1]    \n",
      "Validating: 100%|██████████| 1/1 [00:00<00:00,  2.42it/s, val_loss=0.421, val_ca=95.2, val_wa=0.791]\n"
     ]
    },
    {
     "name": "stdout",
     "output_type": "stream",
     "text": [
      "0.7665928407409869\n",
      "Validation loss decreased (0.767387 --> 0.766593).  Saving model ...\n"
     ]
    },
    {
     "name": "stderr",
     "output_type": "stream",
     "text": [
      "Epoch: [435]/[1200] Training: 100%|██████████| 7/7 [00:04<00:00,  1.59it/s, loss=0.000118, train_ca=100, train_wa=1]    \n",
      "Validating: 100%|██████████| 1/1 [00:00<00:00,  1.68it/s, val_loss=0.35, val_ca=95.4, val_wa=0.802]\n"
     ]
    },
    {
     "name": "stdout",
     "output_type": "stream",
     "text": [
      "0.7656397985921026\n",
      "Validation loss decreased (0.766593 --> 0.765640).  Saving model ...\n"
     ]
    },
    {
     "name": "stderr",
     "output_type": "stream",
     "text": [
      "Epoch: [436]/[1200] Training: 100%|██████████| 7/7 [00:04<00:00,  1.55it/s, loss=0.000225, train_ca=100, train_wa=1]     \n",
      "Validating: 100%|██████████| 1/1 [00:00<00:00,  2.46it/s, val_loss=0.329, val_ca=95.7, val_wa=0.814]\n"
     ]
    },
    {
     "name": "stdout",
     "output_type": "stream",
     "text": [
      "0.7646435861854248\n",
      "Validation loss decreased (0.765640 --> 0.764644).  Saving model ...\n"
     ]
    },
    {
     "name": "stderr",
     "output_type": "stream",
     "text": [
      "Epoch: [437]/[1200] Training: 100%|██████████| 7/7 [00:04<00:00,  1.51it/s, loss=0.00368, train_ca=100, train_wa=1]     \n",
      "Validating: 100%|██████████| 1/1 [00:00<00:00,  2.49it/s, val_loss=0.323, val_ca=95.9, val_wa=0.814]\n"
     ]
    },
    {
     "name": "stdout",
     "output_type": "stream",
     "text": [
      "0.7636370755273824\n",
      "Validation loss decreased (0.764644 --> 0.763637).  Saving model ...\n"
     ]
    },
    {
     "name": "stderr",
     "output_type": "stream",
     "text": [
      "Epoch: [438]/[1200] Training: 100%|██████████| 7/7 [00:04<00:00,  1.59it/s, loss=5.75e-5, train_ca=100, train_wa=1]    \n",
      "Validating: 100%|██████████| 1/1 [00:00<00:00,  2.51it/s, val_loss=0.376, val_ca=94.7, val_wa=0.767]\n"
     ]
    },
    {
     "name": "stdout",
     "output_type": "stream",
     "text": [
      "0.7627560910176147\n",
      "Validation loss decreased (0.763637 --> 0.762756).  Saving model ...\n"
     ]
    },
    {
     "name": "stderr",
     "output_type": "stream",
     "text": [
      "Epoch: [439]/[1200] Training: 100%|██████████| 7/7 [00:04<00:00,  1.48it/s, loss=0.143, train_ca=97.1, train_wa=0.8]    \n",
      "Validating: 100%|██████████| 1/1 [00:00<00:00,  1.65it/s, val_loss=0.329, val_ca=96.3, val_wa=0.837]\n"
     ]
    },
    {
     "name": "stdout",
     "output_type": "stream",
     "text": [
      "0.7617735434957102\n",
      "Validation loss decreased (0.762756 --> 0.761774).  Saving model ...\n"
     ]
    },
    {
     "name": "stderr",
     "output_type": "stream",
     "text": [
      "Epoch: [440]/[1200] Training: 100%|██████████| 7/7 [00:04<00:00,  1.53it/s, loss=0.000192, train_ca=100, train_wa=1]    \n",
      "Validating: 100%|██████████| 1/1 [00:00<00:00,  1.96it/s, val_loss=0.374, val_ca=95.5, val_wa=0.826]\n"
     ]
    },
    {
     "name": "stdout",
     "output_type": "stream",
     "text": [
      "0.7608967900141332\n",
      "Validation loss decreased (0.761774 --> 0.760897).  Saving model ...\n"
     ]
    },
    {
     "name": "stderr",
     "output_type": "stream",
     "text": [
      "Epoch: [441]/[1200] Training: 100%|██████████| 7/7 [00:04<00:00,  1.68it/s, loss=8.99e-5, train_ca=100, train_wa=1]      \n",
      "Validating: 100%|██████████| 1/1 [00:00<00:00,  1.66it/s, val_loss=0.341, val_ca=95.7, val_wa=0.837]\n"
     ]
    },
    {
     "name": "stdout",
     "output_type": "stream",
     "text": [
      "0.7599494309915108\n",
      "Validation loss decreased (0.760897 --> 0.759949).  Saving model ...\n"
     ]
    },
    {
     "name": "stderr",
     "output_type": "stream",
     "text": [
      "Epoch: [442]/[1200] Training: 100%|██████████| 7/7 [00:04<00:00,  1.70it/s, loss=0.169, train_ca=97.5, train_wa=0.8]    \n",
      "Validating: 100%|██████████| 1/1 [00:00<00:00,  2.44it/s, val_loss=0.362, val_ca=95.7, val_wa=0.814]\n"
     ]
    },
    {
     "name": "stdout",
     "output_type": "stream",
     "text": [
      "0.7590536393292315\n",
      "Validation loss decreased (0.759949 --> 0.759054).  Saving model ...\n"
     ]
    },
    {
     "name": "stderr",
     "output_type": "stream",
     "text": [
      "Epoch: [443]/[1200] Training: 100%|██████████| 7/7 [00:04<00:00,  1.71it/s, loss=7.45e-5, train_ca=100, train_wa=1]     \n",
      "Validating: 100%|██████████| 1/1 [00:00<00:00,  2.01it/s, val_loss=0.43, val_ca=94.5, val_wa=0.779]\n"
     ]
    },
    {
     "name": "stdout",
     "output_type": "stream",
     "text": [
      "0.7583146531260415\n",
      "Validation loss decreased (0.759054 --> 0.758315).  Saving model ...\n"
     ]
    },
    {
     "name": "stderr",
     "output_type": "stream",
     "text": [
      "Epoch: [444]/[1200] Training: 100%|██████████| 7/7 [00:03<00:00,  1.83it/s, loss=0.0276, train_ca=97.1, train_wa=0.8]   \n",
      "Validating: 100%|██████████| 1/1 [00:00<00:00,  2.03it/s, val_loss=0.375, val_ca=95.3, val_wa=0.814]\n"
     ]
    },
    {
     "name": "stdout",
     "output_type": "stream",
     "text": [
      "0.7574561577073127\n",
      "Validation loss decreased (0.758315 --> 0.757456).  Saving model ...\n"
     ]
    },
    {
     "name": "stderr",
     "output_type": "stream",
     "text": [
      "Epoch: [445]/[1200] Training: 100%|██████████| 7/7 [00:04<00:00,  1.73it/s, loss=0.000235, train_ca=100, train_wa=1]    \n",
      "Validating: 100%|██████████| 1/1 [00:00<00:00,  2.48it/s, val_loss=0.385, val_ca=94.3, val_wa=0.779]\n"
     ]
    },
    {
     "name": "stdout",
     "output_type": "stream",
     "text": [
      "0.7566220031622005\n",
      "Validation loss decreased (0.757456 --> 0.756622).  Saving model ...\n"
     ]
    },
    {
     "name": "stderr",
     "output_type": "stream",
     "text": [
      "Epoch: [446]/[1200] Training: 100%|██████████| 7/7 [00:04<00:00,  1.73it/s, loss=9.08e-5, train_ca=100, train_wa=1]    \n",
      "Validating: 100%|██████████| 1/1 [00:00<00:00,  2.48it/s, val_loss=0.432, val_ca=94.7, val_wa=0.779]\n"
     ]
    },
    {
     "name": "stdout",
     "output_type": "stream",
     "text": [
      "0.7558965996972152\n",
      "Validation loss decreased (0.756622 --> 0.755897).  Saving model ...\n"
     ]
    },
    {
     "name": "stderr",
     "output_type": "stream",
     "text": [
      "Epoch: [447]/[1200] Training: 100%|██████████| 7/7 [00:04<00:00,  1.67it/s, loss=8.5e-5, train_ca=100, train_wa=1]      \n",
      "Validating: 100%|██████████| 1/1 [00:00<00:00,  2.54it/s, val_loss=0.369, val_ca=95.5, val_wa=0.802]\n"
     ]
    },
    {
     "name": "stdout",
     "output_type": "stream",
     "text": [
      "0.7550349925833449\n",
      "Validation loss decreased (0.755897 --> 0.755035).  Saving model ...\n"
     ]
    },
    {
     "name": "stderr",
     "output_type": "stream",
     "text": [
      "Epoch: [448]/[1200] Training: 100%|██████████| 7/7 [00:04<00:00,  1.68it/s, loss=0.0277, train_ca=97.1, train_wa=0.8]   \n",
      "Validating: 100%|██████████| 1/1 [00:00<00:00,  2.45it/s, val_loss=0.352, val_ca=96.3, val_wa=0.837]\n"
     ]
    },
    {
     "name": "stdout",
     "output_type": "stream",
     "text": [
      "0.7541394319136937\n",
      "Validation loss decreased (0.755035 --> 0.754139).  Saving model ...\n"
     ]
    },
    {
     "name": "stderr",
     "output_type": "stream",
     "text": [
      "Epoch: [449]/[1200] Training: 100%|██████████| 7/7 [00:04<00:00,  1.56it/s, loss=5.78e-5, train_ca=100, train_wa=1]     \n",
      "Validating: 100%|██████████| 1/1 [00:00<00:00,  2.45it/s, val_loss=0.359, val_ca=95.8, val_wa=0.814]\n"
     ]
    },
    {
     "name": "stdout",
     "output_type": "stream",
     "text": [
      "0.7532633387064458\n",
      "Validation loss decreased (0.754139 --> 0.753263).  Saving model ...\n"
     ]
    },
    {
     "name": "stderr",
     "output_type": "stream",
     "text": [
      "Epoch: [450]/[1200] Training: 100%|██████████| 7/7 [00:04<00:00,  1.49it/s, loss=4.12e-5, train_ca=100, train_wa=1]      \n",
      "Validating: 100%|██████████| 1/1 [00:00<00:00,  1.95it/s, val_loss=0.368, val_ca=95.3, val_wa=0.814]\n"
     ]
    },
    {
     "name": "stdout",
     "output_type": "stream",
     "text": [
      "0.7524118946321243\n",
      "Validation loss decreased (0.753263 --> 0.752412).  Saving model ...\n"
     ]
    },
    {
     "name": "stderr",
     "output_type": "stream",
     "text": [
      "Epoch: [451]/[1200] Training: 100%|██████████| 7/7 [00:04<00:00,  1.42it/s, loss=0.000155, train_ca=100, train_wa=1]    \n",
      "Validating: 100%|██████████| 1/1 [00:00<00:00,  3.27it/s, val_loss=0.368, val_ca=95.7, val_wa=0.837]\n"
     ]
    },
    {
     "name": "stdout",
     "output_type": "stream",
     "text": [
      "0.7515627627341163\n",
      "Validation loss decreased (0.752412 --> 0.751563).  Saving model ...\n"
     ]
    },
    {
     "name": "stderr",
     "output_type": "stream",
     "text": [
      "Epoch: [452]/[1200] Training: 100%|██████████| 7/7 [00:04<00:00,  1.65it/s, loss=6.85e-5, train_ca=100, train_wa=1]      \n",
      "Validating: 100%|██████████| 1/1 [00:00<00:00,  2.00it/s, val_loss=0.373, val_ca=95.7, val_wa=0.826]\n"
     ]
    },
    {
     "name": "stdout",
     "output_type": "stream",
     "text": [
      "0.7507297619192611\n",
      "Validation loss decreased (0.751563 --> 0.750730).  Saving model ...\n"
     ]
    },
    {
     "name": "stderr",
     "output_type": "stream",
     "text": [
      "Epoch: [453]/[1200] Training: 100%|██████████| 7/7 [00:04<00:00,  1.69it/s, loss=0.00108, train_ca=100, train_wa=1]     \n",
      "Validating: 100%|██████████| 1/1 [00:00<00:00,  1.44it/s, val_loss=0.378, val_ca=95.7, val_wa=0.814]\n"
     ]
    },
    {
     "name": "stdout",
     "output_type": "stream",
     "text": [
      "0.7499103346368768\n",
      "Validation loss decreased (0.750730 --> 0.749910).  Saving model ...\n"
     ]
    },
    {
     "name": "stderr",
     "output_type": "stream",
     "text": [
      "Epoch: [454]/[1200] Training: 100%|██████████| 7/7 [00:04<00:00,  1.59it/s, loss=6.13e-5, train_ca=100, train_wa=1]      \n",
      "Validating: 100%|██████████| 1/1 [00:00<00:00,  1.41it/s, val_loss=0.335, val_ca=96, val_wa=0.826]\n"
     ]
    },
    {
     "name": "stdout",
     "output_type": "stream",
     "text": [
      "0.7489998177870324\n",
      "Validation loss decreased (0.749910 --> 0.749000).  Saving model ...\n"
     ]
    },
    {
     "name": "stderr",
     "output_type": "stream",
     "text": [
      "Epoch: [455]/[1200] Training: 100%|██████████| 7/7 [00:04<00:00,  1.69it/s, loss=0.000216, train_ca=100, train_wa=1]     \n",
      "Validating: 100%|██████████| 1/1 [00:00<00:00,  2.53it/s, val_loss=0.338, val_ca=95.9, val_wa=0.826]\n"
     ]
    },
    {
     "name": "stdout",
     "output_type": "stream",
     "text": [
      "0.7481011444421514\n",
      "Validation loss decreased (0.749000 --> 0.748101).  Saving model ...\n"
     ]
    },
    {
     "name": "stderr",
     "output_type": "stream",
     "text": [
      "Epoch: [456]/[1200] Training: 100%|██████████| 7/7 [00:03<00:00,  1.76it/s, loss=7.06e-5, train_ca=100, train_wa=1]     \n",
      "Validating: 100%|██████████| 1/1 [00:00<00:00,  3.28it/s, val_loss=0.441, val_ca=95, val_wa=0.791]\n"
     ]
    },
    {
     "name": "stdout",
     "output_type": "stream",
     "text": [
      "0.7474307238274787\n",
      "Validation loss decreased (0.748101 --> 0.747431).  Saving model ...\n"
     ]
    },
    {
     "name": "stderr",
     "output_type": "stream",
     "text": [
      "Epoch: [457]/[1200] Training: 100%|██████████| 7/7 [00:03<00:00,  1.83it/s, loss=9.51e-5, train_ca=100, train_wa=1]     \n",
      "Validating: 100%|██████████| 1/1 [00:00<00:00,  2.00it/s, val_loss=0.348, val_ca=95, val_wa=0.779]\n"
     ]
    },
    {
     "name": "stdout",
     "output_type": "stream",
     "text": [
      "0.7465598294288245\n",
      "Validation loss decreased (0.747431 --> 0.746560).  Saving model ...\n"
     ]
    },
    {
     "name": "stderr",
     "output_type": "stream",
     "text": [
      "Epoch: [458]/[1200] Training: 100%|██████████| 7/7 [00:04<00:00,  1.61it/s, loss=0.00336, train_ca=100, train_wa=1]     \n",
      "Validating: 100%|██████████| 1/1 [00:00<00:00,  2.06it/s, val_loss=0.354, val_ca=94.9, val_wa=0.791]\n"
     ]
    },
    {
     "name": "stdout",
     "output_type": "stream",
     "text": [
      "0.7457057505846023\n",
      "Validation loss decreased (0.746560 --> 0.745706).  Saving model ...\n"
     ]
    },
    {
     "name": "stderr",
     "output_type": "stream",
     "text": [
      "Epoch: [459]/[1200] Training: 100%|██████████| 7/7 [00:04<00:00,  1.58it/s, loss=5.53e-5, train_ca=100, train_wa=1]     \n",
      "Validating: 100%|██████████| 1/1 [00:00<00:00,  1.97it/s, val_loss=0.444, val_ca=94.2, val_wa=0.756]\n"
     ]
    },
    {
     "name": "stdout",
     "output_type": "stream",
     "text": [
      "0.7450505782104625\n",
      "Validation loss decreased (0.745706 --> 0.745051).  Saving model ...\n"
     ]
    },
    {
     "name": "stderr",
     "output_type": "stream",
     "text": [
      "Epoch: [460]/[1200] Training: 100%|██████████| 7/7 [00:04<00:00,  1.65it/s, loss=9.82e-5, train_ca=100, train_wa=1]     \n",
      "Validating: 100%|██████████| 1/1 [00:00<00:00,  2.46it/s, val_loss=0.564, val_ca=92.8, val_wa=0.628]\n"
     ]
    },
    {
     "name": "stdout",
     "output_type": "stream",
     "text": [
      "0.744657957450652\n",
      "Validation loss decreased (0.745051 --> 0.744658).  Saving model ...\n"
     ]
    },
    {
     "name": "stderr",
     "output_type": "stream",
     "text": [
      "Epoch: [461]/[1200] Training: 100%|██████████| 7/7 [00:04<00:00,  1.49it/s, loss=0.0024, train_ca=100, train_wa=1]     \n",
      "Validating: 100%|██████████| 1/1 [00:00<00:00,  2.01it/s, val_loss=0.51, val_ca=93.7, val_wa=0.686]\n"
     ]
    },
    {
     "name": "stdout",
     "output_type": "stream",
     "text": [
      "0.7441518856433761\n",
      "Validation loss decreased (0.744658 --> 0.744152).  Saving model ...\n"
     ]
    },
    {
     "name": "stderr",
     "output_type": "stream",
     "text": [
      "Epoch: [462]/[1200] Training: 100%|██████████| 7/7 [00:04<00:00,  1.69it/s, loss=7.24e-5, train_ca=100, train_wa=1]    \n",
      "Validating: 100%|██████████| 1/1 [00:00<00:00,  1.69it/s, val_loss=0.442, val_ca=94.9, val_wa=0.744]\n"
     ]
    },
    {
     "name": "stdout",
     "output_type": "stream",
     "text": [
      "0.7435010564995224\n",
      "Validation loss decreased (0.744152 --> 0.743501).  Saving model ...\n"
     ]
    },
    {
     "name": "stderr",
     "output_type": "stream",
     "text": [
      "Epoch: [463]/[1200] Training: 100%|██████████| 7/7 [00:04<00:00,  1.48it/s, loss=7.47e-5, train_ca=100, train_wa=1]     \n",
      "Validating: 100%|██████████| 1/1 [00:00<00:00,  2.56it/s, val_loss=0.405, val_ca=95.2, val_wa=0.779]\n"
     ]
    },
    {
     "name": "stdout",
     "output_type": "stream",
     "text": [
      "0.7427737892314952\n",
      "Validation loss decreased (0.743501 --> 0.742774).  Saving model ...\n"
     ]
    },
    {
     "name": "stderr",
     "output_type": "stream",
     "text": [
      "Epoch: [464]/[1200] Training: 100%|██████████| 7/7 [00:04<00:00,  1.61it/s, loss=0.000122, train_ca=100, train_wa=1]    \n",
      "Validating: 100%|██████████| 1/1 [00:00<00:00,  1.65it/s, val_loss=0.32, val_ca=96.2, val_wa=0.837]\n"
     ]
    },
    {
     "name": "stdout",
     "output_type": "stream",
     "text": [
      "0.7418660577786327\n",
      "Validation loss decreased (0.742774 --> 0.741866).  Saving model ...\n"
     ]
    },
    {
     "name": "stderr",
     "output_type": "stream",
     "text": [
      "Epoch: [465]/[1200] Training: 100%|██████████| 7/7 [00:04<00:00,  1.59it/s, loss=0.000128, train_ca=100, train_wa=1]    \n",
      "Validating: 100%|██████████| 1/1 [00:00<00:00,  1.67it/s, val_loss=0.3, val_ca=96, val_wa=0.814]\n"
     ]
    },
    {
     "name": "stdout",
     "output_type": "stream",
     "text": [
      "0.740920891534593\n",
      "Validation loss decreased (0.741866 --> 0.740921).  Saving model ...\n"
     ]
    },
    {
     "name": "stderr",
     "output_type": "stream",
     "text": [
      "Epoch: [466]/[1200] Training: 100%|██████████| 7/7 [00:04<00:00,  1.53it/s, loss=8.74e-5, train_ca=100, train_wa=1]      \n",
      "Validating: 100%|██████████| 1/1 [00:00<00:00,  2.00it/s, val_loss=0.315, val_ca=95.7, val_wa=0.826]\n"
     ]
    },
    {
     "name": "stdout",
     "output_type": "stream",
     "text": [
      "0.7400106058543564\n",
      "Validation loss decreased (0.740921 --> 0.740011).  Saving model ...\n"
     ]
    },
    {
     "name": "stderr",
     "output_type": "stream",
     "text": [
      "Epoch: [467]/[1200] Training: 100%|██████████| 7/7 [00:04<00:00,  1.66it/s, loss=0.0272, train_ca=97.1, train_wa=0.8]   \n",
      "Validating: 100%|██████████| 1/1 [00:00<00:00,  1.45it/s, val_loss=0.369, val_ca=95.8, val_wa=0.802]\n"
     ]
    },
    {
     "name": "stdout",
     "output_type": "stream",
     "text": [
      "0.7392202334236234\n",
      "Validation loss decreased (0.740011 --> 0.739220).  Saving model ...\n"
     ]
    },
    {
     "name": "stderr",
     "output_type": "stream",
     "text": [
      "Epoch: [468]/[1200] Training: 100%|██████████| 7/7 [00:03<00:00,  1.90it/s, loss=2.89e-5, train_ca=100, train_wa=1]     \n",
      "Validating: 100%|██████████| 1/1 [00:00<00:00,  2.00it/s, val_loss=0.383, val_ca=95.5, val_wa=0.779]\n"
     ]
    },
    {
     "name": "stdout",
     "output_type": "stream",
     "text": [
      "0.7384613805628838\n",
      "Validation loss decreased (0.739220 --> 0.738461).  Saving model ...\n"
     ]
    },
    {
     "name": "stderr",
     "output_type": "stream",
     "text": [
      "Epoch: [469]/[1200] Training: 100%|██████████| 7/7 [00:03<00:00,  1.83it/s, loss=0.168, train_ca=97.1, train_wa=0.8]    \n",
      "Validating: 100%|██████████| 1/1 [00:00<00:00,  2.01it/s, val_loss=0.372, val_ca=95.8, val_wa=0.814]\n"
     ]
    },
    {
     "name": "stdout",
     "output_type": "stream",
     "text": [
      "0.7376832895597835\n",
      "Validation loss decreased (0.738461 --> 0.737683).  Saving model ...\n"
     ]
    },
    {
     "name": "stderr",
     "output_type": "stream",
     "text": [
      "Epoch: [470]/[1200] Training: 100%|██████████| 7/7 [00:04<00:00,  1.61it/s, loss=0.15, train_ca=97.5, train_wa=0.8]     \n",
      "Validating: 100%|██████████| 1/1 [00:00<00:00,  2.51it/s, val_loss=0.347, val_ca=96.3, val_wa=0.837]\n"
     ]
    },
    {
     "name": "stdout",
     "output_type": "stream",
     "text": [
      "0.7368552716354192\n",
      "Validation loss decreased (0.737683 --> 0.736855).  Saving model ...\n"
     ]
    },
    {
     "name": "stderr",
     "output_type": "stream",
     "text": [
      "Epoch: [471]/[1200] Training: 100%|██████████| 7/7 [00:04<00:00,  1.48it/s, loss=5.08e-5, train_ca=100, train_wa=1]     \n",
      "Validating: 100%|██████████| 1/1 [00:00<00:00,  2.43it/s, val_loss=0.35, val_ca=96.3, val_wa=0.826]\n"
     ]
    },
    {
     "name": "stdout",
     "output_type": "stream",
     "text": [
      "0.7360379980054013\n",
      "Validation loss decreased (0.736855 --> 0.736038).  Saving model ...\n"
     ]
    },
    {
     "name": "stderr",
     "output_type": "stream",
     "text": [
      "Epoch: [472]/[1200] Training: 100%|██████████| 7/7 [00:04<00:00,  1.68it/s, loss=0.205, train_ca=97.1, train_wa=0.8]    \n",
      "Validating: 100%|██████████| 1/1 [00:00<00:00,  1.98it/s, val_loss=0.287, val_ca=95.2, val_wa=0.744]\n"
     ]
    },
    {
     "name": "stdout",
     "output_type": "stream",
     "text": [
      "0.7350896371819299\n",
      "Validation loss decreased (0.736038 --> 0.735090).  Saving model ...\n"
     ]
    },
    {
     "name": "stderr",
     "output_type": "stream",
     "text": [
      "Epoch: [473]/[1200] Training: 100%|██████████| 7/7 [00:04<00:00,  1.70it/s, loss=0.00149, train_ca=100, train_wa=1]     \n",
      "Validating: 100%|██████████| 1/1 [00:00<00:00,  2.01it/s, val_loss=0.319, val_ca=96.1, val_wa=0.837]\n"
     ]
    },
    {
     "name": "stdout",
     "output_type": "stream",
     "text": [
      "0.7342129104388387\n",
      "Validation loss decreased (0.735090 --> 0.734213).  Saving model ...\n"
     ]
    },
    {
     "name": "stderr",
     "output_type": "stream",
     "text": [
      "Epoch: [474]/[1200] Training: 100%|██████████| 7/7 [00:04<00:00,  1.61it/s, loss=0.000513, train_ca=100, train_wa=1]    \n",
      "Validating: 100%|██████████| 1/1 [00:00<00:00,  2.44it/s, val_loss=0.401, val_ca=96, val_wa=0.814]\n"
     ]
    },
    {
     "name": "stdout",
     "output_type": "stream",
     "text": [
      "0.7335123483623777\n",
      "Validation loss decreased (0.734213 --> 0.733512).  Saving model ...\n"
     ]
    },
    {
     "name": "stderr",
     "output_type": "stream",
     "text": [
      "Epoch: [475]/[1200] Training: 100%|██████████| 7/7 [00:04<00:00,  1.52it/s, loss=0.00192, train_ca=100, train_wa=1]     \n",
      "Validating: 100%|██████████| 1/1 [00:00<00:00,  1.97it/s, val_loss=0.396, val_ca=96, val_wa=0.802]\n"
     ]
    },
    {
     "name": "stdout",
     "output_type": "stream",
     "text": [
      "0.7328052088399604\n",
      "Validation loss decreased (0.733512 --> 0.732805).  Saving model ...\n"
     ]
    },
    {
     "name": "stderr",
     "output_type": "stream",
     "text": [
      "Epoch: [476]/[1200] Training: 100%|██████████| 7/7 [00:05<00:00,  1.40it/s, loss=4.07e-5, train_ca=100, train_wa=1]     \n",
      "Validating: 100%|██████████| 1/1 [00:00<00:00,  2.50it/s, val_loss=0.628, val_ca=92.8, val_wa=0.698]\n"
     ]
    },
    {
     "name": "stdout",
     "output_type": "stream",
     "text": [
      "0.7325851423471044\n",
      "Validation loss decreased (0.732805 --> 0.732585).  Saving model ...\n"
     ]
    },
    {
     "name": "stderr",
     "output_type": "stream",
     "text": [
      "Epoch: [477]/[1200] Training: 100%|██████████| 7/7 [00:04<00:00,  1.63it/s, loss=2.15e-5, train_ca=100, train_wa=1]     \n",
      "Validating: 100%|██████████| 1/1 [00:00<00:00,  1.67it/s, val_loss=0.755, val_ca=92.4, val_wa=0.593]\n"
     ]
    },
    {
     "name": "stdout",
     "output_type": "stream",
     "text": [
      "0.7326318339166661\n",
      "EarlyStopping counter: (-0.732585 1 out of 15)\n"
     ]
    },
    {
     "name": "stderr",
     "output_type": "stream",
     "text": [
      "Epoch: [478]/[1200] Training: 100%|██████████| 7/7 [00:04<00:00,  1.63it/s, loss=0.000262, train_ca=100, train_wa=1]    \n",
      "Validating: 100%|██████████| 1/1 [00:00<00:00,  1.68it/s, val_loss=0.432, val_ca=94.6, val_wa=0.767]\n"
     ]
    },
    {
     "name": "stdout",
     "output_type": "stream",
     "text": [
      "0.7320052737370133\n",
      "Validation loss decreased (0.732585 --> 0.732005).  Saving model ...\n"
     ]
    },
    {
     "name": "stderr",
     "output_type": "stream",
     "text": [
      "Epoch: [479]/[1200] Training: 100%|██████████| 7/7 [00:04<00:00,  1.65it/s, loss=0.0167, train_ca=100, train_wa=1]      \n",
      "Validating: 100%|██████████| 1/1 [00:00<00:00,  2.45it/s, val_loss=0.478, val_ca=94.3, val_wa=0.767]\n"
     ]
    },
    {
     "name": "stdout",
     "output_type": "stream",
     "text": [
      "0.7314769692579575\n",
      "Validation loss decreased (0.732005 --> 0.731477).  Saving model ...\n"
     ]
    },
    {
     "name": "stderr",
     "output_type": "stream",
     "text": [
      "Epoch: [480]/[1200] Training: 100%|██████████| 7/7 [00:04<00:00,  1.75it/s, loss=0.000172, train_ca=100, train_wa=1]    \n",
      "Validating: 100%|██████████| 1/1 [00:00<00:00,  2.51it/s, val_loss=0.682, val_ca=92.3, val_wa=0.628]\n"
     ]
    },
    {
     "name": "stdout",
     "output_type": "stream",
     "text": [
      "0.7313742677205826\n",
      "Validation loss decreased (0.731477 --> 0.731374).  Saving model ...\n"
     ]
    },
    {
     "name": "stderr",
     "output_type": "stream",
     "text": [
      "Epoch: [481]/[1200] Training: 100%|██████████| 7/7 [00:04<00:00,  1.61it/s, loss=7.51e-5, train_ca=100, train_wa=1]     \n",
      "Validating: 100%|██████████| 1/1 [00:00<00:00,  2.00it/s, val_loss=0.624, val_ca=91.8, val_wa=0.709]\n"
     ]
    },
    {
     "name": "stdout",
     "output_type": "stream",
     "text": [
      "0.7311510363474149\n",
      "Validation loss decreased (0.731374 --> 0.731151).  Saving model ...\n"
     ]
    },
    {
     "name": "stderr",
     "output_type": "stream",
     "text": [
      "Epoch: [482]/[1200] Training: 100%|██████████| 7/7 [00:04<00:00,  1.52it/s, loss=0.000226, train_ca=100, train_wa=1]    \n",
      "Validating: 100%|██████████| 1/1 [00:00<00:00,  2.50it/s, val_loss=0.482, val_ca=94, val_wa=0.709]\n"
     ]
    },
    {
     "name": "stdout",
     "output_type": "stream",
     "text": [
      "0.7306353792178729\n",
      "Validation loss decreased (0.731151 --> 0.730635).  Saving model ...\n"
     ]
    },
    {
     "name": "stderr",
     "output_type": "stream",
     "text": [
      "Epoch: [483]/[1200] Training: 100%|██████████| 7/7 [00:04<00:00,  1.45it/s, loss=8.33e-5, train_ca=100, train_wa=1]     \n",
      "Validating: 100%|██████████| 1/1 [00:00<00:00,  1.69it/s, val_loss=0.522, val_ca=94.5, val_wa=0.721]\n"
     ]
    },
    {
     "name": "stdout",
     "output_type": "stream",
     "text": [
      "0.7302044383029348\n",
      "Validation loss decreased (0.730635 --> 0.730204).  Saving model ...\n"
     ]
    },
    {
     "name": "stderr",
     "output_type": "stream",
     "text": [
      "Epoch: [484]/[1200] Training: 100%|██████████| 7/7 [00:04<00:00,  1.74it/s, loss=0.0763, train_ca=97.1, train_wa=0.8]    \n",
      "Validating: 100%|██████████| 1/1 [00:00<00:00,  3.26it/s, val_loss=0.392, val_ca=96.2, val_wa=0.837]\n"
     ]
    },
    {
     "name": "stdout",
     "output_type": "stream",
     "text": [
      "0.7295078250729008\n",
      "Validation loss decreased (0.730204 --> 0.729508).  Saving model ...\n"
     ]
    },
    {
     "name": "stderr",
     "output_type": "stream",
     "text": [
      "Epoch: [485]/[1200] Training: 100%|██████████| 7/7 [00:04<00:00,  1.54it/s, loss=3.69e-5, train_ca=100, train_wa=1]     \n",
      "Validating: 100%|██████████| 1/1 [00:00<00:00,  1.99it/s, val_loss=0.401, val_ca=95.2, val_wa=0.767]\n"
     ]
    },
    {
     "name": "stdout",
     "output_type": "stream",
     "text": [
      "0.7288337032285804\n",
      "Validation loss decreased (0.729508 --> 0.728834).  Saving model ...\n"
     ]
    },
    {
     "name": "stderr",
     "output_type": "stream",
     "text": [
      "Epoch: [486]/[1200] Training: 100%|██████████| 7/7 [00:04<00:00,  1.63it/s, loss=0.000114, train_ca=100, train_wa=1]    \n",
      "Validating: 100%|██████████| 1/1 [00:00<00:00,  2.47it/s, val_loss=0.368, val_ca=96, val_wa=0.837]\n"
     ]
    },
    {
     "name": "stdout",
     "output_type": "stream",
     "text": [
      "0.7280937297055956\n",
      "Validation loss decreased (0.728834 --> 0.728094).  Saving model ...\n"
     ]
    },
    {
     "name": "stderr",
     "output_type": "stream",
     "text": [
      "Epoch: [487]/[1200] Training: 100%|██████████| 7/7 [00:04<00:00,  1.69it/s, loss=5.92e-5, train_ca=100, train_wa=1]     \n",
      "Validating: 100%|██████████| 1/1 [00:00<00:00,  1.69it/s, val_loss=0.367, val_ca=95, val_wa=0.767]\n"
     ]
    },
    {
     "name": "stdout",
     "output_type": "stream",
     "text": [
      "0.7273553467845136\n",
      "Validation loss decreased (0.728094 --> 0.727355).  Saving model ...\n"
     ]
    },
    {
     "name": "stderr",
     "output_type": "stream",
     "text": [
      "Epoch: [488]/[1200] Training: 100%|██████████| 7/7 [00:03<00:00,  1.83it/s, loss=4.81e-5, train_ca=100, train_wa=1]     \n",
      "Validating: 100%|██████████| 1/1 [00:00<00:00,  2.46it/s, val_loss=0.384, val_ca=95.6, val_wa=0.802]\n"
     ]
    },
    {
     "name": "stdout",
     "output_type": "stream",
     "text": [
      "0.7266539846147809\n",
      "Validation loss decreased (0.727355 --> 0.726654).  Saving model ...\n"
     ]
    },
    {
     "name": "stderr",
     "output_type": "stream",
     "text": [
      "Epoch: [489]/[1200] Training: 100%|██████████| 7/7 [00:04<00:00,  1.64it/s, loss=0.00596, train_ca=100, train_wa=1]     \n",
      "Validating: 100%|██████████| 1/1 [00:00<00:00,  2.00it/s, val_loss=0.421, val_ca=94.5, val_wa=0.767]\n"
     ]
    },
    {
     "name": "stdout",
     "output_type": "stream",
     "text": [
      "0.7260320629704509\n",
      "Validation loss decreased (0.726654 --> 0.726032).  Saving model ...\n"
     ]
    },
    {
     "name": "stderr",
     "output_type": "stream",
     "text": [
      "Epoch: [490]/[1200] Training: 100%|██████████| 7/7 [00:04<00:00,  1.65it/s, loss=5.6e-5, train_ca=100, train_wa=1]      \n",
      "Validating: 100%|██████████| 1/1 [00:00<00:00,  2.02it/s, val_loss=0.328, val_ca=96.1, val_wa=0.826]\n"
     ]
    },
    {
     "name": "stdout",
     "output_type": "stream",
     "text": [
      "0.7252225400349959\n",
      "Validation loss decreased (0.726032 --> 0.725223).  Saving model ...\n"
     ]
    },
    {
     "name": "stderr",
     "output_type": "stream",
     "text": [
      "Epoch: [491]/[1200] Training: 100%|██████████| 7/7 [00:04<00:00,  1.55it/s, loss=0.0002, train_ca=100, train_wa=1]      \n",
      "Validating: 100%|██████████| 1/1 [00:00<00:00,  1.97it/s, val_loss=0.349, val_ca=95.3, val_wa=0.767]\n"
     ]
    },
    {
     "name": "stdout",
     "output_type": "stream",
     "text": [
      "0.7244593073702729\n",
      "Validation loss decreased (0.725223 --> 0.724459).  Saving model ...\n"
     ]
    },
    {
     "name": "stderr",
     "output_type": "stream",
     "text": [
      "Epoch: [492]/[1200] Training: 100%|██████████| 7/7 [00:04<00:00,  1.62it/s, loss=0.000491, train_ca=100, train_wa=1]    \n",
      "Validating: 100%|██████████| 1/1 [00:00<00:00,  1.66it/s, val_loss=0.332, val_ca=96.5, val_wa=0.826]\n"
     ]
    },
    {
     "name": "stdout",
     "output_type": "stream",
     "text": [
      "0.7236644135795625\n",
      "Validation loss decreased (0.724459 --> 0.723664).  Saving model ...\n"
     ]
    },
    {
     "name": "stderr",
     "output_type": "stream",
     "text": [
      "Epoch: [493]/[1200] Training: 100%|██████████| 7/7 [00:04<00:00,  1.60it/s, loss=0.00155, train_ca=100, train_wa=1]     \n",
      "Validating: 100%|██████████| 1/1 [00:00<00:00,  2.44it/s, val_loss=0.363, val_ca=96.3, val_wa=0.826]\n"
     ]
    },
    {
     "name": "stdout",
     "output_type": "stream",
     "text": [
      "0.722935425813752\n",
      "Validation loss decreased (0.723664 --> 0.722935).  Saving model ...\n"
     ]
    },
    {
     "name": "stderr",
     "output_type": "stream",
     "text": [
      "Epoch: [494]/[1200] Training: 100%|██████████| 7/7 [00:04<00:00,  1.72it/s, loss=2.64e-5, train_ca=100, train_wa=1]      \n",
      "Validating: 100%|██████████| 1/1 [00:00<00:00,  2.52it/s, val_loss=0.382, val_ca=95.3, val_wa=0.791]\n"
     ]
    },
    {
     "name": "stdout",
     "output_type": "stream",
     "text": [
      "0.7222474421704969\n",
      "Validation loss decreased (0.722935 --> 0.722247).  Saving model ...\n"
     ]
    },
    {
     "name": "stderr",
     "output_type": "stream",
     "text": [
      "Epoch: [495]/[1200] Training: 100%|██████████| 7/7 [00:04<00:00,  1.61it/s, loss=6.1e-5, train_ca=100, train_wa=1]      \n",
      "Validating: 100%|██████████| 1/1 [00:00<00:00,  2.37it/s, val_loss=0.415, val_ca=95.1, val_wa=0.779]\n"
     ]
    },
    {
     "name": "stdout",
     "output_type": "stream",
     "text": [
      "0.7216295412248769\n",
      "Validation loss decreased (0.722247 --> 0.721630).  Saving model ...\n"
     ]
    },
    {
     "name": "stderr",
     "output_type": "stream",
     "text": [
      "Epoch: [496]/[1200] Training: 100%|██████████| 7/7 [00:04<00:00,  1.65it/s, loss=0.00805, train_ca=100, train_wa=1]     \n",
      "Validating: 100%|██████████| 1/1 [00:00<00:00,  1.42it/s, val_loss=0.456, val_ca=95.5, val_wa=0.779]\n"
     ]
    },
    {
     "name": "stdout",
     "output_type": "stream",
     "text": [
      "0.7210970725639757\n",
      "Validation loss decreased (0.721630 --> 0.721097).  Saving model ...\n"
     ]
    },
    {
     "name": "stderr",
     "output_type": "stream",
     "text": [
      "Epoch: [497]/[1200] Training: 100%|██████████| 7/7 [00:03<00:00,  1.77it/s, loss=0.186, train_ca=97.1, train_wa=0.8]    \n",
      "Validating: 100%|██████████| 1/1 [00:00<00:00,  2.48it/s, val_loss=0.38, val_ca=96, val_wa=0.814]\n"
     ]
    },
    {
     "name": "stdout",
     "output_type": "stream",
     "text": [
      "0.7204142282147684\n",
      "Validation loss decreased (0.721097 --> 0.720414).  Saving model ...\n"
     ]
    },
    {
     "name": "stderr",
     "output_type": "stream",
     "text": [
      "Epoch: [498]/[1200] Training: 100%|██████████| 7/7 [00:04<00:00,  1.61it/s, loss=0.00235, train_ca=100, train_wa=1]     \n",
      "Validating: 100%|██████████| 1/1 [00:00<00:00,  3.31it/s, val_loss=0.402, val_ca=95.5, val_wa=0.814]\n"
     ]
    },
    {
     "name": "stdout",
     "output_type": "stream",
     "text": [
      "0.719777319073677\n",
      "Validation loss decreased (0.720414 --> 0.719777).  Saving model ...\n"
     ]
    },
    {
     "name": "stderr",
     "output_type": "stream",
     "text": [
      "Epoch: [499]/[1200] Training: 100%|██████████| 7/7 [00:04<00:00,  1.74it/s, loss=0.000138, train_ca=100, train_wa=1]     \n",
      "Validating: 100%|██████████| 1/1 [00:00<00:00,  3.38it/s, val_loss=0.454, val_ca=95.3, val_wa=0.814]\n"
     ]
    },
    {
     "name": "stdout",
     "output_type": "stream",
     "text": [
      "0.7192461901677107\n",
      "Validation loss decreased (0.719777 --> 0.719246).  Saving model ...\n"
     ]
    },
    {
     "name": "stderr",
     "output_type": "stream",
     "text": [
      "Epoch: [500]/[1200] Training: 100%|██████████| 7/7 [00:04<00:00,  1.72it/s, loss=0.000236, train_ca=100, train_wa=1]    \n",
      "Validating: 100%|██████████| 1/1 [00:00<00:00,  2.04it/s, val_loss=0.445, val_ca=95.5, val_wa=0.837]\n"
     ]
    },
    {
     "name": "stdout",
     "output_type": "stream",
     "text": [
      "0.7186995531577038\n",
      "Validation loss decreased (0.719246 --> 0.718700).  Saving model ...\n"
     ]
    },
    {
     "name": "stderr",
     "output_type": "stream",
     "text": [
      "Epoch: [501]/[1200] Training: 100%|██████████| 7/7 [00:04<00:00,  1.58it/s, loss=3.1e-5, train_ca=100, train_wa=1]      \n",
      "Validating: 100%|██████████| 1/1 [00:00<00:00,  2.01it/s, val_loss=0.434, val_ca=95, val_wa=0.767]\n"
     ]
    },
    {
     "name": "stdout",
     "output_type": "stream",
     "text": [
      "0.7181333668426302\n",
      "Validation loss decreased (0.718700 --> 0.718133).  Saving model ...\n"
     ]
    },
    {
     "name": "stderr",
     "output_type": "stream",
     "text": [
      "Epoch: [502]/[1200] Training: 100%|██████████| 7/7 [00:04<00:00,  1.67it/s, loss=3.35e-5, train_ca=100, train_wa=1]     \n",
      "Validating: 100%|██████████| 1/1 [00:00<00:00,  3.22it/s, val_loss=0.392, val_ca=95.5, val_wa=0.791]\n"
     ]
    },
    {
     "name": "stdout",
     "output_type": "stream",
     "text": [
      "0.717486667018088\n",
      "Validation loss decreased (0.718133 --> 0.717487).  Saving model ...\n"
     ]
    },
    {
     "name": "stderr",
     "output_type": "stream",
     "text": [
      "Epoch: [503]/[1200] Training: 100%|██████████| 7/7 [00:04<00:00,  1.53it/s, loss=3.22e-5, train_ca=100, train_wa=1]      \n",
      "Validating: 100%|██████████| 1/1 [00:00<00:00,  2.47it/s, val_loss=0.39, val_ca=96, val_wa=0.837]\n"
     ]
    },
    {
     "name": "stdout",
     "output_type": "stream",
     "text": [
      "0.7168388664132298\n",
      "Validation loss decreased (0.717487 --> 0.716839).  Saving model ...\n"
     ]
    },
    {
     "name": "stderr",
     "output_type": "stream",
     "text": [
      "Epoch: [504]/[1200] Training: 100%|██████████| 7/7 [00:04<00:00,  1.65it/s, loss=1.89e-5, train_ca=100, train_wa=1]      \n",
      "Validating: 100%|██████████| 1/1 [00:00<00:00,  2.54it/s, val_loss=0.384, val_ca=96.2, val_wa=0.837]\n"
     ]
    },
    {
     "name": "stdout",
     "output_type": "stream",
     "text": [
      "0.71618011169754\n",
      "Validation loss decreased (0.716839 --> 0.716180).  Saving model ...\n"
     ]
    },
    {
     "name": "stderr",
     "output_type": "stream",
     "text": [
      "Epoch: [505]/[1200] Training: 100%|██████████| 7/7 [00:04<00:00,  1.69it/s, loss=9.77e-5, train_ca=100, train_wa=1]     \n",
      "Validating: 100%|██████████| 1/1 [00:00<00:00,  1.41it/s, val_loss=0.377, val_ca=96.2, val_wa=0.837]\n"
     ]
    },
    {
     "name": "stdout",
     "output_type": "stream",
     "text": [
      "0.7155104788567658\n",
      "Validation loss decreased (0.716180 --> 0.715510).  Saving model ...\n"
     ]
    },
    {
     "name": "stderr",
     "output_type": "stream",
     "text": [
      "Epoch: [506]/[1200] Training: 100%|██████████| 7/7 [00:04<00:00,  1.70it/s, loss=3.38e-5, train_ca=100, train_wa=1]      \n",
      "Validating: 100%|██████████| 1/1 [00:00<00:00,  2.01it/s, val_loss=0.378, val_ca=96.2, val_wa=0.849]\n"
     ]
    },
    {
     "name": "stdout",
     "output_type": "stream",
     "text": [
      "0.7148468322523935\n",
      "Validation loss decreased (0.715510 --> 0.714847).  Saving model ...\n"
     ]
    },
    {
     "name": "stderr",
     "output_type": "stream",
     "text": [
      "Epoch: [507]/[1200] Training: 100%|██████████| 7/7 [00:04<00:00,  1.62it/s, loss=8.69e-5, train_ca=100, train_wa=1]      \n",
      "Validating: 100%|██████████| 1/1 [00:00<00:00,  2.50it/s, val_loss=0.381, val_ca=96.3, val_wa=0.849]\n"
     ]
    },
    {
     "name": "stdout",
     "output_type": "stream",
     "text": [
      "0.7141903750671619\n",
      "Validation loss decreased (0.714847 --> 0.714190).  Saving model ...\n"
     ]
    },
    {
     "name": "stderr",
     "output_type": "stream",
     "text": [
      "Epoch: [508]/[1200] Training: 100%|██████████| 7/7 [00:04<00:00,  1.54it/s, loss=7.72e-5, train_ca=100, train_wa=1]     \n",
      "Validating: 100%|██████████| 1/1 [00:00<00:00,  2.47it/s, val_loss=0.375, val_ca=96.3, val_wa=0.86]\n"
     ]
    },
    {
     "name": "stdout",
     "output_type": "stream",
     "text": [
      "0.7135260553336611\n",
      "Validation loss decreased (0.714190 --> 0.713526).  Saving model ...\n"
     ]
    },
    {
     "name": "stderr",
     "output_type": "stream",
     "text": [
      "Epoch: [509]/[1200] Training: 100%|██████████| 7/7 [00:03<00:00,  1.86it/s, loss=4.1e-5, train_ca=100, train_wa=1]      \n",
      "Validating: 100%|██████████| 1/1 [00:00<00:00,  2.48it/s, val_loss=0.373, val_ca=96.2, val_wa=0.849]\n"
     ]
    },
    {
     "name": "stdout",
     "output_type": "stream",
     "text": [
      "0.7128590975255649\n",
      "Validation loss decreased (0.713526 --> 0.712859).  Saving model ...\n"
     ]
    },
    {
     "name": "stderr",
     "output_type": "stream",
     "text": [
      "Epoch: [510]/[1200] Training: 100%|██████████| 7/7 [00:04<00:00,  1.74it/s, loss=1.74e-5, train_ca=100, train_wa=1]      \n",
      "Validating: 100%|██████████| 1/1 [00:00<00:00,  2.03it/s, val_loss=0.374, val_ca=96.2, val_wa=0.849]\n"
     ]
    },
    {
     "name": "stdout",
     "output_type": "stream",
     "text": [
      "0.7121964169782586\n",
      "Validation loss decreased (0.712859 --> 0.712196).  Saving model ...\n"
     ]
    },
    {
     "name": "stderr",
     "output_type": "stream",
     "text": [
      "Epoch: [511]/[1200] Training: 100%|██████████| 7/7 [00:04<00:00,  1.74it/s, loss=2.67e-5, train_ca=100, train_wa=1]     \n",
      "Validating: 100%|██████████| 1/1 [00:00<00:00,  2.00it/s, val_loss=0.365, val_ca=96.2, val_wa=0.849]\n"
     ]
    },
    {
     "name": "stdout",
     "output_type": "stream",
     "text": [
      "0.7115196628644918\n",
      "Validation loss decreased (0.712196 --> 0.711520).  Saving model ...\n"
     ]
    },
    {
     "name": "stderr",
     "output_type": "stream",
     "text": [
      "Epoch: [512]/[1200] Training: 100%|██████████| 7/7 [00:04<00:00,  1.66it/s, loss=0.0487, train_ca=97.1, train_wa=0.8]    \n",
      "Validating: 100%|██████████| 1/1 [00:00<00:00,  1.96it/s, val_loss=0.369, val_ca=96, val_wa=0.837]\n"
     ]
    },
    {
     "name": "stdout",
     "output_type": "stream",
     "text": [
      "0.7108534123415149\n",
      "Validation loss decreased (0.711520 --> 0.710853).  Saving model ...\n"
     ]
    },
    {
     "name": "stderr",
     "output_type": "stream",
     "text": [
      "Epoch: [513]/[1200] Training: 100%|██████████| 7/7 [00:03<00:00,  1.81it/s, loss=2.18e-5, train_ca=100, train_wa=1]     \n",
      "Validating: 100%|██████████| 1/1 [00:00<00:00,  1.97it/s, val_loss=0.375, val_ca=95.9, val_wa=0.814]\n"
     ]
    },
    {
     "name": "stdout",
     "output_type": "stream",
     "text": [
      "0.7102016581493674\n",
      "Validation loss decreased (0.710853 --> 0.710202).  Saving model ...\n"
     ]
    },
    {
     "name": "stderr",
     "output_type": "stream",
     "text": [
      "Epoch: [514]/[1200] Training: 100%|██████████| 7/7 [00:04<00:00,  1.51it/s, loss=1.45e-5, train_ca=100, train_wa=1]    \n",
      "Validating: 100%|██████████| 1/1 [00:00<00:00,  2.45it/s, val_loss=0.331, val_ca=96.5, val_wa=0.849]\n"
     ]
    },
    {
     "name": "stdout",
     "output_type": "stream",
     "text": [
      "0.7094662261101626\n",
      "Validation loss decreased (0.710202 --> 0.709466).  Saving model ...\n"
     ]
    },
    {
     "name": "stderr",
     "output_type": "stream",
     "text": [
      "Epoch: [515]/[1200] Training: 100%|██████████| 7/7 [00:04<00:00,  1.73it/s, loss=3.98e-5, train_ca=100, train_wa=1]      \n",
      "Validating: 100%|██████████| 1/1 [00:00<00:00,  1.69it/s, val_loss=0.33, val_ca=96.5, val_wa=0.849]\n"
     ]
    },
    {
     "name": "stdout",
     "output_type": "stream",
     "text": [
      "0.7087319959063133\n",
      "Validation loss decreased (0.709466 --> 0.708732).  Saving model ...\n"
     ]
    },
    {
     "name": "stderr",
     "output_type": "stream",
     "text": [
      "Epoch: [516]/[1200] Training: 100%|██████████| 7/7 [00:04<00:00,  1.63it/s, loss=0.00016, train_ca=100, train_wa=1]    \n",
      "Validating: 100%|██████████| 1/1 [00:00<00:00,  2.48it/s, val_loss=0.362, val_ca=95.5, val_wa=0.802]\n"
     ]
    },
    {
     "name": "stdout",
     "output_type": "stream",
     "text": [
      "0.708062464090848\n",
      "Validation loss decreased (0.708732 --> 0.708062).  Saving model ...\n"
     ]
    },
    {
     "name": "stderr",
     "output_type": "stream",
     "text": [
      "Epoch: [517]/[1200] Training: 100%|██████████| 7/7 [00:04<00:00,  1.48it/s, loss=0.000117, train_ca=100, train_wa=1]    \n",
      "Validating: 100%|██████████| 1/1 [00:00<00:00,  1.98it/s, val_loss=0.321, val_ca=96.7, val_wa=0.849]\n"
     ]
    },
    {
     "name": "stdout",
     "output_type": "stream",
     "text": [
      "0.7073176077105866\n",
      "Validation loss decreased (0.708062 --> 0.707318).  Saving model ...\n"
     ]
    },
    {
     "name": "stderr",
     "output_type": "stream",
     "text": [
      "Epoch: [518]/[1200] Training: 100%|██████████| 7/7 [00:04<00:00,  1.58it/s, loss=3.98e-5, train_ca=100, train_wa=1]    \n",
      "Validating: 100%|██████████| 1/1 [00:00<00:00,  1.98it/s, val_loss=0.307, val_ca=96.6, val_wa=0.837]\n"
     ]
    },
    {
     "name": "stdout",
     "output_type": "stream",
     "text": [
      "0.7065478952458272\n",
      "Validation loss decreased (0.707318 --> 0.706548).  Saving model ...\n"
     ]
    },
    {
     "name": "stderr",
     "output_type": "stream",
     "text": [
      "Epoch: [519]/[1200] Training: 100%|██████████| 7/7 [00:04<00:00,  1.51it/s, loss=0.000591, train_ca=100, train_wa=1]    \n",
      "Validating: 100%|██████████| 1/1 [00:00<00:00,  2.04it/s, val_loss=0.326, val_ca=96.5, val_wa=0.849]\n"
     ]
    },
    {
     "name": "stdout",
     "output_type": "stream",
     "text": [
      "0.705816958321262\n",
      "Validation loss decreased (0.706548 --> 0.705817).  Saving model ...\n"
     ]
    },
    {
     "name": "stderr",
     "output_type": "stream",
     "text": [
      "Epoch: [520]/[1200] Training: 100%|██████████| 7/7 [00:03<00:00,  1.85it/s, loss=3.29e-5, train_ca=100, train_wa=1]     \n",
      "Validating: 100%|██████████| 1/1 [00:00<00:00,  2.01it/s, val_loss=0.319, val_ca=96.3, val_wa=0.837]\n"
     ]
    },
    {
     "name": "stdout",
     "output_type": "stream",
     "text": [
      "0.7050766648003881\n",
      "Validation loss decreased (0.705817 --> 0.705077).  Saving model ...\n"
     ]
    },
    {
     "name": "stderr",
     "output_type": "stream",
     "text": [
      "Epoch: [521]/[1200] Training: 100%|██████████| 7/7 [00:04<00:00,  1.72it/s, loss=0.000425, train_ca=100, train_wa=1]   \n",
      "Validating: 100%|██████████| 1/1 [00:00<00:00,  1.98it/s, val_loss=0.365, val_ca=95.6, val_wa=0.802]\n"
     ]
    },
    {
     "name": "stdout",
     "output_type": "stream",
     "text": [
      "0.7044273416011329\n",
      "Validation loss decreased (0.705077 --> 0.704427).  Saving model ...\n"
     ]
    },
    {
     "name": "stderr",
     "output_type": "stream",
     "text": [
      "Epoch: [522]/[1200] Training: 100%|██████████| 7/7 [00:04<00:00,  1.63it/s, loss=4.16e-5, train_ca=100, train_wa=1]     \n",
      "Validating: 100%|██████████| 1/1 [00:00<00:00,  2.50it/s, val_loss=0.415, val_ca=95.1, val_wa=0.802]\n"
     ]
    },
    {
     "name": "stdout",
     "output_type": "stream",
     "text": [
      "0.7038751340094414\n",
      "Validation loss decreased (0.704427 --> 0.703875).  Saving model ...\n"
     ]
    },
    {
     "name": "stderr",
     "output_type": "stream",
     "text": [
      "Epoch: [523]/[1200] Training: 100%|██████████| 7/7 [00:04<00:00,  1.64it/s, loss=3.13e-5, train_ca=100, train_wa=1]      \n",
      "Validating: 100%|██████████| 1/1 [00:00<00:00,  1.98it/s, val_loss=0.442, val_ca=95.2, val_wa=0.802]\n"
     ]
    },
    {
     "name": "stdout",
     "output_type": "stream",
     "text": [
      "0.7033765934194838\n",
      "Validation loss decreased (0.703875 --> 0.703377).  Saving model ...\n"
     ]
    },
    {
     "name": "stderr",
     "output_type": "stream",
     "text": [
      "Epoch: [524]/[1200] Training: 100%|██████████| 7/7 [00:04<00:00,  1.47it/s, loss=7.87e-5, train_ca=100, train_wa=1]     \n",
      "Validating: 100%|██████████| 1/1 [00:00<00:00,  2.47it/s, val_loss=0.449, val_ca=95.8, val_wa=0.802]\n"
     ]
    },
    {
     "name": "stdout",
     "output_type": "stream",
     "text": [
      "0.702893030507483\n",
      "Validation loss decreased (0.703377 --> 0.702893).  Saving model ...\n"
     ]
    },
    {
     "name": "stderr",
     "output_type": "stream",
     "text": [
      "Epoch: [525]/[1200] Training: 100%|██████████| 7/7 [00:04<00:00,  1.59it/s, loss=1.64e-5, train_ca=100, train_wa=1]     \n",
      "Validating: 100%|██████████| 1/1 [00:00<00:00,  1.69it/s, val_loss=0.42, val_ca=94.8, val_wa=0.767]\n"
     ]
    },
    {
     "name": "stdout",
     "output_type": "stream",
     "text": [
      "0.7023553489733918\n",
      "Validation loss decreased (0.702893 --> 0.702355).  Saving model ...\n"
     ]
    },
    {
     "name": "stderr",
     "output_type": "stream",
     "text": [
      "Epoch: [526]/[1200] Training: 100%|██████████| 7/7 [00:04<00:00,  1.53it/s, loss=9.88e-6, train_ca=100, train_wa=1]     \n",
      "Validating: 100%|██████████| 1/1 [00:00<00:00,  1.67it/s, val_loss=0.313, val_ca=95.6, val_wa=0.802]\n"
     ]
    },
    {
     "name": "stdout",
     "output_type": "stream",
     "text": [
      "0.7016188567786505\n",
      "Validation loss decreased (0.702355 --> 0.701619).  Saving model ...\n"
     ]
    },
    {
     "name": "stderr",
     "output_type": "stream",
     "text": [
      "Epoch: [527]/[1200] Training: 100%|██████████| 7/7 [00:04<00:00,  1.55it/s, loss=0.000357, train_ca=100, train_wa=1]    \n",
      "Validating: 100%|██████████| 1/1 [00:00<00:00,  2.03it/s, val_loss=0.331, val_ca=96.3, val_wa=0.837]\n"
     ]
    },
    {
     "name": "stdout",
     "output_type": "stream",
     "text": [
      "0.700917345026265\n",
      "Validation loss decreased (0.701619 --> 0.700917).  Saving model ...\n"
     ]
    },
    {
     "name": "stderr",
     "output_type": "stream",
     "text": [
      "Epoch: [528]/[1200] Training: 100%|██████████| 7/7 [00:04<00:00,  1.65it/s, loss=3.48e-5, train_ca=100, train_wa=1]     \n",
      "Validating: 100%|██████████| 1/1 [00:00<00:00,  1.98it/s, val_loss=0.382, val_ca=95.8, val_wa=0.791]\n"
     ]
    },
    {
     "name": "stdout",
     "output_type": "stream",
     "text": [
      "0.7003157534689274\n",
      "Validation loss decreased (0.700917 --> 0.700316).  Saving model ...\n"
     ]
    },
    {
     "name": "stderr",
     "output_type": "stream",
     "text": [
      "Epoch: [529]/[1200] Training: 100%|██████████| 7/7 [00:04<00:00,  1.60it/s, loss=0.000202, train_ca=100, train_wa=1]    \n",
      "Validating: 100%|██████████| 1/1 [00:00<00:00,  1.67it/s, val_loss=0.399, val_ca=94.8, val_wa=0.767]\n"
     ]
    },
    {
     "name": "stdout",
     "output_type": "stream",
     "text": [
      "0.6997480173568941\n",
      "Validation loss decreased (0.700316 --> 0.699748).  Saving model ...\n"
     ]
    },
    {
     "name": "stderr",
     "output_type": "stream",
     "text": [
      "Epoch: [530]/[1200] Training: 100%|██████████| 7/7 [00:04<00:00,  1.42it/s, loss=2.48e-5, train_ca=100, train_wa=1]     \n",
      "Validating: 100%|██████████| 1/1 [00:00<00:00,  2.01it/s, val_loss=0.408, val_ca=96.8, val_wa=0.86]\n"
     ]
    },
    {
     "name": "stdout",
     "output_type": "stream",
     "text": [
      "0.6991991489229346\n",
      "Validation loss decreased (0.699748 --> 0.699199).  Saving model ...\n"
     ]
    },
    {
     "name": "stderr",
     "output_type": "stream",
     "text": [
      "Epoch: [531]/[1200] Training: 100%|██████████| 7/7 [00:04<00:00,  1.59it/s, loss=1.65e-5, train_ca=100, train_wa=1]     \n",
      "Validating: 100%|██████████| 1/1 [00:00<00:00,  1.99it/s, val_loss=0.39, val_ca=96.6, val_wa=0.837]\n"
     ]
    },
    {
     "name": "stdout",
     "output_type": "stream",
     "text": [
      "0.698618302705364\n",
      "Validation loss decreased (0.699199 --> 0.698618).  Saving model ...\n"
     ]
    },
    {
     "name": "stderr",
     "output_type": "stream",
     "text": [
      "Epoch: [532]/[1200] Training: 100%|██████████| 7/7 [00:04<00:00,  1.58it/s, loss=9.54e-5, train_ca=100, train_wa=1]     \n",
      "Validating: 100%|██████████| 1/1 [00:00<00:00,  1.67it/s, val_loss=0.472, val_ca=96.1, val_wa=0.826]\n"
     ]
    },
    {
     "name": "stdout",
     "output_type": "stream",
     "text": [
      "0.6981931368956406\n",
      "Validation loss decreased (0.698618 --> 0.698193).  Saving model ...\n"
     ]
    },
    {
     "name": "stderr",
     "output_type": "stream",
     "text": [
      "Epoch: [533]/[1200] Training: 100%|██████████| 7/7 [00:04<00:00,  1.49it/s, loss=0.00173, train_ca=100, train_wa=1]     \n",
      "Validating: 100%|██████████| 1/1 [00:00<00:00,  1.67it/s, val_loss=0.665, val_ca=92.9, val_wa=0.698]\n"
     ]
    },
    {
     "name": "stdout",
     "output_type": "stream",
     "text": [
      "0.6981314427384706\n",
      "Validation loss decreased (0.698193 --> 0.698131).  Saving model ...\n"
     ]
    },
    {
     "name": "stderr",
     "output_type": "stream",
     "text": [
      "Epoch: [534]/[1200] Training: 100%|██████████| 7/7 [00:04<00:00,  1.69it/s, loss=0.0504, train_ca=97.5, train_wa=0.8]   \n",
      "Validating: 100%|██████████| 1/1 [00:00<00:00,  1.67it/s, val_loss=0.47, val_ca=94.8, val_wa=0.791]\n"
     ]
    },
    {
     "name": "stdout",
     "output_type": "stream",
     "text": [
      "0.6977050236023185\n",
      "Validation loss decreased (0.698131 --> 0.697705).  Saving model ...\n"
     ]
    },
    {
     "name": "stderr",
     "output_type": "stream",
     "text": [
      "Epoch: [535]/[1200] Training: 100%|██████████| 7/7 [00:04<00:00,  1.56it/s, loss=7.98e-5, train_ca=100, train_wa=1]     \n",
      "Validating: 100%|██████████| 1/1 [00:00<00:00,  2.48it/s, val_loss=0.405, val_ca=95.1, val_wa=0.779]\n"
     ]
    },
    {
     "name": "stdout",
     "output_type": "stream",
     "text": [
      "0.6971607752130462\n",
      "Validation loss decreased (0.697705 --> 0.697161).  Saving model ...\n"
     ]
    },
    {
     "name": "stderr",
     "output_type": "stream",
     "text": [
      "Epoch: [536]/[1200] Training: 100%|██████████| 7/7 [00:04<00:00,  1.61it/s, loss=6.15e-5, train_ca=100, train_wa=1]     \n",
      "Validating: 100%|██████████| 1/1 [00:00<00:00,  2.02it/s, val_loss=0.456, val_ca=94.2, val_wa=0.721]\n"
     ]
    },
    {
     "name": "stdout",
     "output_type": "stream",
     "text": [
      "0.6967120533428227\n",
      "Validation loss decreased (0.697161 --> 0.696712).  Saving model ...\n"
     ]
    },
    {
     "name": "stderr",
     "output_type": "stream",
     "text": [
      "Epoch: [537]/[1200] Training: 100%|██████████| 7/7 [00:04<00:00,  1.52it/s, loss=0.144, train_ca=94.3, train_wa=0.6]    \n",
      "Validating: 100%|██████████| 1/1 [00:00<00:00,  3.26it/s, val_loss=0.395, val_ca=94, val_wa=0.744]\n"
     ]
    },
    {
     "name": "stdout",
     "output_type": "stream",
     "text": [
      "0.6961514028635892\n",
      "Validation loss decreased (0.696712 --> 0.696151).  Saving model ...\n"
     ]
    },
    {
     "name": "stderr",
     "output_type": "stream",
     "text": [
      "Epoch: [538]/[1200] Training: 100%|██████████| 7/7 [00:04<00:00,  1.65it/s, loss=0.000474, train_ca=100, train_wa=1]    \n",
      "Validating: 100%|██████████| 1/1 [00:00<00:00,  2.47it/s, val_loss=0.379, val_ca=94.8, val_wa=0.779]\n"
     ]
    },
    {
     "name": "stdout",
     "output_type": "stream",
     "text": [
      "0.6955642668737305\n",
      "Validation loss decreased (0.696151 --> 0.695564).  Saving model ...\n"
     ]
    },
    {
     "name": "stderr",
     "output_type": "stream",
     "text": [
      "Epoch: [539]/[1200] Training: 100%|██████████| 7/7 [00:04<00:00,  1.61it/s, loss=0.000264, train_ca=100, train_wa=1]    \n",
      "Validating: 100%|██████████| 1/1 [00:00<00:00,  2.04it/s, val_loss=0.42, val_ca=94, val_wa=0.721]\n"
     ]
    },
    {
     "name": "stdout",
     "output_type": "stream",
     "text": [
      "0.6950541223483694\n",
      "Validation loss decreased (0.695564 --> 0.695054).  Saving model ...\n"
     ]
    },
    {
     "name": "stderr",
     "output_type": "stream",
     "text": [
      "Epoch: [540]/[1200] Training: 100%|██████████| 7/7 [00:04<00:00,  1.68it/s, loss=0.000217, train_ca=100, train_wa=1]    \n",
      "Validating: 100%|██████████| 1/1 [00:00<00:00,  1.67it/s, val_loss=0.38, val_ca=94.9, val_wa=0.767]\n"
     ]
    },
    {
     "name": "stdout",
     "output_type": "stream",
     "text": [
      "0.6944735034255524\n",
      "Validation loss decreased (0.695054 --> 0.694474).  Saving model ...\n"
     ]
    },
    {
     "name": "stderr",
     "output_type": "stream",
     "text": [
      "Epoch: [541]/[1200] Training: 100%|██████████| 7/7 [00:04<00:00,  1.58it/s, loss=0.255, train_ca=86.7, train_wa=0.8]    \n",
      "Validating: 100%|██████████| 1/1 [00:00<00:00,  1.98it/s, val_loss=0.309, val_ca=95.5, val_wa=0.802]\n"
     ]
    },
    {
     "name": "stdout",
     "output_type": "stream",
     "text": [
      "0.6937628557449327\n",
      "Validation loss decreased (0.694474 --> 0.693763).  Saving model ...\n"
     ]
    },
    {
     "name": "stderr",
     "output_type": "stream",
     "text": [
      "Epoch: [542]/[1200] Training: 100%|██████████| 7/7 [00:04<00:00,  1.44it/s, loss=0.000799, train_ca=100, train_wa=1]    \n",
      "Validating: 100%|██████████| 1/1 [00:00<00:00,  1.43it/s, val_loss=0.4, val_ca=94.5, val_wa=0.779]\n"
     ]
    },
    {
     "name": "stdout",
     "output_type": "stream",
     "text": [
      "0.6932231553227586\n",
      "Validation loss decreased (0.693763 --> 0.693223).  Saving model ...\n"
     ]
    },
    {
     "name": "stderr",
     "output_type": "stream",
     "text": [
      "Epoch: [543]/[1200] Training: 100%|██████████| 7/7 [00:04<00:00,  1.50it/s, loss=5.04e-5, train_ca=100, train_wa=1]     \n",
      "Validating: 100%|██████████| 1/1 [00:00<00:00,  1.96it/s, val_loss=0.435, val_ca=93.9, val_wa=0.698]\n"
     ]
    },
    {
     "name": "stdout",
     "output_type": "stream",
     "text": [
      "0.6927491828935955\n",
      "Validation loss decreased (0.693223 --> 0.692749).  Saving model ...\n"
     ]
    },
    {
     "name": "stderr",
     "output_type": "stream",
     "text": [
      "Epoch: [544]/[1200] Training: 100%|██████████| 7/7 [00:04<00:00,  1.63it/s, loss=0.00375, train_ca=100, train_wa=1]     \n",
      "Validating: 100%|██████████| 1/1 [00:00<00:00,  1.96it/s, val_loss=0.375, val_ca=95.6, val_wa=0.779]\n"
     ]
    },
    {
     "name": "stdout",
     "output_type": "stream",
     "text": [
      "0.692166689660523\n",
      "Validation loss decreased (0.692749 --> 0.692167).  Saving model ...\n"
     ]
    },
    {
     "name": "stderr",
     "output_type": "stream",
     "text": [
      "Epoch: [545]/[1200] Training: 100%|██████████| 7/7 [00:04<00:00,  1.63it/s, loss=0.000609, train_ca=100, train_wa=1]    \n",
      "Validating: 100%|██████████| 1/1 [00:00<00:00,  1.42it/s, val_loss=0.423, val_ca=94.6, val_wa=0.779]\n"
     ]
    },
    {
     "name": "stdout",
     "output_type": "stream",
     "text": [
      "0.6916743965863745\n",
      "Validation loss decreased (0.692167 --> 0.691674).  Saving model ...\n"
     ]
    },
    {
     "name": "stderr",
     "output_type": "stream",
     "text": [
      "Epoch: [546]/[1200] Training: 100%|██████████| 7/7 [00:04<00:00,  1.67it/s, loss=0.0117, train_ca=100, train_wa=1]      \n",
      "Validating: 100%|██████████| 1/1 [00:00<00:00,  1.66it/s, val_loss=0.403, val_ca=95.2, val_wa=0.779]\n"
     ]
    },
    {
     "name": "stdout",
     "output_type": "stream",
     "text": [
      "0.6911479485948591\n",
      "Validation loss decreased (0.691674 --> 0.691148).  Saving model ...\n"
     ]
    },
    {
     "name": "stderr",
     "output_type": "stream",
     "text": [
      "Epoch: [547]/[1200] Training: 100%|██████████| 7/7 [00:04<00:00,  1.58it/s, loss=0.000335, train_ca=100, train_wa=1]    \n",
      "Validating: 100%|██████████| 1/1 [00:00<00:00,  1.99it/s, val_loss=0.385, val_ca=95.5, val_wa=0.802]\n"
     ]
    },
    {
     "name": "stdout",
     "output_type": "stream",
     "text": [
      "0.690590264910123\n",
      "Validation loss decreased (0.691148 --> 0.690590).  Saving model ...\n"
     ]
    },
    {
     "name": "stderr",
     "output_type": "stream",
     "text": [
      "Epoch: [548]/[1200] Training: 100%|██████████| 7/7 [00:04<00:00,  1.73it/s, loss=0.115, train_ca=93.3, train_wa=0.8]    \n",
      "Validating: 100%|██████████| 1/1 [00:00<00:00,  3.28it/s, val_loss=0.375, val_ca=96, val_wa=0.826]\n"
     ]
    },
    {
     "name": "stdout",
     "output_type": "stream",
     "text": [
      "0.6900166620449586\n",
      "Validation loss decreased (0.690590 --> 0.690017).  Saving model ...\n"
     ]
    },
    {
     "name": "stderr",
     "output_type": "stream",
     "text": [
      "Epoch: [549]/[1200] Training: 100%|██████████| 7/7 [00:04<00:00,  1.72it/s, loss=0.000118, train_ca=100, train_wa=1]    \n",
      "Validating: 100%|██████████| 1/1 [00:00<00:00,  1.45it/s, val_loss=0.331, val_ca=96.3, val_wa=0.837]\n"
     ]
    },
    {
     "name": "stdout",
     "output_type": "stream",
     "text": [
      "0.6893657115431749\n",
      "Validation loss decreased (0.690017 --> 0.689366).  Saving model ...\n"
     ]
    },
    {
     "name": "stderr",
     "output_type": "stream",
     "text": [
      "Epoch: [550]/[1200] Training: 100%|██████████| 7/7 [00:03<00:00,  1.79it/s, loss=0.0321, train_ca=97.1, train_wa=0.8]   \n",
      "Validating: 100%|██████████| 1/1 [00:00<00:00,  2.01it/s, val_loss=0.368, val_ca=95, val_wa=0.767]\n"
     ]
    },
    {
     "name": "stdout",
     "output_type": "stream",
     "text": [
      "0.6887834756702617\n",
      "Validation loss decreased (0.689366 --> 0.688783).  Saving model ...\n"
     ]
    },
    {
     "name": "stderr",
     "output_type": "stream",
     "text": [
      "Epoch: [551]/[1200] Training: 100%|██████████| 7/7 [00:03<00:00,  1.78it/s, loss=0.000119, train_ca=100, train_wa=1]    \n",
      "Validating: 100%|██████████| 1/1 [00:00<00:00,  3.26it/s, val_loss=0.348, val_ca=95.5, val_wa=0.791]\n"
     ]
    },
    {
     "name": "stdout",
     "output_type": "stream",
     "text": [
      "0.6881673062257266\n",
      "Validation loss decreased (0.688783 --> 0.688167).  Saving model ...\n"
     ]
    },
    {
     "name": "stderr",
     "output_type": "stream",
     "text": [
      "Epoch: [552]/[1200] Training: 100%|██████████| 7/7 [00:03<00:00,  1.97it/s, loss=0.00017, train_ca=100, train_wa=1]     \n",
      "Validating: 100%|██████████| 1/1 [00:00<00:00,  2.43it/s, val_loss=0.426, val_ca=95, val_wa=0.744]\n"
     ]
    },
    {
     "name": "stdout",
     "output_type": "stream",
     "text": [
      "0.6876942998450586\n",
      "Validation loss decreased (0.688167 --> 0.687694).  Saving model ...\n"
     ]
    },
    {
     "name": "stderr",
     "output_type": "stream",
     "text": [
      "Epoch: [553]/[1200] Training: 100%|██████████| 7/7 [00:03<00:00,  1.87it/s, loss=0.000648, train_ca=100, train_wa=1]    \n",
      "Validating: 100%|██████████| 1/1 [00:00<00:00,  2.02it/s, val_loss=0.418, val_ca=95.4, val_wa=0.791]\n"
     ]
    },
    {
     "name": "stdout",
     "output_type": "stream",
     "text": [
      "0.6872080330913132\n",
      "Validation loss decreased (0.687694 --> 0.687208).  Saving model ...\n"
     ]
    },
    {
     "name": "stderr",
     "output_type": "stream",
     "text": [
      "Epoch: [554]/[1200] Training: 100%|██████████| 7/7 [00:04<00:00,  1.56it/s, loss=0.00145, train_ca=100, train_wa=1]     \n",
      "Validating: 100%|██████████| 1/1 [00:00<00:00,  1.67it/s, val_loss=0.329, val_ca=95.8, val_wa=0.814]\n"
     ]
    },
    {
     "name": "stdout",
     "output_type": "stream",
     "text": [
      "0.6865636489266972\n",
      "Validation loss decreased (0.687208 --> 0.686564).  Saving model ...\n"
     ]
    },
    {
     "name": "stderr",
     "output_type": "stream",
     "text": [
      "Epoch: [555]/[1200] Training: 100%|██████████| 7/7 [00:04<00:00,  1.70it/s, loss=0.000194, train_ca=100, train_wa=1]     \n",
      "Validating: 100%|██████████| 1/1 [00:00<00:00,  2.46it/s, val_loss=0.429, val_ca=94.3, val_wa=0.744]\n"
     ]
    },
    {
     "name": "stdout",
     "output_type": "stream",
     "text": [
      "0.6861005332889419\n",
      "Validation loss decreased (0.686564 --> 0.686101).  Saving model ...\n"
     ]
    },
    {
     "name": "stderr",
     "output_type": "stream",
     "text": [
      "Epoch: [556]/[1200] Training: 100%|██████████| 7/7 [00:04<00:00,  1.65it/s, loss=6.09e-5, train_ca=100, train_wa=1]     \n",
      "Validating: 100%|██████████| 1/1 [00:00<00:00,  2.49it/s, val_loss=0.363, val_ca=95.8, val_wa=0.814]\n"
     ]
    },
    {
     "name": "stdout",
     "output_type": "stream",
     "text": [
      "0.6855223881728333\n",
      "Validation loss decreased (0.686101 --> 0.685522).  Saving model ...\n"
     ]
    },
    {
     "name": "stderr",
     "output_type": "stream",
     "text": [
      "Epoch: [557]/[1200] Training: 100%|██████████| 7/7 [00:04<00:00,  1.66it/s, loss=2.41e-5, train_ca=100, train_wa=1]     \n",
      "Validating: 100%|██████████| 1/1 [00:00<00:00,  2.01it/s, val_loss=0.366, val_ca=96.3, val_wa=0.826]\n"
     ]
    },
    {
     "name": "stdout",
     "output_type": "stream",
     "text": [
      "0.6849510885628477\n",
      "Validation loss decreased (0.685522 --> 0.684951).  Saving model ...\n"
     ]
    },
    {
     "name": "stderr",
     "output_type": "stream",
     "text": [
      "Epoch: [558]/[1200] Training: 100%|██████████| 7/7 [00:03<00:00,  1.79it/s, loss=1.48e-5, train_ca=100, train_wa=1]      \n",
      "Validating: 100%|██████████| 1/1 [00:00<00:00,  3.32it/s, val_loss=0.358, val_ca=96.6, val_wa=0.837]\n"
     ]
    },
    {
     "name": "stdout",
     "output_type": "stream",
     "text": [
      "0.6843666327318975\n",
      "Validation loss decreased (0.684951 --> 0.684367).  Saving model ...\n"
     ]
    },
    {
     "name": "stderr",
     "output_type": "stream",
     "text": [
      "Epoch: [559]/[1200] Training: 100%|██████████| 7/7 [00:04<00:00,  1.57it/s, loss=3.67e-5, train_ca=100, train_wa=1]     \n",
      "Validating: 100%|██████████| 1/1 [00:00<00:00,  3.19it/s, val_loss=0.41, val_ca=96, val_wa=0.802]\n"
     ]
    },
    {
     "name": "stdout",
     "output_type": "stream",
     "text": [
      "0.683877154308207\n",
      "Validation loss decreased (0.684367 --> 0.683877).  Saving model ...\n"
     ]
    },
    {
     "name": "stderr",
     "output_type": "stream",
     "text": [
      "Epoch: [560]/[1200] Training: 100%|██████████| 7/7 [00:04<00:00,  1.56it/s, loss=0.000742, train_ca=100, train_wa=1]    \n",
      "Validating: 100%|██████████| 1/1 [00:00<00:00,  2.44it/s, val_loss=0.452, val_ca=94.5, val_wa=0.709]\n"
     ]
    },
    {
     "name": "stdout",
     "output_type": "stream",
     "text": [
      "0.6834653017253638\n",
      "Validation loss decreased (0.683877 --> 0.683465).  Saving model ...\n"
     ]
    },
    {
     "name": "stderr",
     "output_type": "stream",
     "text": [
      "Epoch: [561]/[1200] Training: 100%|██████████| 7/7 [00:04<00:00,  1.60it/s, loss=6.06e-5, train_ca=100, train_wa=1]      \n",
      "Validating: 100%|██████████| 1/1 [00:00<00:00,  1.67it/s, val_loss=0.395, val_ca=95.2, val_wa=0.756]\n"
     ]
    },
    {
     "name": "stdout",
     "output_type": "stream",
     "text": [
      "0.6829523282724418\n",
      "Validation loss decreased (0.683465 --> 0.682952).  Saving model ...\n"
     ]
    },
    {
     "name": "stderr",
     "output_type": "stream",
     "text": [
      "Epoch: [562]/[1200] Training: 100%|██████████| 7/7 [00:04<00:00,  1.67it/s, loss=0.000215, train_ca=100, train_wa=1]     \n",
      "Validating: 100%|██████████| 1/1 [00:00<00:00,  2.49it/s, val_loss=0.397, val_ca=95.5, val_wa=0.802]\n"
     ]
    },
    {
     "name": "stdout",
     "output_type": "stream",
     "text": [
      "0.68244598573404\n",
      "Validation loss decreased (0.682952 --> 0.682446).  Saving model ...\n"
     ]
    },
    {
     "name": "stderr",
     "output_type": "stream",
     "text": [
      "Epoch: [563]/[1200] Training: 100%|██████████| 7/7 [00:04<00:00,  1.54it/s, loss=8.05e-5, train_ca=100, train_wa=1]     \n",
      "Validating: 100%|██████████| 1/1 [00:00<00:00,  3.28it/s, val_loss=0.377, val_ca=94.5, val_wa=0.791]\n"
     ]
    },
    {
     "name": "stdout",
     "output_type": "stream",
     "text": [
      "0.6819050561537785\n",
      "Validation loss decreased (0.682446 --> 0.681905).  Saving model ...\n"
     ]
    },
    {
     "name": "stderr",
     "output_type": "stream",
     "text": [
      "Epoch: [564]/[1200] Training: 100%|██████████| 7/7 [00:05<00:00,  1.39it/s, loss=0.000102, train_ca=100, train_wa=1]    \n",
      "Validating: 100%|██████████| 1/1 [00:00<00:00,  1.98it/s, val_loss=0.472, val_ca=94.7, val_wa=0.791]\n"
     ]
    },
    {
     "name": "stdout",
     "output_type": "stream",
     "text": [
      "0.6815344862929502\n",
      "Validation loss decreased (0.681905 --> 0.681534).  Saving model ...\n"
     ]
    },
    {
     "name": "stderr",
     "output_type": "stream",
     "text": [
      "Epoch: [565]/[1200] Training: 100%|██████████| 7/7 [00:04<00:00,  1.54it/s, loss=0.000178, train_ca=100, train_wa=1]     \n",
      "Validating: 100%|██████████| 1/1 [00:00<00:00,  3.33it/s, val_loss=0.428, val_ca=95.2, val_wa=0.779]\n"
     ]
    },
    {
     "name": "stdout",
     "output_type": "stream",
     "text": [
      "0.6810872585264673\n",
      "Validation loss decreased (0.681534 --> 0.681087).  Saving model ...\n"
     ]
    },
    {
     "name": "stderr",
     "output_type": "stream",
     "text": [
      "Epoch: [566]/[1200] Training: 100%|██████████| 7/7 [00:04<00:00,  1.58it/s, loss=9.45e-5, train_ca=100, train_wa=1]     \n",
      "Validating: 100%|██████████| 1/1 [00:00<00:00,  1.66it/s, val_loss=0.42, val_ca=95.7, val_wa=0.802]\n"
     ]
    },
    {
     "name": "stdout",
     "output_type": "stream",
     "text": [
      "0.6806277558207512\n",
      "Validation loss decreased (0.681087 --> 0.680628).  Saving model ...\n"
     ]
    },
    {
     "name": "stderr",
     "output_type": "stream",
     "text": [
      "Epoch: [567]/[1200] Training: 100%|██████████| 7/7 [00:04<00:00,  1.58it/s, loss=0.0141, train_ca=100, train_wa=1]      \n",
      "Validating: 100%|██████████| 1/1 [00:00<00:00,  1.99it/s, val_loss=0.427, val_ca=95.8, val_wa=0.814]\n"
     ]
    },
    {
     "name": "stdout",
     "output_type": "stream",
     "text": [
      "0.6801820701161672\n",
      "Validation loss decreased (0.680628 --> 0.680182).  Saving model ...\n"
     ]
    },
    {
     "name": "stderr",
     "output_type": "stream",
     "text": [
      "Epoch: [568]/[1200] Training: 100%|██████████| 7/7 [00:04<00:00,  1.59it/s, loss=0.00344, train_ca=100, train_wa=1]     \n",
      "Validating: 100%|██████████| 1/1 [00:00<00:00,  1.66it/s, val_loss=0.429, val_ca=95.8, val_wa=0.791]\n"
     ]
    },
    {
     "name": "stdout",
     "output_type": "stream",
     "text": [
      "0.6797422572708967\n",
      "Validation loss decreased (0.680182 --> 0.679742).  Saving model ...\n"
     ]
    },
    {
     "name": "stderr",
     "output_type": "stream",
     "text": [
      "Epoch: [569]/[1200] Training: 100%|██████████| 7/7 [00:04<00:00,  1.56it/s, loss=0.000133, train_ca=100, train_wa=1]     \n",
      "Validating: 100%|██████████| 1/1 [00:00<00:00,  1.66it/s, val_loss=0.52, val_ca=94.2, val_wa=0.733]\n"
     ]
    },
    {
     "name": "stdout",
     "output_type": "stream",
     "text": [
      "0.6794631544324438\n",
      "Validation loss decreased (0.679742 --> 0.679463).  Saving model ...\n"
     ]
    },
    {
     "name": "stderr",
     "output_type": "stream",
     "text": [
      "Epoch: [570]/[1200] Training: 100%|██████████| 7/7 [00:04<00:00,  1.63it/s, loss=0.000321, train_ca=100, train_wa=1]  \n",
      "Validating: 100%|██████████| 1/1 [00:00<00:00,  1.67it/s, val_loss=0.386, val_ca=95.7, val_wa=0.826]\n"
     ]
    },
    {
     "name": "stdout",
     "output_type": "stream",
     "text": [
      "0.6789503062625865\n",
      "Validation loss decreased (0.679463 --> 0.678950).  Saving model ...\n"
     ]
    },
    {
     "name": "stderr",
     "output_type": "stream",
     "text": [
      "Epoch: [571]/[1200] Training: 100%|██████████| 7/7 [00:04<00:00,  1.61it/s, loss=0.0249, train_ca=97.1, train_wa=0.8]   \n",
      "Validating: 100%|██████████| 1/1 [00:00<00:00,  2.49it/s, val_loss=0.441, val_ca=95, val_wa=0.767]\n"
     ]
    },
    {
     "name": "stdout",
     "output_type": "stream",
     "text": [
      "0.6785342760423091\n",
      "Validation loss decreased (0.678950 --> 0.678534).  Saving model ...\n"
     ]
    },
    {
     "name": "stderr",
     "output_type": "stream",
     "text": [
      "Epoch: [572]/[1200] Training: 100%|██████████| 7/7 [00:03<00:00,  1.81it/s, loss=2.93e-5, train_ca=100, train_wa=1]     \n",
      "Validating: 100%|██████████| 1/1 [00:00<00:00,  2.00it/s, val_loss=0.38, val_ca=95.4, val_wa=0.802]\n"
     ]
    },
    {
     "name": "stdout",
     "output_type": "stream",
     "text": [
      "0.6780142125767697\n",
      "Validation loss decreased (0.678534 --> 0.678014).  Saving model ...\n"
     ]
    },
    {
     "name": "stderr",
     "output_type": "stream",
     "text": [
      "Epoch: [573]/[1200] Training: 100%|██████████| 7/7 [00:03<00:00,  1.77it/s, loss=0.00014, train_ca=100, train_wa=1]     \n",
      "Validating: 100%|██████████| 1/1 [00:00<00:00,  2.00it/s, val_loss=0.397, val_ca=95.6, val_wa=0.791]\n"
     ]
    },
    {
     "name": "stdout",
     "output_type": "stream",
     "text": [
      "0.6775263505396636\n",
      "Validation loss decreased (0.678014 --> 0.677526).  Saving model ...\n"
     ]
    },
    {
     "name": "stderr",
     "output_type": "stream",
     "text": [
      "Epoch: [574]/[1200] Training: 100%|██████████| 7/7 [00:04<00:00,  1.57it/s, loss=0.00051, train_ca=100, train_wa=1]      \n",
      "Validating: 100%|██████████| 1/1 [00:00<00:00,  3.27it/s, val_loss=0.391, val_ca=95, val_wa=0.791]\n"
     ]
    },
    {
     "name": "stdout",
     "output_type": "stream",
     "text": [
      "0.6770288241095841\n",
      "Validation loss decreased (0.677526 --> 0.677029).  Saving model ...\n"
     ]
    },
    {
     "name": "stderr",
     "output_type": "stream",
     "text": [
      "Epoch: [575]/[1200] Training: 100%|██████████| 7/7 [00:04<00:00,  1.73it/s, loss=0.168, train_ca=94.3, train_wa=0.6]     \n",
      "Validating: 100%|██████████| 1/1 [00:00<00:00,  1.66it/s, val_loss=0.441, val_ca=94.8, val_wa=0.767]\n"
     ]
    },
    {
     "name": "stdout",
     "output_type": "stream",
     "text": [
      "0.6766191316022824\n",
      "Validation loss decreased (0.677029 --> 0.676619).  Saving model ...\n"
     ]
    },
    {
     "name": "stderr",
     "output_type": "stream",
     "text": [
      "Epoch: [576]/[1200] Training: 100%|██████████| 7/7 [00:04<00:00,  1.47it/s, loss=0.000197, train_ca=100, train_wa=1]    \n",
      "Validating: 100%|██████████| 1/1 [00:00<00:00,  1.68it/s, val_loss=0.423, val_ca=95, val_wa=0.756]\n"
     ]
    },
    {
     "name": "stdout",
     "output_type": "stream",
     "text": [
      "0.6761808573271576\n",
      "Validation loss decreased (0.676619 --> 0.676181).  Saving model ...\n"
     ]
    },
    {
     "name": "stderr",
     "output_type": "stream",
     "text": [
      "Epoch: [577]/[1200] Training: 100%|██████████| 7/7 [00:04<00:00,  1.46it/s, loss=0.000217, train_ca=100, train_wa=1]    \n",
      "Validating: 100%|██████████| 1/1 [00:00<00:00,  1.96it/s, val_loss=0.416, val_ca=95.3, val_wa=0.779]\n"
     ]
    },
    {
     "name": "stdout",
     "output_type": "stream",
     "text": [
      "0.6757314794010038\n",
      "Validation loss decreased (0.676181 --> 0.675731).  Saving model ...\n"
     ]
    },
    {
     "name": "stderr",
     "output_type": "stream",
     "text": [
      "Epoch: [578]/[1200] Training: 100%|██████████| 7/7 [00:04<00:00,  1.69it/s, loss=6e-5, train_ca=100, train_wa=1]        \n",
      "Validating: 100%|██████████| 1/1 [00:00<00:00,  2.52it/s, val_loss=0.368, val_ca=95, val_wa=0.756]\n"
     ]
    },
    {
     "name": "stdout",
     "output_type": "stream",
     "text": [
      "0.6752016540745209\n",
      "Validation loss decreased (0.675731 --> 0.675202).  Saving model ...\n"
     ]
    },
    {
     "name": "stderr",
     "output_type": "stream",
     "text": [
      "Epoch: [579]/[1200] Training: 100%|██████████| 7/7 [00:03<00:00,  1.82it/s, loss=0.00202, train_ca=100, train_wa=1]     \n",
      "Validating: 100%|██████████| 1/1 [00:00<00:00,  2.47it/s, val_loss=0.342, val_ca=95.5, val_wa=0.767]\n"
     ]
    },
    {
     "name": "stdout",
     "output_type": "stream",
     "text": [
      "0.6746276698096073\n",
      "Validation loss decreased (0.675202 --> 0.674628).  Saving model ...\n"
     ]
    },
    {
     "name": "stderr",
     "output_type": "stream",
     "text": [
      "Epoch: [580]/[1200] Training: 100%|██████████| 7/7 [00:04<00:00,  1.68it/s, loss=0.162, train_ca=97.1, train_wa=0.8]    \n",
      "Validating: 100%|██████████| 1/1 [00:00<00:00,  2.52it/s, val_loss=0.37, val_ca=95.5, val_wa=0.791]\n"
     ]
    },
    {
     "name": "stdout",
     "output_type": "stream",
     "text": [
      "0.674104407071248\n",
      "Validation loss decreased (0.674628 --> 0.674104).  Saving model ...\n"
     ]
    },
    {
     "name": "stderr",
     "output_type": "stream",
     "text": [
      "Epoch: [581]/[1200] Training: 100%|██████████| 7/7 [00:04<00:00,  1.71it/s, loss=0.011, train_ca=100, train_wa=1]       \n",
      "Validating: 100%|██████████| 1/1 [00:00<00:00,  1.24it/s, val_loss=0.39, val_ca=94.6, val_wa=0.756]\n"
     ]
    },
    {
     "name": "stdout",
     "output_type": "stream",
     "text": [
      "0.6736171169407781\n",
      "Validation loss decreased (0.674104 --> 0.673617).  Saving model ...\n"
     ]
    },
    {
     "name": "stderr",
     "output_type": "stream",
     "text": [
      "Epoch: [582]/[1200] Training: 100%|██████████| 7/7 [00:04<00:00,  1.62it/s, loss=0.000658, train_ca=100, train_wa=1]     \n",
      "Validating: 100%|██████████| 1/1 [00:00<00:00,  1.99it/s, val_loss=0.392, val_ca=95.3, val_wa=0.767]\n"
     ]
    },
    {
     "name": "stdout",
     "output_type": "stream",
     "text": [
      "0.6731340616227013\n",
      "Validation loss decreased (0.673617 --> 0.673134).  Saving model ...\n"
     ]
    },
    {
     "name": "stderr",
     "output_type": "stream",
     "text": [
      "Epoch: [583]/[1200] Training: 100%|██████████| 7/7 [00:04<00:00,  1.54it/s, loss=0.000159, train_ca=100, train_wa=1]    \n",
      "Validating: 100%|██████████| 1/1 [00:00<00:00,  1.44it/s, val_loss=0.33, val_ca=96, val_wa=0.802]\n"
     ]
    },
    {
     "name": "stdout",
     "output_type": "stream",
     "text": [
      "0.6725477785126776\n",
      "Validation loss decreased (0.673134 --> 0.672548).  Saving model ...\n"
     ]
    },
    {
     "name": "stderr",
     "output_type": "stream",
     "text": [
      "Epoch: [584]/[1200] Training: 100%|██████████| 7/7 [00:04<00:00,  1.69it/s, loss=0.00211, train_ca=100, train_wa=1]     \n",
      "Validating: 100%|██████████| 1/1 [00:00<00:00,  2.48it/s, val_loss=0.36, val_ca=95.1, val_wa=0.779]\n"
     ]
    },
    {
     "name": "stdout",
     "output_type": "stream",
     "text": [
      "0.6720148964241504\n",
      "Validation loss decreased (0.672548 --> 0.672015).  Saving model ...\n"
     ]
    },
    {
     "name": "stderr",
     "output_type": "stream",
     "text": [
      "Epoch: [585]/[1200] Training: 100%|██████████| 7/7 [00:04<00:00,  1.65it/s, loss=0.000266, train_ca=100, train_wa=1]     \n",
      "Validating: 100%|██████████| 1/1 [00:00<00:00,  1.68it/s, val_loss=0.372, val_ca=95.3, val_wa=0.779]\n"
     ]
    },
    {
     "name": "stdout",
     "output_type": "stream",
     "text": [
      "0.6715043902498697\n",
      "Validation loss decreased (0.672015 --> 0.671504).  Saving model ...\n"
     ]
    },
    {
     "name": "stderr",
     "output_type": "stream",
     "text": [
      "Epoch: [586]/[1200] Training: 100%|██████████| 7/7 [00:04<00:00,  1.58it/s, loss=0.0811, train_ca=97.1, train_wa=0.8]   \n",
      "Validating: 100%|██████████| 1/1 [00:00<00:00,  1.67it/s, val_loss=0.405, val_ca=96.1, val_wa=0.837]\n"
     ]
    },
    {
     "name": "stdout",
     "output_type": "stream",
     "text": [
      "0.6710512901143152\n",
      "Validation loss decreased (0.671504 --> 0.671051).  Saving model ...\n"
     ]
    },
    {
     "name": "stderr",
     "output_type": "stream",
     "text": [
      "Epoch: [587]/[1200] Training: 100%|██████████| 7/7 [00:04<00:00,  1.50it/s, loss=0.0435, train_ca=97.1, train_wa=0.8]   \n",
      "Validating: 100%|██████████| 1/1 [00:00<00:00,  1.69it/s, val_loss=0.422, val_ca=94.8, val_wa=0.791]\n"
     ]
    },
    {
     "name": "stdout",
     "output_type": "stream",
     "text": [
      "0.6706279568336209\n",
      "Validation loss decreased (0.671051 --> 0.670628).  Saving model ...\n"
     ]
    },
    {
     "name": "stderr",
     "output_type": "stream",
     "text": [
      "Epoch: [588]/[1200] Training: 100%|██████████| 7/7 [00:04<00:00,  1.70it/s, loss=5.97e-5, train_ca=100, train_wa=1]     \n",
      "Validating: 100%|██████████| 1/1 [00:00<00:00,  1.66it/s, val_loss=0.435, val_ca=94.3, val_wa=0.744]\n"
     ]
    },
    {
     "name": "stdout",
     "output_type": "stream",
     "text": [
      "0.6702279078253245\n",
      "Validation loss decreased (0.670628 --> 0.670228).  Saving model ...\n"
     ]
    },
    {
     "name": "stderr",
     "output_type": "stream",
     "text": [
      "Epoch: [589]/[1200] Training: 100%|██████████| 7/7 [00:04<00:00,  1.67it/s, loss=0.0806, train_ca=97.1, train_wa=0.8]   \n",
      "Validating: 100%|██████████| 1/1 [00:00<00:00,  2.00it/s, val_loss=0.457, val_ca=93.5, val_wa=0.744]\n"
     ]
    },
    {
     "name": "stdout",
     "output_type": "stream",
     "text": [
      "0.6698676561542776\n",
      "Validation loss decreased (0.670228 --> 0.669868).  Saving model ...\n"
     ]
    },
    {
     "name": "stderr",
     "output_type": "stream",
     "text": [
      "Epoch: [590]/[1200] Training: 100%|██████████| 7/7 [00:04<00:00,  1.58it/s, loss=0.000512, train_ca=100, train_wa=1]    \n",
      "Validating: 100%|██████████| 1/1 [00:00<00:00,  2.45it/s, val_loss=0.518, val_ca=94.2, val_wa=0.744]\n"
     ]
    },
    {
     "name": "stdout",
     "output_type": "stream",
     "text": [
      "0.6696108936055286\n",
      "Validation loss decreased (0.669868 --> 0.669611).  Saving model ...\n"
     ]
    },
    {
     "name": "stderr",
     "output_type": "stream",
     "text": [
      "Epoch: [591]/[1200] Training: 100%|██████████| 7/7 [00:04<00:00,  1.50it/s, loss=0.00543, train_ca=100, train_wa=1]     \n",
      "Validating: 100%|██████████| 1/1 [00:00<00:00,  1.65it/s, val_loss=0.628, val_ca=92.7, val_wa=0.686]\n"
     ]
    },
    {
     "name": "stdout",
     "output_type": "stream",
     "text": [
      "0.6695412600422388\n",
      "Validation loss decreased (0.669611 --> 0.669541).  Saving model ...\n"
     ]
    },
    {
     "name": "stderr",
     "output_type": "stream",
     "text": [
      "Epoch: [592]/[1200] Training: 100%|██████████| 7/7 [00:04<00:00,  1.55it/s, loss=0.000623, train_ca=100, train_wa=1]    \n",
      "Validating: 100%|██████████| 1/1 [00:00<00:00,  1.64it/s, val_loss=0.616, val_ca=91.5, val_wa=0.581]\n"
     ]
    },
    {
     "name": "stdout",
     "output_type": "stream",
     "text": [
      "0.6694509411098981\n",
      "Validation loss decreased (0.669541 --> 0.669451).  Saving model ...\n"
     ]
    },
    {
     "name": "stderr",
     "output_type": "stream",
     "text": [
      "Epoch: [593]/[1200] Training: 100%|██████████| 7/7 [00:04<00:00,  1.58it/s, loss=0.00114, train_ca=100, train_wa=1]     \n",
      "Validating: 100%|██████████| 1/1 [00:00<00:00,  1.66it/s, val_loss=0.456, val_ca=94.5, val_wa=0.721]\n"
     ]
    },
    {
     "name": "stdout",
     "output_type": "stream",
     "text": [
      "0.6690923685787105\n",
      "Validation loss decreased (0.669451 --> 0.669092).  Saving model ...\n"
     ]
    },
    {
     "name": "stderr",
     "output_type": "stream",
     "text": [
      "Epoch: [594]/[1200] Training: 100%|██████████| 7/7 [00:04<00:00,  1.59it/s, loss=8.05e-5, train_ca=100, train_wa=1]     \n",
      "Validating: 100%|██████████| 1/1 [00:00<00:00,  2.02it/s, val_loss=0.431, val_ca=94.5, val_wa=0.756]\n"
     ]
    },
    {
     "name": "stdout",
     "output_type": "stream",
     "text": [
      "0.6686927226165797\n",
      "Validation loss decreased (0.669092 --> 0.668693).  Saving model ...\n"
     ]
    },
    {
     "name": "stderr",
     "output_type": "stream",
     "text": [
      "Epoch: [595]/[1200] Training: 100%|██████████| 7/7 [00:04<00:00,  1.54it/s, loss=0.000728, train_ca=100, train_wa=1]    \n",
      "Validating: 100%|██████████| 1/1 [00:00<00:00,  1.97it/s, val_loss=0.42, val_ca=94.8, val_wa=0.779]\n"
     ]
    },
    {
     "name": "stdout",
     "output_type": "stream",
     "text": [
      "0.6682762299450598\n",
      "Validation loss decreased (0.668693 --> 0.668276).  Saving model ...\n"
     ]
    },
    {
     "name": "stderr",
     "output_type": "stream",
     "text": [
      "Epoch: [596]/[1200] Training: 100%|██████████| 7/7 [00:04<00:00,  1.61it/s, loss=0.000139, train_ca=100, train_wa=1]    \n",
      "Validating: 100%|██████████| 1/1 [00:00<00:00,  2.51it/s, val_loss=0.764, val_ca=92.3, val_wa=0.686]\n"
     ]
    },
    {
     "name": "stdout",
     "output_type": "stream",
     "text": [
      "0.668435964945168\n",
      "EarlyStopping counter: (-0.668276 1 out of 15)\n"
     ]
    },
    {
     "name": "stderr",
     "output_type": "stream",
     "text": [
      "Epoch: [597]/[1200] Training: 100%|██████████| 7/7 [00:04<00:00,  1.49it/s, loss=0.0212, train_ca=100, train_wa=1]       \n",
      "Validating: 100%|██████████| 1/1 [00:00<00:00,  2.00it/s, val_loss=0.601, val_ca=94, val_wa=0.779]\n"
     ]
    },
    {
     "name": "stdout",
     "output_type": "stream",
     "text": [
      "0.6683241956321544\n",
      "EarlyStopping counter: (-0.668276 2 out of 15)\n"
     ]
    },
    {
     "name": "stderr",
     "output_type": "stream",
     "text": [
      "Epoch: [598]/[1200] Training: 100%|██████████| 7/7 [00:04<00:00,  1.59it/s, loss=6.6e-5, train_ca=100, train_wa=1]      \n",
      "Validating: 100%|██████████| 1/1 [00:00<00:00,  1.94it/s, val_loss=0.678, val_ca=91.2, val_wa=0.605]\n"
     ]
    },
    {
     "name": "stdout",
     "output_type": "stream",
     "text": [
      "0.6683409431080023\n",
      "EarlyStopping counter: (-0.668276 3 out of 15)\n"
     ]
    },
    {
     "name": "stderr",
     "output_type": "stream",
     "text": [
      "Epoch: [599]/[1200] Training: 100%|██████████| 7/7 [00:04<00:00,  1.60it/s, loss=0.259, train_ca=95, train_wa=0.8]      \n",
      "Validating: 100%|██████████| 1/1 [00:00<00:00,  1.88it/s, val_loss=0.438, val_ca=94.6, val_wa=0.756]\n"
     ]
    },
    {
     "name": "stdout",
     "output_type": "stream",
     "text": [
      "0.6679579695429461\n",
      "Validation loss decreased (0.668276 --> 0.667958).  Saving model ...\n"
     ]
    },
    {
     "name": "stderr",
     "output_type": "stream",
     "text": [
      "Epoch: [600]/[1200] Training: 100%|██████████| 7/7 [00:04<00:00,  1.61it/s, loss=0.00893, train_ca=100, train_wa=1]     \n",
      "Validating: 100%|██████████| 1/1 [00:00<00:00,  2.00it/s, val_loss=0.421, val_ca=95, val_wa=0.791]\n"
     ]
    },
    {
     "name": "stdout",
     "output_type": "stream",
     "text": [
      "0.6675483802228275\n",
      "Validation loss decreased (0.667958 --> 0.667548).  Saving model ...\n"
     ]
    },
    {
     "name": "stderr",
     "output_type": "stream",
     "text": [
      "Epoch: [601]/[1200] Training: 100%|██████████| 7/7 [00:04<00:00,  1.60it/s, loss=0.000814, train_ca=100, train_wa=1]    \n",
      "Validating: 100%|██████████| 1/1 [00:00<00:00,  1.69it/s, val_loss=0.504, val_ca=94.5, val_wa=0.767]\n"
     ]
    },
    {
     "name": "stdout",
     "output_type": "stream",
     "text": [
      "0.6672776237649111\n",
      "Validation loss decreased (0.667548 --> 0.667278).  Saving model ...\n"
     ]
    },
    {
     "name": "stderr",
     "output_type": "stream",
     "text": [
      "Epoch: [602]/[1200] Training: 100%|██████████| 7/7 [00:03<00:00,  1.76it/s, loss=0.000277, train_ca=100, train_wa=1]   \n",
      "Validating: 100%|██████████| 1/1 [00:00<00:00,  2.03it/s, val_loss=0.403, val_ca=95.2, val_wa=0.779]\n"
     ]
    },
    {
     "name": "stdout",
     "output_type": "stream",
     "text": [
      "0.6668405814083996\n",
      "Validation loss decreased (0.667278 --> 0.666841).  Saving model ...\n"
     ]
    },
    {
     "name": "stderr",
     "output_type": "stream",
     "text": [
      "Epoch: [603]/[1200] Training: 100%|██████████| 7/7 [00:04<00:00,  1.69it/s, loss=8.17e-5, train_ca=100, train_wa=1]     \n",
      "Validating: 100%|██████████| 1/1 [00:00<00:00,  1.99it/s, val_loss=0.429, val_ca=95.3, val_wa=0.791]\n"
     ]
    },
    {
     "name": "stdout",
     "output_type": "stream",
     "text": [
      "0.6664481680255291\n",
      "Validation loss decreased (0.666841 --> 0.666448).  Saving model ...\n"
     ]
    },
    {
     "name": "stderr",
     "output_type": "stream",
     "text": [
      "Epoch: [604]/[1200] Training: 100%|██████████| 7/7 [00:04<00:00,  1.55it/s, loss=0.0257, train_ca=97.1, train_wa=0.8]    \n",
      "Validating: 100%|██████████| 1/1 [00:00<00:00,  2.49it/s, val_loss=0.425, val_ca=95.1, val_wa=0.791]\n"
     ]
    },
    {
     "name": "stdout",
     "output_type": "stream",
     "text": [
      "0.6660504170967014\n",
      "Validation loss decreased (0.666448 --> 0.666050).  Saving model ...\n"
     ]
    },
    {
     "name": "stderr",
     "output_type": "stream",
     "text": [
      "Epoch: [605]/[1200] Training: 100%|██████████| 7/7 [00:04<00:00,  1.57it/s, loss=5.28e-5, train_ca=100, train_wa=1]     \n",
      "Validating: 100%|██████████| 1/1 [00:00<00:00,  2.50it/s, val_loss=0.395, val_ca=95.5, val_wa=0.791]\n"
     ]
    },
    {
     "name": "stdout",
     "output_type": "stream",
     "text": [
      "0.6656039689576999\n",
      "Validation loss decreased (0.666050 --> 0.665604).  Saving model ...\n"
     ]
    },
    {
     "name": "stderr",
     "output_type": "stream",
     "text": [
      "Epoch: [606]/[1200] Training: 100%|██████████| 7/7 [00:04<00:00,  1.45it/s, loss=5.25e-5, train_ca=100, train_wa=1]     \n",
      "Validating: 100%|██████████| 1/1 [00:00<00:00,  1.99it/s, val_loss=0.414, val_ca=95, val_wa=0.791]\n"
     ]
    },
    {
     "name": "stdout",
     "output_type": "stream",
     "text": [
      "0.6651903009532314\n",
      "Validation loss decreased (0.665604 --> 0.665190).  Saving model ...\n"
     ]
    },
    {
     "name": "stderr",
     "output_type": "stream",
     "text": [
      "Epoch: [607]/[1200] Training: 100%|██████████| 7/7 [00:04<00:00,  1.55it/s, loss=2.03e-5, train_ca=100, train_wa=1]    \n",
      "Validating: 100%|██████████| 1/1 [00:00<00:00,  2.43it/s, val_loss=0.425, val_ca=94.8, val_wa=0.791]\n"
     ]
    },
    {
     "name": "stdout",
     "output_type": "stream",
     "text": [
      "0.6647957053971408\n",
      "Validation loss decreased (0.665190 --> 0.664796).  Saving model ...\n"
     ]
    },
    {
     "name": "stderr",
     "output_type": "stream",
     "text": [
      "Epoch: [608]/[1200] Training: 100%|██████████| 7/7 [00:04<00:00,  1.66it/s, loss=0.00017, train_ca=100, train_wa=1]      \n",
      "Validating: 100%|██████████| 1/1 [00:00<00:00,  2.02it/s, val_loss=0.409, val_ca=95.6, val_wa=0.791]\n"
     ]
    },
    {
     "name": "stdout",
     "output_type": "stream",
     "text": [
      "0.6643756138008149\n",
      "Validation loss decreased (0.664796 --> 0.664376).  Saving model ...\n"
     ]
    },
    {
     "name": "stderr",
     "output_type": "stream",
     "text": [
      "Epoch: [609]/[1200] Training: 100%|██████████| 7/7 [00:04<00:00,  1.40it/s, loss=3.81e-5, train_ca=100, train_wa=1]      \n",
      "Validating: 100%|██████████| 1/1 [00:00<00:00,  2.49it/s, val_loss=0.393, val_ca=95.8, val_wa=0.814]\n"
     ]
    },
    {
     "name": "stdout",
     "output_type": "stream",
     "text": [
      "0.6639319849482535\n",
      "Validation loss decreased (0.664376 --> 0.663932).  Saving model ...\n"
     ]
    },
    {
     "name": "stderr",
     "output_type": "stream",
     "text": [
      "Epoch: [610]/[1200] Training: 100%|██████████| 7/7 [00:04<00:00,  1.45it/s, loss=0.184, train_ca=97.1, train_wa=0.8]    \n",
      "Validating: 100%|██████████| 1/1 [00:00<00:00,  1.98it/s, val_loss=0.397, val_ca=95.6, val_wa=0.814]\n"
     ]
    },
    {
     "name": "stdout",
     "output_type": "stream",
     "text": [
      "0.6634951951164826\n",
      "Validation loss decreased (0.663932 --> 0.663495).  Saving model ...\n"
     ]
    },
    {
     "name": "stderr",
     "output_type": "stream",
     "text": [
      "Epoch: [611]/[1200] Training: 100%|██████████| 7/7 [00:04<00:00,  1.56it/s, loss=2.41e-5, train_ca=100, train_wa=1]     \n",
      "Validating: 100%|██████████| 1/1 [00:00<00:00,  2.49it/s, val_loss=0.373, val_ca=95.8, val_wa=0.814]\n"
     ]
    },
    {
     "name": "stdout",
     "output_type": "stream",
     "text": [
      "0.6630215197072332\n",
      "Validation loss decreased (0.663495 --> 0.663022).  Saving model ...\n"
     ]
    },
    {
     "name": "stderr",
     "output_type": "stream",
     "text": [
      "Epoch: [612]/[1200] Training: 100%|██████████| 7/7 [00:04<00:00,  1.61it/s, loss=0.000105, train_ca=100, train_wa=1]    \n",
      "Validating: 100%|██████████| 1/1 [00:00<00:00,  2.46it/s, val_loss=0.365, val_ca=95.8, val_wa=0.791]\n"
     ]
    },
    {
     "name": "stdout",
     "output_type": "stream",
     "text": [
      "0.6625365758078106\n",
      "Validation loss decreased (0.663022 --> 0.662537).  Saving model ...\n"
     ]
    },
    {
     "name": "stderr",
     "output_type": "stream",
     "text": [
      "Epoch: [613]/[1200] Training: 100%|██████████| 7/7 [00:04<00:00,  1.70it/s, loss=2.83e-5, train_ca=100, train_wa=1]     \n",
      "Validating: 100%|██████████| 1/1 [00:00<00:00,  1.94it/s, val_loss=0.363, val_ca=95.8, val_wa=0.802]\n"
     ]
    },
    {
     "name": "stdout",
     "output_type": "stream",
     "text": [
      "0.6620491083559951\n",
      "Validation loss decreased (0.662537 --> 0.662049).  Saving model ...\n"
     ]
    },
    {
     "name": "stderr",
     "output_type": "stream",
     "text": [
      "Epoch: [614]/[1200] Training: 100%|██████████| 7/7 [00:04<00:00,  1.56it/s, loss=3.39e-5, train_ca=100, train_wa=1]      \n",
      "Validating: 100%|██████████| 1/1 [00:00<00:00,  2.02it/s, val_loss=0.364, val_ca=95.6, val_wa=0.791]\n"
     ]
    },
    {
     "name": "stdout",
     "output_type": "stream",
     "text": [
      "0.66156554599474\n",
      "Validation loss decreased (0.662049 --> 0.661566).  Saving model ...\n"
     ]
    },
    {
     "name": "stderr",
     "output_type": "stream",
     "text": [
      "Epoch: [615]/[1200] Training: 100%|██████████| 7/7 [00:04<00:00,  1.46it/s, loss=0.0213, train_ca=97.1, train_wa=0.8]    \n",
      "Validating: 100%|██████████| 1/1 [00:00<00:00,  2.49it/s, val_loss=0.379, val_ca=95.8, val_wa=0.814]\n"
     ]
    },
    {
     "name": "stdout",
     "output_type": "stream",
     "text": [
      "0.6611068831753693\n",
      "Validation loss decreased (0.661566 --> 0.661107).  Saving model ...\n"
     ]
    },
    {
     "name": "stderr",
     "output_type": "stream",
     "text": [
      "Epoch: [616]/[1200] Training: 100%|██████████| 7/7 [00:04<00:00,  1.74it/s, loss=1.74e-5, train_ca=100, train_wa=1]     \n",
      "Validating: 100%|██████████| 1/1 [00:00<00:00,  1.68it/s, val_loss=0.377, val_ca=95.8, val_wa=0.814]\n"
     ]
    },
    {
     "name": "stdout",
     "output_type": "stream",
     "text": [
      "0.6606475958257045\n",
      "Validation loss decreased (0.661107 --> 0.660648).  Saving model ...\n"
     ]
    },
    {
     "name": "stderr",
     "output_type": "stream",
     "text": [
      "Epoch: [617]/[1200] Training: 100%|██████████| 7/7 [00:04<00:00,  1.63it/s, loss=6.88e-5, train_ca=100, train_wa=1]     \n",
      "Validating: 100%|██████████| 1/1 [00:00<00:00,  1.65it/s, val_loss=0.372, val_ca=96.1, val_wa=0.814]\n"
     ]
    },
    {
     "name": "stdout",
     "output_type": "stream",
     "text": [
      "0.660181131906001\n",
      "Validation loss decreased (0.660648 --> 0.660181).  Saving model ...\n"
     ]
    },
    {
     "name": "stderr",
     "output_type": "stream",
     "text": [
      "Epoch: [618]/[1200] Training: 100%|██████████| 7/7 [00:03<00:00,  1.79it/s, loss=2.13e-5, train_ca=100, train_wa=1]     \n",
      "Validating: 100%|██████████| 1/1 [00:00<00:00,  2.01it/s, val_loss=0.379, val_ca=95.8, val_wa=0.802]\n"
     ]
    },
    {
     "name": "stdout",
     "output_type": "stream",
     "text": [
      "0.6597280704206036\n",
      "Validation loss decreased (0.660181 --> 0.659728).  Saving model ...\n"
     ]
    },
    {
     "name": "stderr",
     "output_type": "stream",
     "text": [
      "Epoch: [619]/[1200] Training: 100%|██████████| 7/7 [00:04<00:00,  1.72it/s, loss=2.36e-5, train_ca=100, train_wa=1]     \n",
      "Validating: 100%|██████████| 1/1 [00:00<00:00,  3.30it/s, val_loss=0.373, val_ca=95.8, val_wa=0.802]\n"
     ]
    },
    {
     "name": "stdout",
     "output_type": "stream",
     "text": [
      "0.6592669694320016\n",
      "Validation loss decreased (0.659728 --> 0.659267).  Saving model ...\n"
     ]
    },
    {
     "name": "stderr",
     "output_type": "stream",
     "text": [
      "Epoch: [620]/[1200] Training: 100%|██████████| 7/7 [00:04<00:00,  1.61it/s, loss=6.81e-5, train_ca=100, train_wa=1]     \n",
      "Validating: 100%|██████████| 1/1 [00:00<00:00,  1.68it/s, val_loss=0.38, val_ca=95.8, val_wa=0.802]\n"
     ]
    },
    {
     "name": "stdout",
     "output_type": "stream",
     "text": [
      "0.6588176225350985\n",
      "Validation loss decreased (0.659267 --> 0.658818).  Saving model ...\n"
     ]
    },
    {
     "name": "stderr",
     "output_type": "stream",
     "text": [
      "Epoch: [621]/[1200] Training: 100%|██████████| 7/7 [00:03<00:00,  1.86it/s, loss=2.35e-5, train_ca=100, train_wa=1]      \n",
      "Validating: 100%|██████████| 1/1 [00:00<00:00,  2.02it/s, val_loss=0.388, val_ca=95.6, val_wa=0.802]\n"
     ]
    },
    {
     "name": "stdout",
     "output_type": "stream",
     "text": [
      "0.6583824692530196\n",
      "Validation loss decreased (0.658818 --> 0.658382).  Saving model ...\n"
     ]
    },
    {
     "name": "stderr",
     "output_type": "stream",
     "text": [
      "Epoch: [622]/[1200] Training: 100%|██████████| 7/7 [00:03<00:00,  1.94it/s, loss=2.65e-5, train_ca=100, train_wa=1]     \n",
      "Validating: 100%|██████████| 1/1 [00:00<00:00,  2.42it/s, val_loss=0.4, val_ca=95.8, val_wa=0.814]\n"
     ]
    },
    {
     "name": "stdout",
     "output_type": "stream",
     "text": [
      "0.657968530861231\n",
      "Validation loss decreased (0.658382 --> 0.657969).  Saving model ...\n"
     ]
    },
    {
     "name": "stderr",
     "output_type": "stream",
     "text": [
      "Epoch: [623]/[1200] Training: 100%|██████████| 7/7 [00:04<00:00,  1.65it/s, loss=1.95e-5, train_ca=100, train_wa=1]     \n",
      "Validating: 100%|██████████| 1/1 [00:00<00:00,  1.43it/s, val_loss=0.401, val_ca=95.8, val_wa=0.814]\n"
     ]
    },
    {
     "name": "stdout",
     "output_type": "stream",
     "text": [
      "0.6575567314147949\n",
      "Validation loss decreased (0.657969 --> 0.657557).  Saving model ...\n"
     ]
    },
    {
     "name": "stderr",
     "output_type": "stream",
     "text": [
      "Epoch: [624]/[1200] Training: 100%|██████████| 7/7 [00:04<00:00,  1.49it/s, loss=4.42e-5, train_ca=100, train_wa=1]    \n",
      "Validating: 100%|██████████| 1/1 [00:00<00:00,  2.52it/s, val_loss=0.406, val_ca=95.6, val_wa=0.814]\n"
     ]
    },
    {
     "name": "stdout",
     "output_type": "stream",
     "text": [
      "0.6571552413530624\n",
      "Validation loss decreased (0.657557 --> 0.657155).  Saving model ...\n"
     ]
    },
    {
     "name": "stderr",
     "output_type": "stream",
     "text": [
      "Epoch: [625]/[1200] Training: 100%|██████████| 7/7 [00:04<00:00,  1.59it/s, loss=6.72e-5, train_ca=100, train_wa=1]     \n",
      "Validating: 100%|██████████| 1/1 [00:00<00:00,  2.47it/s, val_loss=0.392, val_ca=95.8, val_wa=0.814]\n"
     ]
    },
    {
     "name": "stdout",
     "output_type": "stream",
     "text": [
      "0.6567331158468408\n",
      "Validation loss decreased (0.657155 --> 0.656733).  Saving model ...\n"
     ]
    },
    {
     "name": "stderr",
     "output_type": "stream",
     "text": [
      "Epoch: [626]/[1200] Training: 100%|██████████| 7/7 [00:04<00:00,  1.65it/s, loss=0.000395, train_ca=100, train_wa=1]    \n",
      "Validating: 100%|██████████| 1/1 [00:00<00:00,  1.69it/s, val_loss=0.406, val_ca=95.8, val_wa=0.814]\n"
     ]
    },
    {
     "name": "stdout",
     "output_type": "stream",
     "text": [
      "0.6563342085974232\n",
      "Validation loss decreased (0.656733 --> 0.656334).  Saving model ...\n"
     ]
    },
    {
     "name": "stderr",
     "output_type": "stream",
     "text": [
      "Epoch: [627]/[1200] Training: 100%|██████████| 7/7 [00:04<00:00,  1.51it/s, loss=2.32e-5, train_ca=100, train_wa=1]    \n",
      "Validating: 100%|██████████| 1/1 [00:00<00:00,  2.47it/s, val_loss=0.426, val_ca=95.5, val_wa=0.814]\n"
     ]
    },
    {
     "name": "stdout",
     "output_type": "stream",
     "text": [
      "0.6559684550913794\n",
      "Validation loss decreased (0.656334 --> 0.655968).  Saving model ...\n"
     ]
    },
    {
     "name": "stderr",
     "output_type": "stream",
     "text": [
      "Epoch: [628]/[1200] Training: 100%|██████████| 7/7 [00:04<00:00,  1.50it/s, loss=1.94e-5, train_ca=100, train_wa=1]     \n",
      "Validating: 100%|██████████| 1/1 [00:00<00:00,  3.18it/s, val_loss=0.408, val_ca=95.5, val_wa=0.814]\n"
     ]
    },
    {
     "name": "stdout",
     "output_type": "stream",
     "text": [
      "0.6555752076326855\n",
      "Validation loss decreased (0.655968 --> 0.655575).  Saving model ...\n"
     ]
    },
    {
     "name": "stderr",
     "output_type": "stream",
     "text": [
      "Epoch: [629]/[1200] Training: 100%|██████████| 7/7 [00:04<00:00,  1.54it/s, loss=0.000237, train_ca=100, train_wa=1]     \n",
      "Validating: 100%|██████████| 1/1 [00:00<00:00,  2.50it/s, val_loss=0.392, val_ca=95.5, val_wa=0.814]\n"
     ]
    },
    {
     "name": "stdout",
     "output_type": "stream",
     "text": [
      "0.6551579165194189\n",
      "Validation loss decreased (0.655575 --> 0.655158).  Saving model ...\n"
     ]
    },
    {
     "name": "stderr",
     "output_type": "stream",
     "text": [
      "Epoch: [630]/[1200] Training: 100%|██████████| 7/7 [00:04<00:00,  1.60it/s, loss=2.36e-5, train_ca=100, train_wa=1]     \n",
      "Validating: 100%|██████████| 1/1 [00:00<00:00,  2.50it/s, val_loss=0.381, val_ca=95.5, val_wa=0.802]\n"
     ]
    },
    {
     "name": "stdout",
     "output_type": "stream",
     "text": [
      "0.6547245930738842\n",
      "Validation loss decreased (0.655158 --> 0.654725).  Saving model ...\n"
     ]
    },
    {
     "name": "stderr",
     "output_type": "stream",
     "text": [
      "Epoch: [631]/[1200] Training: 100%|██████████| 7/7 [00:04<00:00,  1.64it/s, loss=0.00356, train_ca=100, train_wa=1]     \n",
      "Validating: 100%|██████████| 1/1 [00:00<00:00,  2.45it/s, val_loss=0.38, val_ca=95.6, val_wa=0.802]\n"
     ]
    },
    {
     "name": "stdout",
     "output_type": "stream",
     "text": [
      "0.6542913766833843\n",
      "Validation loss decreased (0.654725 --> 0.654291).  Saving model ...\n"
     ]
    },
    {
     "name": "stderr",
     "output_type": "stream",
     "text": [
      "Epoch: [632]/[1200] Training: 100%|██████████| 7/7 [00:04<00:00,  1.62it/s, loss=6.26e-5, train_ca=100, train_wa=1]     \n",
      "Validating: 100%|██████████| 1/1 [00:00<00:00,  2.00it/s, val_loss=0.424, val_ca=95.3, val_wa=0.779]\n"
     ]
    },
    {
     "name": "stdout",
     "output_type": "stream",
     "text": [
      "0.6539288777564226\n",
      "Validation loss decreased (0.654291 --> 0.653929).  Saving model ...\n"
     ]
    },
    {
     "name": "stderr",
     "output_type": "stream",
     "text": [
      "Epoch: [633]/[1200] Training: 100%|██████████| 7/7 [00:04<00:00,  1.59it/s, loss=1.92e-5, train_ca=100, train_wa=1]     \n",
      "Validating: 100%|██████████| 1/1 [00:00<00:00,  1.66it/s, val_loss=0.585, val_ca=94, val_wa=0.802]\n"
     ]
    },
    {
     "name": "stdout",
     "output_type": "stream",
     "text": [
      "0.6538200176137638\n",
      "Validation loss decreased (0.653929 --> 0.653820).  Saving model ...\n"
     ]
    },
    {
     "name": "stderr",
     "output_type": "stream",
     "text": [
      "Epoch: [634]/[1200] Training: 100%|██████████| 7/7 [00:04<00:00,  1.62it/s, loss=0.00136, train_ca=100, train_wa=1]     \n",
      "Validating: 100%|██████████| 1/1 [00:00<00:00,  2.04it/s, val_loss=0.616, val_ca=93.3, val_wa=0.779]\n"
     ]
    },
    {
     "name": "stdout",
     "output_type": "stream",
     "text": [
      "0.6537610688393221\n",
      "Validation loss decreased (0.653820 --> 0.653761).  Saving model ...\n"
     ]
    },
    {
     "name": "stderr",
     "output_type": "stream",
     "text": [
      "Epoch: [635]/[1200] Training: 100%|██████████| 7/7 [00:03<00:00,  1.76it/s, loss=1.04e-5, train_ca=100, train_wa=1]      \n",
      "Validating: 100%|██████████| 1/1 [00:00<00:00,  1.99it/s, val_loss=0.475, val_ca=93.8, val_wa=0.686]\n"
     ]
    },
    {
     "name": "stdout",
     "output_type": "stream",
     "text": [
      "0.6534809113671679\n",
      "Validation loss decreased (0.653761 --> 0.653481).  Saving model ...\n"
     ]
    },
    {
     "name": "stderr",
     "output_type": "stream",
     "text": [
      "Epoch: [636]/[1200] Training: 100%|██████████| 7/7 [00:04<00:00,  1.66it/s, loss=0.000361, train_ca=100, train_wa=1]    \n",
      "Validating: 100%|██████████| 1/1 [00:00<00:00,  2.53it/s, val_loss=0.417, val_ca=95, val_wa=0.791]\n"
     ]
    },
    {
     "name": "stdout",
     "output_type": "stream",
     "text": [
      "0.6531105407726802\n",
      "Validation loss decreased (0.653481 --> 0.653111).  Saving model ...\n"
     ]
    },
    {
     "name": "stderr",
     "output_type": "stream",
     "text": [
      "Epoch: [637]/[1200] Training: 100%|██████████| 7/7 [00:03<00:00,  1.86it/s, loss=8.94e-5, train_ca=100, train_wa=1]     \n",
      "Validating: 100%|██████████| 1/1 [00:00<00:00,  2.50it/s, val_loss=0.384, val_ca=95.1, val_wa=0.767]\n"
     ]
    },
    {
     "name": "stdout",
     "output_type": "stream",
     "text": [
      "0.6526898090641636\n",
      "Validation loss decreased (0.653111 --> 0.652690).  Saving model ...\n"
     ]
    },
    {
     "name": "stderr",
     "output_type": "stream",
     "text": [
      "Epoch: [638]/[1200] Training: 100%|██████████| 7/7 [00:03<00:00,  1.78it/s, loss=0.000241, train_ca=100, train_wa=1]    \n",
      "Validating: 100%|██████████| 1/1 [00:00<00:00,  2.00it/s, val_loss=0.487, val_ca=95, val_wa=0.791]\n"
     ]
    },
    {
     "name": "stdout",
     "output_type": "stream",
     "text": [
      "0.6524316779803485\n",
      "Validation loss decreased (0.652690 --> 0.652432).  Saving model ...\n"
     ]
    },
    {
     "name": "stderr",
     "output_type": "stream",
     "text": [
      "Epoch: [639]/[1200] Training: 100%|██████████| 7/7 [00:04<00:00,  1.65it/s, loss=0.000892, train_ca=100, train_wa=1]    \n",
      "Validating: 100%|██████████| 1/1 [00:00<00:00,  1.45it/s, val_loss=0.537, val_ca=93.9, val_wa=0.709]\n"
     ]
    },
    {
     "name": "stdout",
     "output_type": "stream",
     "text": [
      "0.6522523405120451\n",
      "Validation loss decreased (0.652432 --> 0.652252).  Saving model ...\n"
     ]
    },
    {
     "name": "stderr",
     "output_type": "stream",
     "text": [
      "Epoch: [640]/[1200] Training: 100%|██████████| 7/7 [00:04<00:00,  1.66it/s, loss=0.00056, train_ca=100, train_wa=1]      \n",
      "Validating: 100%|██████████| 1/1 [00:00<00:00,  1.68it/s, val_loss=0.547, val_ca=94, val_wa=0.791]\n"
     ]
    },
    {
     "name": "stdout",
     "output_type": "stream",
     "text": [
      "0.6520889778839094\n",
      "Validation loss decreased (0.652252 --> 0.652089).  Saving model ...\n"
     ]
    },
    {
     "name": "stderr",
     "output_type": "stream",
     "text": [
      "Epoch: [641]/[1200] Training: 100%|██████████| 7/7 [00:04<00:00,  1.73it/s, loss=3.26e-5, train_ca=100, train_wa=1]      \n",
      "Validating: 100%|██████████| 1/1 [00:00<00:00,  2.02it/s, val_loss=0.431, val_ca=93.4, val_wa=0.698]\n"
     ]
    },
    {
     "name": "stdout",
     "output_type": "stream",
     "text": [
      "0.6517448310811264\n",
      "Validation loss decreased (0.652089 --> 0.651745).  Saving model ...\n"
     ]
    },
    {
     "name": "stderr",
     "output_type": "stream",
     "text": [
      "Epoch: [642]/[1200] Training: 100%|██████████| 7/7 [00:04<00:00,  1.52it/s, loss=0.000658, train_ca=100, train_wa=1]    \n",
      "Validating: 100%|██████████| 1/1 [00:00<00:00,  1.64it/s, val_loss=0.5, val_ca=93.9, val_wa=0.721]\n"
     ]
    },
    {
     "name": "stdout",
     "output_type": "stream",
     "text": [
      "0.6515084888716662\n",
      "Validation loss decreased (0.651745 --> 0.651508).  Saving model ...\n"
     ]
    },
    {
     "name": "stderr",
     "output_type": "stream",
     "text": [
      "Epoch: [643]/[1200] Training: 100%|██████████| 7/7 [00:04<00:00,  1.53it/s, loss=0.0165, train_ca=100, train_wa=1]       \n",
      "Validating: 100%|██████████| 1/1 [00:00<00:00,  2.46it/s, val_loss=0.525, val_ca=93.8, val_wa=0.744]\n"
     ]
    },
    {
     "name": "stdout",
     "output_type": "stream",
     "text": [
      "0.6513128375360208\n",
      "Validation loss decreased (0.651508 --> 0.651313).  Saving model ...\n"
     ]
    },
    {
     "name": "stderr",
     "output_type": "stream",
     "text": [
      "Epoch: [644]/[1200] Training: 100%|██████████| 7/7 [00:04<00:00,  1.49it/s, loss=3.14e-5, train_ca=100, train_wa=1]     \n",
      "Validating: 100%|██████████| 1/1 [00:00<00:00,  1.66it/s, val_loss=0.387, val_ca=94.8, val_wa=0.779]\n"
     ]
    },
    {
     "name": "stdout",
     "output_type": "stream",
     "text": [
      "0.6509035651344264\n",
      "Validation loss decreased (0.651313 --> 0.650904).  Saving model ...\n"
     ]
    },
    {
     "name": "stderr",
     "output_type": "stream",
     "text": [
      "Epoch: [645]/[1200] Training: 100%|██████████| 7/7 [00:04<00:00,  1.63it/s, loss=2.4e-5, train_ca=100, train_wa=1]      \n",
      "Validating: 100%|██████████| 1/1 [00:00<00:00,  2.46it/s, val_loss=0.558, val_ca=93.7, val_wa=0.767]\n"
     ]
    },
    {
     "name": "stdout",
     "output_type": "stream",
     "text": [
      "0.6507604218892742\n",
      "Validation loss decreased (0.650904 --> 0.650760).  Saving model ...\n"
     ]
    },
    {
     "name": "stderr",
     "output_type": "stream",
     "text": [
      "Epoch: [646]/[1200] Training: 100%|██████████| 7/7 [00:04<00:00,  1.69it/s, loss=0.00122, train_ca=100, train_wa=1]     \n",
      "Validating: 100%|██████████| 1/1 [00:00<00:00,  1.98it/s, val_loss=0.546, val_ca=93.7, val_wa=0.756]\n"
     ]
    },
    {
     "name": "stdout",
     "output_type": "stream",
     "text": [
      "0.6505984585778213\n",
      "Validation loss decreased (0.650760 --> 0.650598).  Saving model ...\n"
     ]
    },
    {
     "name": "stderr",
     "output_type": "stream",
     "text": [
      "Epoch: [647]/[1200] Training: 100%|██████████| 7/7 [00:03<00:00,  1.79it/s, loss=5.94e-5, train_ca=100, train_wa=1]     \n",
      "Validating: 100%|██████████| 1/1 [00:00<00:00,  1.98it/s, val_loss=0.514, val_ca=93.5, val_wa=0.756]\n"
     ]
    },
    {
     "name": "stdout",
     "output_type": "stream",
     "text": [
      "0.6503873632758718\n",
      "Validation loss decreased (0.650598 --> 0.650387).  Saving model ...\n"
     ]
    },
    {
     "name": "stderr",
     "output_type": "stream",
     "text": [
      "Epoch: [648]/[1200] Training: 100%|██████████| 7/7 [00:04<00:00,  1.50it/s, loss=0.000189, train_ca=100, train_wa=1]    \n",
      "Validating: 100%|██████████| 1/1 [00:00<00:00,  2.46it/s, val_loss=0.489, val_ca=94.5, val_wa=0.744]\n"
     ]
    },
    {
     "name": "stdout",
     "output_type": "stream",
     "text": [
      "0.6501383121197041\n",
      "Validation loss decreased (0.650387 --> 0.650138).  Saving model ...\n"
     ]
    },
    {
     "name": "stderr",
     "output_type": "stream",
     "text": [
      "Epoch: [649]/[1200] Training: 100%|██████████| 7/7 [00:03<00:00,  1.77it/s, loss=4.04e-5, train_ca=100, train_wa=1]     \n",
      "Validating: 100%|██████████| 1/1 [00:00<00:00,  2.03it/s, val_loss=0.433, val_ca=95.5, val_wa=0.779]\n"
     ]
    },
    {
     "name": "stdout",
     "output_type": "stream",
     "text": [
      "0.6498047486062057\n",
      "Validation loss decreased (0.650138 --> 0.649805).  Saving model ...\n"
     ]
    },
    {
     "name": "stderr",
     "output_type": "stream",
     "text": [
      "Epoch: [650]/[1200] Training: 100%|██████████| 7/7 [00:04<00:00,  1.57it/s, loss=0.000216, train_ca=100, train_wa=1]    \n",
      "Validating: 100%|██████████| 1/1 [00:00<00:00,  2.46it/s, val_loss=0.412, val_ca=94.8, val_wa=0.779]\n"
     ]
    },
    {
     "name": "stdout",
     "output_type": "stream",
     "text": [
      "0.6494397627521147\n",
      "Validation loss decreased (0.649805 --> 0.649440).  Saving model ...\n"
     ]
    },
    {
     "name": "stderr",
     "output_type": "stream",
     "text": [
      "Epoch: [651]/[1200] Training: 100%|██████████| 7/7 [00:04<00:00,  1.54it/s, loss=0.0306, train_ca=97.5, train_wa=0.8]    \n",
      "Validating: 100%|██████████| 1/1 [00:00<00:00,  1.63it/s, val_loss=0.378, val_ca=96, val_wa=0.814]\n"
     ]
    },
    {
     "name": "stdout",
     "output_type": "stream",
     "text": [
      "0.6490248047374474\n",
      "Validation loss decreased (0.649440 --> 0.649025).  Saving model ...\n"
     ]
    },
    {
     "name": "stderr",
     "output_type": "stream",
     "text": [
      "Epoch: [652]/[1200] Training: 100%|██████████| 7/7 [00:05<00:00,  1.40it/s, loss=0.198, train_ca=97.1, train_wa=0.8]   \n",
      "Validating: 100%|██████████| 1/1 [00:00<00:00,  2.47it/s, val_loss=0.37, val_ca=95.5, val_wa=0.791]\n"
     ]
    },
    {
     "name": "stdout",
     "output_type": "stream",
     "text": [
      "0.6485981220772506\n",
      "Validation loss decreased (0.649025 --> 0.648598).  Saving model ...\n"
     ]
    },
    {
     "name": "stderr",
     "output_type": "stream",
     "text": [
      "Epoch: [653]/[1200] Training: 100%|██████████| 7/7 [00:03<00:00,  1.79it/s, loss=6.26e-5, train_ca=100, train_wa=1]      \n",
      "Validating: 100%|██████████| 1/1 [00:00<00:00,  2.04it/s, val_loss=0.457, val_ca=94.3, val_wa=0.767]\n"
     ]
    },
    {
     "name": "stdout",
     "output_type": "stream",
     "text": [
      "0.6483059831702982\n",
      "Validation loss decreased (0.648598 --> 0.648306).  Saving model ...\n"
     ]
    },
    {
     "name": "stderr",
     "output_type": "stream",
     "text": [
      "Epoch: [654]/[1200] Training: 100%|██████████| 7/7 [00:03<00:00,  1.84it/s, loss=1.93e-5, train_ca=100, train_wa=1]     \n",
      "Validating: 100%|██████████| 1/1 [00:00<00:00,  2.02it/s, val_loss=0.382, val_ca=95.5, val_wa=0.826]\n"
     ]
    },
    {
     "name": "stdout",
     "output_type": "stream",
     "text": [
      "0.6478999471973356\n",
      "Validation loss decreased (0.648306 --> 0.647900).  Saving model ...\n"
     ]
    },
    {
     "name": "stderr",
     "output_type": "stream",
     "text": [
      "Epoch: [655]/[1200] Training: 100%|██████████| 7/7 [00:03<00:00,  1.80it/s, loss=0.000109, train_ca=100, train_wa=1]    \n",
      "Validating: 100%|██████████| 1/1 [00:00<00:00,  2.52it/s, val_loss=0.345, val_ca=96, val_wa=0.837]\n"
     ]
    },
    {
     "name": "stdout",
     "output_type": "stream",
     "text": [
      "0.6474394266191683\n",
      "Validation loss decreased (0.647900 --> 0.647439).  Saving model ...\n"
     ]
    },
    {
     "name": "stderr",
     "output_type": "stream",
     "text": [
      "Epoch: [656]/[1200] Training: 100%|██████████| 7/7 [00:04<00:00,  1.71it/s, loss=0.000415, train_ca=100, train_wa=1]   \n",
      "Validating: 100%|██████████| 1/1 [00:00<00:00,  2.56it/s, val_loss=0.331, val_ca=96.1, val_wa=0.837]\n"
     ]
    },
    {
     "name": "stdout",
     "output_type": "stream",
     "text": [
      "0.6469589293365421\n",
      "Validation loss decreased (0.647439 --> 0.646959).  Saving model ...\n"
     ]
    },
    {
     "name": "stderr",
     "output_type": "stream",
     "text": [
      "Epoch: [657]/[1200] Training: 100%|██████████| 7/7 [00:03<00:00,  1.77it/s, loss=0.000375, train_ca=100, train_wa=1]     \n",
      "Validating: 100%|██████████| 1/1 [00:00<00:00,  2.00it/s, val_loss=0.451, val_ca=94.5, val_wa=0.756]\n"
     ]
    },
    {
     "name": "stdout",
     "output_type": "stream",
     "text": [
      "0.6466617378913578\n",
      "Validation loss decreased (0.646959 --> 0.646662).  Saving model ...\n"
     ]
    },
    {
     "name": "stderr",
     "output_type": "stream",
     "text": [
      "Epoch: [658]/[1200] Training: 100%|██████████| 7/7 [00:04<00:00,  1.57it/s, loss=0.000503, train_ca=100, train_wa=1]    \n",
      "Validating: 100%|██████████| 1/1 [00:00<00:00,  2.51it/s, val_loss=0.395, val_ca=95.6, val_wa=0.814]\n"
     ]
    },
    {
     "name": "stdout",
     "output_type": "stream",
     "text": [
      "0.6462804562214649\n",
      "Validation loss decreased (0.646662 --> 0.646280).  Saving model ...\n"
     ]
    },
    {
     "name": "stderr",
     "output_type": "stream",
     "text": [
      "Epoch: [659]/[1200] Training: 100%|██████████| 7/7 [00:04<00:00,  1.73it/s, loss=5e-5, train_ca=100, train_wa=1]        \n",
      "Validating: 100%|██████████| 1/1 [00:00<00:00,  2.53it/s, val_loss=0.369, val_ca=95.8, val_wa=0.814]\n"
     ]
    },
    {
     "name": "stdout",
     "output_type": "stream",
     "text": [
      "0.6458615827488287\n",
      "Validation loss decreased (0.646280 --> 0.645862).  Saving model ...\n"
     ]
    },
    {
     "name": "stderr",
     "output_type": "stream",
     "text": [
      "Epoch: [660]/[1200] Training: 100%|██████████| 7/7 [00:03<00:00,  1.82it/s, loss=3.64e-5, train_ca=100, train_wa=1]     \n",
      "Validating: 100%|██████████| 1/1 [00:00<00:00,  1.67it/s, val_loss=0.424, val_ca=94.7, val_wa=0.779]\n"
     ]
    },
    {
     "name": "stdout",
     "output_type": "stream",
     "text": [
      "0.6455267168513957\n",
      "Validation loss decreased (0.645862 --> 0.645527).  Saving model ...\n"
     ]
    },
    {
     "name": "stderr",
     "output_type": "stream",
     "text": [
      "Epoch: [661]/[1200] Training: 100%|██████████| 7/7 [00:04<00:00,  1.63it/s, loss=0.0363, train_ca=97.1, train_wa=0.8]  \n",
      "Validating: 100%|██████████| 1/1 [00:00<00:00,  2.03it/s, val_loss=0.384, val_ca=95.1, val_wa=0.802]\n"
     ]
    },
    {
     "name": "stdout",
     "output_type": "stream",
     "text": [
      "0.6451322131117365\n",
      "Validation loss decreased (0.645527 --> 0.645132).  Saving model ...\n"
     ]
    },
    {
     "name": "stderr",
     "output_type": "stream",
     "text": [
      "Epoch: [662]/[1200] Training: 100%|██████████| 7/7 [00:04<00:00,  1.70it/s, loss=0.000249, train_ca=100, train_wa=1]    \n",
      "Validating: 100%|██████████| 1/1 [00:00<00:00,  3.37it/s, val_loss=0.452, val_ca=95.2, val_wa=0.791]\n"
     ]
    },
    {
     "name": "stdout",
     "output_type": "stream",
     "text": [
      "0.6448414847254753\n",
      "Validation loss decreased (0.645132 --> 0.644841).  Saving model ...\n"
     ]
    },
    {
     "name": "stderr",
     "output_type": "stream",
     "text": [
      "Epoch: [663]/[1200] Training: 100%|██████████| 7/7 [00:04<00:00,  1.64it/s, loss=1.1e-5, train_ca=100, train_wa=1]      \n",
      "Validating: 100%|██████████| 1/1 [00:00<00:00,  1.69it/s, val_loss=0.408, val_ca=95.7, val_wa=0.814]\n"
     ]
    },
    {
     "name": "stdout",
     "output_type": "stream",
     "text": [
      "0.6444860517082358\n",
      "Validation loss decreased (0.644841 --> 0.644486).  Saving model ...\n"
     ]
    },
    {
     "name": "stderr",
     "output_type": "stream",
     "text": [
      "Epoch: [664]/[1200] Training: 100%|██████████| 7/7 [00:04<00:00,  1.70it/s, loss=6.39e-5, train_ca=100, train_wa=1]     \n",
      "Validating: 100%|██████████| 1/1 [00:00<00:00,  2.00it/s, val_loss=0.395, val_ca=95, val_wa=0.756]\n"
     ]
    },
    {
     "name": "stdout",
     "output_type": "stream",
     "text": [
      "0.6441108353055633\n",
      "Validation loss decreased (0.644486 --> 0.644111).  Saving model ...\n"
     ]
    },
    {
     "name": "stderr",
     "output_type": "stream",
     "text": [
      "Epoch: [665]/[1200] Training: 100%|██████████| 7/7 [00:04<00:00,  1.53it/s, loss=0.000282, train_ca=100, train_wa=1]    \n",
      "Validating: 100%|██████████| 1/1 [00:00<00:00,  2.02it/s, val_loss=0.525, val_ca=95.2, val_wa=0.791]\n"
     ]
    },
    {
     "name": "stdout",
     "output_type": "stream",
     "text": [
      "0.6439325175453341\n",
      "Validation loss decreased (0.644111 --> 0.643933).  Saving model ...\n"
     ]
    },
    {
     "name": "stderr",
     "output_type": "stream",
     "text": [
      "Epoch: [666]/[1200] Training: 100%|██████████| 7/7 [00:04<00:00,  1.74it/s, loss=8.33e-5, train_ca=100, train_wa=1]     \n",
      "Validating: 100%|██████████| 1/1 [00:00<00:00,  1.65it/s, val_loss=0.393, val_ca=95.3, val_wa=0.814]\n"
     ]
    },
    {
     "name": "stdout",
     "output_type": "stream",
     "text": [
      "0.6435572443875724\n",
      "Validation loss decreased (0.643933 --> 0.643557).  Saving model ...\n"
     ]
    },
    {
     "name": "stderr",
     "output_type": "stream",
     "text": [
      "Epoch: [667]/[1200] Training: 100%|██████████| 7/7 [00:04<00:00,  1.65it/s, loss=3.37e-5, train_ca=100, train_wa=1]     \n",
      "Validating: 100%|██████████| 1/1 [00:00<00:00,  2.48it/s, val_loss=0.553, val_ca=94.3, val_wa=0.767]\n"
     ]
    },
    {
     "name": "stdout",
     "output_type": "stream",
     "text": [
      "0.6434217871839155\n",
      "Validation loss decreased (0.643557 --> 0.643422).  Saving model ...\n"
     ]
    },
    {
     "name": "stderr",
     "output_type": "stream",
     "text": [
      "Epoch: [668]/[1200] Training: 100%|██████████| 7/7 [00:04<00:00,  1.70it/s, loss=0.0121, train_ca=100, train_wa=1]      \n",
      "Validating: 100%|██████████| 1/1 [00:00<00:00,  2.53it/s, val_loss=0.527, val_ca=94, val_wa=0.744]\n"
     ]
    },
    {
     "name": "stdout",
     "output_type": "stream",
     "text": [
      "0.643247458071851\n",
      "Validation loss decreased (0.643422 --> 0.643247).  Saving model ...\n"
     ]
    },
    {
     "name": "stderr",
     "output_type": "stream",
     "text": [
      "Epoch: [669]/[1200] Training: 100%|██████████| 7/7 [00:04<00:00,  1.74it/s, loss=0.000166, train_ca=100, train_wa=1]    \n",
      "Validating: 100%|██████████| 1/1 [00:00<00:00,  1.67it/s, val_loss=0.42, val_ca=94.5, val_wa=0.767]\n"
     ]
    },
    {
     "name": "stdout",
     "output_type": "stream",
     "text": [
      "0.642914177586176\n",
      "Validation loss decreased (0.643247 --> 0.642914).  Saving model ...\n"
     ]
    },
    {
     "name": "stderr",
     "output_type": "stream",
     "text": [
      "Epoch: [670]/[1200] Training: 100%|██████████| 7/7 [00:04<00:00,  1.68it/s, loss=0.000373, train_ca=100, train_wa=1]    \n",
      "Validating: 100%|██████████| 1/1 [00:00<00:00,  2.01it/s, val_loss=0.489, val_ca=93.3, val_wa=0.686]\n"
     ]
    },
    {
     "name": "stdout",
     "output_type": "stream",
     "text": [
      "0.6426852969896226\n",
      "Validation loss decreased (0.642914 --> 0.642685).  Saving model ...\n"
     ]
    },
    {
     "name": "stderr",
     "output_type": "stream",
     "text": [
      "Epoch: [671]/[1200] Training: 100%|██████████| 7/7 [00:03<00:00,  1.81it/s, loss=0.000806, train_ca=100, train_wa=1]    \n",
      "Validating: 100%|██████████| 1/1 [00:00<00:00,  1.98it/s, val_loss=0.501, val_ca=92, val_wa=0.616]\n"
     ]
    },
    {
     "name": "stdout",
     "output_type": "stream",
     "text": [
      "0.6424741315451986\n",
      "Validation loss decreased (0.642685 --> 0.642474).  Saving model ...\n"
     ]
    },
    {
     "name": "stderr",
     "output_type": "stream",
     "text": [
      "Epoch: [672]/[1200] Training: 100%|██████████| 7/7 [00:04<00:00,  1.47it/s, loss=0.000111, train_ca=100, train_wa=1]    \n",
      "Validating: 100%|██████████| 1/1 [00:00<00:00,  3.31it/s, val_loss=0.479, val_ca=95.7, val_wa=0.802]\n"
     ]
    },
    {
     "name": "stdout",
     "output_type": "stream",
     "text": [
      "0.6422309196755864\n",
      "Validation loss decreased (0.642474 --> 0.642231).  Saving model ...\n"
     ]
    },
    {
     "name": "stderr",
     "output_type": "stream",
     "text": [
      "Epoch: [673]/[1200] Training: 100%|██████████| 7/7 [00:04<00:00,  1.60it/s, loss=7.75e-5, train_ca=100, train_wa=1]      \n",
      "Validating: 100%|██████████| 1/1 [00:00<00:00,  2.41it/s, val_loss=0.508, val_ca=95, val_wa=0.756]\n"
     ]
    },
    {
     "name": "stdout",
     "output_type": "stream",
     "text": [
      "0.6420325148105621\n",
      "Validation loss decreased (0.642231 --> 0.642033).  Saving model ...\n"
     ]
    },
    {
     "name": "stderr",
     "output_type": "stream",
     "text": [
      "Epoch: [674]/[1200] Training: 100%|██████████| 7/7 [00:04<00:00,  1.66it/s, loss=0.00202, train_ca=100, train_wa=1]     \n",
      "Validating: 100%|██████████| 1/1 [00:00<00:00,  2.48it/s, val_loss=0.421, val_ca=95.5, val_wa=0.802]\n"
     ]
    },
    {
     "name": "stdout",
     "output_type": "stream",
     "text": [
      "0.6417050645989779\n",
      "Validation loss decreased (0.642033 --> 0.641705).  Saving model ...\n"
     ]
    },
    {
     "name": "stderr",
     "output_type": "stream",
     "text": [
      "Epoch: [675]/[1200] Training: 100%|██████████| 7/7 [00:04<00:00,  1.64it/s, loss=0.000823, train_ca=100, train_wa=1]     \n",
      "Validating: 100%|██████████| 1/1 [00:00<00:00,  3.29it/s, val_loss=0.374, val_ca=96.3, val_wa=0.849]\n"
     ]
    },
    {
     "name": "stdout",
     "output_type": "stream",
     "text": [
      "0.6413102046953875\n",
      "Validation loss decreased (0.641705 --> 0.641310).  Saving model ...\n"
     ]
    },
    {
     "name": "stderr",
     "output_type": "stream",
     "text": [
      "Epoch: [676]/[1200] Training: 100%|██████████| 7/7 [00:04<00:00,  1.53it/s, loss=0.241, train_ca=97.1, train_wa=0.8]    \n",
      "Validating: 100%|██████████| 1/1 [00:00<00:00,  1.97it/s, val_loss=0.387, val_ca=95.4, val_wa=0.791]\n"
     ]
    },
    {
     "name": "stdout",
     "output_type": "stream",
     "text": [
      "0.6409351077579115\n",
      "Validation loss decreased (0.641310 --> 0.640935).  Saving model ...\n"
     ]
    },
    {
     "name": "stderr",
     "output_type": "stream",
     "text": [
      "Epoch: [677]/[1200] Training: 100%|██████████| 7/7 [00:04<00:00,  1.58it/s, loss=4.34e-5, train_ca=100, train_wa=1]     \n",
      "Validating: 100%|██████████| 1/1 [00:00<00:00,  2.03it/s, val_loss=0.352, val_ca=96, val_wa=0.814]\n"
     ]
    },
    {
     "name": "stdout",
     "output_type": "stream",
     "text": [
      "0.6405099615871643\n",
      "Validation loss decreased (0.640935 --> 0.640510).  Saving model ...\n"
     ]
    },
    {
     "name": "stderr",
     "output_type": "stream",
     "text": [
      "Epoch: [678]/[1200] Training: 100%|██████████| 7/7 [00:04<00:00,  1.68it/s, loss=0.000162, train_ca=100, train_wa=1]     \n",
      "Validating: 100%|██████████| 1/1 [00:00<00:00,  1.97it/s, val_loss=0.369, val_ca=95.6, val_wa=0.802]\n"
     ]
    },
    {
     "name": "stdout",
     "output_type": "stream",
     "text": [
      "0.6401099479373764\n",
      "Validation loss decreased (0.640510 --> 0.640110).  Saving model ...\n"
     ]
    },
    {
     "name": "stderr",
     "output_type": "stream",
     "text": [
      "Epoch: [679]/[1200] Training: 100%|██████████| 7/7 [00:04<00:00,  1.55it/s, loss=0.000348, train_ca=100, train_wa=1]    \n",
      "Validating: 100%|██████████| 1/1 [00:00<00:00,  2.01it/s, val_loss=0.388, val_ca=95.6, val_wa=0.814]\n"
     ]
    },
    {
     "name": "stdout",
     "output_type": "stream",
     "text": [
      "0.6397395753650413\n",
      "Validation loss decreased (0.640110 --> 0.639740).  Saving model ...\n"
     ]
    },
    {
     "name": "stderr",
     "output_type": "stream",
     "text": [
      "Epoch: [680]/[1200] Training: 100%|██████████| 7/7 [00:04<00:00,  1.67it/s, loss=0.000176, train_ca=100, train_wa=1]   \n",
      "Validating: 100%|██████████| 1/1 [00:00<00:00,  1.67it/s, val_loss=0.465, val_ca=95.5, val_wa=0.767]\n"
     ]
    },
    {
     "name": "stdout",
     "output_type": "stream",
     "text": [
      "0.6394839427513112\n",
      "Validation loss decreased (0.639740 --> 0.639484).  Saving model ...\n"
     ]
    },
    {
     "name": "stderr",
     "output_type": "stream",
     "text": [
      "Epoch: [681]/[1200] Training: 100%|██████████| 7/7 [00:04<00:00,  1.61it/s, loss=0.00015, train_ca=100, train_wa=1]     \n",
      "Validating: 100%|██████████| 1/1 [00:00<00:00,  2.01it/s, val_loss=0.474, val_ca=95.6, val_wa=0.802]\n"
     ]
    },
    {
     "name": "stdout",
     "output_type": "stream",
     "text": [
      "0.6392414279685712\n",
      "Validation loss decreased (0.639484 --> 0.639241).  Saving model ...\n"
     ]
    },
    {
     "name": "stderr",
     "output_type": "stream",
     "text": [
      "Epoch: [682]/[1200] Training: 100%|██████████| 7/7 [00:04<00:00,  1.69it/s, loss=0.000126, train_ca=100, train_wa=1]    \n",
      "Validating: 100%|██████████| 1/1 [00:00<00:00,  1.68it/s, val_loss=0.431, val_ca=95.5, val_wa=0.791]\n"
     ]
    },
    {
     "name": "stdout",
     "output_type": "stream",
     "text": [
      "0.638936931191132\n",
      "Validation loss decreased (0.639241 --> 0.638937).  Saving model ...\n"
     ]
    },
    {
     "name": "stderr",
     "output_type": "stream",
     "text": [
      "Epoch: [683]/[1200] Training: 100%|██████████| 7/7 [00:04<00:00,  1.57it/s, loss=9.45e-5, train_ca=100, train_wa=1]    \n",
      "Validating: 100%|██████████| 1/1 [00:00<00:00,  2.01it/s, val_loss=0.475, val_ca=95.2, val_wa=0.791]\n"
     ]
    },
    {
     "name": "stdout",
     "output_type": "stream",
     "text": [
      "0.6386982248647369\n",
      "Validation loss decreased (0.638937 --> 0.638698).  Saving model ...\n"
     ]
    },
    {
     "name": "stderr",
     "output_type": "stream",
     "text": [
      "Epoch: [684]/[1200] Training: 100%|██████████| 7/7 [00:04<00:00,  1.62it/s, loss=2.66e-5, train_ca=100, train_wa=1]     \n",
      "Validating: 100%|██████████| 1/1 [00:00<00:00,  2.45it/s, val_loss=0.42, val_ca=95.5, val_wa=0.802]\n"
     ]
    },
    {
     "name": "stdout",
     "output_type": "stream",
     "text": [
      "0.6383791844803113\n",
      "Validation loss decreased (0.638698 --> 0.638379).  Saving model ...\n"
     ]
    },
    {
     "name": "stderr",
     "output_type": "stream",
     "text": [
      "Epoch: [685]/[1200] Training: 100%|██████████| 7/7 [00:04<00:00,  1.59it/s, loss=0.000506, train_ca=100, train_wa=1]   \n",
      "Validating: 100%|██████████| 1/1 [00:00<00:00,  3.22it/s, val_loss=0.415, val_ca=95.7, val_wa=0.802]\n"
     ]
    },
    {
     "name": "stdout",
     "output_type": "stream",
     "text": [
      "0.638053679179937\n",
      "Validation loss decreased (0.638379 --> 0.638054).  Saving model ...\n"
     ]
    },
    {
     "name": "stderr",
     "output_type": "stream",
     "text": [
      "Epoch: [686]/[1200] Training: 100%|██████████| 7/7 [00:04<00:00,  1.64it/s, loss=5.86e-5, train_ca=100, train_wa=1]      \n",
      "Validating: 100%|██████████| 1/1 [00:00<00:00,  2.46it/s, val_loss=0.474, val_ca=95, val_wa=0.779]\n"
     ]
    },
    {
     "name": "stdout",
     "output_type": "stream",
     "text": [
      "0.6378152576210194\n",
      "Validation loss decreased (0.638054 --> 0.637815).  Saving model ...\n"
     ]
    },
    {
     "name": "stderr",
     "output_type": "stream",
     "text": [
      "Epoch: [687]/[1200] Training: 100%|██████████| 7/7 [00:04<00:00,  1.58it/s, loss=3.52e-5, train_ca=100, train_wa=1]     \n",
      "Validating: 100%|██████████| 1/1 [00:00<00:00,  2.47it/s, val_loss=0.437, val_ca=95, val_wa=0.791]\n"
     ]
    },
    {
     "name": "stdout",
     "output_type": "stream",
     "text": [
      "0.6375241148973584\n",
      "Validation loss decreased (0.637815 --> 0.637524).  Saving model ...\n"
     ]
    },
    {
     "name": "stderr",
     "output_type": "stream",
     "text": [
      "Epoch: [688]/[1200] Training: 100%|██████████| 7/7 [00:04<00:00,  1.65it/s, loss=3.98e-5, train_ca=100, train_wa=1]     \n",
      "Validating: 100%|██████████| 1/1 [00:00<00:00,  2.56it/s, val_loss=0.428, val_ca=95.8, val_wa=0.826]\n"
     ]
    },
    {
     "name": "stdout",
     "output_type": "stream",
     "text": [
      "0.6372208901937457\n",
      "Validation loss decreased (0.637524 --> 0.637221).  Saving model ...\n"
     ]
    },
    {
     "name": "stderr",
     "output_type": "stream",
     "text": [
      "Epoch: [689]/[1200] Training: 100%|██████████| 7/7 [00:04<00:00,  1.65it/s, loss=1.42e-5, train_ca=100, train_wa=1]      \n",
      "Validating: 100%|██████████| 1/1 [00:00<00:00,  2.04it/s, val_loss=0.449, val_ca=95.1, val_wa=0.779]\n"
     ]
    },
    {
     "name": "stdout",
     "output_type": "stream",
     "text": [
      "0.6369484954994771\n",
      "Validation loss decreased (0.637221 --> 0.636948).  Saving model ...\n"
     ]
    },
    {
     "name": "stderr",
     "output_type": "stream",
     "text": [
      "Epoch: [690]/[1200] Training: 100%|██████████| 7/7 [00:04<00:00,  1.66it/s, loss=1.66e-5, train_ca=100, train_wa=1]      \n",
      "Validating: 100%|██████████| 1/1 [00:00<00:00,  2.51it/s, val_loss=0.426, val_ca=95.1, val_wa=0.791]\n"
     ]
    },
    {
     "name": "stdout",
     "output_type": "stream",
     "text": [
      "0.6366429629095028\n",
      "Validation loss decreased (0.636948 --> 0.636643).  Saving model ...\n"
     ]
    },
    {
     "name": "stderr",
     "output_type": "stream",
     "text": [
      "Epoch: [691]/[1200] Training: 100%|██████████| 7/7 [00:04<00:00,  1.57it/s, loss=0.0732, train_ca=97.1, train_wa=0.8]   \n",
      "Validating: 100%|██████████| 1/1 [00:00<00:00,  1.99it/s, val_loss=0.333, val_ca=95.7, val_wa=0.791]\n"
     ]
    },
    {
     "name": "stdout",
     "output_type": "stream",
     "text": [
      "0.6362051100269884\n",
      "Validation loss decreased (0.636643 --> 0.636205).  Saving model ...\n"
     ]
    },
    {
     "name": "stderr",
     "output_type": "stream",
     "text": [
      "Epoch: [692]/[1200] Training: 100%|██████████| 7/7 [00:04<00:00,  1.66it/s, loss=0.000157, train_ca=100, train_wa=1]    \n",
      "Validating: 100%|██████████| 1/1 [00:00<00:00,  1.96it/s, val_loss=0.342, val_ca=95.2, val_wa=0.779]\n"
     ]
    },
    {
     "name": "stdout",
     "output_type": "stream",
     "text": [
      "0.6357807778573518\n",
      "Validation loss decreased (0.636205 --> 0.635781).  Saving model ...\n"
     ]
    },
    {
     "name": "stderr",
     "output_type": "stream",
     "text": [
      "Epoch: [693]/[1200] Training: 100%|██████████| 7/7 [00:04<00:00,  1.64it/s, loss=0.000135, train_ca=100, train_wa=1]    \n",
      "Validating: 100%|██████████| 1/1 [00:00<00:00,  2.54it/s, val_loss=0.314, val_ca=95.6, val_wa=0.802]\n"
     ]
    },
    {
     "name": "stdout",
     "output_type": "stream",
     "text": [
      "0.6353177623354274\n",
      "Validation loss decreased (0.635781 --> 0.635318).  Saving model ...\n"
     ]
    },
    {
     "name": "stderr",
     "output_type": "stream",
     "text": [
      "Epoch: [694]/[1200] Training: 100%|██████████| 7/7 [00:04<00:00,  1.72it/s, loss=0.000185, train_ca=100, train_wa=1]    \n",
      "Validating: 100%|██████████| 1/1 [00:00<00:00,  3.23it/s, val_loss=0.337, val_ca=95.6, val_wa=0.791]\n"
     ]
    },
    {
     "name": "stdout",
     "output_type": "stream",
     "text": [
      "0.6348896885569069\n",
      "Validation loss decreased (0.635318 --> 0.634890).  Saving model ...\n"
     ]
    },
    {
     "name": "stderr",
     "output_type": "stream",
     "text": [
      "Epoch: [695]/[1200] Training: 100%|██████████| 7/7 [00:03<00:00,  1.95it/s, loss=0.000224, train_ca=100, train_wa=1]    \n",
      "Validating: 100%|██████████| 1/1 [00:00<00:00,  2.48it/s, val_loss=0.335, val_ca=96, val_wa=0.802]\n"
     ]
    },
    {
     "name": "stdout",
     "output_type": "stream",
     "text": [
      "0.6344590955006341\n",
      "Validation loss decreased (0.634890 --> 0.634459).  Saving model ...\n"
     ]
    },
    {
     "name": "stderr",
     "output_type": "stream",
     "text": [
      "Epoch: [696]/[1200] Training: 100%|██████████| 7/7 [00:04<00:00,  1.65it/s, loss=2.78e-5, train_ca=100, train_wa=1]     \n",
      "Validating: 100%|██████████| 1/1 [00:00<00:00,  1.99it/s, val_loss=0.344, val_ca=96.6, val_wa=0.814]\n"
     ]
    },
    {
     "name": "stdout",
     "output_type": "stream",
     "text": [
      "0.6340431038151498\n",
      "Validation loss decreased (0.634459 --> 0.634043).  Saving model ...\n"
     ]
    },
    {
     "name": "stderr",
     "output_type": "stream",
     "text": [
      "Epoch: [697]/[1200] Training: 100%|██████████| 7/7 [00:04<00:00,  1.74it/s, loss=0.000258, train_ca=100, train_wa=1]     \n",
      "Validating: 100%|██████████| 1/1 [00:00<00:00,  2.52it/s, val_loss=0.348, val_ca=96.1, val_wa=0.791]\n"
     ]
    },
    {
     "name": "stdout",
     "output_type": "stream",
     "text": [
      "0.6336345441522175\n",
      "Validation loss decreased (0.634043 --> 0.633635).  Saving model ...\n"
     ]
    },
    {
     "name": "stderr",
     "output_type": "stream",
     "text": [
      "Epoch: [698]/[1200] Training: 100%|██████████| 7/7 [00:04<00:00,  1.68it/s, loss=3.76e-5, train_ca=100, train_wa=1]      \n",
      "Validating: 100%|██████████| 1/1 [00:00<00:00,  2.00it/s, val_loss=0.364, val_ca=95.3, val_wa=0.779]\n"
     ]
    },
    {
     "name": "stdout",
     "output_type": "stream",
     "text": [
      "0.6332495326655252\n",
      "Validation loss decreased (0.633635 --> 0.633250).  Saving model ...\n"
     ]
    },
    {
     "name": "stderr",
     "output_type": "stream",
     "text": [
      "Epoch: [699]/[1200] Training: 100%|██████████| 7/7 [00:04<00:00,  1.74it/s, loss=5.52e-5, train_ca=100, train_wa=1]     \n",
      "Validating: 100%|██████████| 1/1 [00:00<00:00,  2.50it/s, val_loss=0.355, val_ca=96, val_wa=0.791]\n"
     ]
    },
    {
     "name": "stdout",
     "output_type": "stream",
     "text": [
      "0.6328528009450725\n",
      "Validation loss decreased (0.633250 --> 0.632853).  Saving model ...\n"
     ]
    },
    {
     "name": "stderr",
     "output_type": "stream",
     "text": [
      "Epoch: [700]/[1200] Training: 100%|██████████| 7/7 [00:04<00:00,  1.69it/s, loss=2.37e-5, train_ca=100, train_wa=1]      \n",
      "Validating: 100%|██████████| 1/1 [00:00<00:00,  1.93it/s, val_loss=0.35, val_ca=96, val_wa=0.791]\n"
     ]
    },
    {
     "name": "stdout",
     "output_type": "stream",
     "text": [
      "0.6324502195727791\n",
      "Validation loss decreased (0.632853 --> 0.632450).  Saving model ...\n"
     ]
    },
    {
     "name": "stderr",
     "output_type": "stream",
     "text": [
      "Epoch: [701]/[1200] Training: 100%|██████████| 7/7 [00:04<00:00,  1.48it/s, loss=3.95e-6, train_ca=100, train_wa=1]      \n",
      "Validating: 100%|██████████| 1/1 [00:00<00:00,  1.99it/s, val_loss=0.346, val_ca=96.1, val_wa=0.791]\n"
     ]
    },
    {
     "name": "stdout",
     "output_type": "stream",
     "text": [
      "0.6320431173102106\n",
      "Validation loss decreased (0.632450 --> 0.632043).  Saving model ...\n"
     ]
    },
    {
     "name": "stderr",
     "output_type": "stream",
     "text": [
      "Epoch: [702]/[1200] Training: 100%|██████████| 7/7 [00:05<00:00,  1.39it/s, loss=0.000528, train_ca=100, train_wa=1]    \n",
      "Validating: 100%|██████████| 1/1 [00:00<00:00,  2.47it/s, val_loss=0.346, val_ca=96, val_wa=0.779]\n"
     ]
    },
    {
     "name": "stdout",
     "output_type": "stream",
     "text": [
      "0.6316363890655339\n",
      "Validation loss decreased (0.632043 --> 0.631636).  Saving model ...\n"
     ]
    },
    {
     "name": "stderr",
     "output_type": "stream",
     "text": [
      "Epoch: [703]/[1200] Training: 100%|██████████| 7/7 [00:04<00:00,  1.50it/s, loss=2.61e-5, train_ca=100, train_wa=1]      \n",
      "Validating: 100%|██████████| 1/1 [00:00<00:00,  2.50it/s, val_loss=0.364, val_ca=96.1, val_wa=0.791]\n"
     ]
    },
    {
     "name": "stdout",
     "output_type": "stream",
     "text": [
      "0.6312571558969241\n",
      "Validation loss decreased (0.631636 --> 0.631257).  Saving model ...\n"
     ]
    },
    {
     "name": "stderr",
     "output_type": "stream",
     "text": [
      "Epoch: [704]/[1200] Training: 100%|██████████| 7/7 [00:04<00:00,  1.67it/s, loss=4.09e-5, train_ca=100, train_wa=1]      \n",
      "Validating: 100%|██████████| 1/1 [00:00<00:00,  1.96it/s, val_loss=0.38, val_ca=95.8, val_wa=0.779]\n"
     ]
    },
    {
     "name": "stdout",
     "output_type": "stream",
     "text": [
      "0.6309019583818257\n",
      "Validation loss decreased (0.631257 --> 0.630902).  Saving model ...\n"
     ]
    },
    {
     "name": "stderr",
     "output_type": "stream",
     "text": [
      "Epoch: [705]/[1200] Training: 100%|██████████| 7/7 [00:04<00:00,  1.68it/s, loss=1.99e-5, train_ca=100, train_wa=1]     \n",
      "Validating: 100%|██████████| 1/1 [00:00<00:00,  1.65it/s, val_loss=0.371, val_ca=96, val_wa=0.791]\n"
     ]
    },
    {
     "name": "stdout",
     "output_type": "stream",
     "text": [
      "0.630533659727941\n",
      "Validation loss decreased (0.630902 --> 0.630534).  Saving model ...\n"
     ]
    },
    {
     "name": "stderr",
     "output_type": "stream",
     "text": [
      "Epoch: [706]/[1200] Training: 100%|██████████| 7/7 [00:04<00:00,  1.59it/s, loss=5e-5, train_ca=100, train_wa=1]         \n",
      "Validating: 100%|██████████| 1/1 [00:00<00:00,  1.67it/s, val_loss=0.358, val_ca=96, val_wa=0.779]\n"
     ]
    },
    {
     "name": "stdout",
     "output_type": "stream",
     "text": [
      "0.6301485876747444\n",
      "Validation loss decreased (0.630534 --> 0.630149).  Saving model ...\n"
     ]
    },
    {
     "name": "stderr",
     "output_type": "stream",
     "text": [
      "Epoch: [707]/[1200] Training: 100%|██████████| 7/7 [00:04<00:00,  1.54it/s, loss=4.67e-5, train_ca=100, train_wa=1]      \n",
      "Validating: 100%|██████████| 1/1 [00:00<00:00,  1.70it/s, val_loss=0.368, val_ca=95.7, val_wa=0.791]\n"
     ]
    },
    {
     "name": "stdout",
     "output_type": "stream",
     "text": [
      "0.6297792072272603\n",
      "Validation loss decreased (0.630149 --> 0.629779).  Saving model ...\n"
     ]
    },
    {
     "name": "stderr",
     "output_type": "stream",
     "text": [
      "Epoch: [708]/[1200] Training: 100%|██████████| 7/7 [00:04<00:00,  1.51it/s, loss=4.82e-5, train_ca=100, train_wa=1]     \n",
      "Validating: 100%|██████████| 1/1 [00:00<00:00,  2.38it/s, val_loss=0.372, val_ca=95.5, val_wa=0.791]\n"
     ]
    },
    {
     "name": "stdout",
     "output_type": "stream",
     "text": [
      "0.6294168027353958\n",
      "Validation loss decreased (0.629779 --> 0.629417).  Saving model ...\n"
     ]
    },
    {
     "name": "stderr",
     "output_type": "stream",
     "text": [
      "Epoch: [709]/[1200] Training: 100%|██████████| 7/7 [00:04<00:00,  1.65it/s, loss=6.08e-6, train_ca=100, train_wa=1]     \n",
      "Validating: 100%|██████████| 1/1 [00:00<00:00,  2.01it/s, val_loss=0.365, val_ca=95.5, val_wa=0.767]\n"
     ]
    },
    {
     "name": "stdout",
     "output_type": "stream",
     "text": [
      "0.629044399860036\n",
      "Validation loss decreased (0.629417 --> 0.629044).  Saving model ...\n"
     ]
    },
    {
     "name": "stderr",
     "output_type": "stream",
     "text": [
      "Epoch: [710]/[1200] Training: 100%|██████████| 7/7 [00:04<00:00,  1.47it/s, loss=6.58e-6, train_ca=100, train_wa=1]      \n",
      "Validating: 100%|██████████| 1/1 [00:00<00:00,  1.66it/s, val_loss=0.365, val_ca=96, val_wa=0.802]\n"
     ]
    },
    {
     "name": "stdout",
     "output_type": "stream",
     "text": [
      "0.628673130541705\n",
      "Validation loss decreased (0.629044 --> 0.628673).  Saving model ...\n"
     ]
    },
    {
     "name": "stderr",
     "output_type": "stream",
     "text": [
      "Epoch: [711]/[1200] Training: 100%|██████████| 7/7 [00:04<00:00,  1.60it/s, loss=2.34e-5, train_ca=100, train_wa=1]     \n",
      "Validating: 100%|██████████| 1/1 [00:00<00:00,  2.46it/s, val_loss=0.357, val_ca=96.3, val_wa=0.802]\n"
     ]
    },
    {
     "name": "stdout",
     "output_type": "stream",
     "text": [
      "0.628292665825987\n",
      "Validation loss decreased (0.628673 --> 0.628293).  Saving model ...\n"
     ]
    },
    {
     "name": "stderr",
     "output_type": "stream",
     "text": [
      "Epoch: [712]/[1200] Training: 100%|██████████| 7/7 [00:04<00:00,  1.63it/s, loss=1.4e-5, train_ca=100, train_wa=1]      \n",
      "Validating: 100%|██████████| 1/1 [00:00<00:00,  3.19it/s, val_loss=0.352, val_ca=96.1, val_wa=0.791]\n"
     ]
    },
    {
     "name": "stdout",
     "output_type": "stream",
     "text": [
      "0.627905003997792\n",
      "Validation loss decreased (0.628293 --> 0.627905).  Saving model ...\n"
     ]
    },
    {
     "name": "stderr",
     "output_type": "stream",
     "text": [
      "Epoch: [713]/[1200] Training: 100%|██████████| 7/7 [00:04<00:00,  1.59it/s, loss=7.98e-6, train_ca=100, train_wa=1]     \n",
      "Validating: 100%|██████████| 1/1 [00:00<00:00,  2.01it/s, val_loss=0.351, val_ca=96, val_wa=0.791]\n"
     ]
    },
    {
     "name": "stdout",
     "output_type": "stream",
     "text": [
      "0.6275173570726301\n",
      "Validation loss decreased (0.627905 --> 0.627517).  Saving model ...\n"
     ]
    },
    {
     "name": "stderr",
     "output_type": "stream",
     "text": [
      "Epoch: [714]/[1200] Training: 100%|██████████| 7/7 [00:04<00:00,  1.48it/s, loss=2.18e-5, train_ca=100, train_wa=1]      \n",
      "Validating: 100%|██████████| 1/1 [00:00<00:00,  1.99it/s, val_loss=0.356, val_ca=96, val_wa=0.791]\n"
     ]
    },
    {
     "name": "stdout",
     "output_type": "stream",
     "text": [
      "0.6271385338636084\n",
      "Validation loss decreased (0.627517 --> 0.627139).  Saving model ...\n"
     ]
    },
    {
     "name": "stderr",
     "output_type": "stream",
     "text": [
      "Epoch: [715]/[1200] Training: 100%|██████████| 7/7 [00:04<00:00,  1.58it/s, loss=0.0116, train_ca=100, train_wa=1]      \n",
      "Validating: 100%|██████████| 1/1 [00:00<00:00,  1.68it/s, val_loss=0.346, val_ca=96, val_wa=0.791]\n"
     ]
    },
    {
     "name": "stdout",
     "output_type": "stream",
     "text": [
      "0.6267470206592538\n",
      "Validation loss decreased (0.627139 --> 0.626747).  Saving model ...\n"
     ]
    },
    {
     "name": "stderr",
     "output_type": "stream",
     "text": [
      "Epoch: [716]/[1200] Training: 100%|██████████| 7/7 [00:04<00:00,  1.56it/s, loss=3.97e-5, train_ca=100, train_wa=1]      \n",
      "Validating: 100%|██████████| 1/1 [00:00<00:00,  1.98it/s, val_loss=0.365, val_ca=96, val_wa=0.802]\n"
     ]
    },
    {
     "name": "stdout",
     "output_type": "stream",
     "text": [
      "0.6263819565597019\n",
      "Validation loss decreased (0.626747 --> 0.626382).  Saving model ...\n"
     ]
    },
    {
     "name": "stderr",
     "output_type": "stream",
     "text": [
      "Epoch: [717]/[1200] Training: 100%|██████████| 7/7 [00:04<00:00,  1.61it/s, loss=1.99e-5, train_ca=100, train_wa=1]      \n",
      "Validating: 100%|██████████| 1/1 [00:00<00:00,  1.65it/s, val_loss=0.379, val_ca=96, val_wa=0.779]\n"
     ]
    },
    {
     "name": "stdout",
     "output_type": "stream",
     "text": [
      "0.6260380752395025\n",
      "Validation loss decreased (0.626382 --> 0.626038).  Saving model ...\n"
     ]
    },
    {
     "name": "stderr",
     "output_type": "stream",
     "text": [
      "Epoch: [718]/[1200] Training: 100%|██████████| 7/7 [00:04<00:00,  1.62it/s, loss=0.00969, train_ca=100, train_wa=1]      \n",
      "Validating: 100%|██████████| 1/1 [00:00<00:00,  2.00it/s, val_loss=0.424, val_ca=95.8, val_wa=0.791]\n"
     ]
    },
    {
     "name": "stdout",
     "output_type": "stream",
     "text": [
      "0.6257573732899295\n",
      "Validation loss decreased (0.626038 --> 0.625757).  Saving model ...\n"
     ]
    },
    {
     "name": "stderr",
     "output_type": "stream",
     "text": [
      "Epoch: [719]/[1200] Training: 100%|██████████| 7/7 [00:03<00:00,  1.76it/s, loss=8.27e-6, train_ca=100, train_wa=1]     \n",
      "Validating: 100%|██████████| 1/1 [00:00<00:00,  1.64it/s, val_loss=0.487, val_ca=95, val_wa=0.756]\n"
     ]
    },
    {
     "name": "stdout",
     "output_type": "stream",
     "text": [
      "0.6255647048209477\n",
      "Validation loss decreased (0.625757 --> 0.625565).  Saving model ...\n"
     ]
    },
    {
     "name": "stderr",
     "output_type": "stream",
     "text": [
      "Epoch: [720]/[1200] Training: 100%|██████████| 7/7 [00:04<00:00,  1.59it/s, loss=2.52e-5, train_ca=100, train_wa=1]     \n",
      "Validating: 100%|██████████| 1/1 [00:00<00:00,  1.97it/s, val_loss=0.427, val_ca=94.8, val_wa=0.756]\n"
     ]
    },
    {
     "name": "stdout",
     "output_type": "stream",
     "text": [
      "0.625289477428571\n",
      "Validation loss decreased (0.625565 --> 0.625289).  Saving model ...\n"
     ]
    },
    {
     "name": "stderr",
     "output_type": "stream",
     "text": [
      "Epoch: [721]/[1200] Training: 100%|██████████| 7/7 [00:04<00:00,  1.69it/s, loss=1.09e-5, train_ca=100, train_wa=1]     \n",
      "Validating: 100%|██████████| 1/1 [00:00<00:00,  1.97it/s, val_loss=0.48, val_ca=95.3, val_wa=0.756]\n"
     ]
    },
    {
     "name": "stdout",
     "output_type": "stream",
     "text": [
      "0.6250881041975932\n",
      "Validation loss decreased (0.625289 --> 0.625088).  Saving model ...\n"
     ]
    },
    {
     "name": "stderr",
     "output_type": "stream",
     "text": [
      "Epoch: [722]/[1200] Training: 100%|██████████| 7/7 [00:04<00:00,  1.55it/s, loss=2.32e-5, train_ca=100, train_wa=1]     \n",
      "Validating: 100%|██████████| 1/1 [00:00<00:00,  1.66it/s, val_loss=0.513, val_ca=94.8, val_wa=0.756]\n"
     ]
    },
    {
     "name": "stdout",
     "output_type": "stream",
     "text": [
      "0.6249326644105148\n",
      "Validation loss decreased (0.625088 --> 0.624933).  Saving model ...\n"
     ]
    },
    {
     "name": "stderr",
     "output_type": "stream",
     "text": [
      "Epoch: [723]/[1200] Training: 100%|██████████| 7/7 [00:04<00:00,  1.58it/s, loss=0.00312, train_ca=100, train_wa=1]     \n",
      "Validating: 100%|██████████| 1/1 [00:00<00:00,  2.42it/s, val_loss=0.402, val_ca=95.8, val_wa=0.779]\n"
     ]
    },
    {
     "name": "stdout",
     "output_type": "stream",
     "text": [
      "0.624624729526454\n",
      "Validation loss decreased (0.624933 --> 0.624625).  Saving model ...\n"
     ]
    },
    {
     "name": "stderr",
     "output_type": "stream",
     "text": [
      "Epoch: [724]/[1200] Training: 100%|██████████| 7/7 [00:04<00:00,  1.68it/s, loss=0.000238, train_ca=100, train_wa=1]   \n",
      "Validating: 100%|██████████| 1/1 [00:00<00:00,  2.39it/s, val_loss=0.614, val_ca=92.4, val_wa=0.674]\n"
     ]
    },
    {
     "name": "stdout",
     "output_type": "stream",
     "text": [
      "0.6246105285961766\n",
      "Validation loss decreased (0.624625 --> 0.624611).  Saving model ...\n"
     ]
    },
    {
     "name": "stderr",
     "output_type": "stream",
     "text": [
      "Epoch: [725]/[1200] Training: 100%|██████████| 7/7 [00:04<00:00,  1.61it/s, loss=2.27e-5, train_ca=100, train_wa=1]      \n",
      "Validating: 100%|██████████| 1/1 [00:00<00:00,  1.99it/s, val_loss=0.392, val_ca=96, val_wa=0.802]\n"
     ]
    },
    {
     "name": "stdout",
     "output_type": "stream",
     "text": [
      "0.624290657502585\n",
      "Validation loss decreased (0.624611 --> 0.624291).  Saving model ...\n"
     ]
    },
    {
     "name": "stderr",
     "output_type": "stream",
     "text": [
      "Epoch: [726]/[1200] Training: 100%|██████████| 7/7 [00:04<00:00,  1.70it/s, loss=0.338, train_ca=97.5, train_wa=0.8]    \n",
      "Validating: 100%|██████████| 1/1 [00:00<00:00,  1.69it/s, val_loss=0.475, val_ca=94.5, val_wa=0.756]\n"
     ]
    },
    {
     "name": "stdout",
     "output_type": "stream",
     "text": [
      "0.624086142282237\n",
      "Validation loss decreased (0.624291 --> 0.624086).  Saving model ...\n"
     ]
    },
    {
     "name": "stderr",
     "output_type": "stream",
     "text": [
      "Epoch: [727]/[1200] Training: 100%|██████████| 7/7 [00:04<00:00,  1.48it/s, loss=0.000384, train_ca=100, train_wa=1]    \n",
      "Validating: 100%|██████████| 1/1 [00:00<00:00,  1.98it/s, val_loss=0.518, val_ca=93.7, val_wa=0.744]\n"
     ]
    },
    {
     "name": "stdout",
     "output_type": "stream",
     "text": [
      "0.6239411249981659\n",
      "Validation loss decreased (0.624086 --> 0.623941).  Saving model ...\n"
     ]
    },
    {
     "name": "stderr",
     "output_type": "stream",
     "text": [
      "Epoch: [728]/[1200] Training: 100%|██████████| 7/7 [00:04<00:00,  1.59it/s, loss=3.62e-5, train_ca=100, train_wa=1]     \n",
      "Validating: 100%|██████████| 1/1 [00:00<00:00,  1.69it/s, val_loss=0.833, val_ca=90.7, val_wa=0.558]\n"
     ]
    },
    {
     "name": "stdout",
     "output_type": "stream",
     "text": [
      "0.6242273475617579\n",
      "EarlyStopping counter: (-0.623941 1 out of 15)\n"
     ]
    },
    {
     "name": "stderr",
     "output_type": "stream",
     "text": [
      "Epoch: [729]/[1200] Training: 100%|██████████| 7/7 [00:04<00:00,  1.59it/s, loss=0.000131, train_ca=100, train_wa=1]    \n",
      "Validating: 100%|██████████| 1/1 [00:00<00:00,  1.67it/s, val_loss=1.21, val_ca=86.3, val_wa=0.523]\n"
     ]
    },
    {
     "name": "stdout",
     "output_type": "stream",
     "text": [
      "0.6250275436651201\n",
      "EarlyStopping counter: (-0.623941 2 out of 15)\n"
     ]
    },
    {
     "name": "stderr",
     "output_type": "stream",
     "text": [
      "Epoch: [730]/[1200] Training: 100%|██████████| 7/7 [00:04<00:00,  1.67it/s, loss=0.000289, train_ca=100, train_wa=1]    \n",
      "Validating: 100%|██████████| 1/1 [00:00<00:00,  1.95it/s, val_loss=1.29, val_ca=87.7, val_wa=0.558]\n"
     ]
    },
    {
     "name": "stdout",
     "output_type": "stream",
     "text": [
      "0.6259395023756992\n",
      "EarlyStopping counter: (-0.623941 3 out of 15)\n"
     ]
    },
    {
     "name": "stderr",
     "output_type": "stream",
     "text": [
      "Epoch: [731]/[1200] Training: 100%|██████████| 7/7 [00:04<00:00,  1.53it/s, loss=0.000175, train_ca=100, train_wa=1]    \n",
      "Validating: 100%|██████████| 1/1 [00:00<00:00,  3.29it/s, val_loss=0.51, val_ca=94.5, val_wa=0.744]\n"
     ]
    },
    {
     "name": "stdout",
     "output_type": "stream",
     "text": [
      "0.6257809412349296\n",
      "EarlyStopping counter: (-0.623941 4 out of 15)\n"
     ]
    },
    {
     "name": "stderr",
     "output_type": "stream",
     "text": [
      "Epoch: [732]/[1200] Training: 100%|██████████| 7/7 [00:05<00:00,  1.40it/s, loss=2.28e-5, train_ca=100, train_wa=1]     \n",
      "Validating: 100%|██████████| 1/1 [00:00<00:00,  1.99it/s, val_loss=0.422, val_ca=94.9, val_wa=0.779]\n"
     ]
    },
    {
     "name": "stdout",
     "output_type": "stream",
     "text": [
      "0.6255031198019553\n",
      "EarlyStopping counter: (-0.623941 5 out of 15)\n"
     ]
    },
    {
     "name": "stderr",
     "output_type": "stream",
     "text": [
      "Epoch: [733]/[1200] Training: 100%|██████████| 7/7 [00:04<00:00,  1.46it/s, loss=0.000104, train_ca=100, train_wa=1]    \n",
      "Validating: 100%|██████████| 1/1 [00:00<00:00,  1.99it/s, val_loss=0.426, val_ca=95.2, val_wa=0.779]\n"
     ]
    },
    {
     "name": "stdout",
     "output_type": "stream",
     "text": [
      "0.6252316161483323\n",
      "EarlyStopping counter: (-0.623941 6 out of 15)\n"
     ]
    },
    {
     "name": "stderr",
     "output_type": "stream",
     "text": [
      "Epoch: [734]/[1200] Training: 100%|██████████| 7/7 [00:04<00:00,  1.52it/s, loss=3.88e-5, train_ca=100, train_wa=1]      \n",
      "Validating: 100%|██████████| 1/1 [00:00<00:00,  2.03it/s, val_loss=0.378, val_ca=95.7, val_wa=0.814]\n"
     ]
    },
    {
     "name": "stdout",
     "output_type": "stream",
     "text": [
      "0.624896300551684\n",
      "EarlyStopping counter: (-0.623941 7 out of 15)\n"
     ]
    },
    {
     "name": "stderr",
     "output_type": "stream",
     "text": [
      "Epoch: [735]/[1200] Training: 100%|██████████| 7/7 [00:04<00:00,  1.43it/s, loss=0.0306, train_ca=97.1, train_wa=0.8]\n",
      "Validating: 100%|██████████| 1/1 [00:00<00:00,  1.99it/s, val_loss=0.381, val_ca=96, val_wa=0.802]\n"
     ]
    },
    {
     "name": "stdout",
     "output_type": "stream",
     "text": [
      "0.6245657002181826\n",
      "EarlyStopping counter: (-0.623941 8 out of 15)\n"
     ]
    },
    {
     "name": "stderr",
     "output_type": "stream",
     "text": [
      "Epoch: [736]/[1200] Training: 100%|██████████| 7/7 [00:04<00:00,  1.46it/s, loss=3.11e-5, train_ca=100, train_wa=1]     \n",
      "Validating: 100%|██████████| 1/1 [00:00<00:00,  2.45it/s, val_loss=0.418, val_ca=95.5, val_wa=0.791]\n"
     ]
    },
    {
     "name": "stdout",
     "output_type": "stream",
     "text": [
      "0.624285557809561\n",
      "EarlyStopping counter: (-0.623941 9 out of 15)\n"
     ]
    },
    {
     "name": "stderr",
     "output_type": "stream",
     "text": [
      "Epoch: [737]/[1200] Training: 100%|██████████| 7/7 [00:05<00:00,  1.40it/s, loss=0.000387, train_ca=100, train_wa=1]    \n",
      "Validating: 100%|██████████| 1/1 [00:00<00:00,  2.49it/s, val_loss=0.355, val_ca=96.1, val_wa=0.802]\n"
     ]
    },
    {
     "name": "stdout",
     "output_type": "stream",
     "text": [
      "0.6239216534952672\n",
      "Validation loss decreased (0.623941 --> 0.623922).  Saving model ...\n"
     ]
    },
    {
     "name": "stderr",
     "output_type": "stream",
     "text": [
      "Epoch: [738]/[1200] Training: 100%|██████████| 7/7 [00:04<00:00,  1.48it/s, loss=0.000442, train_ca=100, train_wa=1]    \n",
      "Validating: 100%|██████████| 1/1 [00:00<00:00,  1.65it/s, val_loss=0.4, val_ca=95.8, val_wa=0.756]\n"
     ]
    },
    {
     "name": "stdout",
     "output_type": "stream",
     "text": [
      "0.6236184616346617\n",
      "Validation loss decreased (0.623922 --> 0.623618).  Saving model ...\n"
     ]
    },
    {
     "name": "stderr",
     "output_type": "stream",
     "text": [
      "Epoch: [739]/[1200] Training: 100%|██████████| 7/7 [00:04<00:00,  1.65it/s, loss=4.49e-5, train_ca=100, train_wa=1]      \n",
      "Validating: 100%|██████████| 1/1 [00:00<00:00,  2.45it/s, val_loss=0.351, val_ca=96.2, val_wa=0.802]\n"
     ]
    },
    {
     "name": "stdout",
     "output_type": "stream",
     "text": [
      "0.6232499986203254\n",
      "Validation loss decreased (0.623618 --> 0.623250).  Saving model ...\n"
     ]
    },
    {
     "name": "stderr",
     "output_type": "stream",
     "text": [
      "Epoch: [740]/[1200] Training: 100%|██████████| 7/7 [00:04<00:00,  1.65it/s, loss=0.000285, train_ca=100, train_wa=1]    \n",
      "Validating: 100%|██████████| 1/1 [00:00<00:00,  3.31it/s, val_loss=0.5, val_ca=94.8, val_wa=0.779]\n"
     ]
    },
    {
     "name": "stdout",
     "output_type": "stream",
     "text": [
      "0.6230841234045209\n",
      "Validation loss decreased (0.623250 --> 0.623084).  Saving model ...\n"
     ]
    },
    {
     "name": "stderr",
     "output_type": "stream",
     "text": [
      "Epoch: [741]/[1200] Training: 100%|██████████| 7/7 [00:04<00:00,  1.62it/s, loss=0.028, train_ca=97.1, train_wa=0.8]    \n",
      "Validating: 100%|██████████| 1/1 [00:00<00:00,  1.70it/s, val_loss=0.545, val_ca=94.2, val_wa=0.733]\n"
     ]
    },
    {
     "name": "stdout",
     "output_type": "stream",
     "text": [
      "0.6229789474450081\n",
      "Validation loss decreased (0.623084 --> 0.622979).  Saving model ...\n"
     ]
    },
    {
     "name": "stderr",
     "output_type": "stream",
     "text": [
      "Epoch: [742]/[1200] Training: 100%|██████████| 7/7 [00:04<00:00,  1.48it/s, loss=0.000959, train_ca=100, train_wa=1]   \n",
      "Validating: 100%|██████████| 1/1 [00:00<00:00,  1.98it/s, val_loss=0.426, val_ca=94.6, val_wa=0.791]\n"
     ]
    },
    {
     "name": "stdout",
     "output_type": "stream",
     "text": [
      "0.6227147237507886\n",
      "Validation loss decreased (0.622979 --> 0.622715).  Saving model ...\n"
     ]
    },
    {
     "name": "stderr",
     "output_type": "stream",
     "text": [
      "Epoch: [743]/[1200] Training: 100%|██████████| 7/7 [00:04<00:00,  1.54it/s, loss=0.0209, train_ca=97.5, train_wa=0.8]   \n",
      "Validating: 100%|██████████| 1/1 [00:00<00:00,  1.44it/s, val_loss=0.373, val_ca=95.5, val_wa=0.791]\n"
     ]
    },
    {
     "name": "stdout",
     "output_type": "stream",
     "text": [
      "0.622379733132036\n",
      "Validation loss decreased (0.622715 --> 0.622380).  Saving model ...\n"
     ]
    },
    {
     "name": "stderr",
     "output_type": "stream",
     "text": [
      "Epoch: [744]/[1200] Training: 100%|██████████| 7/7 [00:04<00:00,  1.48it/s, loss=9.18e-5, train_ca=100, train_wa=1]     \n",
      "Validating: 100%|██████████| 1/1 [00:00<00:00,  1.95it/s, val_loss=0.419, val_ca=95.6, val_wa=0.779]\n"
     ]
    },
    {
     "name": "stdout",
     "output_type": "stream",
     "text": [
      "0.6221065998636686\n",
      "Validation loss decreased (0.622380 --> 0.622107).  Saving model ...\n"
     ]
    },
    {
     "name": "stderr",
     "output_type": "stream",
     "text": [
      "Epoch: [745]/[1200] Training: 100%|██████████| 7/7 [00:04<00:00,  1.52it/s, loss=5.61e-5, train_ca=100, train_wa=1]     \n",
      "Validating: 100%|██████████| 1/1 [00:00<00:00,  2.00it/s, val_loss=0.298, val_ca=96.3, val_wa=0.826]\n"
     ]
    },
    {
     "name": "stdout",
     "output_type": "stream",
     "text": [
      "0.6216721941269385\n",
      "Validation loss decreased (0.622107 --> 0.621672).  Saving model ...\n"
     ]
    },
    {
     "name": "stderr",
     "output_type": "stream",
     "text": [
      "Epoch: [746]/[1200] Training: 100%|██████████| 7/7 [00:04<00:00,  1.61it/s, loss=5.88e-5, train_ca=100, train_wa=1]      \n",
      "Validating: 100%|██████████| 1/1 [00:00<00:00,  1.67it/s, val_loss=0.364, val_ca=95.3, val_wa=0.791]\n"
     ]
    },
    {
     "name": "stdout",
     "output_type": "stream",
     "text": [
      "0.6213280923146615\n",
      "Validation loss decreased (0.621672 --> 0.621328).  Saving model ...\n"
     ]
    },
    {
     "name": "stderr",
     "output_type": "stream",
     "text": [
      "Epoch: [747]/[1200] Training: 100%|██████████| 7/7 [00:04<00:00,  1.55it/s, loss=0.000138, train_ca=100, train_wa=1]    \n",
      "Validating: 100%|██████████| 1/1 [00:00<00:00,  1.98it/s, val_loss=0.341, val_ca=95.7, val_wa=0.767]\n"
     ]
    },
    {
     "name": "stdout",
     "output_type": "stream",
     "text": [
      "0.6209543228786045\n",
      "Validation loss decreased (0.621328 --> 0.620954).  Saving model ...\n"
     ]
    },
    {
     "name": "stderr",
     "output_type": "stream",
     "text": [
      "Epoch: [748]/[1200] Training: 100%|██████████| 7/7 [00:04<00:00,  1.46it/s, loss=0.00024, train_ca=100, train_wa=1]     \n",
      "Validating: 100%|██████████| 1/1 [00:00<00:00,  2.41it/s, val_loss=0.407, val_ca=95.6, val_wa=0.779]\n"
     ]
    },
    {
     "name": "stdout",
     "output_type": "stream",
     "text": [
      "0.6206686009963354\n",
      "Validation loss decreased (0.620954 --> 0.620669).  Saving model ...\n"
     ]
    },
    {
     "name": "stderr",
     "output_type": "stream",
     "text": [
      "Epoch: [749]/[1200] Training: 100%|██████████| 7/7 [00:05<00:00,  1.39it/s, loss=0.000194, train_ca=100, train_wa=1]    \n",
      "Validating: 100%|██████████| 1/1 [00:00<00:00,  1.90it/s, val_loss=0.423, val_ca=95.3, val_wa=0.767]\n"
     ]
    },
    {
     "name": "stdout",
     "output_type": "stream",
     "text": [
      "0.620405520603914\n",
      "Validation loss decreased (0.620669 --> 0.620406).  Saving model ...\n"
     ]
    },
    {
     "name": "stderr",
     "output_type": "stream",
     "text": [
      "Epoch: [750]/[1200] Training: 100%|██████████| 7/7 [00:05<00:00,  1.36it/s, loss=4.61e-5, train_ca=100, train_wa=1]     \n",
      "Validating: 100%|██████████| 1/1 [00:00<00:00,  1.98it/s, val_loss=0.427, val_ca=95.4, val_wa=0.767]\n"
     ]
    },
    {
     "name": "stdout",
     "output_type": "stream",
     "text": [
      "0.6201478445387267\n",
      "Validation loss decreased (0.620406 --> 0.620148).  Saving model ...\n"
     ]
    },
    {
     "name": "stderr",
     "output_type": "stream",
     "text": [
      "Epoch: [751]/[1200] Training: 100%|██████████| 7/7 [00:05<00:00,  1.35it/s, loss=6.26e-5, train_ca=100, train_wa=1]      \n",
      "Validating: 100%|██████████| 1/1 [00:00<00:00,  2.46it/s, val_loss=0.474, val_ca=94.2, val_wa=0.721]\n"
     ]
    },
    {
     "name": "stdout",
     "output_type": "stream",
     "text": [
      "0.6199542753408313\n",
      "Validation loss decreased (0.620148 --> 0.619954).  Saving model ...\n"
     ]
    },
    {
     "name": "stderr",
     "output_type": "stream",
     "text": [
      "Epoch: [752]/[1200] Training: 100%|██████████| 7/7 [00:05<00:00,  1.36it/s, loss=0.000182, train_ca=100, train_wa=1]     \n",
      "Validating: 100%|██████████| 1/1 [00:00<00:00,  1.93it/s, val_loss=0.425, val_ca=95.8, val_wa=0.814]\n"
     ]
    },
    {
     "name": "stdout",
     "output_type": "stream",
     "text": [
      "0.6196961856647258\n",
      "Validation loss decreased (0.619954 --> 0.619696).  Saving model ...\n"
     ]
    },
    {
     "name": "stderr",
     "output_type": "stream",
     "text": [
      "Epoch: [753]/[1200] Training: 100%|██████████| 7/7 [00:05<00:00,  1.31it/s, loss=3.5e-5, train_ca=100, train_wa=1]    \n",
      "Validating: 100%|██████████| 1/1 [00:00<00:00,  2.43it/s, val_loss=0.446, val_ca=95.5, val_wa=0.814]\n"
     ]
    },
    {
     "name": "stdout",
     "output_type": "stream",
     "text": [
      "0.6194654942743036\n",
      "Validation loss decreased (0.619696 --> 0.619465).  Saving model ...\n"
     ]
    },
    {
     "name": "stderr",
     "output_type": "stream",
     "text": [
      "Epoch: [754]/[1200] Training: 100%|██████████| 7/7 [00:05<00:00,  1.37it/s, loss=0.000162, train_ca=100, train_wa=1]     \n",
      "Validating: 100%|██████████| 1/1 [00:00<00:00,  1.94it/s, val_loss=0.443, val_ca=95.3, val_wa=0.814]\n"
     ]
    },
    {
     "name": "stdout",
     "output_type": "stream",
     "text": [
      "0.6192325756111473\n",
      "Validation loss decreased (0.619465 --> 0.619233).  Saving model ...\n"
     ]
    },
    {
     "name": "stderr",
     "output_type": "stream",
     "text": [
      "Epoch: [755]/[1200] Training: 100%|██████████| 7/7 [00:05<00:00,  1.32it/s, loss=5.65e-5, train_ca=100, train_wa=1]      \n",
      "Validating: 100%|██████████| 1/1 [00:00<00:00,  1.99it/s, val_loss=0.447, val_ca=95.3, val_wa=0.814]\n"
     ]
    },
    {
     "name": "stdout",
     "output_type": "stream",
     "text": [
      "0.6190045627924063\n",
      "Validation loss decreased (0.619233 --> 0.619005).  Saving model ...\n"
     ]
    },
    {
     "name": "stderr",
     "output_type": "stream",
     "text": [
      "Epoch: [756]/[1200] Training: 100%|██████████| 7/7 [00:05<00:00,  1.36it/s, loss=3.63e-5, train_ca=100, train_wa=1]      \n",
      "Validating: 100%|██████████| 1/1 [00:00<00:00,  2.44it/s, val_loss=0.405, val_ca=96, val_wa=0.826]\n"
     ]
    },
    {
     "name": "stdout",
     "output_type": "stream",
     "text": [
      "0.6187217809200916\n",
      "Validation loss decreased (0.619005 --> 0.618722).  Saving model ...\n"
     ]
    },
    {
     "name": "stderr",
     "output_type": "stream",
     "text": [
      "Epoch: [757]/[1200] Training: 100%|██████████| 7/7 [00:04<00:00,  1.41it/s, loss=0.00202, train_ca=100, train_wa=1]     \n",
      "Validating: 100%|██████████| 1/1 [00:00<00:00,  1.96it/s, val_loss=0.4, val_ca=96, val_wa=0.826]\n"
     ]
    },
    {
     "name": "stdout",
     "output_type": "stream",
     "text": [
      "0.6184333007247709\n",
      "Validation loss decreased (0.618722 --> 0.618433).  Saving model ...\n"
     ]
    },
    {
     "name": "stderr",
     "output_type": "stream",
     "text": [
      "Epoch: [758]/[1200] Training: 100%|██████████| 7/7 [00:04<00:00,  1.50it/s, loss=3.88e-5, train_ca=100, train_wa=1]      \n",
      "Validating: 100%|██████████| 1/1 [00:00<00:00,  1.94it/s, val_loss=0.46, val_ca=95.7, val_wa=0.791]\n"
     ]
    },
    {
     "name": "stdout",
     "output_type": "stream",
     "text": [
      "0.618225094087814\n",
      "Validation loss decreased (0.618433 --> 0.618225).  Saving model ...\n"
     ]
    },
    {
     "name": "stderr",
     "output_type": "stream",
     "text": [
      "Epoch: [759]/[1200] Training: 100%|██████████| 7/7 [00:04<00:00,  1.45it/s, loss=2.96e-5, train_ca=100, train_wa=1]      \n",
      "Validating: 100%|██████████| 1/1 [00:00<00:00,  1.94it/s, val_loss=0.317, val_ca=96.3, val_wa=0.837]\n"
     ]
    },
    {
     "name": "stdout",
     "output_type": "stream",
     "text": [
      "0.6178289756041788\n",
      "Validation loss decreased (0.618225 --> 0.617829).  Saving model ...\n"
     ]
    },
    {
     "name": "stderr",
     "output_type": "stream",
     "text": [
      "Epoch: [760]/[1200] Training: 100%|██████████| 7/7 [00:04<00:00,  1.41it/s, loss=0.000768, train_ca=100, train_wa=1]     \n",
      "Validating: 100%|██████████| 1/1 [00:00<00:00,  2.44it/s, val_loss=0.339, val_ca=95.8, val_wa=0.802]\n"
     ]
    },
    {
     "name": "stdout",
     "output_type": "stream",
     "text": [
      "0.6174637110527419\n",
      "Validation loss decreased (0.617829 --> 0.617464).  Saving model ...\n"
     ]
    },
    {
     "name": "stderr",
     "output_type": "stream",
     "text": [
      "Epoch: [761]/[1200] Training: 100%|██████████| 7/7 [00:05<00:00,  1.38it/s, loss=0.0387, train_ca=97.1, train_wa=0.8]    \n",
      "Validating: 100%|██████████| 1/1 [00:00<00:00,  2.58it/s, val_loss=0.613, val_ca=93.7, val_wa=0.744]\n"
     ]
    },
    {
     "name": "stdout",
     "output_type": "stream",
     "text": [
      "0.617458015953729\n",
      "Validation loss decreased (0.617464 --> 0.617458).  Saving model ...\n"
     ]
    },
    {
     "name": "stderr",
     "output_type": "stream",
     "text": [
      "Epoch: [762]/[1200] Training: 100%|██████████| 7/7 [00:04<00:00,  1.47it/s, loss=0.000986, train_ca=100, train_wa=1]    \n",
      "Validating: 100%|██████████| 1/1 [00:00<00:00,  1.93it/s, val_loss=0.476, val_ca=95, val_wa=0.767]\n"
     ]
    },
    {
     "name": "stdout",
     "output_type": "stream",
     "text": [
      "0.6172734978779448\n",
      "Validation loss decreased (0.617458 --> 0.617273).  Saving model ...\n"
     ]
    },
    {
     "name": "stderr",
     "output_type": "stream",
     "text": [
      "Epoch: [763]/[1200] Training: 100%|██████████| 7/7 [00:04<00:00,  1.44it/s, loss=0.00061, train_ca=100, train_wa=1]     \n",
      "Validating: 100%|██████████| 1/1 [00:00<00:00,  1.63it/s, val_loss=0.416, val_ca=94.3, val_wa=0.698]\n"
     ]
    },
    {
     "name": "stdout",
     "output_type": "stream",
     "text": [
      "0.6170097602348702\n",
      "Validation loss decreased (0.617273 --> 0.617010).  Saving model ...\n"
     ]
    },
    {
     "name": "stderr",
     "output_type": "stream",
     "text": [
      "Epoch: [764]/[1200] Training: 100%|██████████| 7/7 [00:05<00:00,  1.37it/s, loss=0.00297, train_ca=100, train_wa=1]     \n",
      "Validating: 100%|██████████| 1/1 [00:00<00:00,  2.02it/s, val_loss=0.401, val_ca=95.5, val_wa=0.767]\n"
     ]
    },
    {
     "name": "stdout",
     "output_type": "stream",
     "text": [
      "0.6167276475199209\n",
      "Validation loss decreased (0.617010 --> 0.616728).  Saving model ...\n"
     ]
    },
    {
     "name": "stderr",
     "output_type": "stream",
     "text": [
      "Epoch: [765]/[1200] Training: 100%|██████████| 7/7 [00:04<00:00,  1.48it/s, loss=1.25e-5, train_ca=100, train_wa=1]     \n",
      "Validating: 100%|██████████| 1/1 [00:00<00:00,  2.44it/s, val_loss=0.428, val_ca=95.3, val_wa=0.767]\n"
     ]
    },
    {
     "name": "stdout",
     "output_type": "stream",
     "text": [
      "0.6164815009339691\n",
      "Validation loss decreased (0.616728 --> 0.616482).  Saving model ...\n"
     ]
    },
    {
     "name": "stderr",
     "output_type": "stream",
     "text": [
      "Epoch: [766]/[1200] Training: 100%|██████████| 7/7 [00:04<00:00,  1.43it/s, loss=1.65e-5, train_ca=100, train_wa=1]     \n",
      "Validating: 100%|██████████| 1/1 [00:00<00:00,  1.96it/s, val_loss=0.458, val_ca=95.1, val_wa=0.767]\n"
     ]
    },
    {
     "name": "stdout",
     "output_type": "stream",
     "text": [
      "0.6162750970106572\n",
      "Validation loss decreased (0.616482 --> 0.616275).  Saving model ...\n"
     ]
    },
    {
     "name": "stderr",
     "output_type": "stream",
     "text": [
      "Epoch: [767]/[1200] Training: 100%|██████████| 7/7 [00:04<00:00,  1.44it/s, loss=4.69e-5, train_ca=100, train_wa=1]     \n",
      "Validating: 100%|██████████| 1/1 [00:00<00:00,  2.41it/s, val_loss=0.42, val_ca=95.3, val_wa=0.779]\n"
     ]
    },
    {
     "name": "stdout",
     "output_type": "stream",
     "text": [
      "0.6160197011128513\n",
      "Validation loss decreased (0.616275 --> 0.616020).  Saving model ...\n"
     ]
    },
    {
     "name": "stderr",
     "output_type": "stream",
     "text": [
      "Epoch: [768]/[1200] Training: 100%|██████████| 7/7 [00:05<00:00,  1.37it/s, loss=6.8e-5, train_ca=100, train_wa=1]      \n",
      "Validating: 100%|██████████| 1/1 [00:00<00:00,  2.00it/s, val_loss=0.386, val_ca=95.2, val_wa=0.791]\n"
     ]
    },
    {
     "name": "stdout",
     "output_type": "stream",
     "text": [
      "0.6157208134214599\n",
      "Validation loss decreased (0.616020 --> 0.615721).  Saving model ...\n"
     ]
    },
    {
     "name": "stderr",
     "output_type": "stream",
     "text": [
      "Epoch: [769]/[1200] Training: 100%|██████████| 7/7 [00:04<00:00,  1.48it/s, loss=0.00254, train_ca=100, train_wa=1]      \n",
      "Validating: 100%|██████████| 1/1 [00:00<00:00,  1.67it/s, val_loss=0.406, val_ca=95.7, val_wa=0.791]\n"
     ]
    },
    {
     "name": "stdout",
     "output_type": "stream",
     "text": [
      "0.6154493444083421\n",
      "Validation loss decreased (0.615721 --> 0.615449).  Saving model ...\n"
     ]
    },
    {
     "name": "stderr",
     "output_type": "stream",
     "text": [
      "Epoch: [770]/[1200] Training: 100%|██████████| 7/7 [00:05<00:00,  1.37it/s, loss=3.41e-5, train_ca=100, train_wa=1]     \n",
      "Validating: 100%|██████████| 1/1 [00:00<00:00,  1.63it/s, val_loss=0.444, val_ca=95, val_wa=0.779]\n"
     ]
    },
    {
     "name": "stdout",
     "output_type": "stream",
     "text": [
      "0.6152269611704535\n",
      "Validation loss decreased (0.615449 --> 0.615227).  Saving model ...\n"
     ]
    },
    {
     "name": "stderr",
     "output_type": "stream",
     "text": [
      "Epoch: [771]/[1200] Training: 100%|██████████| 7/7 [00:05<00:00,  1.40it/s, loss=3.43e-5, train_ca=100, train_wa=1]      \n",
      "Validating: 100%|██████████| 1/1 [00:00<00:00,  1.95it/s, val_loss=0.422, val_ca=95, val_wa=0.779]\n"
     ]
    },
    {
     "name": "stdout",
     "output_type": "stream",
     "text": [
      "0.6149765211814125\n",
      "Validation loss decreased (0.615227 --> 0.614977).  Saving model ...\n"
     ]
    },
    {
     "name": "stderr",
     "output_type": "stream",
     "text": [
      "Epoch: [772]/[1200] Training: 100%|██████████| 7/7 [00:05<00:00,  1.40it/s, loss=3.06e-5, train_ca=100, train_wa=1]     \n",
      "Validating: 100%|██████████| 1/1 [00:00<00:00,  2.38it/s, val_loss=0.419, val_ca=95.6, val_wa=0.802]\n"
     ]
    },
    {
     "name": "stdout",
     "output_type": "stream",
     "text": [
      "0.6147238723452393\n",
      "Validation loss decreased (0.614977 --> 0.614724).  Saving model ...\n"
     ]
    },
    {
     "name": "stderr",
     "output_type": "stream",
     "text": [
      "Epoch: [773]/[1200] Training: 100%|██████████| 7/7 [00:05<00:00,  1.34it/s, loss=0.000234, train_ca=100, train_wa=1]     \n",
      "Validating: 100%|██████████| 1/1 [00:00<00:00,  2.42it/s, val_loss=0.437, val_ca=95.6, val_wa=0.814]\n"
     ]
    },
    {
     "name": "stdout",
     "output_type": "stream",
     "text": [
      "0.6144945085433222\n",
      "Validation loss decreased (0.614724 --> 0.614495).  Saving model ...\n"
     ]
    },
    {
     "name": "stderr",
     "output_type": "stream",
     "text": [
      "Epoch: [774]/[1200] Training: 100%|██████████| 7/7 [00:04<00:00,  1.41it/s, loss=0.000142, train_ca=100, train_wa=1]    \n",
      "Validating: 100%|██████████| 1/1 [00:00<00:00,  2.47it/s, val_loss=0.407, val_ca=96, val_wa=0.802]\n"
     ]
    },
    {
     "name": "stdout",
     "output_type": "stream",
     "text": [
      "0.614226618532053\n",
      "Validation loss decreased (0.614495 --> 0.614227).  Saving model ...\n"
     ]
    },
    {
     "name": "stderr",
     "output_type": "stream",
     "text": [
      "Epoch: [775]/[1200] Training: 100%|██████████| 7/7 [00:04<00:00,  1.47it/s, loss=4.44e-5, train_ca=100, train_wa=1]     \n",
      "Validating: 100%|██████████| 1/1 [00:00<00:00,  1.96it/s, val_loss=0.411, val_ca=95.8, val_wa=0.791]\n"
     ]
    },
    {
     "name": "stdout",
     "output_type": "stream",
     "text": [
      "0.6139644835446332\n",
      "Validation loss decreased (0.614227 --> 0.613964).  Saving model ...\n"
     ]
    },
    {
     "name": "stderr",
     "output_type": "stream",
     "text": [
      "Epoch: [776]/[1200] Training: 100%|██████████| 7/7 [00:05<00:00,  1.39it/s, loss=9.87e-5, train_ca=100, train_wa=1]      \n",
      "Validating: 100%|██████████| 1/1 [00:00<00:00,  1.66it/s, val_loss=0.409, val_ca=96, val_wa=0.814]\n"
     ]
    },
    {
     "name": "stdout",
     "output_type": "stream",
     "text": [
      "0.6137014845036602\n",
      "Validation loss decreased (0.613964 --> 0.613701).  Saving model ...\n"
     ]
    },
    {
     "name": "stderr",
     "output_type": "stream",
     "text": [
      "Epoch: [777]/[1200] Training: 100%|██████████| 7/7 [00:04<00:00,  1.47it/s, loss=0.000403, train_ca=100, train_wa=1]     \n",
      "Validating: 100%|██████████| 1/1 [00:00<00:00,  1.97it/s, val_loss=0.384, val_ca=96.3, val_wa=0.814]\n"
     ]
    },
    {
     "name": "stdout",
     "output_type": "stream",
     "text": [
      "0.6134061112100873\n",
      "Validation loss decreased (0.613701 --> 0.613406).  Saving model ...\n"
     ]
    },
    {
     "name": "stderr",
     "output_type": "stream",
     "text": [
      "Epoch: [778]/[1200] Training: 100%|██████████| 7/7 [00:05<00:00,  1.38it/s, loss=0.000107, train_ca=100, train_wa=1]     \n",
      "Validating: 100%|██████████| 1/1 [00:00<00:00,  2.43it/s, val_loss=0.366, val_ca=96.5, val_wa=0.802]\n"
     ]
    },
    {
     "name": "stdout",
     "output_type": "stream",
     "text": [
      "0.6130883529782295\n",
      "Validation loss decreased (0.613406 --> 0.613088).  Saving model ...\n"
     ]
    },
    {
     "name": "stderr",
     "output_type": "stream",
     "text": [
      "Epoch: [779]/[1200] Training: 100%|██████████| 7/7 [00:04<00:00,  1.41it/s, loss=0.0218, train_ca=97.1, train_wa=0.8]    \n",
      "Validating: 100%|██████████| 1/1 [00:00<00:00,  1.95it/s, val_loss=0.383, val_ca=96.7, val_wa=0.814]\n"
     ]
    },
    {
     "name": "stdout",
     "output_type": "stream",
     "text": [
      "0.6127932835632647\n",
      "Validation loss decreased (0.613088 --> 0.612793).  Saving model ...\n"
     ]
    },
    {
     "name": "stderr",
     "output_type": "stream",
     "text": [
      "Epoch: [780]/[1200] Training: 100%|██████████| 7/7 [00:05<00:00,  1.34it/s, loss=2.98e-5, train_ca=100, train_wa=1]    \n",
      "Validating: 100%|██████████| 1/1 [00:00<00:00,  2.44it/s, val_loss=0.389, val_ca=96.7, val_wa=0.814]\n"
     ]
    },
    {
     "name": "stdout",
     "output_type": "stream",
     "text": [
      "0.6125070456882267\n",
      "Validation loss decreased (0.612793 --> 0.612507).  Saving model ...\n"
     ]
    },
    {
     "name": "stderr",
     "output_type": "stream",
     "text": [
      "Epoch: [781]/[1200] Training: 100%|██████████| 7/7 [00:04<00:00,  1.40it/s, loss=2.86e-5, train_ca=100, train_wa=1]     \n",
      "Validating: 100%|██████████| 1/1 [00:00<00:00,  2.46it/s, val_loss=0.396, val_ca=96.7, val_wa=0.814]\n"
     ]
    },
    {
     "name": "stdout",
     "output_type": "stream",
     "text": [
      "0.6122302672948264\n",
      "Validation loss decreased (0.612507 --> 0.612230).  Saving model ...\n"
     ]
    },
    {
     "name": "stderr",
     "output_type": "stream",
     "text": [
      "Epoch: [782]/[1200] Training: 100%|██████████| 7/7 [00:05<00:00,  1.39it/s, loss=2.79e-5, train_ca=100, train_wa=1]     \n",
      "Validating: 100%|██████████| 1/1 [00:00<00:00,  2.52it/s, val_loss=0.41, val_ca=96.3, val_wa=0.802]\n"
     ]
    },
    {
     "name": "stdout",
     "output_type": "stream",
     "text": [
      "0.611972116123961\n",
      "Validation loss decreased (0.612230 --> 0.611972).  Saving model ...\n"
     ]
    },
    {
     "name": "stderr",
     "output_type": "stream",
     "text": [
      "Epoch: [783]/[1200] Training: 100%|██████████| 7/7 [00:04<00:00,  1.42it/s, loss=3.72e-5, train_ca=100, train_wa=1]     \n",
      "Validating: 100%|██████████| 1/1 [00:00<00:00,  1.64it/s, val_loss=0.418, val_ca=96.3, val_wa=0.802]\n"
     ]
    },
    {
     "name": "stdout",
     "output_type": "stream",
     "text": [
      "0.611724917789933\n",
      "Validation loss decreased (0.611972 --> 0.611725).  Saving model ...\n"
     ]
    },
    {
     "name": "stderr",
     "output_type": "stream",
     "text": [
      "Epoch: [784]/[1200] Training: 100%|██████████| 7/7 [00:05<00:00,  1.35it/s, loss=6.05e-5, train_ca=100, train_wa=1]      \n",
      "Validating: 100%|██████████| 1/1 [00:00<00:00,  2.45it/s, val_loss=0.408, val_ca=96.6, val_wa=0.814]\n"
     ]
    },
    {
     "name": "stdout",
     "output_type": "stream",
     "text": [
      "0.611465420507596\n",
      "Validation loss decreased (0.611725 --> 0.611465).  Saving model ...\n"
     ]
    },
    {
     "name": "stderr",
     "output_type": "stream",
     "text": [
      "Epoch: [785]/[1200] Training: 100%|██████████| 7/7 [00:05<00:00,  1.35it/s, loss=0.000355, train_ca=100, train_wa=1]     \n",
      "Validating: 100%|██████████| 1/1 [00:00<00:00,  2.01it/s, val_loss=0.402, val_ca=96.5, val_wa=0.814]\n"
     ]
    },
    {
     "name": "stdout",
     "output_type": "stream",
     "text": [
      "0.6111992179135658\n",
      "Validation loss decreased (0.611465 --> 0.611199).  Saving model ...\n"
     ]
    },
    {
     "name": "stderr",
     "output_type": "stream",
     "text": [
      "Epoch: [786]/[1200] Training: 100%|██████████| 7/7 [00:05<00:00,  1.36it/s, loss=0.00273, train_ca=100, train_wa=1]      \n",
      "Validating: 100%|██████████| 1/1 [00:00<00:00,  2.47it/s, val_loss=0.409, val_ca=96.5, val_wa=0.802]\n"
     ]
    },
    {
     "name": "stdout",
     "output_type": "stream",
     "text": [
      "0.6109424008784561\n",
      "Validation loss decreased (0.611199 --> 0.610942).  Saving model ...\n"
     ]
    },
    {
     "name": "stderr",
     "output_type": "stream",
     "text": [
      "Epoch: [787]/[1200] Training: 100%|██████████| 7/7 [00:04<00:00,  1.42it/s, loss=0.0012, train_ca=100, train_wa=1]       \n",
      "Validating: 100%|██████████| 1/1 [00:00<00:00,  2.48it/s, val_loss=0.411, val_ca=96, val_wa=0.802]\n"
     ]
    },
    {
     "name": "stdout",
     "output_type": "stream",
     "text": [
      "0.6106889631660568\n",
      "Validation loss decreased (0.610942 --> 0.610689).  Saving model ...\n"
     ]
    },
    {
     "name": "stderr",
     "output_type": "stream",
     "text": [
      "Epoch: [788]/[1200] Training: 100%|██████████| 7/7 [00:04<00:00,  1.48it/s, loss=0.0274, train_ca=97.1, train_wa=0.8]   \n",
      "Validating: 100%|██████████| 1/1 [00:00<00:00,  1.95it/s, val_loss=0.425, val_ca=95.5, val_wa=0.814]\n"
     ]
    },
    {
     "name": "stdout",
     "output_type": "stream",
     "text": [
      "0.61045422527609\n",
      "Validation loss decreased (0.610689 --> 0.610454).  Saving model ...\n"
     ]
    },
    {
     "name": "stderr",
     "output_type": "stream",
     "text": [
      "Epoch: [789]/[1200] Training: 100%|██████████| 7/7 [00:04<00:00,  1.48it/s, loss=7.55e-5, train_ca=100, train_wa=1]     \n",
      "Validating: 100%|██████████| 1/1 [00:00<00:00,  2.47it/s, val_loss=0.485, val_ca=94.8, val_wa=0.791]\n"
     ]
    },
    {
     "name": "stdout",
     "output_type": "stream",
     "text": [
      "0.610296223957831\n",
      "Validation loss decreased (0.610454 --> 0.610296).  Saving model ...\n"
     ]
    },
    {
     "name": "stderr",
     "output_type": "stream",
     "text": [
      "Epoch: [790]/[1200] Training: 100%|██████████| 7/7 [00:04<00:00,  1.41it/s, loss=1.08e-5, train_ca=100, train_wa=1]     \n",
      "Validating: 100%|██████████| 1/1 [00:00<00:00,  1.96it/s, val_loss=0.491, val_ca=95.5, val_wa=0.791]\n"
     ]
    },
    {
     "name": "stdout",
     "output_type": "stream",
     "text": [
      "0.6101458798905816\n",
      "Validation loss decreased (0.610296 --> 0.610146).  Saving model ...\n"
     ]
    },
    {
     "name": "stderr",
     "output_type": "stream",
     "text": [
      "Epoch: [791]/[1200] Training: 100%|██████████| 7/7 [00:04<00:00,  1.45it/s, loss=1.35e-5, train_ca=100, train_wa=1]      \n",
      "Validating: 100%|██████████| 1/1 [00:00<00:00,  1.93it/s, val_loss=0.486, val_ca=95.2, val_wa=0.779]\n"
     ]
    },
    {
     "name": "stdout",
     "output_type": "stream",
     "text": [
      "0.6099894046031813\n",
      "Validation loss decreased (0.610146 --> 0.609989).  Saving model ...\n"
     ]
    },
    {
     "name": "stderr",
     "output_type": "stream",
     "text": [
      "Epoch: [792]/[1200] Training: 100%|██████████| 7/7 [00:04<00:00,  1.46it/s, loss=7.71e-6, train_ca=100, train_wa=1]      \n",
      "Validating: 100%|██████████| 1/1 [00:00<00:00,  2.41it/s, val_loss=0.469, val_ca=95.5, val_wa=0.791]\n"
     ]
    },
    {
     "name": "stdout",
     "output_type": "stream",
     "text": [
      "0.6098118379374295\n",
      "Validation loss decreased (0.609989 --> 0.609812).  Saving model ...\n"
     ]
    },
    {
     "name": "stderr",
     "output_type": "stream",
     "text": [
      "Epoch: [793]/[1200] Training: 100%|██████████| 7/7 [00:04<00:00,  1.42it/s, loss=1.31e-5, train_ca=100, train_wa=1]      \n",
      "Validating: 100%|██████████| 1/1 [00:00<00:00,  1.96it/s, val_loss=0.465, val_ca=95.7, val_wa=0.791]\n"
     ]
    },
    {
     "name": "stdout",
     "output_type": "stream",
     "text": [
      "0.6096292670792753\n",
      "Validation loss decreased (0.609812 --> 0.609629).  Saving model ...\n"
     ]
    },
    {
     "name": "stderr",
     "output_type": "stream",
     "text": [
      "Epoch: [794]/[1200] Training: 100%|██████████| 7/7 [00:04<00:00,  1.42it/s, loss=0.0106, train_ca=100, train_wa=1]       \n",
      "Validating: 100%|██████████| 1/1 [00:00<00:00,  2.50it/s, val_loss=0.487, val_ca=95.3, val_wa=0.779]\n"
     ]
    },
    {
     "name": "stdout",
     "output_type": "stream",
     "text": [
      "0.6094748648117535\n",
      "Validation loss decreased (0.609629 --> 0.609475).  Saving model ...\n"
     ]
    },
    {
     "name": "stderr",
     "output_type": "stream",
     "text": [
      "Epoch: [795]/[1200] Training: 100%|██████████| 7/7 [00:04<00:00,  1.41it/s, loss=0.000949, train_ca=100, train_wa=1]     \n",
      "Validating: 100%|██████████| 1/1 [00:00<00:00,  2.45it/s, val_loss=0.496, val_ca=95.1, val_wa=0.756]\n"
     ]
    },
    {
     "name": "stdout",
     "output_type": "stream",
     "text": [
      "0.6093322412207853\n",
      "Validation loss decreased (0.609475 --> 0.609332).  Saving model ...\n"
     ]
    },
    {
     "name": "stderr",
     "output_type": "stream",
     "text": [
      "Epoch: [796]/[1200] Training: 100%|██████████| 7/7 [00:05<00:00,  1.36it/s, loss=3.15e-5, train_ca=100, train_wa=1]      \n",
      "Validating: 100%|██████████| 1/1 [00:00<00:00,  2.50it/s, val_loss=0.427, val_ca=95.8, val_wa=0.791]\n"
     ]
    },
    {
     "name": "stdout",
     "output_type": "stream",
     "text": [
      "0.6091036042175197\n",
      "Validation loss decreased (0.609332 --> 0.609104).  Saving model ...\n"
     ]
    },
    {
     "name": "stderr",
     "output_type": "stream",
     "text": [
      "Epoch: [797]/[1200] Training: 100%|██████████| 7/7 [00:05<00:00,  1.36it/s, loss=1.03e-5, train_ca=100, train_wa=1]      \n",
      "Validating: 100%|██████████| 1/1 [00:00<00:00,  3.33it/s, val_loss=0.416, val_ca=96.1, val_wa=0.791]\n"
     ]
    },
    {
     "name": "stdout",
     "output_type": "stream",
     "text": [
      "0.608862159622178\n",
      "Validation loss decreased (0.609104 --> 0.608862).  Saving model ...\n"
     ]
    },
    {
     "name": "stderr",
     "output_type": "stream",
     "text": [
      "Epoch: [798]/[1200] Training: 100%|██████████| 7/7 [00:04<00:00,  1.45it/s, loss=5.16e-5, train_ca=100, train_wa=1]     \n",
      "Validating: 100%|██████████| 1/1 [00:00<00:00,  1.66it/s, val_loss=0.422, val_ca=95.6, val_wa=0.802]\n"
     ]
    },
    {
     "name": "stdout",
     "output_type": "stream",
     "text": [
      "0.6086280986666679\n",
      "Validation loss decreased (0.608862 --> 0.608628).  Saving model ...\n"
     ]
    },
    {
     "name": "stderr",
     "output_type": "stream",
     "text": [
      "Epoch: [799]/[1200] Training: 100%|██████████| 7/7 [00:05<00:00,  1.37it/s, loss=8.83e-5, train_ca=100, train_wa=1]    \n",
      "Validating: 100%|██████████| 1/1 [00:00<00:00,  1.92it/s, val_loss=0.442, val_ca=96, val_wa=0.826]\n"
     ]
    },
    {
     "name": "stdout",
     "output_type": "stream",
     "text": [
      "0.6084195218059454\n",
      "Validation loss decreased (0.608628 --> 0.608420).  Saving model ...\n"
     ]
    },
    {
     "name": "stderr",
     "output_type": "stream",
     "text": [
      "Epoch: [800]/[1200] Training: 100%|██████████| 7/7 [00:04<00:00,  1.42it/s, loss=1.05e-5, train_ca=100, train_wa=1]     \n",
      "Validating: 100%|██████████| 1/1 [00:00<00:00,  1.99it/s, val_loss=0.446, val_ca=96, val_wa=0.826]\n"
     ]
    },
    {
     "name": "stdout",
     "output_type": "stream",
     "text": [
      "0.6082164146136168\n",
      "Validation loss decreased (0.608420 --> 0.608216).  Saving model ...\n"
     ]
    },
    {
     "name": "stderr",
     "output_type": "stream",
     "text": [
      "Epoch: [801]/[1200] Training: 100%|██████████| 7/7 [00:05<00:00,  1.30it/s, loss=9.95e-6, train_ca=100, train_wa=1]      \n",
      "Validating: 100%|██████████| 1/1 [00:00<00:00,  1.98it/s, val_loss=0.455, val_ca=96.3, val_wa=0.826]\n"
     ]
    },
    {
     "name": "stdout",
     "output_type": "stream",
     "text": [
      "0.6080252676274381\n",
      "Validation loss decreased (0.608216 --> 0.608025).  Saving model ...\n"
     ]
    },
    {
     "name": "stderr",
     "output_type": "stream",
     "text": [
      "Epoch: [802]/[1200] Training: 100%|██████████| 7/7 [00:05<00:00,  1.37it/s, loss=3.77e-5, train_ca=100, train_wa=1]     \n",
      "Validating: 100%|██████████| 1/1 [00:00<00:00,  3.32it/s, val_loss=0.459, val_ca=96.7, val_wa=0.826]\n"
     ]
    },
    {
     "name": "stdout",
     "output_type": "stream",
     "text": [
      "0.6078402119785992\n",
      "Validation loss decreased (0.608025 --> 0.607840).  Saving model ...\n"
     ]
    },
    {
     "name": "stderr",
     "output_type": "stream",
     "text": [
      "Epoch: [803]/[1200] Training: 100%|██████████| 7/7 [00:04<00:00,  1.44it/s, loss=1.77e-5, train_ca=100, train_wa=1]     \n",
      "Validating: 100%|██████████| 1/1 [00:00<00:00,  2.42it/s, val_loss=0.462, val_ca=96.5, val_wa=0.814]\n"
     ]
    },
    {
     "name": "stdout",
     "output_type": "stream",
     "text": [
      "0.6076592132541704\n",
      "Validation loss decreased (0.607840 --> 0.607659).  Saving model ...\n"
     ]
    },
    {
     "name": "stderr",
     "output_type": "stream",
     "text": [
      "Epoch: [804]/[1200] Training: 100%|██████████| 7/7 [00:04<00:00,  1.41it/s, loss=0.000844, train_ca=100, train_wa=1]     \n",
      "Validating: 100%|██████████| 1/1 [00:00<00:00,  1.68it/s, val_loss=0.472, val_ca=96, val_wa=0.802]\n"
     ]
    },
    {
     "name": "stdout",
     "output_type": "stream",
     "text": [
      "0.6074905049786082\n",
      "Validation loss decreased (0.607659 --> 0.607491).  Saving model ...\n"
     ]
    },
    {
     "name": "stderr",
     "output_type": "stream",
     "text": [
      "Epoch: [805]/[1200] Training: 100%|██████████| 7/7 [00:05<00:00,  1.33it/s, loss=0.00347, train_ca=100, train_wa=1]      \n",
      "Validating: 100%|██████████| 1/1 [00:00<00:00,  1.90it/s, val_loss=0.499, val_ca=95.3, val_wa=0.791]\n"
     ]
    },
    {
     "name": "stdout",
     "output_type": "stream",
     "text": [
      "0.607355721045604\n",
      "Validation loss decreased (0.607491 --> 0.607356).  Saving model ...\n"
     ]
    },
    {
     "name": "stderr",
     "output_type": "stream",
     "text": [
      "Epoch: [806]/[1200] Training: 100%|██████████| 7/7 [00:04<00:00,  1.43it/s, loss=0.00251, train_ca=100, train_wa=1]     \n",
      "Validating: 100%|██████████| 1/1 [00:00<00:00,  1.99it/s, val_loss=0.542, val_ca=95.1, val_wa=0.756]\n"
     ]
    },
    {
     "name": "stdout",
     "output_type": "stream",
     "text": [
      "0.6072750181181006\n",
      "Validation loss decreased (0.607356 --> 0.607275).  Saving model ...\n"
     ]
    },
    {
     "name": "stderr",
     "output_type": "stream",
     "text": [
      "Epoch: [807]/[1200] Training: 100%|██████████| 7/7 [00:04<00:00,  1.40it/s, loss=0.00589, train_ca=100, train_wa=1]     \n",
      "Validating: 100%|██████████| 1/1 [00:00<00:00,  1.63it/s, val_loss=0.617, val_ca=93.4, val_wa=0.698]\n"
     ]
    },
    {
     "name": "stdout",
     "output_type": "stream",
     "text": [
      "0.6072869447827781\n",
      "EarlyStopping counter: (-0.607275 1 out of 15)\n"
     ]
    },
    {
     "name": "stderr",
     "output_type": "stream",
     "text": [
      "Epoch: [808]/[1200] Training: 100%|██████████| 7/7 [00:05<00:00,  1.28it/s, loss=0.00128, train_ca=100, train_wa=1]      \n",
      "Validating: 100%|██████████| 1/1 [00:00<00:00,  1.97it/s, val_loss=0.574, val_ca=93.6, val_wa=0.698]\n"
     ]
    },
    {
     "name": "stdout",
     "output_type": "stream",
     "text": [
      "0.6072458422110405\n",
      "Validation loss decreased (0.607275 --> 0.607246).  Saving model ...\n"
     ]
    },
    {
     "name": "stderr",
     "output_type": "stream",
     "text": [
      "Epoch: [809]/[1200] Training: 100%|██████████| 7/7 [00:05<00:00,  1.39it/s, loss=3.08e-5, train_ca=100, train_wa=1]     \n",
      "Validating: 100%|██████████| 1/1 [00:00<00:00,  2.02it/s, val_loss=0.498, val_ca=94, val_wa=0.709]\n"
     ]
    },
    {
     "name": "stdout",
     "output_type": "stream",
     "text": [
      "0.6071107765308291\n",
      "Validation loss decreased (0.607246 --> 0.607111).  Saving model ...\n"
     ]
    },
    {
     "name": "stderr",
     "output_type": "stream",
     "text": [
      "Epoch: [810]/[1200] Training: 100%|██████████| 7/7 [00:04<00:00,  1.43it/s, loss=0.000456, train_ca=100, train_wa=1]    \n",
      "Validating: 100%|██████████| 1/1 [00:00<00:00,  2.41it/s, val_loss=0.744, val_ca=92.6, val_wa=0.64]\n"
     ]
    },
    {
     "name": "stdout",
     "output_type": "stream",
     "text": [
      "0.6072796002544206\n",
      "EarlyStopping counter: (-0.607111 1 out of 15)\n"
     ]
    },
    {
     "name": "stderr",
     "output_type": "stream",
     "text": [
      "Epoch: [811]/[1200] Training: 100%|██████████| 7/7 [00:05<00:00,  1.38it/s, loss=0.00207, train_ca=100, train_wa=1]     \n",
      "Validating: 100%|██████████| 1/1 [00:00<00:00,  2.41it/s, val_loss=0.487, val_ca=95.1, val_wa=0.756]\n"
     ]
    },
    {
     "name": "stdout",
     "output_type": "stream",
     "text": [
      "0.6071313952094661\n",
      "EarlyStopping counter: (-0.607111 2 out of 15)\n"
     ]
    },
    {
     "name": "stderr",
     "output_type": "stream",
     "text": [
      "Epoch: [812]/[1200] Training: 100%|██████████| 7/7 [00:05<00:00,  1.33it/s, loss=0.146, train_ca=97.1, train_wa=0.8]    \n",
      "Validating: 100%|██████████| 1/1 [00:00<00:00,  2.00it/s, val_loss=0.533, val_ca=94.5, val_wa=0.756]\n"
     ]
    },
    {
     "name": "stdout",
     "output_type": "stream",
     "text": [
      "0.6070408448027744\n",
      "Validation loss decreased (0.607111 --> 0.607041).  Saving model ...\n"
     ]
    },
    {
     "name": "stderr",
     "output_type": "stream",
     "text": [
      "Epoch: [813]/[1200] Training: 100%|██████████| 7/7 [00:04<00:00,  1.42it/s, loss=0.0679, train_ca=97.1, train_wa=0.8]   \n",
      "Validating: 100%|██████████| 1/1 [00:00<00:00,  1.66it/s, val_loss=0.5, val_ca=94.7, val_wa=0.744]\n"
     ]
    },
    {
     "name": "stdout",
     "output_type": "stream",
     "text": [
      "0.6069095423250842\n",
      "Validation loss decreased (0.607041 --> 0.606910).  Saving model ...\n"
     ]
    },
    {
     "name": "stderr",
     "output_type": "stream",
     "text": [
      "Epoch: [814]/[1200] Training: 100%|██████████| 7/7 [00:05<00:00,  1.32it/s, loss=0.0105, train_ca=100, train_wa=1]      \n",
      "Validating: 100%|██████████| 1/1 [00:00<00:00,  2.41it/s, val_loss=0.533, val_ca=94.2, val_wa=0.721]\n"
     ]
    },
    {
     "name": "stdout",
     "output_type": "stream",
     "text": [
      "0.6068193996142522\n",
      "Validation loss decreased (0.606910 --> 0.606819).  Saving model ...\n"
     ]
    },
    {
     "name": "stderr",
     "output_type": "stream",
     "text": [
      "Epoch: [815]/[1200] Training: 100%|██████████| 7/7 [00:05<00:00,  1.38it/s, loss=0.000753, train_ca=100, train_wa=1]    \n",
      "Validating: 100%|██████████| 1/1 [00:00<00:00,  1.64it/s, val_loss=0.413, val_ca=94, val_wa=0.709]\n"
     ]
    },
    {
     "name": "stdout",
     "output_type": "stream",
     "text": [
      "0.6065818886278309\n",
      "Validation loss decreased (0.606819 --> 0.606582).  Saving model ...\n"
     ]
    },
    {
     "name": "stderr",
     "output_type": "stream",
     "text": [
      "Epoch: [816]/[1200] Training: 100%|██████████| 7/7 [00:04<00:00,  1.53it/s, loss=0.0037, train_ca=100, train_wa=1]      \n",
      "Validating: 100%|██████████| 1/1 [00:00<00:00,  1.42it/s, val_loss=0.995, val_ca=87.4, val_wa=0.465]\n"
     ]
    },
    {
     "name": "stdout",
     "output_type": "stream",
     "text": [
      "0.6070563168718063\n",
      "EarlyStopping counter: (-0.606582 1 out of 15)\n"
     ]
    },
    {
     "name": "stderr",
     "output_type": "stream",
     "text": [
      "Epoch: [817]/[1200] Training: 100%|██████████| 7/7 [00:05<00:00,  1.32it/s, loss=0.000198, train_ca=100, train_wa=1]    \n",
      "Validating: 100%|██████████| 1/1 [00:00<00:00,  1.98it/s, val_loss=0.434, val_ca=94.6, val_wa=0.744]\n"
     ]
    },
    {
     "name": "stdout",
     "output_type": "stream",
     "text": [
      "0.6068454536180647\n",
      "EarlyStopping counter: (-0.606582 2 out of 15)\n"
     ]
    },
    {
     "name": "stderr",
     "output_type": "stream",
     "text": [
      "Epoch: [818]/[1200] Training: 100%|██████████| 7/7 [00:05<00:00,  1.35it/s, loss=0.0577, train_ca=97.1, train_wa=0.8]   \n",
      "Validating: 100%|██████████| 1/1 [00:00<00:00,  1.97it/s, val_loss=0.575, val_ca=93.4, val_wa=0.686]\n"
     ]
    },
    {
     "name": "stdout",
     "output_type": "stream",
     "text": [
      "0.6068070909598978\n",
      "EarlyStopping counter: (-0.606582 3 out of 15)\n"
     ]
    },
    {
     "name": "stderr",
     "output_type": "stream",
     "text": [
      "Epoch: [819]/[1200] Training: 100%|██████████| 7/7 [00:04<00:00,  1.43it/s, loss=0.000233, train_ca=100, train_wa=1]    \n",
      "Validating: 100%|██████████| 1/1 [00:00<00:00,  1.97it/s, val_loss=0.412, val_ca=94.5, val_wa=0.756]\n"
     ]
    },
    {
     "name": "stdout",
     "output_type": "stream",
     "text": [
      "0.6065702647442649\n",
      "Validation loss decreased (0.606582 --> 0.606570).  Saving model ...\n"
     ]
    },
    {
     "name": "stderr",
     "output_type": "stream",
     "text": [
      "Epoch: [820]/[1200] Training: 100%|██████████| 7/7 [00:05<00:00,  1.34it/s, loss=3.86e-5, train_ca=100, train_wa=1]     \n",
      "Validating: 100%|██████████| 1/1 [00:00<00:00,  1.96it/s, val_loss=0.413, val_ca=95.3, val_wa=0.779]\n"
     ]
    },
    {
     "name": "stdout",
     "output_type": "stream",
     "text": [
      "0.6063343192974147\n",
      "Validation loss decreased (0.606570 --> 0.606334).  Saving model ...\n"
     ]
    },
    {
     "name": "stderr",
     "output_type": "stream",
     "text": [
      "Epoch: [821]/[1200] Training: 100%|██████████| 7/7 [00:05<00:00,  1.34it/s, loss=7.03e-5, train_ca=100, train_wa=1]      \n",
      "Validating: 100%|██████████| 1/1 [00:00<00:00,  1.41it/s, val_loss=0.377, val_ca=95.5, val_wa=0.779]\n"
     ]
    },
    {
     "name": "stdout",
     "output_type": "stream",
     "text": [
      "0.6060554667999504\n",
      "Validation loss decreased (0.606334 --> 0.606055).  Saving model ...\n"
     ]
    },
    {
     "name": "stderr",
     "output_type": "stream",
     "text": [
      "Epoch: [822]/[1200] Training: 100%|██████████| 7/7 [00:05<00:00,  1.37it/s, loss=2.49e-5, train_ca=100, train_wa=1]     \n",
      "Validating: 100%|██████████| 1/1 [00:00<00:00,  2.44it/s, val_loss=0.419, val_ca=95.5, val_wa=0.791]\n"
     ]
    },
    {
     "name": "stdout",
     "output_type": "stream",
     "text": [
      "0.6058288235398173\n",
      "Validation loss decreased (0.606055 --> 0.605829).  Saving model ...\n"
     ]
    },
    {
     "name": "stderr",
     "output_type": "stream",
     "text": [
      "Epoch: [823]/[1200] Training: 100%|██████████| 7/7 [00:05<00:00,  1.37it/s, loss=9.88e-5, train_ca=100, train_wa=1]     \n",
      "Validating: 100%|██████████| 1/1 [00:00<00:00,  2.41it/s, val_loss=0.428, val_ca=95.8, val_wa=0.802]\n"
     ]
    },
    {
     "name": "stdout",
     "output_type": "stream",
     "text": [
      "0.6056136012799812\n",
      "Validation loss decreased (0.605829 --> 0.605614).  Saving model ...\n"
     ]
    },
    {
     "name": "stderr",
     "output_type": "stream",
     "text": [
      "Epoch: [824]/[1200] Training: 100%|██████████| 7/7 [00:05<00:00,  1.33it/s, loss=0.000113, train_ca=100, train_wa=1]    \n",
      "Validating: 100%|██████████| 1/1 [00:00<00:00,  1.98it/s, val_loss=0.35, val_ca=96.3, val_wa=0.814]\n"
     ]
    },
    {
     "name": "stdout",
     "output_type": "stream",
     "text": [
      "0.6053040909059977\n",
      "Validation loss decreased (0.605614 --> 0.605304).  Saving model ...\n"
     ]
    },
    {
     "name": "stderr",
     "output_type": "stream",
     "text": [
      "Epoch: [825]/[1200] Training: 100%|██████████| 7/7 [00:05<00:00,  1.38it/s, loss=0.000128, train_ca=100, train_wa=1]    \n",
      "Validating: 100%|██████████| 1/1 [00:00<00:00,  1.97it/s, val_loss=0.335, val_ca=96.7, val_wa=0.849]\n"
     ]
    },
    {
     "name": "stdout",
     "output_type": "stream",
     "text": [
      "0.6049768429929717\n",
      "Validation loss decreased (0.605304 --> 0.604977).  Saving model ...\n"
     ]
    },
    {
     "name": "stderr",
     "output_type": "stream",
     "text": [
      "Epoch: [826]/[1200] Training: 100%|██████████| 7/7 [00:04<00:00,  1.43it/s, loss=0.021, train_ca=97.1, train_wa=0.8]    \n",
      "Validating: 100%|██████████| 1/1 [00:00<00:00,  1.65it/s, val_loss=0.341, val_ca=96.3, val_wa=0.837]\n"
     ]
    },
    {
     "name": "stdout",
     "output_type": "stream",
     "text": [
      "0.6046583989392156\n",
      "Validation loss decreased (0.604977 --> 0.604658).  Saving model ...\n"
     ]
    },
    {
     "name": "stderr",
     "output_type": "stream",
     "text": [
      "Epoch: [827]/[1200] Training: 100%|██████████| 7/7 [00:05<00:00,  1.40it/s, loss=6.78e-5, train_ca=100, train_wa=1]     \n",
      "Validating: 100%|██████████| 1/1 [00:00<00:00,  1.93it/s, val_loss=0.335, val_ca=96.8, val_wa=0.86]\n"
     ]
    },
    {
     "name": "stdout",
     "output_type": "stream",
     "text": [
      "0.6043336896542617\n",
      "Validation loss decreased (0.604658 --> 0.604334).  Saving model ...\n"
     ]
    },
    {
     "name": "stderr",
     "output_type": "stream",
     "text": [
      "Epoch: [828]/[1200] Training: 100%|██████████| 7/7 [00:04<00:00,  1.42it/s, loss=0.00889, train_ca=100, train_wa=1]     \n",
      "Validating: 100%|██████████| 1/1 [00:00<00:00,  1.97it/s, val_loss=0.329, val_ca=96.7, val_wa=0.837]\n"
     ]
    },
    {
     "name": "stdout",
     "output_type": "stream",
     "text": [
      "0.6040019086326461\n",
      "Validation loss decreased (0.604334 --> 0.604002).  Saving model ...\n"
     ]
    },
    {
     "name": "stderr",
     "output_type": "stream",
     "text": [
      "Epoch: [829]/[1200] Training: 100%|██████████| 7/7 [00:05<00:00,  1.34it/s, loss=0.000148, train_ca=100, train_wa=1]    \n",
      "Validating: 100%|██████████| 1/1 [00:00<00:00,  1.97it/s, val_loss=0.354, val_ca=96.1, val_wa=0.826]\n"
     ]
    },
    {
     "name": "stdout",
     "output_type": "stream",
     "text": [
      "0.603701543757775\n",
      "Validation loss decreased (0.604002 --> 0.603702).  Saving model ...\n"
     ]
    },
    {
     "name": "stderr",
     "output_type": "stream",
     "text": [
      "Epoch: [830]/[1200] Training: 100%|██████████| 7/7 [00:04<00:00,  1.43it/s, loss=0.000116, train_ca=100, train_wa=1]    \n",
      "Validating: 100%|██████████| 1/1 [00:00<00:00,  1.93it/s, val_loss=0.347, val_ca=96.5, val_wa=0.837]\n"
     ]
    },
    {
     "name": "stdout",
     "output_type": "stream",
     "text": [
      "0.6033927152792995\n",
      "Validation loss decreased (0.603702 --> 0.603393).  Saving model ...\n"
     ]
    },
    {
     "name": "stderr",
     "output_type": "stream",
     "text": [
      "Epoch: [831]/[1200] Training: 100%|██████████| 7/7 [00:04<00:00,  1.41it/s, loss=0.00028, train_ca=100, train_wa=1]     \n",
      "Validating: 100%|██████████| 1/1 [00:00<00:00,  1.96it/s, val_loss=0.375, val_ca=96.3, val_wa=0.837]\n"
     ]
    },
    {
     "name": "stdout",
     "output_type": "stream",
     "text": [
      "0.6031186916604906\n",
      "Validation loss decreased (0.603393 --> 0.603119).  Saving model ...\n"
     ]
    },
    {
     "name": "stderr",
     "output_type": "stream",
     "text": [
      "Epoch: [832]/[1200] Training: 100%|██████████| 7/7 [00:05<00:00,  1.36it/s, loss=4.16e-5, train_ca=100, train_wa=1]      \n",
      "Validating: 100%|██████████| 1/1 [00:00<00:00,  1.95it/s, val_loss=0.335, val_ca=96.5, val_wa=0.837]\n"
     ]
    },
    {
     "name": "stdout",
     "output_type": "stream",
     "text": [
      "0.6027972875453299\n",
      "Validation loss decreased (0.603119 --> 0.602797).  Saving model ...\n"
     ]
    },
    {
     "name": "stderr",
     "output_type": "stream",
     "text": [
      "Epoch: [833]/[1200] Training: 100%|██████████| 7/7 [00:04<00:00,  1.64it/s, loss=5.47e-5, train_ca=100, train_wa=1]     \n",
      "Validating: 100%|██████████| 1/1 [00:00<00:00,  2.43it/s, val_loss=0.328, val_ca=96.8, val_wa=0.849]\n"
     ]
    },
    {
     "name": "stdout",
     "output_type": "stream",
     "text": [
      "0.6024686451443655\n",
      "Validation loss decreased (0.602797 --> 0.602469).  Saving model ...\n"
     ]
    },
    {
     "name": "stderr",
     "output_type": "stream",
     "text": [
      "Epoch: [834]/[1200] Training: 100%|██████████| 7/7 [00:04<00:00,  1.44it/s, loss=0.00095, train_ca=100, train_wa=1]      \n",
      "Validating: 100%|██████████| 1/1 [00:00<00:00,  1.69it/s, val_loss=0.313, val_ca=96.6, val_wa=0.849]\n"
     ]
    },
    {
     "name": "stdout",
     "output_type": "stream",
     "text": [
      "0.6021226227069586\n",
      "Validation loss decreased (0.602469 --> 0.602123).  Saving model ...\n"
     ]
    },
    {
     "name": "stderr",
     "output_type": "stream",
     "text": [
      "Epoch: [835]/[1200] Training: 100%|██████████| 7/7 [00:04<00:00,  1.47it/s, loss=0.000511, train_ca=100, train_wa=1]    \n",
      "Validating: 100%|██████████| 1/1 [00:00<00:00,  2.41it/s, val_loss=0.29, val_ca=96.9, val_wa=0.86]\n"
     ]
    },
    {
     "name": "stdout",
     "output_type": "stream",
     "text": [
      "0.6017497140233234\n",
      "Validation loss decreased (0.602123 --> 0.601750).  Saving model ...\n"
     ]
    },
    {
     "name": "stderr",
     "output_type": "stream",
     "text": [
      "Epoch: [836]/[1200] Training: 100%|██████████| 7/7 [00:04<00:00,  1.41it/s, loss=3.77e-5, train_ca=100, train_wa=1]     \n",
      "Validating: 100%|██████████| 1/1 [00:00<00:00,  2.40it/s, val_loss=0.298, val_ca=96.6, val_wa=0.826]\n"
     ]
    },
    {
     "name": "stdout",
     "output_type": "stream",
     "text": [
      "0.6013866800966012\n",
      "Validation loss decreased (0.601750 --> 0.601387).  Saving model ...\n"
     ]
    },
    {
     "name": "stderr",
     "output_type": "stream",
     "text": [
      "Epoch: [837]/[1200] Training: 100%|██████████| 7/7 [00:05<00:00,  1.36it/s, loss=0.000416, train_ca=100, train_wa=1]    \n",
      "Validating: 100%|██████████| 1/1 [00:00<00:00,  1.94it/s, val_loss=0.293, val_ca=97.3, val_wa=0.872]\n"
     ]
    },
    {
     "name": "stdout",
     "output_type": "stream",
     "text": [
      "0.6010190450250037\n",
      "Validation loss decreased (0.601387 --> 0.601019).  Saving model ...\n"
     ]
    },
    {
     "name": "stderr",
     "output_type": "stream",
     "text": [
      "Epoch: [838]/[1200] Training: 100%|██████████| 7/7 [00:05<00:00,  1.36it/s, loss=0.00553, train_ca=100, train_wa=1]     \n",
      "Validating: 100%|██████████| 1/1 [00:00<00:00,  2.44it/s, val_loss=0.349, val_ca=96.5, val_wa=0.814]\n"
     ]
    },
    {
     "name": "stdout",
     "output_type": "stream",
     "text": [
      "0.6007190359845048\n",
      "Validation loss decreased (0.601019 --> 0.600719).  Saving model ...\n"
     ]
    },
    {
     "name": "stderr",
     "output_type": "stream",
     "text": [
      "Epoch: [839]/[1200] Training: 100%|██████████| 7/7 [00:05<00:00,  1.38it/s, loss=7.71e-5, train_ca=100, train_wa=1]     \n",
      "Validating: 100%|██████████| 1/1 [00:00<00:00,  1.93it/s, val_loss=0.379, val_ca=96.9, val_wa=0.849]\n"
     ]
    },
    {
     "name": "stdout",
     "output_type": "stream",
     "text": [
      "0.6004559160271099\n",
      "Validation loss decreased (0.600719 --> 0.600456).  Saving model ...\n"
     ]
    },
    {
     "name": "stderr",
     "output_type": "stream",
     "text": [
      "Epoch: [840]/[1200] Training: 100%|██████████| 7/7 [00:04<00:00,  1.45it/s, loss=0.000295, train_ca=100, train_wa=1]    \n",
      "Validating: 100%|██████████| 1/1 [00:00<00:00,  2.45it/s, val_loss=0.375, val_ca=96.9, val_wa=0.849]\n"
     ]
    },
    {
     "name": "stdout",
     "output_type": "stream",
     "text": [
      "0.600188636121444\n",
      "Validation loss decreased (0.600456 --> 0.600189).  Saving model ...\n"
     ]
    },
    {
     "name": "stderr",
     "output_type": "stream",
     "text": [
      "Epoch: [841]/[1200] Training: 100%|██████████| 7/7 [00:05<00:00,  1.31it/s, loss=1.83e-5, train_ca=100, train_wa=1]      \n",
      "Validating: 100%|██████████| 1/1 [00:00<00:00,  1.96it/s, val_loss=0.391, val_ca=96.8, val_wa=0.837]\n"
     ]
    },
    {
     "name": "stdout",
     "output_type": "stream",
     "text": [
      "0.599940576728694\n",
      "Validation loss decreased (0.600189 --> 0.599941).  Saving model ...\n"
     ]
    },
    {
     "name": "stderr",
     "output_type": "stream",
     "text": [
      "Epoch: [842]/[1200] Training: 100%|██████████| 7/7 [00:05<00:00,  1.35it/s, loss=1.69e-5, train_ca=100, train_wa=1]     \n",
      "Validating: 100%|██████████| 1/1 [00:00<00:00,  1.99it/s, val_loss=0.495, val_ca=95.2, val_wa=0.779]\n"
     ]
    },
    {
     "name": "stdout",
     "output_type": "stream",
     "text": [
      "0.5998159403343336\n",
      "Validation loss decreased (0.599941 --> 0.599816).  Saving model ...\n"
     ]
    },
    {
     "name": "stderr",
     "output_type": "stream",
     "text": [
      "Epoch: [843]/[1200] Training: 100%|██████████| 7/7 [00:04<00:00,  1.51it/s, loss=6.09e-5, train_ca=100, train_wa=1]     \n",
      "Validating: 100%|██████████| 1/1 [00:00<00:00,  1.63it/s, val_loss=0.487, val_ca=95.3, val_wa=0.791]\n"
     ]
    },
    {
     "name": "stdout",
     "output_type": "stream",
     "text": [
      "0.5996821518127735\n",
      "Validation loss decreased (0.599816 --> 0.599682).  Saving model ...\n"
     ]
    },
    {
     "name": "stderr",
     "output_type": "stream",
     "text": [
      "Epoch: [844]/[1200] Training: 100%|██████████| 7/7 [00:04<00:00,  1.41it/s, loss=4.1e-5, train_ca=100, train_wa=1]      \n",
      "Validating: 100%|██████████| 1/1 [00:00<00:00,  2.43it/s, val_loss=0.402, val_ca=95.3, val_wa=0.779]\n"
     ]
    },
    {
     "name": "stdout",
     "output_type": "stream",
     "text": [
      "0.5994479462821433\n",
      "Validation loss decreased (0.599682 --> 0.599448).  Saving model ...\n"
     ]
    },
    {
     "name": "stderr",
     "output_type": "stream",
     "text": [
      "Epoch: [845]/[1200] Training: 100%|██████████| 7/7 [00:04<00:00,  1.47it/s, loss=4.47e-5, train_ca=100, train_wa=1]     \n",
      "Validating: 100%|██████████| 1/1 [00:00<00:00,  1.96it/s, val_loss=0.422, val_ca=95.7, val_wa=0.802]\n"
     ]
    },
    {
     "name": "stdout",
     "output_type": "stream",
     "text": [
      "0.5992382030841733\n",
      "Validation loss decreased (0.599448 --> 0.599238).  Saving model ...\n"
     ]
    },
    {
     "name": "stderr",
     "output_type": "stream",
     "text": [
      "Epoch: [846]/[1200] Training: 100%|██████████| 7/7 [00:04<00:00,  1.44it/s, loss=0.000213, train_ca=100, train_wa=1]    \n",
      "Validating: 100%|██████████| 1/1 [00:00<00:00,  1.95it/s, val_loss=0.361, val_ca=96.6, val_wa=0.837]\n"
     ]
    },
    {
     "name": "stdout",
     "output_type": "stream",
     "text": [
      "0.5989570086646192\n",
      "Validation loss decreased (0.599238 --> 0.598957).  Saving model ...\n"
     ]
    },
    {
     "name": "stderr",
     "output_type": "stream",
     "text": [
      "Epoch: [847]/[1200] Training: 100%|██████████| 7/7 [00:04<00:00,  1.47it/s, loss=6.04e-5, train_ca=100, train_wa=1]     \n",
      "Validating: 100%|██████████| 1/1 [00:00<00:00,  1.95it/s, val_loss=0.345, val_ca=97.1, val_wa=0.86]\n"
     ]
    },
    {
     "name": "stdout",
     "output_type": "stream",
     "text": [
      "0.5986581506872346\n",
      "Validation loss decreased (0.598957 --> 0.598658).  Saving model ...\n"
     ]
    },
    {
     "name": "stderr",
     "output_type": "stream",
     "text": [
      "Epoch: [848]/[1200] Training: 100%|██████████| 7/7 [00:04<00:00,  1.47it/s, loss=1.53e-5, train_ca=100, train_wa=1]      \n",
      "Validating: 100%|██████████| 1/1 [00:00<00:00,  2.45it/s, val_loss=0.39, val_ca=96.3, val_wa=0.849]\n"
     ]
    },
    {
     "name": "stdout",
     "output_type": "stream",
     "text": [
      "0.5984131757652058\n",
      "Validation loss decreased (0.598658 --> 0.598413).  Saving model ...\n"
     ]
    },
    {
     "name": "stderr",
     "output_type": "stream",
     "text": [
      "Epoch: [849]/[1200] Training: 100%|██████████| 7/7 [00:04<00:00,  1.44it/s, loss=1.64e-5, train_ca=100, train_wa=1]      \n",
      "Validating: 100%|██████████| 1/1 [00:00<00:00,  1.99it/s, val_loss=0.355, val_ca=96.6, val_wa=0.849]\n"
     ]
    },
    {
     "name": "stdout",
     "output_type": "stream",
     "text": [
      "0.5981269114586217\n",
      "Validation loss decreased (0.598413 --> 0.598127).  Saving model ...\n"
     ]
    },
    {
     "name": "stderr",
     "output_type": "stream",
     "text": [
      "Epoch: [850]/[1200] Training: 100%|██████████| 7/7 [00:05<00:00,  1.38it/s, loss=1.55e-5, train_ca=100, train_wa=1]      \n",
      "Validating: 100%|██████████| 1/1 [00:00<00:00,  2.02it/s, val_loss=0.35, val_ca=96.6, val_wa=0.826]\n"
     ]
    },
    {
     "name": "stdout",
     "output_type": "stream",
     "text": [
      "0.5978352118965605\n",
      "Validation loss decreased (0.598127 --> 0.597835).  Saving model ...\n"
     ]
    },
    {
     "name": "stderr",
     "output_type": "stream",
     "text": [
      "Epoch: [851]/[1200] Training: 100%|██████████| 7/7 [00:05<00:00,  1.38it/s, loss=2.06e-5, train_ca=100, train_wa=1]      \n",
      "Validating: 100%|██████████| 1/1 [00:00<00:00,  1.97it/s, val_loss=0.376, val_ca=96.3, val_wa=0.826]\n"
     ]
    },
    {
     "name": "stdout",
     "output_type": "stream",
     "text": [
      "0.5975745754951889\n",
      "Validation loss decreased (0.597835 --> 0.597575).  Saving model ...\n"
     ]
    },
    {
     "name": "stderr",
     "output_type": "stream",
     "text": [
      "Epoch: [852]/[1200] Training: 100%|██████████| 7/7 [00:05<00:00,  1.31it/s, loss=8.01e-5, train_ca=100, train_wa=1]      \n",
      "Validating: 100%|██████████| 1/1 [00:00<00:00,  1.99it/s, val_loss=0.387, val_ca=96.6, val_wa=0.849]\n"
     ]
    },
    {
     "name": "stdout",
     "output_type": "stream",
     "text": [
      "0.5973282890869807\n",
      "Validation loss decreased (0.597575 --> 0.597328).  Saving model ...\n"
     ]
    },
    {
     "name": "stderr",
     "output_type": "stream",
     "text": [
      "Epoch: [853]/[1200] Training: 100%|██████████| 7/7 [00:05<00:00,  1.33it/s, loss=0.000103, train_ca=100, train_wa=1]     \n",
      "Validating: 100%|██████████| 1/1 [00:00<00:00,  2.00it/s, val_loss=0.388, val_ca=96.5, val_wa=0.837]\n"
     ]
    },
    {
     "name": "stdout",
     "output_type": "stream",
     "text": [
      "0.5970834961062983\n",
      "Validation loss decreased (0.597328 --> 0.597083).  Saving model ...\n"
     ]
    },
    {
     "name": "stderr",
     "output_type": "stream",
     "text": [
      "Epoch: [854]/[1200] Training: 100%|██████████| 7/7 [00:05<00:00,  1.39it/s, loss=3.85e-5, train_ca=100, train_wa=1]      \n",
      "Validating: 100%|██████████| 1/1 [00:00<00:00,  1.97it/s, val_loss=0.424, val_ca=95.3, val_wa=0.791]\n"
     ]
    },
    {
     "name": "stdout",
     "output_type": "stream",
     "text": [
      "0.5968809316857396\n",
      "Validation loss decreased (0.597083 --> 0.596881).  Saving model ...\n"
     ]
    },
    {
     "name": "stderr",
     "output_type": "stream",
     "text": [
      "Epoch: [855]/[1200] Training: 100%|██████████| 7/7 [00:05<00:00,  1.37it/s, loss=1.18e-5, train_ca=100, train_wa=1]      \n",
      "Validating: 100%|██████████| 1/1 [00:00<00:00,  1.96it/s, val_loss=0.501, val_ca=95.3, val_wa=0.779]\n"
     ]
    },
    {
     "name": "stdout",
     "output_type": "stream",
     "text": [
      "0.5967691158538938\n",
      "Validation loss decreased (0.596881 --> 0.596769).  Saving model ...\n"
     ]
    },
    {
     "name": "stderr",
     "output_type": "stream",
     "text": [
      "Epoch: [856]/[1200] Training: 100%|██████████| 7/7 [00:04<00:00,  1.53it/s, loss=0.104, train_ca=97.5, train_wa=0.8]    \n",
      "Validating: 100%|██████████| 1/1 [00:00<00:00,  2.38it/s, val_loss=0.439, val_ca=96.5, val_wa=0.837]\n"
     ]
    },
    {
     "name": "stdout",
     "output_type": "stream",
     "text": [
      "0.5965850351504235\n",
      "Validation loss decreased (0.596769 --> 0.596585).  Saving model ...\n"
     ]
    },
    {
     "name": "stderr",
     "output_type": "stream",
     "text": [
      "Epoch: [857]/[1200] Training: 100%|██████████| 7/7 [00:05<00:00,  1.36it/s, loss=5.51e-5, train_ca=100, train_wa=1]     \n",
      "Validating: 100%|██████████| 1/1 [00:00<00:00,  1.63it/s, val_loss=0.41, val_ca=95.8, val_wa=0.814]\n"
     ]
    },
    {
     "name": "stdout",
     "output_type": "stream",
     "text": [
      "0.5963675625388086\n",
      "Validation loss decreased (0.596585 --> 0.596368).  Saving model ...\n"
     ]
    },
    {
     "name": "stderr",
     "output_type": "stream",
     "text": [
      "Epoch: [858]/[1200] Training: 100%|██████████| 7/7 [00:05<00:00,  1.39it/s, loss=0.155, train_ca=97.1, train_wa=0.8]    \n",
      "Validating: 100%|██████████| 1/1 [00:00<00:00,  1.65it/s, val_loss=0.495, val_ca=95, val_wa=0.791]\n"
     ]
    },
    {
     "name": "stdout",
     "output_type": "stream",
     "text": [
      "0.5962501097557157\n",
      "Validation loss decreased (0.596368 --> 0.596250).  Saving model ...\n"
     ]
    },
    {
     "name": "stderr",
     "output_type": "stream",
     "text": [
      "Epoch: [859]/[1200] Training: 100%|██████████| 7/7 [00:04<00:00,  1.44it/s, loss=8.07e-5, train_ca=100, train_wa=1]     \n",
      "Validating: 100%|██████████| 1/1 [00:00<00:00,  1.65it/s, val_loss=0.423, val_ca=95.3, val_wa=0.779]\n"
     ]
    },
    {
     "name": "stdout",
     "output_type": "stream",
     "text": [
      "0.5960484673891057\n",
      "Validation loss decreased (0.596250 --> 0.596048).  Saving model ...\n"
     ]
    },
    {
     "name": "stderr",
     "output_type": "stream",
     "text": [
      "Epoch: [860]/[1200] Training: 100%|██████████| 7/7 [00:05<00:00,  1.38it/s, loss=0.00217, train_ca=100, train_wa=1]     \n",
      "Validating: 100%|██████████| 1/1 [00:00<00:00,  2.50it/s, val_loss=0.424, val_ca=95.8, val_wa=0.826]\n"
     ]
    },
    {
     "name": "stdout",
     "output_type": "stream",
     "text": [
      "0.5958490197108129\n",
      "Validation loss decreased (0.596048 --> 0.595849).  Saving model ...\n"
     ]
    },
    {
     "name": "stderr",
     "output_type": "stream",
     "text": [
      "Epoch: [861]/[1200] Training: 100%|██████████| 7/7 [00:04<00:00,  1.48it/s, loss=0.00124, train_ca=100, train_wa=1]     \n",
      "Validating: 100%|██████████| 1/1 [00:00<00:00,  3.30it/s, val_loss=0.445, val_ca=95.5, val_wa=0.814]\n"
     ]
    },
    {
     "name": "stdout",
     "output_type": "stream",
     "text": [
      "0.5956742044533943\n",
      "Validation loss decreased (0.595849 --> 0.595674).  Saving model ...\n"
     ]
    },
    {
     "name": "stderr",
     "output_type": "stream",
     "text": [
      "Epoch: [862]/[1200] Training: 100%|██████████| 7/7 [00:04<00:00,  1.41it/s, loss=2.95e-5, train_ca=100, train_wa=1]     \n",
      "Validating: 100%|██████████| 1/1 [00:00<00:00,  2.40it/s, val_loss=0.417, val_ca=95.1, val_wa=0.802]\n"
     ]
    },
    {
     "name": "stdout",
     "output_type": "stream",
     "text": [
      "0.5954670317609001\n",
      "Validation loss decreased (0.595674 --> 0.595467).  Saving model ...\n"
     ]
    },
    {
     "name": "stderr",
     "output_type": "stream",
     "text": [
      "Epoch: [863]/[1200] Training: 100%|██████████| 7/7 [00:04<00:00,  1.44it/s, loss=0.000118, train_ca=100, train_wa=1]    \n",
      "Validating: 100%|██████████| 1/1 [00:00<00:00,  1.96it/s, val_loss=0.495, val_ca=94.1, val_wa=0.744]\n"
     ]
    },
    {
     "name": "stdout",
     "output_type": "stream",
     "text": [
      "0.5953509361413173\n",
      "Validation loss decreased (0.595467 --> 0.595351).  Saving model ...\n"
     ]
    },
    {
     "name": "stderr",
     "output_type": "stream",
     "text": [
      "Epoch: [864]/[1200] Training: 100%|██████████| 7/7 [00:05<00:00,  1.36it/s, loss=4.01e-5, train_ca=100, train_wa=1]     \n",
      "Validating: 100%|██████████| 1/1 [00:00<00:00,  1.94it/s, val_loss=0.407, val_ca=94.9, val_wa=0.779]\n"
     ]
    },
    {
     "name": "stdout",
     "output_type": "stream",
     "text": [
      "0.5951328729440654\n",
      "Validation loss decreased (0.595351 --> 0.595133).  Saving model ...\n"
     ]
    },
    {
     "name": "stderr",
     "output_type": "stream",
     "text": [
      "Epoch: [865]/[1200] Training: 100%|██████████| 7/7 [00:04<00:00,  1.44it/s, loss=4.66e-5, train_ca=100, train_wa=1]     \n",
      "Validating: 100%|██████████| 1/1 [00:00<00:00,  1.66it/s, val_loss=0.423, val_ca=95.2, val_wa=0.767]\n"
     ]
    },
    {
     "name": "stdout",
     "output_type": "stream",
     "text": [
      "0.5949342717967644\n",
      "Validation loss decreased (0.595133 --> 0.594934).  Saving model ...\n"
     ]
    },
    {
     "name": "stderr",
     "output_type": "stream",
     "text": [
      "Epoch: [866]/[1200] Training: 100%|██████████| 7/7 [00:04<00:00,  1.41it/s, loss=1.26e-5, train_ca=100, train_wa=1]     \n",
      "Validating: 100%|██████████| 1/1 [00:00<00:00,  1.95it/s, val_loss=0.399, val_ca=95, val_wa=0.791]\n"
     ]
    },
    {
     "name": "stdout",
     "output_type": "stream",
     "text": [
      "0.5947088227706021\n",
      "Validation loss decreased (0.594934 --> 0.594709).  Saving model ...\n"
     ]
    },
    {
     "name": "stderr",
     "output_type": "stream",
     "text": [
      "Epoch: [867]/[1200] Training: 100%|██████████| 7/7 [00:05<00:00,  1.31it/s, loss=0.000225, train_ca=100, train_wa=1]    \n",
      "Validating: 100%|██████████| 1/1 [00:00<00:00,  2.00it/s, val_loss=0.409, val_ca=94.5, val_wa=0.756]\n"
     ]
    },
    {
     "name": "stdout",
     "output_type": "stream",
     "text": [
      "0.5944953304302844\n",
      "Validation loss decreased (0.594709 --> 0.594495).  Saving model ...\n"
     ]
    },
    {
     "name": "stderr",
     "output_type": "stream",
     "text": [
      "Epoch: [868]/[1200] Training: 100%|██████████| 7/7 [00:04<00:00,  1.43it/s, loss=0.00173, train_ca=100, train_wa=1]     \n",
      "Validating: 100%|██████████| 1/1 [00:00<00:00,  1.96it/s, val_loss=0.389, val_ca=95.7, val_wa=0.791]\n"
     ]
    },
    {
     "name": "stdout",
     "output_type": "stream",
     "text": [
      "0.5942596039552798\n",
      "Validation loss decreased (0.594495 --> 0.594260).  Saving model ...\n"
     ]
    },
    {
     "name": "stderr",
     "output_type": "stream",
     "text": [
      "Epoch: [869]/[1200] Training: 100%|██████████| 7/7 [00:04<00:00,  1.42it/s, loss=6.37e-5, train_ca=100, train_wa=1]      \n",
      "Validating: 100%|██████████| 1/1 [00:00<00:00,  3.34it/s, val_loss=0.493, val_ca=94.5, val_wa=0.733]\n"
     ]
    },
    {
     "name": "stdout",
     "output_type": "stream",
     "text": [
      "0.5941432479054728\n",
      "Validation loss decreased (0.594260 --> 0.594143).  Saving model ...\n"
     ]
    },
    {
     "name": "stderr",
     "output_type": "stream",
     "text": [
      "Epoch: [870]/[1200] Training: 100%|██████████| 7/7 [00:04<00:00,  1.44it/s, loss=0.277, train_ca=97.1, train_wa=0.8]   \n",
      "Validating: 100%|██████████| 1/1 [00:00<00:00,  1.93it/s, val_loss=0.476, val_ca=95.1, val_wa=0.767]\n"
     ]
    },
    {
     "name": "stdout",
     "output_type": "stream",
     "text": [
      "0.5940075516017205\n",
      "Validation loss decreased (0.594143 --> 0.594008).  Saving model ...\n"
     ]
    },
    {
     "name": "stderr",
     "output_type": "stream",
     "text": [
      "Epoch: [871]/[1200] Training: 100%|██████████| 7/7 [00:04<00:00,  1.41it/s, loss=0.0128, train_ca=100, train_wa=1]      \n",
      "Validating: 100%|██████████| 1/1 [00:00<00:00,  2.53it/s, val_loss=0.439, val_ca=94.8, val_wa=0.767]\n"
     ]
    },
    {
     "name": "stdout",
     "output_type": "stream",
     "text": [
      "0.5938295547222081\n",
      "Validation loss decreased (0.594008 --> 0.593830).  Saving model ...\n"
     ]
    },
    {
     "name": "stderr",
     "output_type": "stream",
     "text": [
      "Epoch: [872]/[1200] Training: 100%|██████████| 7/7 [00:05<00:00,  1.36it/s, loss=0.00129, train_ca=100, train_wa=1]     \n",
      "Validating: 100%|██████████| 1/1 [00:00<00:00,  2.00it/s, val_loss=0.418, val_ca=95.3, val_wa=0.802]\n"
     ]
    },
    {
     "name": "stdout",
     "output_type": "stream",
     "text": [
      "0.5936282027845252\n",
      "Validation loss decreased (0.593830 --> 0.593628).  Saving model ...\n"
     ]
    },
    {
     "name": "stderr",
     "output_type": "stream",
     "text": [
      "Epoch: [873]/[1200] Training: 100%|██████████| 7/7 [00:04<00:00,  1.41it/s, loss=0.000442, train_ca=100, train_wa=1]    \n",
      "Validating: 100%|██████████| 1/1 [00:00<00:00,  1.95it/s, val_loss=0.397, val_ca=95.5, val_wa=0.814]\n"
     ]
    },
    {
     "name": "stdout",
     "output_type": "stream",
     "text": [
      "0.5934035524981363\n",
      "Validation loss decreased (0.593628 --> 0.593404).  Saving model ...\n"
     ]
    },
    {
     "name": "stderr",
     "output_type": "stream",
     "text": [
      "Epoch: [874]/[1200] Training: 100%|██████████| 7/7 [00:04<00:00,  1.47it/s, loss=0.0681, train_ca=97.1, train_wa=0.8]   \n",
      "Validating: 100%|██████████| 1/1 [00:00<00:00,  1.94it/s, val_loss=0.368, val_ca=95.8, val_wa=0.826]\n"
     ]
    },
    {
     "name": "stdout",
     "output_type": "stream",
     "text": [
      "0.5931464594248768\n",
      "Validation loss decreased (0.593404 --> 0.593146).  Saving model ...\n"
     ]
    },
    {
     "name": "stderr",
     "output_type": "stream",
     "text": [
      "Epoch: [875]/[1200] Training: 100%|██████████| 7/7 [00:04<00:00,  1.44it/s, loss=4.81e-5, train_ca=100, train_wa=1]     \n",
      "Validating: 100%|██████████| 1/1 [00:00<00:00,  1.42it/s, val_loss=0.588, val_ca=94, val_wa=0.767]\n"
     ]
    },
    {
     "name": "stdout",
     "output_type": "stream",
     "text": [
      "0.5931405125349386\n",
      "Validation loss decreased (0.593146 --> 0.593141).  Saving model ...\n"
     ]
    },
    {
     "name": "stderr",
     "output_type": "stream",
     "text": [
      "Epoch: [876]/[1200] Training: 100%|██████████| 7/7 [00:05<00:00,  1.33it/s, loss=0.000203, train_ca=100, train_wa=1]    \n",
      "Validating: 100%|██████████| 1/1 [00:00<00:00,  2.48it/s, val_loss=0.841, val_ca=90.9, val_wa=0.64]\n"
     ]
    },
    {
     "name": "stdout",
     "output_type": "stream",
     "text": [
      "0.5934225879524726\n",
      "EarlyStopping counter: (-0.593141 1 out of 15)\n"
     ]
    },
    {
     "name": "stderr",
     "output_type": "stream",
     "text": [
      "Epoch: [877]/[1200] Training: 100%|██████████| 7/7 [00:05<00:00,  1.37it/s, loss=0.00018, train_ca=100, train_wa=1]     \n",
      "Validating: 100%|██████████| 1/1 [00:00<00:00,  1.64it/s, val_loss=0.436, val_ca=95.1, val_wa=0.791]\n"
     ]
    },
    {
     "name": "stdout",
     "output_type": "stream",
     "text": [
      "0.5932431207785427\n",
      "EarlyStopping counter: (-0.593141 2 out of 15)\n"
     ]
    },
    {
     "name": "stderr",
     "output_type": "stream",
     "text": [
      "Epoch: [878]/[1200] Training: 100%|██████████| 7/7 [00:04<00:00,  1.43it/s, loss=0.00653, train_ca=100, train_wa=1]     \n",
      "Validating: 100%|██████████| 1/1 [00:00<00:00,  1.99it/s, val_loss=0.411, val_ca=96, val_wa=0.837]\n"
     ]
    },
    {
     "name": "stdout",
     "output_type": "stream",
     "text": [
      "0.5930364917625081\n",
      "Validation loss decreased (0.593141 --> 0.593036).  Saving model ...\n"
     ]
    },
    {
     "name": "stderr",
     "output_type": "stream",
     "text": [
      "Epoch: [879]/[1200] Training: 100%|██████████| 7/7 [00:05<00:00,  1.33it/s, loss=0.000463, train_ca=100, train_wa=1]    \n",
      "Validating: 100%|██████████| 1/1 [00:00<00:00,  3.30it/s, val_loss=0.427, val_ca=95.7, val_wa=0.802]\n"
     ]
    },
    {
     "name": "stdout",
     "output_type": "stream",
     "text": [
      "0.5928475998181355\n",
      "Validation loss decreased (0.593036 --> 0.592848).  Saving model ...\n"
     ]
    },
    {
     "name": "stderr",
     "output_type": "stream",
     "text": [
      "Epoch: [880]/[1200] Training: 100%|██████████| 7/7 [00:04<00:00,  1.41it/s, loss=0.00313, train_ca=100, train_wa=1]     \n",
      "Validating: 100%|██████████| 1/1 [00:00<00:00,  1.42it/s, val_loss=0.378, val_ca=96.1, val_wa=0.802]\n"
     ]
    },
    {
     "name": "stdout",
     "output_type": "stream",
     "text": [
      "0.5926035023600607\n",
      "Validation loss decreased (0.592848 --> 0.592604).  Saving model ...\n"
     ]
    },
    {
     "name": "stderr",
     "output_type": "stream",
     "text": [
      "Epoch: [881]/[1200] Training: 100%|██████████| 7/7 [00:04<00:00,  1.41it/s, loss=0.135, train_ca=97.1, train_wa=0.8]    \n",
      "Validating: 100%|██████████| 1/1 [00:00<00:00,  1.95it/s, val_loss=0.398, val_ca=95.6, val_wa=0.791]\n"
     ]
    },
    {
     "name": "stdout",
     "output_type": "stream",
     "text": [
      "0.5923828413775392\n",
      "Validation loss decreased (0.592604 --> 0.592383).  Saving model ...\n"
     ]
    },
    {
     "name": "stderr",
     "output_type": "stream",
     "text": [
      "Epoch: [882]/[1200] Training: 100%|██████████| 7/7 [00:04<00:00,  1.41it/s, loss=0.000732, train_ca=100, train_wa=1]    \n",
      "Validating: 100%|██████████| 1/1 [00:00<00:00,  2.47it/s, val_loss=0.489, val_ca=95, val_wa=0.779]\n"
     ]
    },
    {
     "name": "stdout",
     "output_type": "stream",
     "text": [
      "0.5922663258009366\n",
      "Validation loss decreased (0.592383 --> 0.592266).  Saving model ...\n"
     ]
    },
    {
     "name": "stderr",
     "output_type": "stream",
     "text": [
      "Epoch: [883]/[1200] Training: 100%|██████████| 7/7 [00:05<00:00,  1.33it/s, loss=6.74e-5, train_ca=100, train_wa=1]     \n",
      "Validating: 100%|██████████| 1/1 [00:00<00:00,  1.63it/s, val_loss=0.487, val_ca=95.3, val_wa=0.802]\n"
     ]
    },
    {
     "name": "stdout",
     "output_type": "stream",
     "text": [
      "0.5921479327193762\n",
      "Validation loss decreased (0.592266 --> 0.592148).  Saving model ...\n"
     ]
    },
    {
     "name": "stderr",
     "output_type": "stream",
     "text": [
      "Epoch: [884]/[1200] Training: 100%|██████████| 7/7 [00:05<00:00,  1.39it/s, loss=0.00017, train_ca=100, train_wa=1]     \n",
      "Validating: 100%|██████████| 1/1 [00:00<00:00,  1.66it/s, val_loss=0.49, val_ca=94.8, val_wa=0.767]\n"
     ]
    },
    {
     "name": "stdout",
     "output_type": "stream",
     "text": [
      "0.5920321969630756\n",
      "Validation loss decreased (0.592148 --> 0.592032).  Saving model ...\n"
     ]
    },
    {
     "name": "stderr",
     "output_type": "stream",
     "text": [
      "Epoch: [885]/[1200] Training: 100%|██████████| 7/7 [00:04<00:00,  1.52it/s, loss=0.000535, train_ca=100, train_wa=1]    \n",
      "Validating: 100%|██████████| 1/1 [00:00<00:00,  2.00it/s, val_loss=0.433, val_ca=95.3, val_wa=0.791]\n"
     ]
    },
    {
     "name": "stdout",
     "output_type": "stream",
     "text": [
      "0.5918528978894502\n",
      "Validation loss decreased (0.592032 --> 0.591853).  Saving model ...\n"
     ]
    },
    {
     "name": "stderr",
     "output_type": "stream",
     "text": [
      "Epoch: [886]/[1200] Training: 100%|██████████| 7/7 [00:05<00:00,  1.39it/s, loss=0.000424, train_ca=100, train_wa=1]   \n",
      "Validating: 100%|██████████| 1/1 [00:00<00:00,  2.50it/s, val_loss=0.459, val_ca=95.5, val_wa=0.791]\n"
     ]
    },
    {
     "name": "stdout",
     "output_type": "stream",
     "text": [
      "0.5917034574054383\n",
      "Validation loss decreased (0.591853 --> 0.591703).  Saving model ...\n"
     ]
    },
    {
     "name": "stderr",
     "output_type": "stream",
     "text": [
      "Epoch: [887]/[1200] Training: 100%|██████████| 7/7 [00:05<00:00,  1.40it/s, loss=0.0862, train_ca=97.1, train_wa=0.8]   \n",
      "Validating: 100%|██████████| 1/1 [00:00<00:00,  2.46it/s, val_loss=0.497, val_ca=95.2, val_wa=0.791]\n"
     ]
    },
    {
     "name": "stdout",
     "output_type": "stream",
     "text": [
      "0.5915973948145073\n",
      "Validation loss decreased (0.591703 --> 0.591597).  Saving model ...\n"
     ]
    },
    {
     "name": "stderr",
     "output_type": "stream",
     "text": [
      "Epoch: [888]/[1200] Training: 100%|██████████| 7/7 [00:04<00:00,  1.46it/s, loss=4.6e-5, train_ca=100, train_wa=1]       \n",
      "Validating: 100%|██████████| 1/1 [00:00<00:00,  1.94it/s, val_loss=0.444, val_ca=95, val_wa=0.767]\n"
     ]
    },
    {
     "name": "stdout",
     "output_type": "stream",
     "text": [
      "0.5914320321230406\n",
      "Validation loss decreased (0.591597 --> 0.591432).  Saving model ...\n"
     ]
    },
    {
     "name": "stderr",
     "output_type": "stream",
     "text": [
      "Epoch: [889]/[1200] Training: 100%|██████████| 7/7 [00:05<00:00,  1.35it/s, loss=0.00893, train_ca=100, train_wa=1]     \n",
      "Validating: 100%|██████████| 1/1 [00:00<00:00,  2.42it/s, val_loss=0.513, val_ca=94.5, val_wa=0.767]\n"
     ]
    },
    {
     "name": "stdout",
     "output_type": "stream",
     "text": [
      "0.5913439847604193\n",
      "Validation loss decreased (0.591432 --> 0.591344).  Saving model ...\n"
     ]
    },
    {
     "name": "stderr",
     "output_type": "stream",
     "text": [
      "Epoch: [890]/[1200] Training: 100%|██████████| 7/7 [00:05<00:00,  1.32it/s, loss=0.000314, train_ca=100, train_wa=1]     \n",
      "Validating: 100%|██████████| 1/1 [00:00<00:00,  1.94it/s, val_loss=0.366, val_ca=95.3, val_wa=0.802]\n"
     ]
    },
    {
     "name": "stdout",
     "output_type": "stream",
     "text": [
      "0.5910908194601269\n",
      "Validation loss decreased (0.591344 --> 0.591091).  Saving model ...\n"
     ]
    },
    {
     "name": "stderr",
     "output_type": "stream",
     "text": [
      "Epoch: [891]/[1200] Training: 100%|██████████| 7/7 [00:05<00:00,  1.38it/s, loss=0.00131, train_ca=100, train_wa=1]     \n",
      "Validating: 100%|██████████| 1/1 [00:00<00:00,  2.51it/s, val_loss=0.373, val_ca=95.6, val_wa=0.826]\n"
     ]
    },
    {
     "name": "stdout",
     "output_type": "stream",
     "text": [
      "0.590846778964676\n",
      "Validation loss decreased (0.591091 --> 0.590847).  Saving model ...\n"
     ]
    },
    {
     "name": "stderr",
     "output_type": "stream",
     "text": [
      "Epoch: [892]/[1200] Training: 100%|██████████| 7/7 [00:04<00:00,  1.44it/s, loss=0.000568, train_ca=100, train_wa=1]    \n",
      "Validating: 100%|██████████| 1/1 [00:00<00:00,  1.63it/s, val_loss=0.349, val_ca=95.8, val_wa=0.802]\n"
     ]
    },
    {
     "name": "stdout",
     "output_type": "stream",
     "text": [
      "0.5905766182431172\n",
      "Validation loss decreased (0.590847 --> 0.590577).  Saving model ...\n"
     ]
    },
    {
     "name": "stderr",
     "output_type": "stream",
     "text": [
      "Epoch: [893]/[1200] Training: 100%|██████████| 7/7 [00:04<00:00,  1.44it/s, loss=0.0215, train_ca=97.1, train_wa=0.8]   \n",
      "Validating: 100%|██████████| 1/1 [00:00<00:00,  2.43it/s, val_loss=0.352, val_ca=95.5, val_wa=0.791]\n"
     ]
    },
    {
     "name": "stdout",
     "output_type": "stream",
     "text": [
      "0.590309951491862\n",
      "Validation loss decreased (0.590577 --> 0.590310).  Saving model ...\n"
     ]
    },
    {
     "name": "stderr",
     "output_type": "stream",
     "text": [
      "Epoch: [894]/[1200] Training: 100%|██████████| 7/7 [00:05<00:00,  1.39it/s, loss=0.000769, train_ca=100, train_wa=1]    \n",
      "Validating: 100%|██████████| 1/1 [00:00<00:00,  1.95it/s, val_loss=0.38, val_ca=96, val_wa=0.791]\n"
     ]
    },
    {
     "name": "stdout",
     "output_type": "stream",
     "text": [
      "0.5900747254490852\n",
      "Validation loss decreased (0.590310 --> 0.590075).  Saving model ...\n"
     ]
    },
    {
     "name": "stderr",
     "output_type": "stream",
     "text": [
      "Epoch: [895]/[1200] Training: 100%|██████████| 7/7 [00:04<00:00,  1.44it/s, loss=0.000261, train_ca=100, train_wa=1]    \n",
      "Validating: 100%|██████████| 1/1 [00:00<00:00,  1.96it/s, val_loss=0.402, val_ca=94.8, val_wa=0.744]\n"
     ]
    },
    {
     "name": "stdout",
     "output_type": "stream",
     "text": [
      "0.5898646334541282\n",
      "Validation loss decreased (0.590075 --> 0.589865).  Saving model ...\n"
     ]
    },
    {
     "name": "stderr",
     "output_type": "stream",
     "text": [
      "Epoch: [896]/[1200] Training: 100%|██████████| 7/7 [00:05<00:00,  1.29it/s, loss=9.24e-5, train_ca=100, train_wa=1]     \n",
      "Validating: 100%|██████████| 1/1 [00:00<00:00,  2.43it/s, val_loss=0.363, val_ca=95.5, val_wa=0.802]\n"
     ]
    },
    {
     "name": "stdout",
     "output_type": "stream",
     "text": [
      "0.5896124783695939\n",
      "Validation loss decreased (0.589865 --> 0.589612).  Saving model ...\n"
     ]
    },
    {
     "name": "stderr",
     "output_type": "stream",
     "text": [
      "Epoch: [897]/[1200] Training: 100%|██████████| 7/7 [00:05<00:00,  1.34it/s, loss=0.000222, train_ca=100, train_wa=1]    \n",
      "Validating: 100%|██████████| 1/1 [00:00<00:00,  2.46it/s, val_loss=0.327, val_ca=95.7, val_wa=0.791]\n"
     ]
    },
    {
     "name": "stdout",
     "output_type": "stream",
     "text": [
      "0.5893203881346477\n",
      "Validation loss decreased (0.589612 --> 0.589320).  Saving model ...\n"
     ]
    },
    {
     "name": "stderr",
     "output_type": "stream",
     "text": [
      "Epoch: [898]/[1200] Training: 100%|██████████| 7/7 [00:04<00:00,  1.41it/s, loss=4.88e-5, train_ca=100, train_wa=1]     \n",
      "Validating: 100%|██████████| 1/1 [00:00<00:00,  1.65it/s, val_loss=0.269, val_ca=96.7, val_wa=0.826]\n"
     ]
    },
    {
     "name": "stdout",
     "output_type": "stream",
     "text": [
      "0.5889646854996681\n",
      "Validation loss decreased (0.589320 --> 0.588965).  Saving model ...\n"
     ]
    },
    {
     "name": "stderr",
     "output_type": "stream",
     "text": [
      "Epoch: [899]/[1200] Training: 100%|██████████| 7/7 [00:05<00:00,  1.39it/s, loss=2.28e-5, train_ca=100, train_wa=1]     \n",
      "Validating: 100%|██████████| 1/1 [00:00<00:00,  1.65it/s, val_loss=0.288, val_ca=96.6, val_wa=0.837]\n"
     ]
    },
    {
     "name": "stdout",
     "output_type": "stream",
     "text": [
      "0.5886309539835144\n",
      "Validation loss decreased (0.588965 --> 0.588631).  Saving model ...\n"
     ]
    },
    {
     "name": "stderr",
     "output_type": "stream",
     "text": [
      "Epoch: [900]/[1200] Training: 100%|██████████| 7/7 [00:04<00:00,  1.47it/s, loss=2.12e-5, train_ca=100, train_wa=1]     \n",
      "Validating: 100%|██████████| 1/1 [00:00<00:00,  1.62it/s, val_loss=0.262, val_ca=96.6, val_wa=0.849]\n"
     ]
    },
    {
     "name": "stdout",
     "output_type": "stream",
     "text": [
      "0.5882688971554361\n",
      "Validation loss decreased (0.588631 --> 0.588269).  Saving model ...\n"
     ]
    },
    {
     "name": "stderr",
     "output_type": "stream",
     "text": [
      "Epoch: [901]/[1200] Training: 100%|██████████| 7/7 [00:05<00:00,  1.37it/s, loss=2.32e-5, train_ca=100, train_wa=1]      \n",
      "Validating: 100%|██████████| 1/1 [00:00<00:00,  1.41it/s, val_loss=0.293, val_ca=96.1, val_wa=0.837]\n"
     ]
    },
    {
     "name": "stdout",
     "output_type": "stream",
     "text": [
      "0.5879422928869791\n",
      "Validation loss decreased (0.588269 --> 0.587942).  Saving model ...\n"
     ]
    },
    {
     "name": "stderr",
     "output_type": "stream",
     "text": [
      "Epoch: [902]/[1200] Training: 100%|██████████| 7/7 [00:04<00:00,  1.44it/s, loss=9.75e-5, train_ca=100, train_wa=1]      \n",
      "Validating: 100%|██████████| 1/1 [00:00<00:00,  2.42it/s, val_loss=0.301, val_ca=96.1, val_wa=0.826]\n"
     ]
    },
    {
     "name": "stdout",
     "output_type": "stream",
     "text": [
      "0.587624744503899\n",
      "Validation loss decreased (0.587942 --> 0.587625).  Saving model ...\n"
     ]
    },
    {
     "name": "stderr",
     "output_type": "stream",
     "text": [
      "Epoch: [903]/[1200] Training: 100%|██████████| 7/7 [00:05<00:00,  1.33it/s, loss=3.28e-5, train_ca=100, train_wa=1]      \n",
      "Validating: 100%|██████████| 1/1 [00:00<00:00,  1.99it/s, val_loss=0.306, val_ca=96.3, val_wa=0.837]\n"
     ]
    },
    {
     "name": "stdout",
     "output_type": "stream",
     "text": [
      "0.5873133952117098\n",
      "Validation loss decreased (0.587625 --> 0.587313).  Saving model ...\n"
     ]
    },
    {
     "name": "stderr",
     "output_type": "stream",
     "text": [
      "Epoch: [904]/[1200] Training: 100%|██████████| 7/7 [00:05<00:00,  1.38it/s, loss=1.25e-5, train_ca=100, train_wa=1]      \n",
      "Validating: 100%|██████████| 1/1 [00:00<00:00,  2.01it/s, val_loss=0.302, val_ca=96.3, val_wa=0.837]\n"
     ]
    },
    {
     "name": "stdout",
     "output_type": "stream",
     "text": [
      "0.5869987877065246\n",
      "Validation loss decreased (0.587313 --> 0.586999).  Saving model ...\n"
     ]
    },
    {
     "name": "stderr",
     "output_type": "stream",
     "text": [
      "Epoch: [905]/[1200] Training: 100%|██████████| 7/7 [00:04<00:00,  1.52it/s, loss=3.36e-5, train_ca=100, train_wa=1]      \n",
      "Validating: 100%|██████████| 1/1 [00:00<00:00,  1.96it/s, val_loss=0.301, val_ca=96.5, val_wa=0.837]\n"
     ]
    },
    {
     "name": "stdout",
     "output_type": "stream",
     "text": [
      "0.5866833489548411\n",
      "Validation loss decreased (0.586999 --> 0.586683).  Saving model ...\n"
     ]
    },
    {
     "name": "stderr",
     "output_type": "stream",
     "text": [
      "Epoch: [906]/[1200] Training: 100%|██████████| 7/7 [00:04<00:00,  1.46it/s, loss=0.0175, train_ca=100, train_wa=1]      \n",
      "Validating: 100%|██████████| 1/1 [00:00<00:00,  2.40it/s, val_loss=0.298, val_ca=96.5, val_wa=0.837]\n"
     ]
    },
    {
     "name": "stdout",
     "output_type": "stream",
     "text": [
      "0.5863655505267009\n",
      "Validation loss decreased (0.586683 --> 0.586366).  Saving model ...\n"
     ]
    },
    {
     "name": "stderr",
     "output_type": "stream",
     "text": [
      "Epoch: [907]/[1200] Training: 100%|██████████| 7/7 [00:05<00:00,  1.39it/s, loss=4.98e-5, train_ca=100, train_wa=1]      \n",
      "Validating: 100%|██████████| 1/1 [00:00<00:00,  2.00it/s, val_loss=0.296, val_ca=96.6, val_wa=0.849]\n"
     ]
    },
    {
     "name": "stdout",
     "output_type": "stream",
     "text": [
      "0.5860466362029413\n",
      "Validation loss decreased (0.586366 --> 0.586047).  Saving model ...\n"
     ]
    },
    {
     "name": "stderr",
     "output_type": "stream",
     "text": [
      "Epoch: [908]/[1200] Training: 100%|██████████| 7/7 [00:04<00:00,  1.40it/s, loss=5.82e-6, train_ca=100, train_wa=1]      \n",
      "Validating: 100%|██████████| 1/1 [00:00<00:00,  2.00it/s, val_loss=0.289, val_ca=96.4, val_wa=0.849]\n"
     ]
    },
    {
     "name": "stdout",
     "output_type": "stream",
     "text": [
      "0.5857201622082637\n",
      "Validation loss decreased (0.586047 --> 0.585720).  Saving model ...\n"
     ]
    },
    {
     "name": "stderr",
     "output_type": "stream",
     "text": [
      "Epoch: [909]/[1200] Training: 100%|██████████| 7/7 [00:04<00:00,  1.46it/s, loss=0.000166, train_ca=100, train_wa=1]     \n",
      "Validating: 100%|██████████| 1/1 [00:00<00:00,  1.95it/s, val_loss=0.278, val_ca=96.5, val_wa=0.837]\n"
     ]
    },
    {
     "name": "stdout",
     "output_type": "stream",
     "text": [
      "0.5853828674940849\n",
      "Validation loss decreased (0.585720 --> 0.585383).  Saving model ...\n"
     ]
    },
    {
     "name": "stderr",
     "output_type": "stream",
     "text": [
      "Epoch: [910]/[1200] Training: 100%|██████████| 7/7 [00:05<00:00,  1.36it/s, loss=1.16e-5, train_ca=100, train_wa=1]     \n",
      "Validating: 100%|██████████| 1/1 [00:00<00:00,  1.62it/s, val_loss=0.283, val_ca=96.8, val_wa=0.849]\n"
     ]
    },
    {
     "name": "stdout",
     "output_type": "stream",
     "text": [
      "0.5850515242077803\n",
      "Validation loss decreased (0.585383 --> 0.585052).  Saving model ...\n"
     ]
    },
    {
     "name": "stderr",
     "output_type": "stream",
     "text": [
      "Epoch: [911]/[1200] Training: 100%|██████████| 7/7 [00:05<00:00,  1.37it/s, loss=9.84e-5, train_ca=100, train_wa=1]      \n",
      "Validating: 100%|██████████| 1/1 [00:00<00:00,  2.00it/s, val_loss=0.287, val_ca=96.8, val_wa=0.849]\n"
     ]
    },
    {
     "name": "stdout",
     "output_type": "stream",
     "text": [
      "0.5847253543523682\n",
      "Validation loss decreased (0.585052 --> 0.584725).  Saving model ...\n"
     ]
    },
    {
     "name": "stderr",
     "output_type": "stream",
     "text": [
      "Epoch: [912]/[1200] Training: 100%|██████████| 7/7 [00:04<00:00,  1.42it/s, loss=7.36e-6, train_ca=100, train_wa=1]      \n",
      "Validating: 100%|██████████| 1/1 [00:00<00:00,  1.64it/s, val_loss=0.292, val_ca=96.8, val_wa=0.849]\n"
     ]
    },
    {
     "name": "stdout",
     "output_type": "stream",
     "text": [
      "0.5844048653246277\n",
      "Validation loss decreased (0.584725 --> 0.584405).  Saving model ...\n"
     ]
    },
    {
     "name": "stderr",
     "output_type": "stream",
     "text": [
      "Epoch: [913]/[1200] Training: 100%|██████████| 7/7 [00:04<00:00,  1.43it/s, loss=0.000138, train_ca=100, train_wa=1]     \n",
      "Validating: 100%|██████████| 1/1 [00:00<00:00,  2.01it/s, val_loss=0.295, val_ca=96.8, val_wa=0.849]\n"
     ]
    },
    {
     "name": "stdout",
     "output_type": "stream",
     "text": [
      "0.5840889767870877\n",
      "Validation loss decreased (0.584405 --> 0.584089).  Saving model ...\n"
     ]
    },
    {
     "name": "stderr",
     "output_type": "stream",
     "text": [
      "Epoch: [914]/[1200] Training: 100%|██████████| 7/7 [00:05<00:00,  1.36it/s, loss=4.69e-5, train_ca=100, train_wa=1]      \n",
      "Validating: 100%|██████████| 1/1 [00:00<00:00,  1.98it/s, val_loss=0.293, val_ca=96.8, val_wa=0.849]\n"
     ]
    },
    {
     "name": "stdout",
     "output_type": "stream",
     "text": [
      "0.5837714363654107\n",
      "Validation loss decreased (0.584089 --> 0.583771).  Saving model ...\n"
     ]
    },
    {
     "name": "stderr",
     "output_type": "stream",
     "text": [
      "Epoch: [915]/[1200] Training: 100%|██████████| 7/7 [00:04<00:00,  1.56it/s, loss=0.131, train_ca=97.1, train_wa=0.8]     \n",
      "Validating: 100%|██████████| 1/1 [00:00<00:00,  2.44it/s, val_loss=0.294, val_ca=96.8, val_wa=0.849]\n"
     ]
    },
    {
     "name": "stdout",
     "output_type": "stream",
     "text": [
      "0.5834550906618653\n",
      "Validation loss decreased (0.583771 --> 0.583455).  Saving model ...\n"
     ]
    },
    {
     "name": "stderr",
     "output_type": "stream",
     "text": [
      "Epoch: [916]/[1200] Training: 100%|██████████| 7/7 [00:05<00:00,  1.36it/s, loss=0.000333, train_ca=100, train_wa=1]     \n",
      "Validating: 100%|██████████| 1/1 [00:00<00:00,  1.94it/s, val_loss=0.313, val_ca=96.3, val_wa=0.826]\n"
     ]
    },
    {
     "name": "stdout",
     "output_type": "stream",
     "text": [
      "0.5831599464408712\n",
      "Validation loss decreased (0.583455 --> 0.583160).  Saving model ...\n"
     ]
    },
    {
     "name": "stderr",
     "output_type": "stream",
     "text": [
      "Epoch: [917]/[1200] Training: 100%|██████████| 7/7 [00:04<00:00,  1.42it/s, loss=2.49e-5, train_ca=100, train_wa=1]     \n",
      "Validating: 100%|██████████| 1/1 [00:00<00:00,  2.41it/s, val_loss=0.304, val_ca=97, val_wa=0.849]\n"
     ]
    },
    {
     "name": "stdout",
     "output_type": "stream",
     "text": [
      "0.5828566056665061\n",
      "Validation loss decreased (0.583160 --> 0.582857).  Saving model ...\n"
     ]
    },
    {
     "name": "stderr",
     "output_type": "stream",
     "text": [
      "Epoch: [918]/[1200] Training: 100%|██████████| 7/7 [00:05<00:00,  1.39it/s, loss=0.0285, train_ca=95, train_wa=0.8]      \n",
      "Validating: 100%|██████████| 1/1 [00:00<00:00,  1.96it/s, val_loss=0.284, val_ca=97, val_wa=0.849]\n"
     ]
    },
    {
     "name": "stdout",
     "output_type": "stream",
     "text": [
      "0.5825321040075758\n",
      "Validation loss decreased (0.582857 --> 0.582532).  Saving model ...\n"
     ]
    },
    {
     "name": "stderr",
     "output_type": "stream",
     "text": [
      "Epoch: [919]/[1200] Training: 100%|██████████| 7/7 [00:05<00:00,  1.37it/s, loss=3.26e-5, train_ca=100, train_wa=1]      \n",
      "Validating: 100%|██████████| 1/1 [00:00<00:00,  2.00it/s, val_loss=0.283, val_ca=96.5, val_wa=0.837]\n"
     ]
    },
    {
     "name": "stdout",
     "output_type": "stream",
     "text": [
      "0.5822072490871794\n",
      "Validation loss decreased (0.582532 --> 0.582207).  Saving model ...\n"
     ]
    },
    {
     "name": "stderr",
     "output_type": "stream",
     "text": [
      "Epoch: [920]/[1200] Training: 100%|██████████| 7/7 [00:05<00:00,  1.39it/s, loss=7.17e-5, train_ca=100, train_wa=1]      \n",
      "Validating: 100%|██████████| 1/1 [00:00<00:00,  1.96it/s, val_loss=0.315, val_ca=96.5, val_wa=0.826]\n"
     ]
    },
    {
     "name": "stdout",
     "output_type": "stream",
     "text": [
      "0.5819174427207794\n",
      "Validation loss decreased (0.582207 --> 0.581917).  Saving model ...\n"
     ]
    },
    {
     "name": "stderr",
     "output_type": "stream",
     "text": [
      "Epoch: [921]/[1200] Training: 100%|██████████| 7/7 [00:04<00:00,  1.43it/s, loss=1.74e-5, train_ca=100, train_wa=1]      \n",
      "Validating: 100%|██████████| 1/1 [00:00<00:00,  2.48it/s, val_loss=0.328, val_ca=96.2, val_wa=0.802]\n"
     ]
    },
    {
     "name": "stdout",
     "output_type": "stream",
     "text": [
      "0.5816423005040005\n",
      "Validation loss decreased (0.581917 --> 0.581642).  Saving model ...\n"
     ]
    },
    {
     "name": "stderr",
     "output_type": "stream",
     "text": [
      "Epoch: [922]/[1200] Training: 100%|██████████| 7/7 [00:05<00:00,  1.38it/s, loss=9.52e-6, train_ca=100, train_wa=1]      \n",
      "Validating: 100%|██████████| 1/1 [00:00<00:00,  2.02it/s, val_loss=0.316, val_ca=96.5, val_wa=0.837]\n"
     ]
    },
    {
     "name": "stdout",
     "output_type": "stream",
     "text": [
      "0.5813548091428105\n",
      "Validation loss decreased (0.581642 --> 0.581355).  Saving model ...\n"
     ]
    },
    {
     "name": "stderr",
     "output_type": "stream",
     "text": [
      "Epoch: [923]/[1200] Training: 100%|██████████| 7/7 [00:05<00:00,  1.36it/s, loss=5.22e-5, train_ca=100, train_wa=1]    \n",
      "Validating: 100%|██████████| 1/1 [00:00<00:00,  1.94it/s, val_loss=0.32, val_ca=97, val_wa=0.837]\n"
     ]
    },
    {
     "name": "stdout",
     "output_type": "stream",
     "text": [
      "0.5810718352408023\n",
      "Validation loss decreased (0.581355 --> 0.581072).  Saving model ...\n"
     ]
    },
    {
     "name": "stderr",
     "output_type": "stream",
     "text": [
      "Epoch: [924]/[1200] Training: 100%|██████████| 7/7 [00:04<00:00,  1.42it/s, loss=0.000201, train_ca=100, train_wa=1]     \n",
      "Validating: 100%|██████████| 1/1 [00:00<00:00,  2.03it/s, val_loss=0.338, val_ca=95.6, val_wa=0.791]\n"
     ]
    },
    {
     "name": "stdout",
     "output_type": "stream",
     "text": [
      "0.5808097895548616\n",
      "Validation loss decreased (0.581072 --> 0.580810).  Saving model ...\n"
     ]
    },
    {
     "name": "stderr",
     "output_type": "stream",
     "text": [
      "Epoch: [925]/[1200] Training: 100%|██████████| 7/7 [00:04<00:00,  1.44it/s, loss=0.000162, train_ca=100, train_wa=1]    \n",
      "Validating: 100%|██████████| 1/1 [00:00<00:00,  1.67it/s, val_loss=0.402, val_ca=95.3, val_wa=0.791]\n"
     ]
    },
    {
     "name": "stdout",
     "output_type": "stream",
     "text": [
      "0.58061733311434\n",
      "Validation loss decreased (0.580810 --> 0.580617).  Saving model ...\n"
     ]
    },
    {
     "name": "stderr",
     "output_type": "stream",
     "text": [
      "Epoch: [926]/[1200] Training: 100%|██████████| 7/7 [00:05<00:00,  1.38it/s, loss=1.4e-5, train_ca=100, train_wa=1]       \n",
      "Validating: 100%|██████████| 1/1 [00:00<00:00,  1.95it/s, val_loss=0.394, val_ca=95.1, val_wa=0.791]\n"
     ]
    },
    {
     "name": "stdout",
     "output_type": "stream",
     "text": [
      "0.5804166214797517\n",
      "Validation loss decreased (0.580617 --> 0.580417).  Saving model ...\n"
     ]
    },
    {
     "name": "stderr",
     "output_type": "stream",
     "text": [
      "Epoch: [927]/[1200] Training: 100%|██████████| 7/7 [00:04<00:00,  1.40it/s, loss=0.00184, train_ca=100, train_wa=1]      \n",
      "Validating: 100%|██████████| 1/1 [00:00<00:00,  1.63it/s, val_loss=0.397, val_ca=95.3, val_wa=0.814]\n"
     ]
    },
    {
     "name": "stdout",
     "output_type": "stream",
     "text": [
      "0.5802186876375016\n",
      "Validation loss decreased (0.580417 --> 0.580219).  Saving model ...\n"
     ]
    },
    {
     "name": "stderr",
     "output_type": "stream",
     "text": [
      "Epoch: [928]/[1200] Training: 100%|██████████| 7/7 [00:05<00:00,  1.35it/s, loss=2.67e-6, train_ca=100, train_wa=1]     \n",
      "Validating: 100%|██████████| 1/1 [00:00<00:00,  1.94it/s, val_loss=0.435, val_ca=94.6, val_wa=0.779]\n"
     ]
    },
    {
     "name": "stdout",
     "output_type": "stream",
     "text": [
      "0.5800630204139218\n",
      "Validation loss decreased (0.580219 --> 0.580063).  Saving model ...\n"
     ]
    },
    {
     "name": "stderr",
     "output_type": "stream",
     "text": [
      "Epoch: [929]/[1200] Training: 100%|██████████| 7/7 [00:04<00:00,  1.46it/s, loss=8.62e-6, train_ca=100, train_wa=1]     \n",
      "Validating: 100%|██████████| 1/1 [00:00<00:00,  1.96it/s, val_loss=0.411, val_ca=95.5, val_wa=0.802]\n"
     ]
    },
    {
     "name": "stdout",
     "output_type": "stream",
     "text": [
      "0.5798810238036638\n",
      "Validation loss decreased (0.580063 --> 0.579881).  Saving model ...\n"
     ]
    },
    {
     "name": "stderr",
     "output_type": "stream",
     "text": [
      "Epoch: [930]/[1200] Training: 100%|██████████| 7/7 [00:04<00:00,  1.46it/s, loss=2.19e-5, train_ca=100, train_wa=1]      \n",
      "Validating: 100%|██████████| 1/1 [00:00<00:00,  2.47it/s, val_loss=0.39, val_ca=95.5, val_wa=0.802]\n"
     ]
    },
    {
     "name": "stdout",
     "output_type": "stream",
     "text": [
      "0.579676759345337\n",
      "Validation loss decreased (0.579881 --> 0.579677).  Saving model ...\n"
     ]
    },
    {
     "name": "stderr",
     "output_type": "stream",
     "text": [
      "Epoch: [931]/[1200] Training: 100%|██████████| 7/7 [00:05<00:00,  1.39it/s, loss=8.41e-5, train_ca=100, train_wa=1]      \n",
      "Validating: 100%|██████████| 1/1 [00:00<00:00,  1.68it/s, val_loss=0.378, val_ca=95.5, val_wa=0.802]\n"
     ]
    },
    {
     "name": "stdout",
     "output_type": "stream",
     "text": [
      "0.5794603019984716\n",
      "Validation loss decreased (0.579677 --> 0.579460).  Saving model ...\n"
     ]
    },
    {
     "name": "stderr",
     "output_type": "stream",
     "text": [
      "Epoch: [932]/[1200] Training: 100%|██████████| 7/7 [00:05<00:00,  1.40it/s, loss=1.96e-5, train_ca=100, train_wa=1]     \n",
      "Validating: 100%|██████████| 1/1 [00:00<00:00,  1.63it/s, val_loss=0.383, val_ca=95.5, val_wa=0.802]\n"
     ]
    },
    {
     "name": "stdout",
     "output_type": "stream",
     "text": [
      "0.579249788243204\n",
      "Validation loss decreased (0.579460 --> 0.579250).  Saving model ...\n"
     ]
    },
    {
     "name": "stderr",
     "output_type": "stream",
     "text": [
      "Epoch: [933]/[1200] Training: 100%|██████████| 7/7 [00:05<00:00,  1.37it/s, loss=5.6e-6, train_ca=100, train_wa=1]      \n",
      "Validating: 100%|██████████| 1/1 [00:00<00:00,  2.00it/s, val_loss=0.384, val_ca=95.5, val_wa=0.802]\n"
     ]
    },
    {
     "name": "stdout",
     "output_type": "stream",
     "text": [
      "0.5790407315932493\n",
      "Validation loss decreased (0.579250 --> 0.579041).  Saving model ...\n"
     ]
    },
    {
     "name": "stderr",
     "output_type": "stream",
     "text": [
      "Epoch: [934]/[1200] Training: 100%|██████████| 7/7 [00:05<00:00,  1.34it/s, loss=0.000205, train_ca=100, train_wa=1]     \n",
      "Validating: 100%|██████████| 1/1 [00:00<00:00,  1.94it/s, val_loss=0.387, val_ca=95.5, val_wa=0.802]\n"
     ]
    },
    {
     "name": "stdout",
     "output_type": "stream",
     "text": [
      "0.5788351828471209\n",
      "Validation loss decreased (0.579041 --> 0.578835).  Saving model ...\n"
     ]
    },
    {
     "name": "stderr",
     "output_type": "stream",
     "text": [
      "Epoch: [935]/[1200] Training: 100%|██████████| 7/7 [00:05<00:00,  1.39it/s, loss=7.7e-6, train_ca=100, train_wa=1]       \n",
      "Validating: 100%|██████████| 1/1 [00:00<00:00,  1.99it/s, val_loss=0.403, val_ca=95.3, val_wa=0.802]\n"
     ]
    },
    {
     "name": "stdout",
     "output_type": "stream",
     "text": [
      "0.5786474357610578\n",
      "Validation loss decreased (0.578835 --> 0.578647).  Saving model ...\n"
     ]
    },
    {
     "name": "stderr",
     "output_type": "stream",
     "text": [
      "Epoch: [936]/[1200] Training: 100%|██████████| 7/7 [00:05<00:00,  1.39it/s, loss=0.000218, train_ca=100, train_wa=1]     \n",
      "Validating: 100%|██████████| 1/1 [00:00<00:00,  1.94it/s, val_loss=0.4, val_ca=95.5, val_wa=0.802]\n"
     ]
    },
    {
     "name": "stdout",
     "output_type": "stream",
     "text": [
      "0.5784565306612169\n",
      "Validation loss decreased (0.578647 --> 0.578457).  Saving model ...\n"
     ]
    },
    {
     "name": "stderr",
     "output_type": "stream",
     "text": [
      "Epoch: [937]/[1200] Training: 100%|██████████| 7/7 [00:04<00:00,  1.42it/s, loss=6.94e-5, train_ca=100, train_wa=1]      \n",
      "Validating: 100%|██████████| 1/1 [00:00<00:00,  2.43it/s, val_loss=0.369, val_ca=95.8, val_wa=0.814]\n"
     ]
    },
    {
     "name": "stdout",
     "output_type": "stream",
     "text": [
      "0.578233173733956\n",
      "Validation loss decreased (0.578457 --> 0.578233).  Saving model ...\n"
     ]
    },
    {
     "name": "stderr",
     "output_type": "stream",
     "text": [
      "Epoch: [938]/[1200] Training: 100%|██████████| 7/7 [00:04<00:00,  1.43it/s, loss=5.16e-5, train_ca=100, train_wa=1]      \n",
      "Validating: 100%|██████████| 1/1 [00:00<00:00,  2.39it/s, val_loss=0.361, val_ca=95.8, val_wa=0.826]\n"
     ]
    },
    {
     "name": "stdout",
     "output_type": "stream",
     "text": [
      "0.5780023310412752\n",
      "Validation loss decreased (0.578233 --> 0.578002).  Saving model ...\n"
     ]
    },
    {
     "name": "stderr",
     "output_type": "stream",
     "text": [
      "Epoch: [939]/[1200] Training: 100%|██████████| 7/7 [00:04<00:00,  1.43it/s, loss=2.63e-5, train_ca=100, train_wa=1]      \n",
      "Validating: 100%|██████████| 1/1 [00:00<00:00,  1.93it/s, val_loss=0.351, val_ca=95.8, val_wa=0.826]\n"
     ]
    },
    {
     "name": "stdout",
     "output_type": "stream",
     "text": [
      "0.5777615108601472\n",
      "Validation loss decreased (0.578002 --> 0.577762).  Saving model ...\n"
     ]
    },
    {
     "name": "stderr",
     "output_type": "stream",
     "text": [
      "Epoch: [940]/[1200] Training: 100%|██████████| 7/7 [00:05<00:00,  1.38it/s, loss=2.99e-5, train_ca=100, train_wa=1]      \n",
      "Validating: 100%|██████████| 1/1 [00:00<00:00,  2.40it/s, val_loss=0.352, val_ca=95.6, val_wa=0.814]\n"
     ]
    },
    {
     "name": "stdout",
     "output_type": "stream",
     "text": [
      "0.5775216280021992\n",
      "Validation loss decreased (0.577762 --> 0.577522).  Saving model ...\n"
     ]
    },
    {
     "name": "stderr",
     "output_type": "stream",
     "text": [
      "Epoch: [941]/[1200] Training: 100%|██████████| 7/7 [00:05<00:00,  1.29it/s, loss=4.93e-5, train_ca=100, train_wa=1]      \n",
      "Validating: 100%|██████████| 1/1 [00:00<00:00,  1.64it/s, val_loss=0.347, val_ca=95.6, val_wa=0.814]\n"
     ]
    },
    {
     "name": "stdout",
     "output_type": "stream",
     "text": [
      "0.577276897202873\n",
      "Validation loss decreased (0.577522 --> 0.577277).  Saving model ...\n"
     ]
    },
    {
     "name": "stderr",
     "output_type": "stream",
     "text": [
      "Epoch: [942]/[1200] Training: 100%|██████████| 7/7 [00:04<00:00,  1.40it/s, loss=8.89e-5, train_ca=100, train_wa=1]      \n",
      "Validating: 100%|██████████| 1/1 [00:00<00:00,  3.37it/s, val_loss=0.351, val_ca=95.5, val_wa=0.802]\n"
     ]
    },
    {
     "name": "stdout",
     "output_type": "stream",
     "text": [
      "0.5770372566214558\n",
      "Validation loss decreased (0.577277 --> 0.577037).  Saving model ...\n"
     ]
    },
    {
     "name": "stderr",
     "output_type": "stream",
     "text": [
      "Epoch: [943]/[1200] Training: 100%|██████████| 7/7 [00:04<00:00,  1.42it/s, loss=0.000389, train_ca=100, train_wa=1]     \n",
      "Validating: 100%|██████████| 1/1 [00:00<00:00,  1.67it/s, val_loss=0.349, val_ca=95.8, val_wa=0.814]\n"
     ]
    },
    {
     "name": "stdout",
     "output_type": "stream",
     "text": [
      "0.5767963209480205\n",
      "Validation loss decreased (0.577037 --> 0.576796).  Saving model ...\n"
     ]
    },
    {
     "name": "stderr",
     "output_type": "stream",
     "text": [
      "Epoch: [944]/[1200] Training: 100%|██████████| 7/7 [00:05<00:00,  1.32it/s, loss=1.64e-5, train_ca=100, train_wa=1]      \n",
      "Validating: 100%|██████████| 1/1 [00:00<00:00,  1.65it/s, val_loss=0.387, val_ca=96.2, val_wa=0.791]\n"
     ]
    },
    {
     "name": "stdout",
     "output_type": "stream",
     "text": [
      "0.576595288407979\n",
      "Validation loss decreased (0.576796 --> 0.576595).  Saving model ...\n"
     ]
    },
    {
     "name": "stderr",
     "output_type": "stream",
     "text": [
      "Epoch: [945]/[1200] Training: 100%|██████████| 7/7 [00:04<00:00,  1.40it/s, loss=0.000603, train_ca=100, train_wa=1]     \n",
      "Validating: 100%|██████████| 1/1 [00:00<00:00,  1.64it/s, val_loss=0.382, val_ca=96.3, val_wa=0.802]\n"
     ]
    },
    {
     "name": "stdout",
     "output_type": "stream",
     "text": [
      "0.5763900656697617\n",
      "Validation loss decreased (0.576595 --> 0.576390).  Saving model ...\n"
     ]
    },
    {
     "name": "stderr",
     "output_type": "stream",
     "text": [
      "Epoch: [946]/[1200] Training: 100%|██████████| 7/7 [00:04<00:00,  1.52it/s, loss=6.4e-5, train_ca=100, train_wa=1]      \n",
      "Validating: 100%|██████████| 1/1 [00:00<00:00,  1.43it/s, val_loss=0.409, val_ca=95.1, val_wa=0.779]\n"
     ]
    },
    {
     "name": "stdout",
     "output_type": "stream",
     "text": [
      "0.5762138863090221\n",
      "Validation loss decreased (0.576390 --> 0.576214).  Saving model ...\n"
     ]
    },
    {
     "name": "stderr",
     "output_type": "stream",
     "text": [
      "Epoch: [947]/[1200] Training: 100%|██████████| 7/7 [00:04<00:00,  1.42it/s, loss=4.58e-5, train_ca=100, train_wa=1]      \n",
      "Validating: 100%|██████████| 1/1 [00:00<00:00,  1.96it/s, val_loss=0.355, val_ca=96.5, val_wa=0.826]\n"
     ]
    },
    {
     "name": "stdout",
     "output_type": "stream",
     "text": [
      "0.5759806842145729\n",
      "Validation loss decreased (0.576214 --> 0.575981).  Saving model ...\n"
     ]
    },
    {
     "name": "stderr",
     "output_type": "stream",
     "text": [
      "Epoch: [948]/[1200] Training: 100%|██████████| 7/7 [00:04<00:00,  1.48it/s, loss=0.0465, train_ca=97.1, train_wa=0.8]    \n",
      "Validating: 100%|██████████| 1/1 [00:00<00:00,  1.66it/s, val_loss=0.37, val_ca=95.8, val_wa=0.791]\n"
     ]
    },
    {
     "name": "stdout",
     "output_type": "stream",
     "text": [
      "0.5757634481630828\n",
      "Validation loss decreased (0.575981 --> 0.575763).  Saving model ...\n"
     ]
    },
    {
     "name": "stderr",
     "output_type": "stream",
     "text": [
      "Epoch: [949]/[1200] Training: 100%|██████████| 7/7 [00:05<00:00,  1.38it/s, loss=1.19e-5, train_ca=100, train_wa=1]    \n",
      "Validating: 100%|██████████| 1/1 [00:00<00:00,  1.99it/s, val_loss=0.468, val_ca=95.1, val_wa=0.767]\n"
     ]
    },
    {
     "name": "stdout",
     "output_type": "stream",
     "text": [
      "0.5756499832799633\n",
      "Validation loss decreased (0.575763 --> 0.575650).  Saving model ...\n"
     ]
    },
    {
     "name": "stderr",
     "output_type": "stream",
     "text": [
      "Epoch: [950]/[1200] Training: 100%|██████████| 7/7 [00:04<00:00,  1.46it/s, loss=0.000175, train_ca=100, train_wa=1]    \n",
      "Validating: 100%|██████████| 1/1 [00:00<00:00,  2.02it/s, val_loss=0.427, val_ca=95.6, val_wa=0.791]\n"
     ]
    },
    {
     "name": "stdout",
     "output_type": "stream",
     "text": [
      "0.575494112212117\n",
      "Validation loss decreased (0.575650 --> 0.575494).  Saving model ...\n"
     ]
    },
    {
     "name": "stderr",
     "output_type": "stream",
     "text": [
      "Epoch: [951]/[1200] Training: 100%|██████████| 7/7 [00:05<00:00,  1.38it/s, loss=0.000416, train_ca=100, train_wa=1]    \n",
      "Validating: 100%|██████████| 1/1 [00:00<00:00,  1.63it/s, val_loss=0.496, val_ca=95.1, val_wa=0.779]\n"
     ]
    },
    {
     "name": "stdout",
     "output_type": "stream",
     "text": [
      "0.5754111341014113\n",
      "Validation loss decreased (0.575494 --> 0.575411).  Saving model ...\n"
     ]
    },
    {
     "name": "stderr",
     "output_type": "stream",
     "text": [
      "Epoch: [952]/[1200] Training: 100%|██████████| 7/7 [00:05<00:00,  1.35it/s, loss=1.58e-5, train_ca=100, train_wa=1]      \n",
      "Validating: 100%|██████████| 1/1 [00:00<00:00,  1.64it/s, val_loss=0.375, val_ca=96.1, val_wa=0.826]\n"
     ]
    },
    {
     "name": "stdout",
     "output_type": "stream",
     "text": [
      "0.5752011237341903\n",
      "Validation loss decreased (0.575411 --> 0.575201).  Saving model ...\n"
     ]
    },
    {
     "name": "stderr",
     "output_type": "stream",
     "text": [
      "Epoch: [953]/[1200] Training: 100%|██████████| 7/7 [00:05<00:00,  1.40it/s, loss=1.28e-5, train_ca=100, train_wa=1]     \n",
      "Validating: 100%|██████████| 1/1 [00:00<00:00,  1.67it/s, val_loss=0.342, val_ca=96.3, val_wa=0.826]\n"
     ]
    },
    {
     "name": "stdout",
     "output_type": "stream",
     "text": [
      "0.5749564481343274\n",
      "Validation loss decreased (0.575201 --> 0.574956).  Saving model ...\n"
     ]
    },
    {
     "name": "stderr",
     "output_type": "stream",
     "text": [
      "Epoch: [954]/[1200] Training: 100%|██████████| 7/7 [00:05<00:00,  1.35it/s, loss=1.62e-5, train_ca=100, train_wa=1]     \n",
      "Validating: 100%|██████████| 1/1 [00:00<00:00,  1.93it/s, val_loss=0.388, val_ca=96.3, val_wa=0.826]\n"
     ]
    },
    {
     "name": "stdout",
     "output_type": "stream",
     "text": [
      "0.5747610188740068\n",
      "Validation loss decreased (0.574956 --> 0.574761).  Saving model ...\n"
     ]
    },
    {
     "name": "stderr",
     "output_type": "stream",
     "text": [
      "Epoch: [955]/[1200] Training: 100%|██████████| 7/7 [00:05<00:00,  1.38it/s, loss=0.000127, train_ca=100, train_wa=1]    \n",
      "Validating: 100%|██████████| 1/1 [00:00<00:00,  2.00it/s, val_loss=0.521, val_ca=94.7, val_wa=0.767]\n"
     ]
    },
    {
     "name": "stdout",
     "output_type": "stream",
     "text": [
      "0.5747043952236853\n",
      "Validation loss decreased (0.574761 --> 0.574704).  Saving model ...\n"
     ]
    },
    {
     "name": "stderr",
     "output_type": "stream",
     "text": [
      "Epoch: [956]/[1200] Training: 100%|██████████| 7/7 [00:04<00:00,  1.47it/s, loss=8.2e-5, train_ca=100, train_wa=1]      \n",
      "Validating: 100%|██████████| 1/1 [00:00<00:00,  1.93it/s, val_loss=0.38, val_ca=96.1, val_wa=0.814]\n"
     ]
    },
    {
     "name": "stdout",
     "output_type": "stream",
     "text": [
      "0.5745011541315808\n",
      "Validation loss decreased (0.574704 --> 0.574501).  Saving model ...\n"
     ]
    },
    {
     "name": "stderr",
     "output_type": "stream",
     "text": [
      "Epoch: [957]/[1200] Training: 100%|██████████| 7/7 [00:05<00:00,  1.30it/s, loss=5.34e-5, train_ca=100, train_wa=1]      \n",
      "Validating: 100%|██████████| 1/1 [00:00<00:00,  2.37it/s, val_loss=0.408, val_ca=95.4, val_wa=0.779]\n"
     ]
    },
    {
     "name": "stdout",
     "output_type": "stream",
     "text": [
      "0.5743276143409661\n",
      "Validation loss decreased (0.574501 --> 0.574328).  Saving model ...\n"
     ]
    },
    {
     "name": "stderr",
     "output_type": "stream",
     "text": [
      "Epoch: [958]/[1200] Training: 100%|██████████| 7/7 [00:05<00:00,  1.35it/s, loss=6.75e-5, train_ca=100, train_wa=1]     \n",
      "Validating: 100%|██████████| 1/1 [00:00<00:00,  2.41it/s, val_loss=0.378, val_ca=95.7, val_wa=0.791]\n"
     ]
    },
    {
     "name": "stdout",
     "output_type": "stream",
     "text": [
      "0.5741228099601964\n",
      "Validation loss decreased (0.574328 --> 0.574123).  Saving model ...\n"
     ]
    },
    {
     "name": "stderr",
     "output_type": "stream",
     "text": [
      "Epoch: [959]/[1200] Training: 100%|██████████| 7/7 [00:05<00:00,  1.29it/s, loss=9.88e-6, train_ca=100, train_wa=1]     \n",
      "Validating: 100%|██████████| 1/1 [00:00<00:00,  1.97it/s, val_loss=0.394, val_ca=95.3, val_wa=0.802]\n"
     ]
    },
    {
     "name": "stdout",
     "output_type": "stream",
     "text": [
      "0.5739356223551961\n",
      "Validation loss decreased (0.574123 --> 0.573936).  Saving model ...\n"
     ]
    },
    {
     "name": "stderr",
     "output_type": "stream",
     "text": [
      "Epoch: [960]/[1200] Training: 100%|██████████| 7/7 [00:04<00:00,  1.56it/s, loss=0.00206, train_ca=100, train_wa=1]      \n",
      "Validating: 100%|██████████| 1/1 [00:00<00:00,  1.67it/s, val_loss=0.421, val_ca=95, val_wa=0.779]\n"
     ]
    },
    {
     "name": "stdout",
     "output_type": "stream",
     "text": [
      "0.5737764140176674\n",
      "Validation loss decreased (0.573936 --> 0.573776).  Saving model ...\n"
     ]
    },
    {
     "name": "stderr",
     "output_type": "stream",
     "text": [
      "Epoch: [961]/[1200] Training: 100%|██████████| 7/7 [00:05<00:00,  1.34it/s, loss=2.64e-5, train_ca=100, train_wa=1]     \n",
      "Validating: 100%|██████████| 1/1 [00:00<00:00,  1.94it/s, val_loss=0.418, val_ca=96, val_wa=0.802]\n"
     ]
    },
    {
     "name": "stdout",
     "output_type": "stream",
     "text": [
      "0.573614633962249\n",
      "Validation loss decreased (0.573776 --> 0.573615).  Saving model ...\n"
     ]
    },
    {
     "name": "stderr",
     "output_type": "stream",
     "text": [
      "Epoch: [962]/[1200] Training: 100%|██████████| 7/7 [00:05<00:00,  1.39it/s, loss=8.13e-6, train_ca=100, train_wa=1]     \n",
      "Validating: 100%|██████████| 1/1 [00:00<00:00,  2.00it/s, val_loss=0.391, val_ca=96.4, val_wa=0.814]\n"
     ]
    },
    {
     "name": "stdout",
     "output_type": "stream",
     "text": [
      "0.5734250935034139\n",
      "Validation loss decreased (0.573615 --> 0.573425).  Saving model ...\n"
     ]
    },
    {
     "name": "stderr",
     "output_type": "stream",
     "text": [
      "Epoch: [963]/[1200] Training: 100%|██████████| 7/7 [00:05<00:00,  1.38it/s, loss=0.0118, train_ca=100, train_wa=1]      \n",
      "Validating: 100%|██████████| 1/1 [00:00<00:00,  1.97it/s, val_loss=0.375, val_ca=96.5, val_wa=0.837]\n"
     ]
    },
    {
     "name": "stdout",
     "output_type": "stream",
     "text": [
      "0.5732190095390063\n",
      "Validation loss decreased (0.573425 --> 0.573219).  Saving model ...\n"
     ]
    },
    {
     "name": "stderr",
     "output_type": "stream",
     "text": [
      "Epoch: [964]/[1200] Training: 100%|██████████| 7/7 [00:05<00:00,  1.34it/s, loss=7.93e-5, train_ca=100, train_wa=1]     \n",
      "Validating: 100%|██████████| 1/1 [00:00<00:00,  1.98it/s, val_loss=0.353, val_ca=96.9, val_wa=0.826]\n"
     ]
    },
    {
     "name": "stdout",
     "output_type": "stream",
     "text": [
      "0.5729914161359301\n",
      "Validation loss decreased (0.573219 --> 0.572991).  Saving model ...\n"
     ]
    },
    {
     "name": "stderr",
     "output_type": "stream",
     "text": [
      "Epoch: [965]/[1200] Training: 100%|██████████| 7/7 [00:05<00:00,  1.37it/s, loss=0.521, train_ca=97.1, train_wa=0.8]    \n",
      "Validating: 100%|██████████| 1/1 [00:00<00:00,  2.50it/s, val_loss=0.339, val_ca=96, val_wa=0.826]\n"
     ]
    },
    {
     "name": "stdout",
     "output_type": "stream",
     "text": [
      "0.5727491659856755\n",
      "Validation loss decreased (0.572991 --> 0.572749).  Saving model ...\n"
     ]
    },
    {
     "name": "stderr",
     "output_type": "stream",
     "text": [
      "Epoch: [966]/[1200] Training: 100%|██████████| 7/7 [00:04<00:00,  1.43it/s, loss=5.55e-5, train_ca=100, train_wa=1]     \n",
      "Validating: 100%|██████████| 1/1 [00:00<00:00,  2.01it/s, val_loss=0.373, val_ca=96.2, val_wa=0.826]\n"
     ]
    },
    {
     "name": "stdout",
     "output_type": "stream",
     "text": [
      "0.572542805748045\n",
      "Validation loss decreased (0.572749 --> 0.572543).  Saving model ...\n"
     ]
    },
    {
     "name": "stderr",
     "output_type": "stream",
     "text": [
      "Epoch: [967]/[1200] Training: 100%|██████████| 7/7 [00:05<00:00,  1.36it/s, loss=0.000876, train_ca=100, train_wa=1]    \n",
      "Validating: 100%|██████████| 1/1 [00:00<00:00,  1.67it/s, val_loss=0.412, val_ca=96.1, val_wa=0.802]\n"
     ]
    },
    {
     "name": "stdout",
     "output_type": "stream",
     "text": [
      "0.5723768243233609\n",
      "Validation loss decreased (0.572543 --> 0.572377).  Saving model ...\n"
     ]
    },
    {
     "name": "stderr",
     "output_type": "stream",
     "text": [
      "Epoch: [968]/[1200] Training: 100%|██████████| 7/7 [00:05<00:00,  1.31it/s, loss=3.58e-5, train_ca=100, train_wa=1]     \n",
      "Validating: 100%|██████████| 1/1 [00:00<00:00,  1.95it/s, val_loss=0.474, val_ca=94.2, val_wa=0.744]\n"
     ]
    },
    {
     "name": "stdout",
     "output_type": "stream",
     "text": [
      "0.5722749147525767\n",
      "Validation loss decreased (0.572377 --> 0.572275).  Saving model ...\n"
     ]
    },
    {
     "name": "stderr",
     "output_type": "stream",
     "text": [
      "Epoch: [969]/[1200] Training: 100%|██████████| 7/7 [00:05<00:00,  1.39it/s, loss=0.000142, train_ca=100, train_wa=1]    \n",
      "Validating: 100%|██████████| 1/1 [00:00<00:00,  1.96it/s, val_loss=0.613, val_ca=93.6, val_wa=0.721]\n"
     ]
    },
    {
     "name": "stdout",
     "output_type": "stream",
     "text": [
      "0.5723169811538025\n",
      "EarlyStopping counter: (-0.572275 1 out of 15)\n"
     ]
    },
    {
     "name": "stderr",
     "output_type": "stream",
     "text": [
      "Epoch: [970]/[1200] Training: 100%|██████████| 7/7 [00:05<00:00,  1.38it/s, loss=0.00098, train_ca=100, train_wa=1]     \n",
      "Validating: 100%|██████████| 1/1 [00:00<00:00,  2.48it/s, val_loss=0.493, val_ca=95.2, val_wa=0.756]\n"
     ]
    },
    {
     "name": "stdout",
     "output_type": "stream",
     "text": [
      "0.5722352911722023\n",
      "Validation loss decreased (0.572275 --> 0.572235).  Saving model ...\n"
     ]
    },
    {
     "name": "stderr",
     "output_type": "stream",
     "text": [
      "Epoch: [971]/[1200] Training: 100%|██████████| 7/7 [00:05<00:00,  1.34it/s, loss=0.0382, train_ca=97.1, train_wa=0.8]   \n",
      "Validating: 100%|██████████| 1/1 [00:00<00:00,  1.97it/s, val_loss=0.481, val_ca=95.7, val_wa=0.791]\n"
     ]
    },
    {
     "name": "stdout",
     "output_type": "stream",
     "text": [
      "0.5721416164951482\n",
      "Validation loss decreased (0.572235 --> 0.572142).  Saving model ...\n"
     ]
    },
    {
     "name": "stderr",
     "output_type": "stream",
     "text": [
      "Epoch: [972]/[1200] Training: 100%|██████████| 7/7 [00:04<00:00,  1.41it/s, loss=0.0257, train_ca=97.1, train_wa=0.8]   \n",
      "Validating: 100%|██████████| 1/1 [00:00<00:00,  2.00it/s, val_loss=0.383, val_ca=96.4, val_wa=0.814]\n"
     ]
    },
    {
     "name": "stdout",
     "output_type": "stream",
     "text": [
      "0.5719471026127833\n",
      "Validation loss decreased (0.572142 --> 0.571947).  Saving model ...\n"
     ]
    },
    {
     "name": "stderr",
     "output_type": "stream",
     "text": [
      "Epoch: [973]/[1200] Training: 100%|██████████| 7/7 [00:04<00:00,  1.41it/s, loss=2.17e-5, train_ca=100, train_wa=1]     \n",
      "Validating: 100%|██████████| 1/1 [00:00<00:00,  1.42it/s, val_loss=0.378, val_ca=96.5, val_wa=0.826]\n"
     ]
    },
    {
     "name": "stdout",
     "output_type": "stream",
     "text": [
      "0.5717480672628452\n",
      "Validation loss decreased (0.571947 --> 0.571748).  Saving model ...\n"
     ]
    },
    {
     "name": "stderr",
     "output_type": "stream",
     "text": [
      "Epoch: [974]/[1200] Training: 100%|██████████| 7/7 [00:05<00:00,  1.37it/s, loss=0.000146, train_ca=100, train_wa=1]     \n",
      "Validating: 100%|██████████| 1/1 [00:00<00:00,  1.98it/s, val_loss=0.455, val_ca=95.8, val_wa=0.802]\n"
     ]
    },
    {
     "name": "stdout",
     "output_type": "stream",
     "text": [
      "0.5716288594803849\n",
      "Validation loss decreased (0.571748 --> 0.571629).  Saving model ...\n"
     ]
    },
    {
     "name": "stderr",
     "output_type": "stream",
     "text": [
      "Epoch: [975]/[1200] Training: 100%|██████████| 7/7 [00:04<00:00,  1.46it/s, loss=0.000773, train_ca=100, train_wa=1]    \n",
      "Validating: 100%|██████████| 1/1 [00:00<00:00,  1.99it/s, val_loss=0.407, val_ca=95, val_wa=0.779]\n"
     ]
    },
    {
     "name": "stdout",
     "output_type": "stream",
     "text": [
      "0.5714604611467559\n",
      "Validation loss decreased (0.571629 --> 0.571460).  Saving model ...\n"
     ]
    },
    {
     "name": "stderr",
     "output_type": "stream",
     "text": [
      "Epoch: [976]/[1200] Training: 100%|██████████| 7/7 [00:05<00:00,  1.38it/s, loss=0.000871, train_ca=100, train_wa=1]    \n",
      "Validating: 100%|██████████| 1/1 [00:00<00:00,  1.68it/s, val_loss=0.472, val_ca=95.5, val_wa=0.791]\n"
     ]
    },
    {
     "name": "stdout",
     "output_type": "stream",
     "text": [
      "0.5713585137041068\n",
      "Validation loss decreased (0.571460 --> 0.571359).  Saving model ...\n"
     ]
    },
    {
     "name": "stderr",
     "output_type": "stream",
     "text": [
      "Epoch: [977]/[1200] Training: 100%|██████████| 7/7 [00:04<00:00,  1.43it/s, loss=3.49e-5, train_ca=100, train_wa=1]     \n",
      "Validating: 100%|██████████| 1/1 [00:00<00:00,  1.99it/s, val_loss=0.515, val_ca=96, val_wa=0.802]\n"
     ]
    },
    {
     "name": "stdout",
     "output_type": "stream",
     "text": [
      "0.5713007163648343\n",
      "Validation loss decreased (0.571359 --> 0.571301).  Saving model ...\n"
     ]
    },
    {
     "name": "stderr",
     "output_type": "stream",
     "text": [
      "Epoch: [978]/[1200] Training: 100%|██████████| 7/7 [00:05<00:00,  1.34it/s, loss=1.76e-5, train_ca=100, train_wa=1]     \n",
      "Validating: 100%|██████████| 1/1 [00:00<00:00,  2.43it/s, val_loss=0.517, val_ca=95.3, val_wa=0.779]\n"
     ]
    },
    {
     "name": "stdout",
     "output_type": "stream",
     "text": [
      "0.5712450293557985\n",
      "Validation loss decreased (0.571301 --> 0.571245).  Saving model ...\n"
     ]
    },
    {
     "name": "stderr",
     "output_type": "stream",
     "text": [
      "Epoch: [979]/[1200] Training: 100%|██████████| 7/7 [00:05<00:00,  1.40it/s, loss=0.000403, train_ca=100, train_wa=1]    \n",
      "Validating: 100%|██████████| 1/1 [00:00<00:00,  1.95it/s, val_loss=0.508, val_ca=95.3, val_wa=0.802]\n"
     ]
    },
    {
     "name": "stdout",
     "output_type": "stream",
     "text": [
      "0.5711801154472533\n",
      "Validation loss decreased (0.571245 --> 0.571180).  Saving model ...\n"
     ]
    },
    {
     "name": "stderr",
     "output_type": "stream",
     "text": [
      "Epoch: [980]/[1200] Training: 100%|██████████| 7/7 [00:05<00:00,  1.36it/s, loss=2.02e-5, train_ca=100, train_wa=1]     \n",
      "Validating: 100%|██████████| 1/1 [00:00<00:00,  2.42it/s, val_loss=0.455, val_ca=95.8, val_wa=0.826]\n"
     ]
    },
    {
     "name": "stdout",
     "output_type": "stream",
     "text": [
      "0.5710619688337544\n",
      "Validation loss decreased (0.571180 --> 0.571062).  Saving model ...\n"
     ]
    },
    {
     "name": "stderr",
     "output_type": "stream",
     "text": [
      "Epoch: [981]/[1200] Training: 100%|██████████| 7/7 [00:04<00:00,  1.42it/s, loss=0.000186, train_ca=100, train_wa=1]    \n",
      "Validating: 100%|██████████| 1/1 [00:00<00:00,  2.40it/s, val_loss=0.475, val_ca=95.5, val_wa=0.802]\n"
     ]
    },
    {
     "name": "stdout",
     "output_type": "stream",
     "text": [
      "0.5709646862314773\n",
      "Validation loss decreased (0.571062 --> 0.570965).  Saving model ...\n"
     ]
    },
    {
     "name": "stderr",
     "output_type": "stream",
     "text": [
      "Epoch: [982]/[1200] Training: 100%|██████████| 7/7 [00:05<00:00,  1.38it/s, loss=0.00108, train_ca=100, train_wa=1]     \n",
      "Validating: 100%|██████████| 1/1 [00:00<00:00,  1.42it/s, val_loss=0.458, val_ca=95.7, val_wa=0.826]\n"
     ]
    },
    {
     "name": "stdout",
     "output_type": "stream",
     "text": [
      "0.5708499630776848\n",
      "Validation loss decreased (0.570965 --> 0.570850).  Saving model ...\n"
     ]
    },
    {
     "name": "stderr",
     "output_type": "stream",
     "text": [
      "Epoch: [983]/[1200] Training: 100%|██████████| 7/7 [00:04<00:00,  1.44it/s, loss=5.91e-5, train_ca=100, train_wa=1]     \n",
      "Validating: 100%|██████████| 1/1 [00:00<00:00,  1.95it/s, val_loss=0.416, val_ca=95.8, val_wa=0.802]\n"
     ]
    },
    {
     "name": "stdout",
     "output_type": "stream",
     "text": [
      "0.5706923189199515\n",
      "Validation loss decreased (0.570850 --> 0.570692).  Saving model ...\n"
     ]
    },
    {
     "name": "stderr",
     "output_type": "stream",
     "text": [
      "Epoch: [984]/[1200] Training: 100%|██████████| 7/7 [00:05<00:00,  1.39it/s, loss=8.73e-5, train_ca=100, train_wa=1]      \n",
      "Validating: 100%|██████████| 1/1 [00:00<00:00,  1.94it/s, val_loss=0.408, val_ca=95.5, val_wa=0.802]\n"
     ]
    },
    {
     "name": "stdout",
     "output_type": "stream",
     "text": [
      "0.5705270925593424\n",
      "Validation loss decreased (0.570692 --> 0.570527).  Saving model ...\n"
     ]
    },
    {
     "name": "stderr",
     "output_type": "stream",
     "text": [
      "Epoch: [985]/[1200] Training: 100%|██████████| 7/7 [00:04<00:00,  1.41it/s, loss=0.00192, train_ca=100, train_wa=1]     \n",
      "Validating: 100%|██████████| 1/1 [00:00<00:00,  2.05it/s, val_loss=0.412, val_ca=96.2, val_wa=0.814]\n"
     ]
    },
    {
     "name": "stdout",
     "output_type": "stream",
     "text": [
      "0.5703667663452956\n",
      "Validation loss decreased (0.570527 --> 0.570367).  Saving model ...\n"
     ]
    },
    {
     "name": "stderr",
     "output_type": "stream",
     "text": [
      "Epoch: [986]/[1200] Training: 100%|██████████| 7/7 [00:05<00:00,  1.37it/s, loss=1.34e-5, train_ca=100, train_wa=1]     \n",
      "Validating: 100%|██████████| 1/1 [00:00<00:00,  1.65it/s, val_loss=0.433, val_ca=95.5, val_wa=0.802]\n"
     ]
    },
    {
     "name": "stdout",
     "output_type": "stream",
     "text": [
      "0.570227396391664\n",
      "Validation loss decreased (0.570367 --> 0.570227).  Saving model ...\n"
     ]
    },
    {
     "name": "stderr",
     "output_type": "stream",
     "text": [
      "Epoch: [987]/[1200] Training: 100%|██████████| 7/7 [00:05<00:00,  1.40it/s, loss=0.000132, train_ca=100, train_wa=1]    \n",
      "Validating: 100%|██████████| 1/1 [00:00<00:00,  1.96it/s, val_loss=0.404, val_ca=95.5, val_wa=0.779]\n"
     ]
    },
    {
     "name": "stdout",
     "output_type": "stream",
     "text": [
      "0.5700590051220932\n",
      "Validation loss decreased (0.570227 --> 0.570059).  Saving model ...\n"
     ]
    },
    {
     "name": "stderr",
     "output_type": "stream",
     "text": [
      "Epoch: [988]/[1200] Training: 100%|██████████| 7/7 [00:05<00:00,  1.36it/s, loss=4.07e-5, train_ca=100, train_wa=1]     \n",
      "Validating: 100%|██████████| 1/1 [00:00<00:00,  1.66it/s, val_loss=0.371, val_ca=95.7, val_wa=0.791]\n"
     ]
    },
    {
     "name": "stdout",
     "output_type": "stream",
     "text": [
      "0.5698575339534065\n",
      "Validation loss decreased (0.570059 --> 0.569858).  Saving model ...\n"
     ]
    },
    {
     "name": "stderr",
     "output_type": "stream",
     "text": [
      "Epoch: [989]/[1200] Training: 100%|██████████| 7/7 [00:04<00:00,  1.50it/s, loss=0.0204, train_ca=100, train_wa=1]       \n",
      "Validating: 100%|██████████| 1/1 [00:00<00:00,  1.65it/s, val_loss=0.346, val_ca=96.2, val_wa=0.814]\n"
     ]
    },
    {
     "name": "stdout",
     "output_type": "stream",
     "text": [
      "0.5696311964757748\n",
      "Validation loss decreased (0.569858 --> 0.569631).  Saving model ...\n"
     ]
    },
    {
     "name": "stderr",
     "output_type": "stream",
     "text": [
      "Epoch: [990]/[1200] Training: 100%|██████████| 7/7 [00:05<00:00,  1.40it/s, loss=1.08e-5, train_ca=100, train_wa=1]      \n",
      "Validating: 100%|██████████| 1/1 [00:00<00:00,  1.69it/s, val_loss=0.384, val_ca=96, val_wa=0.791]\n"
     ]
    },
    {
     "name": "stdout",
     "output_type": "stream",
     "text": [
      "0.5694441810070027\n",
      "Validation loss decreased (0.569631 --> 0.569444).  Saving model ...\n"
     ]
    },
    {
     "name": "stderr",
     "output_type": "stream",
     "text": [
      "Epoch: [991]/[1200] Training: 100%|██████████| 7/7 [00:04<00:00,  1.42it/s, loss=3.14e-5, train_ca=100, train_wa=1]      \n",
      "Validating: 100%|██████████| 1/1 [00:00<00:00,  1.62it/s, val_loss=0.419, val_ca=95.3, val_wa=0.779]\n"
     ]
    },
    {
     "name": "stdout",
     "output_type": "stream",
     "text": [
      "0.5692930818204314\n",
      "Validation loss decreased (0.569444 --> 0.569293).  Saving model ...\n"
     ]
    },
    {
     "name": "stderr",
     "output_type": "stream",
     "text": [
      "Epoch: [992]/[1200] Training: 100%|██████████| 7/7 [00:04<00:00,  1.50it/s, loss=0.000185, train_ca=100, train_wa=1]    \n",
      "Validating: 100%|██████████| 1/1 [00:00<00:00,  1.95it/s, val_loss=0.641, val_ca=93.1, val_wa=0.686]\n"
     ]
    },
    {
     "name": "stdout",
     "output_type": "stream",
     "text": [
      "0.5693651145132974\n",
      "EarlyStopping counter: (-0.569293 1 out of 15)\n"
     ]
    },
    {
     "name": "stderr",
     "output_type": "stream",
     "text": [
      "Epoch: [993]/[1200] Training: 100%|██████████| 7/7 [00:04<00:00,  1.41it/s, loss=2.28e-5, train_ca=100, train_wa=1]     \n",
      "Validating: 100%|██████████| 1/1 [00:00<00:00,  2.39it/s, val_loss=0.664, val_ca=92.7, val_wa=0.686]\n"
     ]
    },
    {
     "name": "stdout",
     "output_type": "stream",
     "text": [
      "0.5694607191349393\n",
      "EarlyStopping counter: (-0.569293 2 out of 15)\n"
     ]
    },
    {
     "name": "stderr",
     "output_type": "stream",
     "text": [
      "Epoch: [994]/[1200] Training: 100%|██████████| 7/7 [00:04<00:00,  1.50it/s, loss=3.87e-5, train_ca=100, train_wa=1]     \n",
      "Validating: 100%|██████████| 1/1 [00:00<00:00,  1.98it/s, val_loss=0.42, val_ca=95.8, val_wa=0.802]\n"
     ]
    },
    {
     "name": "stdout",
     "output_type": "stream",
     "text": [
      "0.5693102074136217\n",
      "EarlyStopping counter: (-0.569293 3 out of 15)\n"
     ]
    },
    {
     "name": "stderr",
     "output_type": "stream",
     "text": [
      "Epoch: [995]/[1200] Training: 100%|██████████| 7/7 [00:04<00:00,  1.46it/s, loss=5.89e-5, train_ca=100, train_wa=1]     \n",
      "Validating: 100%|██████████| 1/1 [00:00<00:00,  1.94it/s, val_loss=0.503, val_ca=93.4, val_wa=0.698]\n"
     ]
    },
    {
     "name": "stdout",
     "output_type": "stream",
     "text": [
      "0.5692436889695787\n",
      "Validation loss decreased (0.569293 --> 0.569244).  Saving model ...\n"
     ]
    },
    {
     "name": "stderr",
     "output_type": "stream",
     "text": [
      "Epoch: [996]/[1200] Training: 100%|██████████| 7/7 [00:04<00:00,  1.44it/s, loss=0.000571, train_ca=100, train_wa=1]     \n",
      "Validating: 100%|██████████| 1/1 [00:00<00:00,  2.43it/s, val_loss=0.337, val_ca=96.2, val_wa=0.802]\n"
     ]
    },
    {
     "name": "stdout",
     "output_type": "stream",
     "text": [
      "0.5690112322091101\n",
      "Validation loss decreased (0.569244 --> 0.569011).  Saving model ...\n"
     ]
    },
    {
     "name": "stderr",
     "output_type": "stream",
     "text": [
      "Epoch: [997]/[1200] Training: 100%|██████████| 7/7 [00:04<00:00,  1.45it/s, loss=0.000136, train_ca=100, train_wa=1]     \n",
      "Validating: 100%|██████████| 1/1 [00:00<00:00,  1.65it/s, val_loss=0.415, val_ca=96, val_wa=0.779]\n"
     ]
    },
    {
     "name": "stdout",
     "output_type": "stream",
     "text": [
      "0.5688568645113103\n",
      "Validation loss decreased (0.569011 --> 0.568857).  Saving model ...\n"
     ]
    },
    {
     "name": "stderr",
     "output_type": "stream",
     "text": [
      "Epoch: [998]/[1200] Training: 100%|██████████| 7/7 [00:04<00:00,  1.41it/s, loss=0.00652, train_ca=100, train_wa=1]     \n",
      "Validating: 100%|██████████| 1/1 [00:00<00:00,  2.40it/s, val_loss=0.399, val_ca=96.2, val_wa=0.826]\n"
     ]
    },
    {
     "name": "stdout",
     "output_type": "stream",
     "text": [
      "0.5686867181062698\n",
      "Validation loss decreased (0.568857 --> 0.568687).  Saving model ...\n"
     ]
    },
    {
     "name": "stderr",
     "output_type": "stream",
     "text": [
      "Epoch: [999]/[1200] Training: 100%|██████████| 7/7 [00:05<00:00,  1.39it/s, loss=6.04e-5, train_ca=100, train_wa=1]     \n",
      "Validating: 100%|██████████| 1/1 [00:00<00:00,  1.99it/s, val_loss=0.385, val_ca=95.7, val_wa=0.802]\n"
     ]
    },
    {
     "name": "stdout",
     "output_type": "stream",
     "text": [
      "0.5685036792443111\n",
      "Validation loss decreased (0.568687 --> 0.568504).  Saving model ...\n"
     ]
    },
    {
     "name": "stderr",
     "output_type": "stream",
     "text": [
      "Epoch: [1000]/[1200] Training: 100%|██████████| 7/7 [00:04<00:00,  1.48it/s, loss=0.000264, train_ca=100, train_wa=1]    \n",
      "Validating: 100%|██████████| 1/1 [00:00<00:00,  1.40it/s, val_loss=0.451, val_ca=95.7, val_wa=0.767]\n"
     ]
    },
    {
     "name": "stdout",
     "output_type": "stream",
     "text": [
      "0.5683866264279969\n",
      "Validation loss decreased (0.568504 --> 0.568387).  Saving model ...\n"
     ]
    },
    {
     "name": "stderr",
     "output_type": "stream",
     "text": [
      "Epoch: [1001]/[1200] Training: 100%|██████████| 7/7 [00:04<00:00,  1.47it/s, loss=0.0024, train_ca=100, train_wa=1]      \n",
      "Validating: 100%|██████████| 1/1 [00:00<00:00,  1.44it/s, val_loss=0.361, val_ca=95.8, val_wa=0.767]\n"
     ]
    },
    {
     "name": "stdout",
     "output_type": "stream",
     "text": [
      "0.5681803423172218\n",
      "Validation loss decreased (0.568387 --> 0.568180).  Saving model ...\n"
     ]
    },
    {
     "name": "stderr",
     "output_type": "stream",
     "text": [
      "Epoch: [1002]/[1200] Training: 100%|██████████| 7/7 [00:04<00:00,  1.42it/s, loss=0.0253, train_ca=97.1, train_wa=0.8]  \n",
      "Validating: 100%|██████████| 1/1 [00:00<00:00,  1.94it/s, val_loss=0.361, val_ca=94.8, val_wa=0.744]\n"
     ]
    },
    {
     "name": "stdout",
     "output_type": "stream",
     "text": [
      "0.5679735371850402\n",
      "Validation loss decreased (0.568180 --> 0.567974).  Saving model ...\n"
     ]
    },
    {
     "name": "stderr",
     "output_type": "stream",
     "text": [
      "Epoch: [1003]/[1200] Training: 100%|██████████| 7/7 [00:04<00:00,  1.42it/s, loss=0.000358, train_ca=100, train_wa=1]    \n",
      "Validating: 100%|██████████| 1/1 [00:00<00:00,  1.99it/s, val_loss=0.392, val_ca=95.7, val_wa=0.791]\n"
     ]
    },
    {
     "name": "stdout",
     "output_type": "stream",
     "text": [
      "0.5677982934968389\n",
      "Validation loss decreased (0.567974 --> 0.567798).  Saving model ...\n"
     ]
    },
    {
     "name": "stderr",
     "output_type": "stream",
     "text": [
      "Epoch: [1004]/[1200] Training: 100%|██████████| 7/7 [00:05<00:00,  1.36it/s, loss=0.000754, train_ca=100, train_wa=1]    \n",
      "Validating: 100%|██████████| 1/1 [00:00<00:00,  1.93it/s, val_loss=0.393, val_ca=96.2, val_wa=0.826]\n"
     ]
    },
    {
     "name": "stdout",
     "output_type": "stream",
     "text": [
      "0.5676244733110811\n",
      "Validation loss decreased (0.567798 --> 0.567624).  Saving model ...\n"
     ]
    },
    {
     "name": "stderr",
     "output_type": "stream",
     "text": [
      "Epoch: [1005]/[1200] Training: 100%|██████████| 7/7 [00:05<00:00,  1.34it/s, loss=6.04e-5, train_ca=100, train_wa=1]     \n",
      "Validating: 100%|██████████| 1/1 [00:00<00:00,  1.94it/s, val_loss=0.374, val_ca=96.6, val_wa=0.849]\n"
     ]
    },
    {
     "name": "stdout",
     "output_type": "stream",
     "text": [
      "0.5674326834754414\n",
      "Validation loss decreased (0.567624 --> 0.567433).  Saving model ...\n"
     ]
    },
    {
     "name": "stderr",
     "output_type": "stream",
     "text": [
      "Epoch: [1006]/[1200] Training: 100%|██████████| 7/7 [00:04<00:00,  1.42it/s, loss=0.000159, train_ca=100, train_wa=1]    \n",
      "Validating: 100%|██████████| 1/1 [00:00<00:00,  3.37it/s, val_loss=0.367, val_ca=96.6, val_wa=0.837]\n"
     ]
    },
    {
     "name": "stdout",
     "output_type": "stream",
     "text": [
      "0.5672337274466243\n",
      "Validation loss decreased (0.567433 --> 0.567234).  Saving model ...\n"
     ]
    },
    {
     "name": "stderr",
     "output_type": "stream",
     "text": [
      "Epoch: [1007]/[1200] Training: 100%|██████████| 7/7 [00:04<00:00,  1.44it/s, loss=3.53e-5, train_ca=100, train_wa=1]     \n",
      "Validating: 100%|██████████| 1/1 [00:00<00:00,  1.62it/s, val_loss=0.382, val_ca=96, val_wa=0.814]\n"
     ]
    },
    {
     "name": "stdout",
     "output_type": "stream",
     "text": [
      "0.5670502589585406\n",
      "Validation loss decreased (0.567234 --> 0.567050).  Saving model ...\n"
     ]
    },
    {
     "name": "stderr",
     "output_type": "stream",
     "text": [
      "Epoch: [1008]/[1200] Training: 100%|██████████| 7/7 [00:04<00:00,  1.42it/s, loss=0.000332, train_ca=100, train_wa=1]     \n",
      "Validating: 100%|██████████| 1/1 [00:00<00:00,  2.03it/s, val_loss=0.373, val_ca=96, val_wa=0.802]\n"
     ]
    },
    {
     "name": "stdout",
     "output_type": "stream",
     "text": [
      "0.5668584658072726\n",
      "Validation loss decreased (0.567050 --> 0.566858).  Saving model ...\n"
     ]
    },
    {
     "name": "stderr",
     "output_type": "stream",
     "text": [
      "Epoch: [1009]/[1200] Training: 100%|██████████| 7/7 [00:04<00:00,  1.43it/s, loss=1.28e-5, train_ca=100, train_wa=1]      \n",
      "Validating: 100%|██████████| 1/1 [00:00<00:00,  1.94it/s, val_loss=0.374, val_ca=96, val_wa=0.814]\n"
     ]
    },
    {
     "name": "stdout",
     "output_type": "stream",
     "text": [
      "0.5666675048518252\n",
      "Validation loss decreased (0.566858 --> 0.566668).  Saving model ...\n"
     ]
    },
    {
     "name": "stderr",
     "output_type": "stream",
     "text": [
      "Epoch: [1010]/[1200] Training: 100%|██████████| 7/7 [00:04<00:00,  1.42it/s, loss=0.147, train_ca=97.1, train_wa=0.8]    \n",
      "Validating: 100%|██████████| 1/1 [00:00<00:00,  2.44it/s, val_loss=0.379, val_ca=95.8, val_wa=0.814]\n"
     ]
    },
    {
     "name": "stdout",
     "output_type": "stream",
     "text": [
      "0.5664818354039324\n",
      "Validation loss decreased (0.566668 --> 0.566482).  Saving model ...\n"
     ]
    },
    {
     "name": "stderr",
     "output_type": "stream",
     "text": [
      "Epoch: [1011]/[1200] Training: 100%|██████████| 7/7 [00:05<00:00,  1.39it/s, loss=4.97e-5, train_ca=100, train_wa=1]      \n",
      "Validating: 100%|██████████| 1/1 [00:00<00:00,  2.52it/s, val_loss=0.358, val_ca=96.2, val_wa=0.814]\n"
     ]
    },
    {
     "name": "stdout",
     "output_type": "stream",
     "text": [
      "0.566275895553892\n",
      "Validation loss decreased (0.566482 --> 0.566276).  Saving model ...\n"
     ]
    },
    {
     "name": "stderr",
     "output_type": "stream",
     "text": [
      "Epoch: [1012]/[1200] Training: 100%|██████████| 7/7 [00:05<00:00,  1.38it/s, loss=3.91e-5, train_ca=100, train_wa=1]     \n",
      "Validating: 100%|██████████| 1/1 [00:00<00:00,  1.94it/s, val_loss=0.375, val_ca=95.7, val_wa=0.814]\n"
     ]
    },
    {
     "name": "stdout",
     "output_type": "stream",
     "text": [
      "0.5660869611732118\n",
      "Validation loss decreased (0.566276 --> 0.566087).  Saving model ...\n"
     ]
    },
    {
     "name": "stderr",
     "output_type": "stream",
     "text": [
      "Epoch: [1013]/[1200] Training: 100%|██████████| 7/7 [00:04<00:00,  1.41it/s, loss=0.000473, train_ca=100, train_wa=1]    \n",
      "Validating: 100%|██████████| 1/1 [00:00<00:00,  2.53it/s, val_loss=0.379, val_ca=95.6, val_wa=0.826]\n"
     ]
    },
    {
     "name": "stdout",
     "output_type": "stream",
     "text": [
      "0.5659022050538086\n",
      "Validation loss decreased (0.566087 --> 0.565902).  Saving model ...\n"
     ]
    },
    {
     "name": "stderr",
     "output_type": "stream",
     "text": [
      "Epoch: [1014]/[1200] Training: 100%|██████████| 7/7 [00:04<00:00,  1.42it/s, loss=0.0315, train_ca=97.5, train_wa=0.8]   \n",
      "Validating: 100%|██████████| 1/1 [00:00<00:00,  1.95it/s, val_loss=0.362, val_ca=95.8, val_wa=0.814]\n"
     ]
    },
    {
     "name": "stdout",
     "output_type": "stream",
     "text": [
      "0.5657019247337589\n",
      "Validation loss decreased (0.565902 --> 0.565702).  Saving model ...\n"
     ]
    },
    {
     "name": "stderr",
     "output_type": "stream",
     "text": [
      "Epoch: [1015]/[1200] Training: 100%|██████████| 7/7 [00:04<00:00,  1.46it/s, loss=0.000143, train_ca=100, train_wa=1]     \n",
      "Validating: 100%|██████████| 1/1 [00:00<00:00,  1.99it/s, val_loss=0.37, val_ca=95.5, val_wa=0.802]\n"
     ]
    },
    {
     "name": "stdout",
     "output_type": "stream",
     "text": [
      "0.5655099320552343\n",
      "Validation loss decreased (0.565702 --> 0.565510).  Saving model ...\n"
     ]
    },
    {
     "name": "stderr",
     "output_type": "stream",
     "text": [
      "Epoch: [1016]/[1200] Training: 100%|██████████| 7/7 [00:04<00:00,  1.42it/s, loss=0.000537, train_ca=100, train_wa=1]    \n",
      "Validating: 100%|██████████| 1/1 [00:00<00:00,  1.65it/s, val_loss=0.367, val_ca=95.5, val_wa=0.791]\n"
     ]
    },
    {
     "name": "stdout",
     "output_type": "stream",
     "text": [
      "0.5653146424555825\n",
      "Validation loss decreased (0.565510 --> 0.565315).  Saving model ...\n"
     ]
    },
    {
     "name": "stderr",
     "output_type": "stream",
     "text": [
      "Epoch: [1017]/[1200] Training: 100%|██████████| 7/7 [00:05<00:00,  1.39it/s, loss=2.56e-5, train_ca=100, train_wa=1]     \n",
      "Validating: 100%|██████████| 1/1 [00:00<00:00,  1.98it/s, val_loss=0.358, val_ca=96.1, val_wa=0.826]\n"
     ]
    },
    {
     "name": "stdout",
     "output_type": "stream",
     "text": [
      "0.5651111070201956\n",
      "Validation loss decreased (0.565315 --> 0.565111).  Saving model ...\n"
     ]
    },
    {
     "name": "stderr",
     "output_type": "stream",
     "text": [
      "Epoch: [1018]/[1200] Training: 100%|██████████| 7/7 [00:05<00:00,  1.34it/s, loss=0.000234, train_ca=100, train_wa=1]    \n",
      "Validating: 100%|██████████| 1/1 [00:00<00:00,  1.96it/s, val_loss=0.384, val_ca=95.3, val_wa=0.767]\n"
     ]
    },
    {
     "name": "stdout",
     "output_type": "stream",
     "text": [
      "0.5649333361901488\n",
      "Validation loss decreased (0.565111 --> 0.564933).  Saving model ...\n"
     ]
    },
    {
     "name": "stderr",
     "output_type": "stream",
     "text": [
      "Epoch: [1019]/[1200] Training: 100%|██████████| 7/7 [00:05<00:00,  1.33it/s, loss=1.6e-5, train_ca=100, train_wa=1]       \n",
      "Validating: 100%|██████████| 1/1 [00:00<00:00,  2.06it/s, val_loss=0.431, val_ca=96, val_wa=0.814]\n"
     ]
    },
    {
     "name": "stdout",
     "output_type": "stream",
     "text": [
      "0.5648018138065394\n",
      "Validation loss decreased (0.564933 --> 0.564802).  Saving model ...\n"
     ]
    },
    {
     "name": "stderr",
     "output_type": "stream",
     "text": [
      "Epoch: [1020]/[1200] Training: 100%|██████████| 7/7 [00:04<00:00,  1.43it/s, loss=2.36e-5, train_ca=100, train_wa=1]      \n",
      "Validating: 100%|██████████| 1/1 [00:00<00:00,  1.98it/s, val_loss=0.425, val_ca=96.2, val_wa=0.802]\n"
     ]
    },
    {
     "name": "stdout",
     "output_type": "stream",
     "text": [
      "0.564664679234975\n",
      "Validation loss decreased (0.564802 --> 0.564665).  Saving model ...\n"
     ]
    },
    {
     "name": "stderr",
     "output_type": "stream",
     "text": [
      "Epoch: [1021]/[1200] Training: 100%|██████████| 7/7 [00:05<00:00,  1.35it/s, loss=7.06e-5, train_ca=100, train_wa=1]      \n",
      "Validating: 100%|██████████| 1/1 [00:00<00:00,  1.61it/s, val_loss=0.409, val_ca=96.2, val_wa=0.802]\n"
     ]
    },
    {
     "name": "stdout",
     "output_type": "stream",
     "text": [
      "0.5645128601865218\n",
      "Validation loss decreased (0.564665 --> 0.564513).  Saving model ...\n"
     ]
    },
    {
     "name": "stderr",
     "output_type": "stream",
     "text": [
      "Epoch: [1022]/[1200] Training: 100%|██████████| 7/7 [00:05<00:00,  1.39it/s, loss=0.0372, train_ca=100, train_wa=1]       \n",
      "Validating: 100%|██████████| 1/1 [00:00<00:00,  2.51it/s, val_loss=0.382, val_ca=96, val_wa=0.802]\n"
     ]
    },
    {
     "name": "stdout",
     "output_type": "stream",
     "text": [
      "0.56433454315993\n",
      "Validation loss decreased (0.564513 --> 0.564335).  Saving model ...\n"
     ]
    },
    {
     "name": "stderr",
     "output_type": "stream",
     "text": [
      "Epoch: [1023]/[1200] Training: 100%|██████████| 7/7 [00:05<00:00,  1.35it/s, loss=1.64e-5, train_ca=100, train_wa=1]     \n",
      "Validating: 100%|██████████| 1/1 [00:00<00:00,  2.42it/s, val_loss=0.364, val_ca=95.6, val_wa=0.791]\n"
     ]
    },
    {
     "name": "stdout",
     "output_type": "stream",
     "text": [
      "0.564138861458476\n",
      "Validation loss decreased (0.564335 --> 0.564139).  Saving model ...\n"
     ]
    },
    {
     "name": "stderr",
     "output_type": "stream",
     "text": [
      "Epoch: [1024]/[1200] Training: 100%|██████████| 7/7 [00:05<00:00,  1.40it/s, loss=4.5e-5, train_ca=100, train_wa=1]       \n",
      "Validating: 100%|██████████| 1/1 [00:00<00:00,  1.95it/s, val_loss=0.337, val_ca=95.5, val_wa=0.791]\n"
     ]
    },
    {
     "name": "stdout",
     "output_type": "stream",
     "text": [
      "0.5639178165857323\n",
      "Validation loss decreased (0.564139 --> 0.563918).  Saving model ...\n"
     ]
    },
    {
     "name": "stderr",
     "output_type": "stream",
     "text": [
      "Epoch: [1025]/[1200] Training: 100%|██████████| 7/7 [00:04<00:00,  1.43it/s, loss=1.43e-5, train_ca=100, train_wa=1]     \n",
      "Validating: 100%|██████████| 1/1 [00:00<00:00,  1.64it/s, val_loss=0.295, val_ca=96.1, val_wa=0.814]\n"
     ]
    },
    {
     "name": "stdout",
     "output_type": "stream",
     "text": [
      "0.5636558796786055\n",
      "Validation loss decreased (0.563918 --> 0.563656).  Saving model ...\n"
     ]
    },
    {
     "name": "stderr",
     "output_type": "stream",
     "text": [
      "Epoch: [1026]/[1200] Training: 100%|██████████| 7/7 [00:05<00:00,  1.34it/s, loss=0.000134, train_ca=100, train_wa=1]    \n",
      "Validating: 100%|██████████| 1/1 [00:00<00:00,  1.64it/s, val_loss=0.303, val_ca=96.3, val_wa=0.837]\n"
     ]
    },
    {
     "name": "stdout",
     "output_type": "stream",
     "text": [
      "0.5634027750517607\n",
      "Validation loss decreased (0.563656 --> 0.563403).  Saving model ...\n"
     ]
    },
    {
     "name": "stderr",
     "output_type": "stream",
     "text": [
      "Epoch: [1027]/[1200] Training: 100%|██████████| 7/7 [00:04<00:00,  1.42it/s, loss=7.38e-5, train_ca=100, train_wa=1]      \n",
      "Validating: 100%|██████████| 1/1 [00:00<00:00,  1.96it/s, val_loss=0.324, val_ca=96.5, val_wa=0.849]\n"
     ]
    },
    {
     "name": "stdout",
     "output_type": "stream",
     "text": [
      "0.5631702513632204\n",
      "Validation loss decreased (0.563403 --> 0.563170).  Saving model ...\n"
     ]
    },
    {
     "name": "stderr",
     "output_type": "stream",
     "text": [
      "Epoch: [1028]/[1200] Training: 100%|██████████| 7/7 [00:04<00:00,  1.43it/s, loss=1.46e-5, train_ca=100, train_wa=1]      \n",
      "Validating: 100%|██████████| 1/1 [00:00<00:00,  1.95it/s, val_loss=0.318, val_ca=96.5, val_wa=0.849]\n"
     ]
    },
    {
     "name": "stdout",
     "output_type": "stream",
     "text": [
      "0.5629321004580525\n",
      "Validation loss decreased (0.563170 --> 0.562932).  Saving model ...\n"
     ]
    },
    {
     "name": "stderr",
     "output_type": "stream",
     "text": [
      "Epoch: [1029]/[1200] Training: 100%|██████████| 7/7 [00:04<00:00,  1.45it/s, loss=5.08e-6, train_ca=100, train_wa=1]      \n",
      "Validating: 100%|██████████| 1/1 [00:00<00:00,  1.94it/s, val_loss=0.326, val_ca=96.3, val_wa=0.837]\n"
     ]
    },
    {
     "name": "stdout",
     "output_type": "stream",
     "text": [
      "0.5627023354823096\n",
      "Validation loss decreased (0.562932 --> 0.562702).  Saving model ...\n"
     ]
    },
    {
     "name": "stderr",
     "output_type": "stream",
     "text": [
      "Epoch: [1030]/[1200] Training: 100%|██████████| 7/7 [00:05<00:00,  1.35it/s, loss=6.76e-6, train_ca=100, train_wa=1]      \n",
      "Validating: 100%|██████████| 1/1 [00:00<00:00,  2.00it/s, val_loss=0.319, val_ca=96.6, val_wa=0.849]\n"
     ]
    },
    {
     "name": "stdout",
     "output_type": "stream",
     "text": [
      "0.5624666278676469\n",
      "Validation loss decreased (0.562702 --> 0.562467).  Saving model ...\n"
     ]
    },
    {
     "name": "stderr",
     "output_type": "stream",
     "text": [
      "Epoch: [1031]/[1200] Training: 100%|██████████| 7/7 [00:04<00:00,  1.54it/s, loss=0.00371, train_ca=100, train_wa=1]      \n",
      "Validating: 100%|██████████| 1/1 [00:00<00:00,  1.95it/s, val_loss=0.299, val_ca=96.8, val_wa=0.86]\n"
     ]
    },
    {
     "name": "stdout",
     "output_type": "stream",
     "text": [
      "0.5622118905345329\n",
      "Validation loss decreased (0.562467 --> 0.562212).  Saving model ...\n"
     ]
    },
    {
     "name": "stderr",
     "output_type": "stream",
     "text": [
      "Epoch: [1032]/[1200] Training: 100%|██████████| 7/7 [00:05<00:00,  1.33it/s, loss=4.07e-5, train_ca=100, train_wa=1]      \n",
      "Validating: 100%|██████████| 1/1 [00:00<00:00,  1.64it/s, val_loss=0.297, val_ca=97, val_wa=0.884]\n"
     ]
    },
    {
     "name": "stdout",
     "output_type": "stream",
     "text": [
      "0.5619557373067166\n",
      "Validation loss decreased (0.562212 --> 0.561956).  Saving model ...\n"
     ]
    },
    {
     "name": "stderr",
     "output_type": "stream",
     "text": [
      "Epoch: [1033]/[1200] Training: 100%|██████████| 7/7 [00:04<00:00,  1.40it/s, loss=3.81e-5, train_ca=100, train_wa=1]     \n",
      "Validating: 100%|██████████| 1/1 [00:00<00:00,  1.65it/s, val_loss=0.327, val_ca=96.3, val_wa=0.849]\n"
     ]
    },
    {
     "name": "stdout",
     "output_type": "stream",
     "text": [
      "0.5617287826710853\n",
      "Validation loss decreased (0.561956 --> 0.561729).  Saving model ...\n"
     ]
    },
    {
     "name": "stderr",
     "output_type": "stream",
     "text": [
      "Epoch: [1034]/[1200] Training: 100%|██████████| 7/7 [00:04<00:00,  1.45it/s, loss=7.56e-5, train_ca=100, train_wa=1]     \n",
      "Validating: 100%|██████████| 1/1 [00:00<00:00,  1.67it/s, val_loss=0.352, val_ca=96.3, val_wa=0.849]\n"
     ]
    },
    {
     "name": "stdout",
     "output_type": "stream",
     "text": [
      "0.5615259158105004\n",
      "Validation loss decreased (0.561729 --> 0.561526).  Saving model ...\n"
     ]
    },
    {
     "name": "stderr",
     "output_type": "stream",
     "text": [
      "Epoch: [1035]/[1200] Training: 100%|██████████| 7/7 [00:04<00:00,  1.41it/s, loss=4.79e-6, train_ca=100, train_wa=1]      \n",
      "Validating: 100%|██████████| 1/1 [00:00<00:00,  2.42it/s, val_loss=0.369, val_ca=96.3, val_wa=0.849]\n"
     ]
    },
    {
     "name": "stdout",
     "output_type": "stream",
     "text": [
      "0.5613400732079951\n",
      "Validation loss decreased (0.561526 --> 0.561340).  Saving model ...\n"
     ]
    },
    {
     "name": "stderr",
     "output_type": "stream",
     "text": [
      "Epoch: [1036]/[1200] Training: 100%|██████████| 7/7 [00:05<00:00,  1.33it/s, loss=0.000121, train_ca=100, train_wa=1]  \n",
      "Validating: 100%|██████████| 1/1 [00:00<00:00,  2.46it/s, val_loss=0.376, val_ca=96.3, val_wa=0.849]\n"
     ]
    },
    {
     "name": "stdout",
     "output_type": "stream",
     "text": [
      "0.5611617851980849\n",
      "Validation loss decreased (0.561340 --> 0.561162).  Saving model ...\n"
     ]
    },
    {
     "name": "stderr",
     "output_type": "stream",
     "text": [
      "Epoch: [1037]/[1200] Training: 100%|██████████| 7/7 [00:05<00:00,  1.39it/s, loss=1.72e-5, train_ca=100, train_wa=1]     \n",
      "Validating: 100%|██████████| 1/1 [00:00<00:00,  1.92it/s, val_loss=0.37, val_ca=96.3, val_wa=0.849]\n"
     ]
    },
    {
     "name": "stdout",
     "output_type": "stream",
     "text": [
      "0.560977849625302\n",
      "Validation loss decreased (0.561162 --> 0.560978).  Saving model ...\n"
     ]
    },
    {
     "name": "stderr",
     "output_type": "stream",
     "text": [
      "Epoch: [1038]/[1200] Training: 100%|██████████| 7/7 [00:05<00:00,  1.31it/s, loss=5e-6, train_ca=100, train_wa=1]         \n",
      "Validating: 100%|██████████| 1/1 [00:00<00:00,  1.99it/s, val_loss=0.379, val_ca=96.1, val_wa=0.849]\n"
     ]
    },
    {
     "name": "stdout",
     "output_type": "stream",
     "text": [
      "0.5608028496973789\n",
      "Validation loss decreased (0.560978 --> 0.560803).  Saving model ...\n"
     ]
    },
    {
     "name": "stderr",
     "output_type": "stream",
     "text": [
      "Epoch: [1039]/[1200] Training: 100%|██████████| 7/7 [00:05<00:00,  1.40it/s, loss=0.000364, train_ca=100, train_wa=1]     \n",
      "Validating: 100%|██████████| 1/1 [00:00<00:00,  1.68it/s, val_loss=0.375, val_ca=96.3, val_wa=0.849]\n"
     ]
    },
    {
     "name": "stdout",
     "output_type": "stream",
     "text": [
      "0.5606246586033751\n",
      "Validation loss decreased (0.560803 --> 0.560625).  Saving model ...\n"
     ]
    },
    {
     "name": "stderr",
     "output_type": "stream",
     "text": [
      "Epoch: [1040]/[1200] Training: 100%|██████████| 7/7 [00:05<00:00,  1.39it/s, loss=9.72e-6, train_ca=100, train_wa=1]     \n",
      "Validating: 100%|██████████| 1/1 [00:00<00:00,  2.46it/s, val_loss=0.376, val_ca=96.3, val_wa=0.849]\n"
     ]
    },
    {
     "name": "stdout",
     "output_type": "stream",
     "text": [
      "0.560447748214178\n",
      "Validation loss decreased (0.560625 --> 0.560448).  Saving model ...\n"
     ]
    },
    {
     "name": "stderr",
     "output_type": "stream",
     "text": [
      "Epoch: [1041]/[1200] Training: 100%|██████████| 7/7 [00:04<00:00,  1.43it/s, loss=9.37e-6, train_ca=100, train_wa=1]      \n",
      "Validating: 100%|██████████| 1/1 [00:00<00:00,  1.93it/s, val_loss=0.374, val_ca=96.3, val_wa=0.86]\n"
     ]
    },
    {
     "name": "stdout",
     "output_type": "stream",
     "text": [
      "0.5602691445288928\n",
      "Validation loss decreased (0.560448 --> 0.560269).  Saving model ...\n"
     ]
    },
    {
     "name": "stderr",
     "output_type": "stream",
     "text": [
      "Epoch: [1042]/[1200] Training: 100%|██████████| 7/7 [00:04<00:00,  1.44it/s, loss=1.28e-5, train_ca=100, train_wa=1]      \n",
      "Validating: 100%|██████████| 1/1 [00:00<00:00,  1.99it/s, val_loss=0.379, val_ca=96.1, val_wa=0.86]\n"
     ]
    },
    {
     "name": "stdout",
     "output_type": "stream",
     "text": [
      "0.5600951906307904\n",
      "Validation loss decreased (0.560269 --> 0.560095).  Saving model ...\n"
     ]
    },
    {
     "name": "stderr",
     "output_type": "stream",
     "text": [
      "Epoch: [1043]/[1200] Training: 100%|██████████| 7/7 [00:05<00:00,  1.37it/s, loss=7.24e-6, train_ca=100, train_wa=1]      \n",
      "Validating: 100%|██████████| 1/1 [00:00<00:00,  1.92it/s, val_loss=0.386, val_ca=96.5, val_wa=0.86]\n"
     ]
    },
    {
     "name": "stdout",
     "output_type": "stream",
     "text": [
      "0.5599287001995379\n",
      "Validation loss decreased (0.560095 --> 0.559929).  Saving model ...\n"
     ]
    },
    {
     "name": "stderr",
     "output_type": "stream",
     "text": [
      "Epoch: [1044]/[1200] Training: 100%|██████████| 7/7 [00:04<00:00,  1.43it/s, loss=1.97e-5, train_ca=100, train_wa=1]      \n",
      "Validating: 100%|██████████| 1/1 [00:00<00:00,  2.48it/s, val_loss=0.4, val_ca=96.3, val_wa=0.849]\n"
     ]
    },
    {
     "name": "stdout",
     "output_type": "stream",
     "text": [
      "0.5597755973072398\n",
      "Validation loss decreased (0.559929 --> 0.559776).  Saving model ...\n"
     ]
    },
    {
     "name": "stderr",
     "output_type": "stream",
     "text": [
      "Epoch: [1045]/[1200] Training: 100%|██████████| 7/7 [00:05<00:00,  1.39it/s, loss=6.11e-5, train_ca=100, train_wa=1]      \n",
      "Validating: 100%|██████████| 1/1 [00:00<00:00,  1.97it/s, val_loss=0.391, val_ca=96.3, val_wa=0.86]\n"
     ]
    },
    {
     "name": "stdout",
     "output_type": "stream",
     "text": [
      "0.559614836116461\n",
      "Validation loss decreased (0.559776 --> 0.559615).  Saving model ...\n"
     ]
    },
    {
     "name": "stderr",
     "output_type": "stream",
     "text": [
      "Epoch: [1046]/[1200] Training: 100%|██████████| 7/7 [00:05<00:00,  1.37it/s, loss=3.79e-6, train_ca=100, train_wa=1]      \n",
      "Validating: 100%|██████████| 1/1 [00:00<00:00,  2.00it/s, val_loss=0.386, val_ca=96.3, val_wa=0.86]\n"
     ]
    },
    {
     "name": "stdout",
     "output_type": "stream",
     "text": [
      "0.559449384856315\n",
      "Validation loss decreased (0.559615 --> 0.559449).  Saving model ...\n"
     ]
    },
    {
     "name": "stderr",
     "output_type": "stream",
     "text": [
      "Epoch: [1047]/[1200] Training: 100%|██████████| 7/7 [00:05<00:00,  1.39it/s, loss=5.79e-6, train_ca=100, train_wa=1]     \n",
      "Validating: 100%|██████████| 1/1 [00:00<00:00,  1.98it/s, val_loss=0.389, val_ca=96.5, val_wa=0.86]\n"
     ]
    },
    {
     "name": "stdout",
     "output_type": "stream",
     "text": [
      "0.5592867668125037\n",
      "Validation loss decreased (0.559449 --> 0.559287).  Saving model ...\n"
     ]
    },
    {
     "name": "stderr",
     "output_type": "stream",
     "text": [
      "Epoch: [1048]/[1200] Training: 100%|██████████| 7/7 [00:04<00:00,  1.46it/s, loss=0.0217, train_ca=97.1, train_wa=0.8]    \n",
      "Validating: 100%|██████████| 1/1 [00:00<00:00,  1.40it/s, val_loss=0.388, val_ca=96.5, val_wa=0.86]\n"
     ]
    },
    {
     "name": "stdout",
     "output_type": "stream",
     "text": [
      "0.5591234290599822\n",
      "Validation loss decreased (0.559287 --> 0.559123).  Saving model ...\n"
     ]
    },
    {
     "name": "stderr",
     "output_type": "stream",
     "text": [
      "Epoch: [1049]/[1200] Training: 100%|██████████| 7/7 [00:05<00:00,  1.37it/s, loss=4.69e-6, train_ca=100, train_wa=1]     \n",
      "Validating: 100%|██████████| 1/1 [00:00<00:00,  1.98it/s, val_loss=0.382, val_ca=96.5, val_wa=0.86]\n"
     ]
    },
    {
     "name": "stdout",
     "output_type": "stream",
     "text": [
      "0.5589549886851397\n",
      "Validation loss decreased (0.559123 --> 0.558955).  Saving model ...\n"
     ]
    },
    {
     "name": "stderr",
     "output_type": "stream",
     "text": [
      "Epoch: [1050]/[1200] Training: 100%|██████████| 7/7 [00:04<00:00,  1.43it/s, loss=8.72e-6, train_ca=100, train_wa=1]     \n",
      "Validating: 100%|██████████| 1/1 [00:00<00:00,  1.95it/s, val_loss=0.383, val_ca=96.3, val_wa=0.86]\n"
     ]
    },
    {
     "name": "stdout",
     "output_type": "stream",
     "text": [
      "0.5587880372321198\n",
      "Validation loss decreased (0.558955 --> 0.558788).  Saving model ...\n"
     ]
    },
    {
     "name": "stderr",
     "output_type": "stream",
     "text": [
      "Epoch: [1051]/[1200] Training: 100%|██████████| 7/7 [00:04<00:00,  1.44it/s, loss=2.26e-5, train_ca=100, train_wa=1]    \n",
      "Validating: 100%|██████████| 1/1 [00:00<00:00,  2.38it/s, val_loss=0.384, val_ca=96.6, val_wa=0.86]\n"
     ]
    },
    {
     "name": "stdout",
     "output_type": "stream",
     "text": [
      "0.5586224375513771\n",
      "Validation loss decreased (0.558788 --> 0.558622).  Saving model ...\n"
     ]
    },
    {
     "name": "stderr",
     "output_type": "stream",
     "text": [
      "Epoch: [1052]/[1200] Training: 100%|██████████| 7/7 [00:04<00:00,  1.58it/s, loss=0.000101, train_ca=100, train_wa=1]    \n",
      "Validating: 100%|██████████| 1/1 [00:00<00:00,  2.02it/s, val_loss=0.385, val_ca=96.6, val_wa=0.86]\n"
     ]
    },
    {
     "name": "stdout",
     "output_type": "stream",
     "text": [
      "0.558457604791453\n",
      "Validation loss decreased (0.558622 --> 0.558458).  Saving model ...\n"
     ]
    },
    {
     "name": "stderr",
     "output_type": "stream",
     "text": [
      "Epoch: [1053]/[1200] Training: 100%|██████████| 7/7 [00:04<00:00,  1.40it/s, loss=5.79e-5, train_ca=100, train_wa=1]      \n",
      "Validating: 100%|██████████| 1/1 [00:00<00:00,  1.98it/s, val_loss=0.387, val_ca=96.5, val_wa=0.86]\n"
     ]
    },
    {
     "name": "stdout",
     "output_type": "stream",
     "text": [
      "0.5582949912661059\n",
      "Validation loss decreased (0.558458 --> 0.558295).  Saving model ...\n"
     ]
    },
    {
     "name": "stderr",
     "output_type": "stream",
     "text": [
      "Epoch: [1054]/[1200] Training: 100%|██████████| 7/7 [00:04<00:00,  1.41it/s, loss=3.54e-6, train_ca=100, train_wa=1]      \n",
      "Validating: 100%|██████████| 1/1 [00:00<00:00,  2.03it/s, val_loss=0.387, val_ca=96.1, val_wa=0.86]\n"
     ]
    },
    {
     "name": "stdout",
     "output_type": "stream",
     "text": [
      "0.5581328482790426\n",
      "Validation loss decreased (0.558295 --> 0.558133).  Saving model ...\n"
     ]
    },
    {
     "name": "stderr",
     "output_type": "stream",
     "text": [
      "Epoch: [1055]/[1200] Training: 100%|██████████| 7/7 [00:04<00:00,  1.41it/s, loss=3.82e-5, train_ca=100, train_wa=1]      \n",
      "Validating: 100%|██████████| 1/1 [00:00<00:00,  2.38it/s, val_loss=0.388, val_ca=96.3, val_wa=0.86]\n"
     ]
    },
    {
     "name": "stdout",
     "output_type": "stream",
     "text": [
      "0.5579714636365084\n",
      "Validation loss decreased (0.558133 --> 0.557971).  Saving model ...\n"
     ]
    },
    {
     "name": "stderr",
     "output_type": "stream",
     "text": [
      "Epoch: [1056]/[1200] Training: 100%|██████████| 7/7 [00:04<00:00,  1.50it/s, loss=6.53e-6, train_ca=100, train_wa=1]      \n",
      "Validating: 100%|██████████| 1/1 [00:00<00:00,  1.97it/s, val_loss=0.379, val_ca=96.3, val_wa=0.86]\n"
     ]
    },
    {
     "name": "stdout",
     "output_type": "stream",
     "text": [
      "0.557802178120568\n",
      "Validation loss decreased (0.557971 --> 0.557802).  Saving model ...\n"
     ]
    },
    {
     "name": "stderr",
     "output_type": "stream",
     "text": [
      "Epoch: [1057]/[1200] Training: 100%|██████████| 7/7 [00:04<00:00,  1.48it/s, loss=1.28e-5, train_ca=100, train_wa=1]     \n",
      "Validating: 100%|██████████| 1/1 [00:00<00:00,  4.94it/s, val_loss=0.38, val_ca=96.1, val_wa=0.86]\n"
     ]
    },
    {
     "name": "stdout",
     "output_type": "stream",
     "text": [
      "0.5576340715990976\n",
      "Validation loss decreased (0.557802 --> 0.557634).  Saving model ...\n"
     ]
    },
    {
     "name": "stderr",
     "output_type": "stream",
     "text": [
      "Epoch: [1058]/[1200] Training: 100%|██████████| 7/7 [00:05<00:00,  1.33it/s, loss=1.45e-5, train_ca=100, train_wa=1]     \n",
      "Validating: 100%|██████████| 1/1 [00:00<00:00,  1.66it/s, val_loss=0.387, val_ca=96.5, val_wa=0.86]\n"
     ]
    },
    {
     "name": "stdout",
     "output_type": "stream",
     "text": [
      "0.5574727795877547\n",
      "Validation loss decreased (0.557634 --> 0.557473).  Saving model ...\n"
     ]
    },
    {
     "name": "stderr",
     "output_type": "stream",
     "text": [
      "Epoch: [1059]/[1200] Training: 100%|██████████| 7/7 [00:05<00:00,  1.39it/s, loss=1.47e-5, train_ca=100, train_wa=1]     \n",
      "Validating: 100%|██████████| 1/1 [00:00<00:00,  2.46it/s, val_loss=0.376, val_ca=96.5, val_wa=0.86]\n"
     ]
    },
    {
     "name": "stdout",
     "output_type": "stream",
     "text": [
      "0.5573021951820578\n",
      "Validation loss decreased (0.557473 --> 0.557302).  Saving model ...\n"
     ]
    },
    {
     "name": "stderr",
     "output_type": "stream",
     "text": [
      "Epoch: [1060]/[1200] Training: 100%|██████████| 7/7 [00:04<00:00,  1.44it/s, loss=1.19e-5, train_ca=100, train_wa=1]      \n",
      "Validating: 100%|██████████| 1/1 [00:00<00:00,  2.45it/s, val_loss=0.379, val_ca=96.6, val_wa=0.86]\n"
     ]
    },
    {
     "name": "stdout",
     "output_type": "stream",
     "text": [
      "0.5571345810667944\n",
      "Validation loss decreased (0.557302 --> 0.557135).  Saving model ...\n"
     ]
    },
    {
     "name": "stderr",
     "output_type": "stream",
     "text": [
      "Epoch: [1061]/[1200] Training: 100%|██████████| 7/7 [00:05<00:00,  1.39it/s, loss=1.55e-5, train_ca=100, train_wa=1]      \n",
      "Validating: 100%|██████████| 1/1 [00:00<00:00,  1.98it/s, val_loss=0.38, val_ca=96.6, val_wa=0.86]\n"
     ]
    },
    {
     "name": "stdout",
     "output_type": "stream",
     "text": [
      "0.5569681744191968\n",
      "Validation loss decreased (0.557135 --> 0.556968).  Saving model ...\n"
     ]
    },
    {
     "name": "stderr",
     "output_type": "stream",
     "text": [
      "Epoch: [1062]/[1200] Training: 100%|██████████| 7/7 [00:04<00:00,  1.45it/s, loss=6.37e-6, train_ca=100, train_wa=1]     \n",
      "Validating: 100%|██████████| 1/1 [00:00<00:00,  1.98it/s, val_loss=0.386, val_ca=96.3, val_wa=0.86]\n"
     ]
    },
    {
     "name": "stdout",
     "output_type": "stream",
     "text": [
      "0.5568076428726203\n",
      "Validation loss decreased (0.556968 --> 0.556808).  Saving model ...\n"
     ]
    },
    {
     "name": "stderr",
     "output_type": "stream",
     "text": [
      "Epoch: [1063]/[1200] Training: 100%|██████████| 7/7 [00:04<00:00,  1.50it/s, loss=1.9e-5, train_ca=100, train_wa=1]       \n",
      "Validating: 100%|██████████| 1/1 [00:00<00:00,  1.96it/s, val_loss=0.383, val_ca=96.3, val_wa=0.86]\n"
     ]
    },
    {
     "name": "stdout",
     "output_type": "stream",
     "text": [
      "0.5566440681056797\n",
      "Validation loss decreased (0.556808 --> 0.556644).  Saving model ...\n"
     ]
    },
    {
     "name": "stderr",
     "output_type": "stream",
     "text": [
      "Epoch: [1064]/[1200] Training: 100%|██████████| 7/7 [00:04<00:00,  1.40it/s, loss=2.76e-6, train_ca=100, train_wa=1]      \n",
      "Validating: 100%|██████████| 1/1 [00:00<00:00,  1.97it/s, val_loss=0.382, val_ca=96.5, val_wa=0.86]\n"
     ]
    },
    {
     "name": "stdout",
     "output_type": "stream",
     "text": [
      "0.5564806845185905\n",
      "Validation loss decreased (0.556644 --> 0.556481).  Saving model ...\n"
     ]
    },
    {
     "name": "stderr",
     "output_type": "stream",
     "text": [
      "Epoch: [1065]/[1200] Training: 100%|██████████| 7/7 [00:05<00:00,  1.33it/s, loss=1.33e-5, train_ca=100, train_wa=1]      \n",
      "Validating: 100%|██████████| 1/1 [00:00<00:00,  2.41it/s, val_loss=0.372, val_ca=96.3, val_wa=0.86]\n"
     ]
    },
    {
     "name": "stdout",
     "output_type": "stream",
     "text": [
      "0.5563077445106185\n",
      "Validation loss decreased (0.556481 --> 0.556308).  Saving model ...\n"
     ]
    },
    {
     "name": "stderr",
     "output_type": "stream",
     "text": [
      "Epoch: [1066]/[1200] Training: 100%|██████████| 7/7 [00:05<00:00,  1.40it/s, loss=2.34e-5, train_ca=100, train_wa=1]      \n",
      "Validating: 100%|██████████| 1/1 [00:00<00:00,  1.96it/s, val_loss=0.362, val_ca=96.3, val_wa=0.86]\n"
     ]
    },
    {
     "name": "stdout",
     "output_type": "stream",
     "text": [
      "0.5561255147394616\n",
      "Validation loss decreased (0.556308 --> 0.556126).  Saving model ...\n"
     ]
    },
    {
     "name": "stderr",
     "output_type": "stream",
     "text": [
      "Epoch: [1067]/[1200] Training: 100%|██████████| 7/7 [00:05<00:00,  1.37it/s, loss=1.13e-5, train_ca=100, train_wa=1]      \n",
      "Validating: 100%|██████████| 1/1 [00:00<00:00,  1.97it/s, val_loss=0.367, val_ca=96.3, val_wa=0.86]\n"
     ]
    },
    {
     "name": "stdout",
     "output_type": "stream",
     "text": [
      "0.5559483186400194\n",
      "Validation loss decreased (0.556126 --> 0.555948).  Saving model ...\n"
     ]
    },
    {
     "name": "stderr",
     "output_type": "stream",
     "text": [
      "Epoch: [1068]/[1200] Training: 100%|██████████| 7/7 [00:04<00:00,  1.45it/s, loss=6.89e-6, train_ca=100, train_wa=1]      \n",
      "Validating: 100%|██████████| 1/1 [00:00<00:00,  2.01it/s, val_loss=0.376, val_ca=96.3, val_wa=0.86]\n"
     ]
    },
    {
     "name": "stdout",
     "output_type": "stream",
     "text": [
      "0.5557800364550028\n",
      "Validation loss decreased (0.555948 --> 0.555780).  Saving model ...\n"
     ]
    },
    {
     "name": "stderr",
     "output_type": "stream",
     "text": [
      "Epoch: [1069]/[1200] Training: 100%|██████████| 7/7 [00:05<00:00,  1.40it/s, loss=1.77e-5, train_ca=100, train_wa=1]      \n",
      "Validating: 100%|██████████| 1/1 [00:00<00:00,  1.96it/s, val_loss=0.385, val_ca=96.5, val_wa=0.86]\n"
     ]
    },
    {
     "name": "stdout",
     "output_type": "stream",
     "text": [
      "0.5556205999172257\n",
      "Validation loss decreased (0.555780 --> 0.555621).  Saving model ...\n"
     ]
    },
    {
     "name": "stderr",
     "output_type": "stream",
     "text": [
      "Epoch: [1070]/[1200] Training: 100%|██████████| 7/7 [00:05<00:00,  1.40it/s, loss=2.61e-6, train_ca=100, train_wa=1]      \n",
      "Validating: 100%|██████████| 1/1 [00:00<00:00,  1.93it/s, val_loss=0.383, val_ca=96.3, val_wa=0.872]\n"
     ]
    },
    {
     "name": "stdout",
     "output_type": "stream",
     "text": [
      "0.5554592669176966\n",
      "Validation loss decreased (0.555621 --> 0.555459).  Saving model ...\n"
     ]
    },
    {
     "name": "stderr",
     "output_type": "stream",
     "text": [
      "Epoch: [1071]/[1200] Training: 100%|██████████| 7/7 [00:05<00:00,  1.37it/s, loss=4.18e-6, train_ca=100, train_wa=1]      \n",
      "Validating: 100%|██████████| 1/1 [00:00<00:00,  2.46it/s, val_loss=0.379, val_ca=96.5, val_wa=0.86]\n"
     ]
    },
    {
     "name": "stdout",
     "output_type": "stream",
     "text": [
      "0.5552952686760432\n",
      "Validation loss decreased (0.555459 --> 0.555295).  Saving model ...\n"
     ]
    },
    {
     "name": "stderr",
     "output_type": "stream",
     "text": [
      "Epoch: [1072]/[1200] Training: 100%|██████████| 7/7 [00:04<00:00,  1.59it/s, loss=1.57e-5, train_ca=100, train_wa=1]      \n",
      "Validating: 100%|██████████| 1/1 [00:00<00:00,  1.66it/s, val_loss=0.375, val_ca=96.3, val_wa=0.86]\n"
     ]
    },
    {
     "name": "stdout",
     "output_type": "stream",
     "text": [
      "0.5551273673217834\n",
      "Validation loss decreased (0.555295 --> 0.555127).  Saving model ...\n"
     ]
    },
    {
     "name": "stderr",
     "output_type": "stream",
     "text": [
      "Epoch: [1073]/[1200] Training: 100%|██████████| 7/7 [00:04<00:00,  1.58it/s, loss=2.62e-5, train_ca=100, train_wa=1]      \n",
      "Validating: 100%|██████████| 1/1 [00:00<00:00,  1.96it/s, val_loss=0.385, val_ca=96.3, val_wa=0.849]\n"
     ]
    },
    {
     "name": "stdout",
     "output_type": "stream",
     "text": [
      "0.5549694267816322\n",
      "Validation loss decreased (0.555127 --> 0.554969).  Saving model ...\n"
     ]
    },
    {
     "name": "stderr",
     "output_type": "stream",
     "text": [
      "Epoch: [1074]/[1200] Training: 100%|██████████| 7/7 [00:05<00:00,  1.37it/s, loss=2.54e-5, train_ca=100, train_wa=1]     \n",
      "Validating: 100%|██████████| 1/1 [00:00<00:00,  1.96it/s, val_loss=0.393, val_ca=96.3, val_wa=0.849]\n"
     ]
    },
    {
     "name": "stdout",
     "output_type": "stream",
     "text": [
      "0.554818864731762\n",
      "Validation loss decreased (0.554969 --> 0.554819).  Saving model ...\n"
     ]
    },
    {
     "name": "stderr",
     "output_type": "stream",
     "text": [
      "Epoch: [1075]/[1200] Training: 100%|██████████| 7/7 [00:04<00:00,  1.46it/s, loss=6.29e-6, train_ca=100, train_wa=1]      \n",
      "Validating: 100%|██████████| 1/1 [00:00<00:00,  2.39it/s, val_loss=0.385, val_ca=96.1, val_wa=0.849]\n"
     ]
    },
    {
     "name": "stdout",
     "output_type": "stream",
     "text": [
      "0.5546610109930029\n",
      "Validation loss decreased (0.554819 --> 0.554661).  Saving model ...\n"
     ]
    },
    {
     "name": "stderr",
     "output_type": "stream",
     "text": [
      "Epoch: [1076]/[1200] Training: 100%|██████████| 7/7 [00:04<00:00,  1.44it/s, loss=6.55e-6, train_ca=100, train_wa=1]      \n",
      "Validating: 100%|██████████| 1/1 [00:00<00:00,  2.47it/s, val_loss=0.393, val_ca=96.1, val_wa=0.849]\n"
     ]
    },
    {
     "name": "stdout",
     "output_type": "stream",
     "text": [
      "0.5545114182861927\n",
      "Validation loss decreased (0.554661 --> 0.554511).  Saving model ...\n"
     ]
    },
    {
     "name": "stderr",
     "output_type": "stream",
     "text": [
      "Epoch: [1077]/[1200] Training: 100%|██████████| 7/7 [00:05<00:00,  1.33it/s, loss=4.3e-6, train_ca=100, train_wa=1]       \n",
      "Validating: 100%|██████████| 1/1 [00:00<00:00,  2.48it/s, val_loss=0.382, val_ca=96.3, val_wa=0.849]\n"
     ]
    },
    {
     "name": "stdout",
     "output_type": "stream",
     "text": [
      "0.5543518869052672\n",
      "Validation loss decreased (0.554511 --> 0.554352).  Saving model ...\n"
     ]
    },
    {
     "name": "stderr",
     "output_type": "stream",
     "text": [
      "Epoch: [1078]/[1200] Training: 100%|██████████| 7/7 [00:04<00:00,  1.55it/s, loss=1.36e-5, train_ca=100, train_wa=1]      \n",
      "Validating: 100%|██████████| 1/1 [00:00<00:00,  2.45it/s, val_loss=0.37, val_ca=96.3, val_wa=0.86]\n"
     ]
    },
    {
     "name": "stdout",
     "output_type": "stream",
     "text": [
      "0.5541810449350764\n",
      "Validation loss decreased (0.554352 --> 0.554181).  Saving model ...\n"
     ]
    },
    {
     "name": "stderr",
     "output_type": "stream",
     "text": [
      "Epoch: [1079]/[1200] Training: 100%|██████████| 7/7 [00:05<00:00,  1.37it/s, loss=9.31e-6, train_ca=100, train_wa=1]      \n",
      "Validating: 100%|██████████| 1/1 [00:00<00:00,  2.45it/s, val_loss=0.371, val_ca=96.3, val_wa=0.86]\n"
     ]
    },
    {
     "name": "stdout",
     "output_type": "stream",
     "text": [
      "0.5540120004504836\n",
      "Validation loss decreased (0.554181 --> 0.554012).  Saving model ...\n"
     ]
    },
    {
     "name": "stderr",
     "output_type": "stream",
     "text": [
      "Epoch: [1080]/[1200] Training: 100%|██████████| 7/7 [00:04<00:00,  1.40it/s, loss=4.22e-5, train_ca=100, train_wa=1]     \n",
      "Validating: 100%|██████████| 1/1 [00:00<00:00,  2.46it/s, val_loss=0.361, val_ca=96.4, val_wa=0.872]\n"
     ]
    },
    {
     "name": "stdout",
     "output_type": "stream",
     "text": [
      "0.5538335233761511\n",
      "Validation loss decreased (0.554012 --> 0.553834).  Saving model ...\n"
     ]
    },
    {
     "name": "stderr",
     "output_type": "stream",
     "text": [
      "Epoch: [1081]/[1200] Training: 100%|██████████| 7/7 [00:05<00:00,  1.36it/s, loss=3.95e-6, train_ca=100, train_wa=1]      \n",
      "Validating: 100%|██████████| 1/1 [00:00<00:00,  2.44it/s, val_loss=0.369, val_ca=96.4, val_wa=0.872]\n"
     ]
    },
    {
     "name": "stdout",
     "output_type": "stream",
     "text": [
      "0.5536624414438687\n",
      "Validation loss decreased (0.553834 --> 0.553662).  Saving model ...\n"
     ]
    },
    {
     "name": "stderr",
     "output_type": "stream",
     "text": [
      "Epoch: [1082]/[1200] Training: 100%|██████████| 7/7 [00:05<00:00,  1.38it/s, loss=2.47e-5, train_ca=100, train_wa=1]      \n",
      "Validating: 100%|██████████| 1/1 [00:00<00:00,  1.91it/s, val_loss=0.365, val_ca=96.8, val_wa=0.86]\n"
     ]
    },
    {
     "name": "stdout",
     "output_type": "stream",
     "text": [
      "0.5534885647497054\n",
      "Validation loss decreased (0.553662 --> 0.553489).  Saving model ...\n"
     ]
    },
    {
     "name": "stderr",
     "output_type": "stream",
     "text": [
      "Epoch: [1083]/[1200] Training: 100%|██████████| 7/7 [00:05<00:00,  1.40it/s, loss=3.05e-6, train_ca=100, train_wa=1]     \n",
      "Validating: 100%|██████████| 1/1 [00:00<00:00,  1.99it/s, val_loss=0.37, val_ca=96.4, val_wa=0.872]\n"
     ]
    },
    {
     "name": "stdout",
     "output_type": "stream",
     "text": [
      "0.5533198599716486\n",
      "Validation loss decreased (0.553489 --> 0.553320).  Saving model ...\n"
     ]
    },
    {
     "name": "stderr",
     "output_type": "stream",
     "text": [
      "Epoch: [1084]/[1200] Training: 100%|██████████| 7/7 [00:04<00:00,  1.40it/s, loss=0.000193, train_ca=100, train_wa=1]     \n",
      "Validating: 100%|██████████| 1/1 [00:00<00:00,  1.63it/s, val_loss=0.377, val_ca=96.3, val_wa=0.86]\n"
     ]
    },
    {
     "name": "stdout",
     "output_type": "stream",
     "text": [
      "0.553157314658165\n",
      "Validation loss decreased (0.553320 --> 0.553157).  Saving model ...\n"
     ]
    },
    {
     "name": "stderr",
     "output_type": "stream",
     "text": [
      "Epoch: [1085]/[1200] Training: 100%|██████████| 7/7 [00:04<00:00,  1.42it/s, loss=7.37e-6, train_ca=100, train_wa=1]     \n",
      "Validating: 100%|██████████| 1/1 [00:00<00:00,  2.02it/s, val_loss=0.379, val_ca=96.1, val_wa=0.849]\n"
     ]
    },
    {
     "name": "stdout",
     "output_type": "stream",
     "text": [
      "0.5529970673376415\n",
      "Validation loss decreased (0.553157 --> 0.552997).  Saving model ...\n"
     ]
    },
    {
     "name": "stderr",
     "output_type": "stream",
     "text": [
      "Epoch: [1086]/[1200] Training: 100%|██████████| 7/7 [00:05<00:00,  1.35it/s, loss=0.00333, train_ca=100, train_wa=1]     \n",
      "Validating: 100%|██████████| 1/1 [00:00<00:00,  1.96it/s, val_loss=0.412, val_ca=96.1, val_wa=0.849]\n"
     ]
    },
    {
     "name": "stdout",
     "output_type": "stream",
     "text": [
      "0.5528672904817059\n",
      "Validation loss decreased (0.552997 --> 0.552867).  Saving model ...\n"
     ]
    },
    {
     "name": "stderr",
     "output_type": "stream",
     "text": [
      "Epoch: [1087]/[1200] Training: 100%|██████████| 7/7 [00:05<00:00,  1.36it/s, loss=3.79e-6, train_ca=100, train_wa=1]      \n",
      "Validating: 100%|██████████| 1/1 [00:00<00:00,  2.42it/s, val_loss=0.378, val_ca=96.3, val_wa=0.849]\n"
     ]
    },
    {
     "name": "stdout",
     "output_type": "stream",
     "text": [
      "0.5527063595033546\n",
      "Validation loss decreased (0.552867 --> 0.552706).  Saving model ...\n"
     ]
    },
    {
     "name": "stderr",
     "output_type": "stream",
     "text": [
      "Epoch: [1088]/[1200] Training: 100%|██████████| 7/7 [00:05<00:00,  1.38it/s, loss=8.54e-5, train_ca=100, train_wa=1]     \n",
      "Validating: 100%|██████████| 1/1 [00:00<00:00,  1.99it/s, val_loss=0.506, val_ca=94, val_wa=0.686]\n"
     ]
    },
    {
     "name": "stdout",
     "output_type": "stream",
     "text": [
      "0.5526638081861198\n",
      "Validation loss decreased (0.552706 --> 0.552664).  Saving model ...\n"
     ]
    },
    {
     "name": "stderr",
     "output_type": "stream",
     "text": [
      "Epoch: [1089]/[1200] Training: 100%|██████████| 7/7 [00:05<00:00,  1.39it/s, loss=4.36e-5, train_ca=100, train_wa=1]     \n",
      "Validating: 100%|██████████| 1/1 [00:00<00:00,  1.66it/s, val_loss=0.383, val_ca=94.6, val_wa=0.756]\n"
     ]
    },
    {
     "name": "stdout",
     "output_type": "stream",
     "text": [
      "0.5525083924301385\n",
      "Validation loss decreased (0.552664 --> 0.552508).  Saving model ...\n"
     ]
    },
    {
     "name": "stderr",
     "output_type": "stream",
     "text": [
      "Epoch: [1090]/[1200] Training: 100%|██████████| 7/7 [00:05<00:00,  1.38it/s, loss=0.00437, train_ca=100, train_wa=1]     \n",
      "Validating: 100%|██████████| 1/1 [00:00<00:00,  1.98it/s, val_loss=0.419, val_ca=96, val_wa=0.779]\n"
     ]
    },
    {
     "name": "stdout",
     "output_type": "stream",
     "text": [
      "0.5523861662754209\n",
      "Validation loss decreased (0.552508 --> 0.552386).  Saving model ...\n"
     ]
    },
    {
     "name": "stderr",
     "output_type": "stream",
     "text": [
      "Epoch: [1091]/[1200] Training: 100%|██████████| 7/7 [00:05<00:00,  1.35it/s, loss=0.000192, train_ca=100, train_wa=1]    \n",
      "Validating: 100%|██████████| 1/1 [00:00<00:00,  1.95it/s, val_loss=0.619, val_ca=91.9, val_wa=0.593]\n"
     ]
    },
    {
     "name": "stdout",
     "output_type": "stream",
     "text": [
      "0.5524473332366263\n",
      "EarlyStopping counter: (-0.552386 1 out of 15)\n"
     ]
    },
    {
     "name": "stderr",
     "output_type": "stream",
     "text": [
      "Epoch: [1092]/[1200] Training: 100%|██████████| 7/7 [00:05<00:00,  1.32it/s, loss=0.000164, train_ca=100, train_wa=1]    \n",
      "Validating: 100%|██████████| 1/1 [00:00<00:00,  2.44it/s, val_loss=0.44, val_ca=94.8, val_wa=0.791]\n"
     ]
    },
    {
     "name": "stdout",
     "output_type": "stream",
     "text": [
      "0.5523444407055975\n",
      "Validation loss decreased (0.552386 --> 0.552344).  Saving model ...\n"
     ]
    },
    {
     "name": "stderr",
     "output_type": "stream",
     "text": [
      "Epoch: [1093]/[1200] Training: 100%|██████████| 7/7 [00:05<00:00,  1.37it/s, loss=0.000383, train_ca=100, train_wa=1]    \n",
      "Validating: 100%|██████████| 1/1 [00:00<00:00,  2.47it/s, val_loss=0.433, val_ca=95.1, val_wa=0.791]\n"
     ]
    },
    {
     "name": "stdout",
     "output_type": "stream",
     "text": [
      "0.552235201695194\n",
      "Validation loss decreased (0.552344 --> 0.552235).  Saving model ...\n"
     ]
    },
    {
     "name": "stderr",
     "output_type": "stream",
     "text": [
      "Epoch: [1094]/[1200] Training: 100%|██████████| 7/7 [00:05<00:00,  1.35it/s, loss=2.03e-5, train_ca=100, train_wa=1]     \n",
      "Validating: 100%|██████████| 1/1 [00:00<00:00,  1.70it/s, val_loss=0.46, val_ca=94.7, val_wa=0.779]\n"
     ]
    },
    {
     "name": "stdout",
     "output_type": "stream",
     "text": [
      "0.5521514604180834\n",
      "Validation loss decreased (0.552235 --> 0.552151).  Saving model ...\n"
     ]
    },
    {
     "name": "stderr",
     "output_type": "stream",
     "text": [
      "Epoch: [1095]/[1200] Training: 100%|██████████| 7/7 [00:04<00:00,  1.46it/s, loss=0.00442, train_ca=100, train_wa=1]     \n",
      "Validating: 100%|██████████| 1/1 [00:00<00:00,  1.64it/s, val_loss=0.457, val_ca=94.7, val_wa=0.744]\n"
     ]
    },
    {
     "name": "stdout",
     "output_type": "stream",
     "text": [
      "0.5520651486643684\n",
      "Validation loss decreased (0.552151 --> 0.552065).  Saving model ...\n"
     ]
    },
    {
     "name": "stderr",
     "output_type": "stream",
     "text": [
      "Epoch: [1096]/[1200] Training: 100%|██████████| 7/7 [00:05<00:00,  1.37it/s, loss=0.000287, train_ca=100, train_wa=1]    \n",
      "Validating: 100%|██████████| 1/1 [00:00<00:00,  1.96it/s, val_loss=0.464, val_ca=95.6, val_wa=0.791]\n"
     ]
    },
    {
     "name": "stdout",
     "output_type": "stream",
     "text": [
      "0.5519847285226395\n",
      "Validation loss decreased (0.552065 --> 0.551985).  Saving model ...\n"
     ]
    },
    {
     "name": "stderr",
     "output_type": "stream",
     "text": [
      "Epoch: [1097]/[1200] Training: 100%|██████████| 7/7 [00:05<00:00,  1.37it/s, loss=0.00537, train_ca=100, train_wa=1]     \n",
      "Validating: 100%|██████████| 1/1 [00:00<00:00,  1.62it/s, val_loss=0.443, val_ca=95.1, val_wa=0.779]\n"
     ]
    },
    {
     "name": "stdout",
     "output_type": "stream",
     "text": [
      "0.5518859717333935\n",
      "Validation loss decreased (0.551985 --> 0.551886).  Saving model ...\n"
     ]
    },
    {
     "name": "stderr",
     "output_type": "stream",
     "text": [
      "Epoch: [1098]/[1200] Training: 100%|██████████| 7/7 [00:05<00:00,  1.37it/s, loss=0.000363, train_ca=100, train_wa=1]    \n",
      "Validating: 100%|██████████| 1/1 [00:00<00:00,  1.95it/s, val_loss=0.62, val_ca=93.9, val_wa=0.709]\n"
     ]
    },
    {
     "name": "stdout",
     "output_type": "stream",
     "text": [
      "0.5519477573579008\n",
      "EarlyStopping counter: (-0.551886 1 out of 15)\n"
     ]
    },
    {
     "name": "stderr",
     "output_type": "stream",
     "text": [
      "Epoch: [1099]/[1200] Training: 100%|██████████| 7/7 [00:04<00:00,  1.43it/s, loss=0.0187, train_ca=100, train_wa=1]      \n",
      "Validating: 100%|██████████| 1/1 [00:00<00:00,  1.98it/s, val_loss=0.402, val_ca=95.5, val_wa=0.779]\n"
     ]
    },
    {
     "name": "stdout",
     "output_type": "stream",
     "text": [
      "0.5518117535666484\n",
      "Validation loss decreased (0.551886 --> 0.551812).  Saving model ...\n"
     ]
    },
    {
     "name": "stderr",
     "output_type": "stream",
     "text": [
      "Epoch: [1100]/[1200] Training: 100%|██████████| 7/7 [00:04<00:00,  1.54it/s, loss=2.61e-5, train_ca=100, train_wa=1]     \n",
      "Validating: 100%|██████████| 1/1 [00:00<00:00,  1.66it/s, val_loss=0.476, val_ca=95, val_wa=0.767]\n"
     ]
    },
    {
     "name": "stdout",
     "output_type": "stream",
     "text": [
      "0.5517427984848213\n",
      "Validation loss decreased (0.551812 --> 0.551743).  Saving model ...\n"
     ]
    },
    {
     "name": "stderr",
     "output_type": "stream",
     "text": [
      "Epoch: [1101]/[1200] Training: 100%|██████████| 7/7 [00:05<00:00,  1.39it/s, loss=9.89e-5, train_ca=100, train_wa=1]     \n",
      "Validating: 100%|██████████| 1/1 [00:00<00:00,  1.94it/s, val_loss=0.46, val_ca=95, val_wa=0.767]\n"
     ]
    },
    {
     "name": "stdout",
     "output_type": "stream",
     "text": [
      "0.5516593047736021\n",
      "Validation loss decreased (0.551743 --> 0.551659).  Saving model ...\n"
     ]
    },
    {
     "name": "stderr",
     "output_type": "stream",
     "text": [
      "Epoch: [1102]/[1200] Training: 100%|██████████| 7/7 [00:05<00:00,  1.39it/s, loss=7.08e-5, train_ca=100, train_wa=1]     \n",
      "Validating: 100%|██████████| 1/1 [00:00<00:00,  2.01it/s, val_loss=0.518, val_ca=94.8, val_wa=0.767]\n"
     ]
    },
    {
     "name": "stdout",
     "output_type": "stream",
     "text": [
      "0.5516288559613884\n",
      "Validation loss decreased (0.551659 --> 0.551629).  Saving model ...\n"
     ]
    },
    {
     "name": "stderr",
     "output_type": "stream",
     "text": [
      "Epoch: [1103]/[1200] Training: 100%|██████████| 7/7 [00:05<00:00,  1.34it/s, loss=0.000184, train_ca=100, train_wa=1]    \n",
      "Validating: 100%|██████████| 1/1 [00:00<00:00,  1.63it/s, val_loss=0.47, val_ca=95.1, val_wa=0.779]\n"
     ]
    },
    {
     "name": "stdout",
     "output_type": "stream",
     "text": [
      "0.5515554098252258\n",
      "Validation loss decreased (0.551629 --> 0.551555).  Saving model ...\n"
     ]
    },
    {
     "name": "stderr",
     "output_type": "stream",
     "text": [
      "Epoch: [1104]/[1200] Training: 100%|██████████| 7/7 [00:04<00:00,  1.45it/s, loss=9.4e-6, train_ca=100, train_wa=1]       \n",
      "Validating: 100%|██████████| 1/1 [00:00<00:00,  1.67it/s, val_loss=0.425, val_ca=95.3, val_wa=0.791]\n"
     ]
    },
    {
     "name": "stdout",
     "output_type": "stream",
     "text": [
      "0.5514406501761828\n",
      "Validation loss decreased (0.551555 --> 0.551441).  Saving model ...\n"
     ]
    },
    {
     "name": "stderr",
     "output_type": "stream",
     "text": [
      "Epoch: [1105]/[1200] Training: 100%|██████████| 7/7 [00:04<00:00,  1.49it/s, loss=7.9e-5, train_ca=100, train_wa=1]      \n",
      "Validating: 100%|██████████| 1/1 [00:00<00:00,  1.62it/s, val_loss=0.415, val_ca=95.6, val_wa=0.802]\n"
     ]
    },
    {
     "name": "stdout",
     "output_type": "stream",
     "text": [
      "0.5513178362648231\n",
      "Validation loss decreased (0.551441 --> 0.551318).  Saving model ...\n"
     ]
    },
    {
     "name": "stderr",
     "output_type": "stream",
     "text": [
      "Epoch: [1106]/[1200] Training: 100%|██████████| 7/7 [00:05<00:00,  1.39it/s, loss=0.000273, train_ca=100, train_wa=1]    \n",
      "Validating: 100%|██████████| 1/1 [00:00<00:00,  2.03it/s, val_loss=0.41, val_ca=95.6, val_wa=0.802]\n"
     ]
    },
    {
     "name": "stdout",
     "output_type": "stream",
     "text": [
      "0.551189926610957\n",
      "Validation loss decreased (0.551318 --> 0.551190).  Saving model ...\n"
     ]
    },
    {
     "name": "stderr",
     "output_type": "stream",
     "text": [
      "Epoch: [1107]/[1200] Training: 100%|██████████| 7/7 [00:05<00:00,  1.36it/s, loss=5.28e-5, train_ca=100, train_wa=1]      \n",
      "Validating: 100%|██████████| 1/1 [00:00<00:00,  2.04it/s, val_loss=0.429, val_ca=95.5, val_wa=0.791]\n"
     ]
    },
    {
     "name": "stdout",
     "output_type": "stream",
     "text": [
      "0.5510798743762231\n",
      "Validation loss decreased (0.551190 --> 0.551080).  Saving model ...\n"
     ]
    },
    {
     "name": "stderr",
     "output_type": "stream",
     "text": [
      "Epoch: [1108]/[1200] Training: 100%|██████████| 7/7 [00:05<00:00,  1.40it/s, loss=4.73e-5, train_ca=100, train_wa=1]      \n",
      "Validating: 100%|██████████| 1/1 [00:00<00:00,  2.00it/s, val_loss=0.432, val_ca=95.1, val_wa=0.791]\n"
     ]
    },
    {
     "name": "stdout",
     "output_type": "stream",
     "text": [
      "0.5509729369266613\n",
      "Validation loss decreased (0.551080 --> 0.550973).  Saving model ...\n"
     ]
    },
    {
     "name": "stderr",
     "output_type": "stream",
     "text": [
      "Epoch: [1109]/[1200] Training: 100%|██████████| 7/7 [00:05<00:00,  1.39it/s, loss=6.56e-5, train_ca=100, train_wa=1]    \n",
      "Validating: 100%|██████████| 1/1 [00:00<00:00,  1.99it/s, val_loss=0.428, val_ca=95.3, val_wa=0.802]\n"
     ]
    },
    {
     "name": "stdout",
     "output_type": "stream",
     "text": [
      "0.5508626759266875\n",
      "Validation loss decreased (0.550973 --> 0.550863).  Saving model ...\n"
     ]
    },
    {
     "name": "stderr",
     "output_type": "stream",
     "text": [
      "Epoch: [1110]/[1200] Training: 100%|██████████| 7/7 [00:04<00:00,  1.40it/s, loss=0.000129, train_ca=100, train_wa=1]     \n",
      "Validating: 100%|██████████| 1/1 [00:00<00:00,  1.45it/s, val_loss=0.422, val_ca=95.5, val_wa=0.802]\n"
     ]
    },
    {
     "name": "stdout",
     "output_type": "stream",
     "text": [
      "0.5507469130076951\n",
      "Validation loss decreased (0.550863 --> 0.550747).  Saving model ...\n"
     ]
    },
    {
     "name": "stderr",
     "output_type": "stream",
     "text": [
      "Epoch: [1111]/[1200] Training: 100%|██████████| 7/7 [00:04<00:00,  1.41it/s, loss=0.000343, train_ca=100, train_wa=1]     \n",
      "Validating: 100%|██████████| 1/1 [00:00<00:00,  1.43it/s, val_loss=0.409, val_ca=95.8, val_wa=0.802]\n"
     ]
    },
    {
     "name": "stdout",
     "output_type": "stream",
     "text": [
      "0.5506197088812239\n",
      "Validation loss decreased (0.550747 --> 0.550620).  Saving model ...\n"
     ]
    },
    {
     "name": "stderr",
     "output_type": "stream",
     "text": [
      "Epoch: [1112]/[1200] Training: 100%|██████████| 7/7 [00:05<00:00,  1.40it/s, loss=1.11e-5, train_ca=100, train_wa=1]      \n",
      "Validating: 100%|██████████| 1/1 [00:00<00:00,  1.94it/s, val_loss=0.405, val_ca=95.8, val_wa=0.802]\n"
     ]
    },
    {
     "name": "stdout",
     "output_type": "stream",
     "text": [
      "0.5504892073852583\n",
      "Validation loss decreased (0.550620 --> 0.550489).  Saving model ...\n"
     ]
    },
    {
     "name": "stderr",
     "output_type": "stream",
     "text": [
      "Epoch: [1113]/[1200] Training: 100%|██████████| 7/7 [00:05<00:00,  1.34it/s, loss=7.92e-5, train_ca=100, train_wa=1]     \n",
      "Validating: 100%|██████████| 1/1 [00:00<00:00,  2.00it/s, val_loss=0.404, val_ca=95.6, val_wa=0.802]\n"
     ]
    },
    {
     "name": "stdout",
     "output_type": "stream",
     "text": [
      "0.5503581443175072\n",
      "Validation loss decreased (0.550489 --> 0.550358).  Saving model ...\n"
     ]
    },
    {
     "name": "stderr",
     "output_type": "stream",
     "text": [
      "Epoch: [1114]/[1200] Training: 100%|██████████| 7/7 [00:04<00:00,  1.45it/s, loss=5.85e-6, train_ca=100, train_wa=1]      \n",
      "Validating: 100%|██████████| 1/1 [00:00<00:00,  2.45it/s, val_loss=0.409, val_ca=95.6, val_wa=0.802]\n"
     ]
    },
    {
     "name": "stdout",
     "output_type": "stream",
     "text": [
      "0.5502319160488344\n",
      "Validation loss decreased (0.550358 --> 0.550232).  Saving model ...\n"
     ]
    },
    {
     "name": "stderr",
     "output_type": "stream",
     "text": [
      "Epoch: [1115]/[1200] Training: 100%|██████████| 7/7 [00:04<00:00,  1.42it/s, loss=0.00039, train_ca=100, train_wa=1]      \n",
      "Validating: 100%|██████████| 1/1 [00:00<00:00,  1.64it/s, val_loss=0.418, val_ca=95.5, val_wa=0.802]\n"
     ]
    },
    {
     "name": "stdout",
     "output_type": "stream",
     "text": [
      "0.5501132532220497\n",
      "Validation loss decreased (0.550232 --> 0.550113).  Saving model ...\n"
     ]
    },
    {
     "name": "stderr",
     "output_type": "stream",
     "text": [
      "Epoch: [1116]/[1200] Training: 100%|██████████| 7/7 [00:04<00:00,  1.41it/s, loss=1.92e-5, train_ca=100, train_wa=1]     \n",
      "Validating: 100%|██████████| 1/1 [00:00<00:00,  2.00it/s, val_loss=0.439, val_ca=95.1, val_wa=0.791]\n"
     ]
    },
    {
     "name": "stdout",
     "output_type": "stream",
     "text": [
      "0.5500135296732453\n",
      "Validation loss decreased (0.550113 --> 0.550014).  Saving model ...\n"
     ]
    },
    {
     "name": "stderr",
     "output_type": "stream",
     "text": [
      "Epoch: [1117]/[1200] Training: 100%|██████████| 7/7 [00:05<00:00,  1.33it/s, loss=0.000165, train_ca=100, train_wa=1]     \n",
      "Validating: 100%|██████████| 1/1 [00:00<00:00,  2.03it/s, val_loss=0.428, val_ca=95.5, val_wa=0.802]\n"
     ]
    },
    {
     "name": "stdout",
     "output_type": "stream",
     "text": [
      "0.5499043720071075\n",
      "Validation loss decreased (0.550014 --> 0.549904).  Saving model ...\n"
     ]
    },
    {
     "name": "stderr",
     "output_type": "stream",
     "text": [
      "Epoch: [1118]/[1200] Training: 100%|██████████| 7/7 [00:04<00:00,  1.47it/s, loss=6.17e-6, train_ca=100, train_wa=1]     \n",
      "Validating: 100%|██████████| 1/1 [00:00<00:00,  2.42it/s, val_loss=0.412, val_ca=95.6, val_wa=0.814]\n"
     ]
    },
    {
     "name": "stdout",
     "output_type": "stream",
     "text": [
      "0.5497811191848346\n",
      "Validation loss decreased (0.549904 --> 0.549781).  Saving model ...\n"
     ]
    },
    {
     "name": "stderr",
     "output_type": "stream",
     "text": [
      "Epoch: [1119]/[1200] Training: 100%|██████████| 7/7 [00:04<00:00,  1.41it/s, loss=0.000112, train_ca=100, train_wa=1]     \n",
      "Validating: 100%|██████████| 1/1 [00:00<00:00,  2.00it/s, val_loss=0.399, val_ca=95.6, val_wa=0.802]\n"
     ]
    },
    {
     "name": "stdout",
     "output_type": "stream",
     "text": [
      "0.5496467120353927\n",
      "Validation loss decreased (0.549781 --> 0.549647).  Saving model ...\n"
     ]
    },
    {
     "name": "stderr",
     "output_type": "stream",
     "text": [
      "Epoch: [1120]/[1200] Training: 100%|██████████| 7/7 [00:05<00:00,  1.33it/s, loss=2.61e-5, train_ca=100, train_wa=1]      \n",
      "Validating: 100%|██████████| 1/1 [00:00<00:00,  1.99it/s, val_loss=0.385, val_ca=96.1, val_wa=0.826]\n"
     ]
    },
    {
     "name": "stdout",
     "output_type": "stream",
     "text": [
      "0.5494998985114582\n",
      "Validation loss decreased (0.549647 --> 0.549500).  Saving model ...\n"
     ]
    },
    {
     "name": "stderr",
     "output_type": "stream",
     "text": [
      "Epoch: [1121]/[1200] Training: 100%|██████████| 7/7 [00:04<00:00,  1.44it/s, loss=3.7e-5, train_ca=100, train_wa=1]       \n",
      "Validating: 100%|██████████| 1/1 [00:00<00:00,  1.98it/s, val_loss=0.371, val_ca=96.1, val_wa=0.826]\n"
     ]
    },
    {
     "name": "stdout",
     "output_type": "stream",
     "text": [
      "0.5493407423010068\n",
      "Validation loss decreased (0.549500 --> 0.549341).  Saving model ...\n"
     ]
    },
    {
     "name": "stderr",
     "output_type": "stream",
     "text": [
      "Epoch: [1122]/[1200] Training: 100%|██████████| 7/7 [00:05<00:00,  1.34it/s, loss=0.00167, train_ca=100, train_wa=1]     \n",
      "Validating: 100%|██████████| 1/1 [00:00<00:00,  1.97it/s, val_loss=0.366, val_ca=96.3, val_wa=0.837]\n"
     ]
    },
    {
     "name": "stdout",
     "output_type": "stream",
     "text": [
      "0.5491775091061388\n",
      "Validation loss decreased (0.549341 --> 0.549178).  Saving model ...\n"
     ]
    },
    {
     "name": "stderr",
     "output_type": "stream",
     "text": [
      "Epoch: [1123]/[1200] Training: 100%|██████████| 7/7 [00:05<00:00,  1.36it/s, loss=3.69e-6, train_ca=100, train_wa=1]     \n",
      "Validating: 100%|██████████| 1/1 [00:00<00:00,  2.45it/s, val_loss=0.407, val_ca=95.3, val_wa=0.791]\n"
     ]
    },
    {
     "name": "stdout",
     "output_type": "stream",
     "text": [
      "0.5490513904889425\n",
      "Validation loss decreased (0.549178 --> 0.549051).  Saving model ...\n"
     ]
    },
    {
     "name": "stderr",
     "output_type": "stream",
     "text": [
      "Epoch: [1124]/[1200] Training: 100%|██████████| 7/7 [00:05<00:00,  1.39it/s, loss=5.92e-6, train_ca=100, train_wa=1]     \n",
      "Validating: 100%|██████████| 1/1 [00:00<00:00,  1.99it/s, val_loss=0.335, val_ca=96.3, val_wa=0.849]\n"
     ]
    },
    {
     "name": "stdout",
     "output_type": "stream",
     "text": [
      "0.548861538643947\n",
      "Validation loss decreased (0.549051 --> 0.548862).  Saving model ...\n"
     ]
    },
    {
     "name": "stderr",
     "output_type": "stream",
     "text": [
      "Epoch: [1125]/[1200] Training: 100%|██████████| 7/7 [00:05<00:00,  1.37it/s, loss=8.43e-5, train_ca=100, train_wa=1]     \n",
      "Validating: 100%|██████████| 1/1 [00:00<00:00,  1.94it/s, val_loss=0.331, val_ca=96.3, val_wa=0.837]\n"
     ]
    },
    {
     "name": "stdout",
     "output_type": "stream",
     "text": [
      "0.5486682725090206\n",
      "Validation loss decreased (0.548862 --> 0.548668).  Saving model ...\n"
     ]
    },
    {
     "name": "stderr",
     "output_type": "stream",
     "text": [
      "Epoch: [1126]/[1200] Training: 100%|██████████| 7/7 [00:05<00:00,  1.38it/s, loss=1.01e-5, train_ca=100, train_wa=1]      \n",
      "Validating: 100%|██████████| 1/1 [00:00<00:00,  1.95it/s, val_loss=0.335, val_ca=96.3, val_wa=0.837]\n"
     ]
    },
    {
     "name": "stdout",
     "output_type": "stream",
     "text": [
      "0.5484785726095768\n",
      "Validation loss decreased (0.548668 --> 0.548479).  Saving model ...\n"
     ]
    },
    {
     "name": "stderr",
     "output_type": "stream",
     "text": [
      "Epoch: [1127]/[1200] Training: 100%|██████████| 7/7 [00:05<00:00,  1.37it/s, loss=6.11e-6, train_ca=100, train_wa=1]      \n",
      "Validating: 100%|██████████| 1/1 [00:00<00:00,  1.99it/s, val_loss=0.339, val_ca=96, val_wa=0.826]\n"
     ]
    },
    {
     "name": "stdout",
     "output_type": "stream",
     "text": [
      "0.5482932969835398\n",
      "Validation loss decreased (0.548479 --> 0.548293).  Saving model ...\n"
     ]
    },
    {
     "name": "stderr",
     "output_type": "stream",
     "text": [
      "Epoch: [1128]/[1200] Training: 100%|██████████| 7/7 [00:05<00:00,  1.34it/s, loss=2.06e-5, train_ca=100, train_wa=1]     \n",
      "Validating: 100%|██████████| 1/1 [00:00<00:00,  1.99it/s, val_loss=0.351, val_ca=96, val_wa=0.826]\n"
     ]
    },
    {
     "name": "stdout",
     "output_type": "stream",
     "text": [
      "0.5481182923095416\n",
      "Validation loss decreased (0.548293 --> 0.548118).  Saving model ...\n"
     ]
    },
    {
     "name": "stderr",
     "output_type": "stream",
     "text": [
      "Epoch: [1129]/[1200] Training: 100%|██████████| 7/7 [00:05<00:00,  1.31it/s, loss=1.66e-5, train_ca=100, train_wa=1]      \n",
      "Validating: 100%|██████████| 1/1 [00:00<00:00,  2.46it/s, val_loss=0.36, val_ca=96, val_wa=0.826]\n"
     ]
    },
    {
     "name": "stdout",
     "output_type": "stream",
     "text": [
      "0.5479519644951419\n",
      "Validation loss decreased (0.548118 --> 0.547952).  Saving model ...\n"
     ]
    },
    {
     "name": "stderr",
     "output_type": "stream",
     "text": [
      "Epoch: [1130]/[1200] Training: 100%|██████████| 7/7 [00:05<00:00,  1.30it/s, loss=1.76e-5, train_ca=100, train_wa=1]      \n",
      "Validating: 100%|██████████| 1/1 [00:00<00:00,  1.98it/s, val_loss=0.359, val_ca=96.1, val_wa=0.826]\n"
     ]
    },
    {
     "name": "stdout",
     "output_type": "stream",
     "text": [
      "0.547784977556328\n",
      "Validation loss decreased (0.547952 --> 0.547785).  Saving model ...\n"
     ]
    },
    {
     "name": "stderr",
     "output_type": "stream",
     "text": [
      "Epoch: [1131]/[1200] Training: 100%|██████████| 7/7 [00:05<00:00,  1.36it/s, loss=5.95e-6, train_ca=100, train_wa=1]      \n",
      "Validating: 100%|██████████| 1/1 [00:00<00:00,  2.49it/s, val_loss=0.353, val_ca=96.1, val_wa=0.826]\n"
     ]
    },
    {
     "name": "stdout",
     "output_type": "stream",
     "text": [
      "0.5476126707662867\n",
      "Validation loss decreased (0.547785 --> 0.547613).  Saving model ...\n"
     ]
    },
    {
     "name": "stderr",
     "output_type": "stream",
     "text": [
      "Epoch: [1132]/[1200] Training: 100%|██████████| 7/7 [00:04<00:00,  1.45it/s, loss=0.00111, train_ca=100, train_wa=1]     \n",
      "Validating: 100%|██████████| 1/1 [00:00<00:00,  3.30it/s, val_loss=0.373, val_ca=96, val_wa=0.826]\n"
     ]
    },
    {
     "name": "stdout",
     "output_type": "stream",
     "text": [
      "0.5474586943837911\n",
      "Validation loss decreased (0.547613 --> 0.547459).  Saving model ...\n"
     ]
    },
    {
     "name": "stderr",
     "output_type": "stream",
     "text": [
      "Epoch: [1133]/[1200] Training: 100%|██████████| 7/7 [00:04<00:00,  1.44it/s, loss=0.000133, train_ca=100, train_wa=1]    \n",
      "Validating: 100%|██████████| 1/1 [00:00<00:00,  1.63it/s, val_loss=0.459, val_ca=94.7, val_wa=0.733]\n"
     ]
    },
    {
     "name": "stdout",
     "output_type": "stream",
     "text": [
      "0.5473808106871954\n",
      "Validation loss decreased (0.547459 --> 0.547381).  Saving model ...\n"
     ]
    },
    {
     "name": "stderr",
     "output_type": "stream",
     "text": [
      "Epoch: [1134]/[1200] Training: 100%|██████████| 7/7 [00:04<00:00,  1.44it/s, loss=1.58e-5, train_ca=100, train_wa=1]     \n",
      "Validating: 100%|██████████| 1/1 [00:00<00:00,  1.99it/s, val_loss=0.476, val_ca=95.5, val_wa=0.802]\n"
     ]
    },
    {
     "name": "stdout",
     "output_type": "stream",
     "text": [
      "0.5473176777415293\n",
      "Validation loss decreased (0.547381 --> 0.547318).  Saving model ...\n"
     ]
    },
    {
     "name": "stderr",
     "output_type": "stream",
     "text": [
      "Epoch: [1135]/[1200] Training: 100%|██████████| 7/7 [00:04<00:00,  1.49it/s, loss=5.54e-6, train_ca=100, train_wa=1]      \n",
      "Validating: 100%|██████████| 1/1 [00:00<00:00,  1.95it/s, val_loss=0.499, val_ca=95.5, val_wa=0.791]\n"
     ]
    },
    {
     "name": "stdout",
     "output_type": "stream",
     "text": [
      "0.5472749957098915\n",
      "Validation loss decreased (0.547318 --> 0.547275).  Saving model ...\n"
     ]
    },
    {
     "name": "stderr",
     "output_type": "stream",
     "text": [
      "Epoch: [1136]/[1200] Training: 100%|██████████| 7/7 [00:05<00:00,  1.38it/s, loss=2.85e-5, train_ca=100, train_wa=1]      \n",
      "Validating: 100%|██████████| 1/1 [00:00<00:00,  2.42it/s, val_loss=0.416, val_ca=96, val_wa=0.826]\n"
     ]
    },
    {
     "name": "stdout",
     "output_type": "stream",
     "text": [
      "0.5471597297120387\n",
      "Validation loss decreased (0.547275 --> 0.547160).  Saving model ...\n"
     ]
    },
    {
     "name": "stderr",
     "output_type": "stream",
     "text": [
      "Epoch: [1137]/[1200] Training: 100%|██████████| 7/7 [00:04<00:00,  1.41it/s, loss=2.13e-5, train_ca=100, train_wa=1]     \n",
      "Validating: 100%|██████████| 1/1 [00:00<00:00,  1.97it/s, val_loss=0.431, val_ca=95.6, val_wa=0.802]\n"
     ]
    },
    {
     "name": "stdout",
     "output_type": "stream",
     "text": [
      "0.5470579446304044\n",
      "Validation loss decreased (0.547160 --> 0.547058).  Saving model ...\n"
     ]
    },
    {
     "name": "stderr",
     "output_type": "stream",
     "text": [
      "Epoch: [1138]/[1200] Training: 100%|██████████| 7/7 [00:05<00:00,  1.34it/s, loss=2.4e-5, train_ca=100, train_wa=1]       \n",
      "Validating: 100%|██████████| 1/1 [00:00<00:00,  1.64it/s, val_loss=0.424, val_ca=95.8, val_wa=0.814]\n"
     ]
    },
    {
     "name": "stdout",
     "output_type": "stream",
     "text": [
      "0.5469496039967788\n",
      "Validation loss decreased (0.547058 --> 0.546950).  Saving model ...\n"
     ]
    },
    {
     "name": "stderr",
     "output_type": "stream",
     "text": [
      "Epoch: [1139]/[1200] Training: 100%|██████████| 7/7 [00:05<00:00,  1.40it/s, loss=1.55e-5, train_ca=100, train_wa=1]     \n",
      "Validating: 100%|██████████| 1/1 [00:00<00:00,  1.66it/s, val_loss=0.43, val_ca=95.6, val_wa=0.814]\n"
     ]
    },
    {
     "name": "stdout",
     "output_type": "stream",
     "text": [
      "0.5468472918588586\n",
      "Validation loss decreased (0.546950 --> 0.546847).  Saving model ...\n"
     ]
    },
    {
     "name": "stderr",
     "output_type": "stream",
     "text": [
      "Epoch: [1140]/[1200] Training: 100%|██████████| 7/7 [00:05<00:00,  1.38it/s, loss=2.73e-5, train_ca=100, train_wa=1]     \n",
      "Validating: 100%|██████████| 1/1 [00:00<00:00,  1.96it/s, val_loss=0.438, val_ca=95.6, val_wa=0.814]\n"
     ]
    },
    {
     "name": "stdout",
     "output_type": "stream",
     "text": [
      "0.5467516452648176\n",
      "Validation loss decreased (0.546847 --> 0.546752).  Saving model ...\n"
     ]
    },
    {
     "name": "stderr",
     "output_type": "stream",
     "text": [
      "Epoch: [1141]/[1200] Training: 100%|██████████| 7/7 [00:04<00:00,  1.45it/s, loss=3.9e-6, train_ca=100, train_wa=1]      \n",
      "Validating: 100%|██████████| 1/1 [00:00<00:00,  1.95it/s, val_loss=0.438, val_ca=95.6, val_wa=0.814]\n"
     ]
    },
    {
     "name": "stdout",
     "output_type": "stream",
     "text": [
      "0.5466569242567111\n",
      "Validation loss decreased (0.546752 --> 0.546657).  Saving model ...\n"
     ]
    },
    {
     "name": "stderr",
     "output_type": "stream",
     "text": [
      "Epoch: [1142]/[1200] Training: 100%|██████████| 7/7 [00:05<00:00,  1.33it/s, loss=7.13e-6, train_ca=100, train_wa=1]      \n",
      "Validating: 100%|██████████| 1/1 [00:00<00:00,  1.97it/s, val_loss=0.435, val_ca=95.6, val_wa=0.814]\n"
     ]
    },
    {
     "name": "stdout",
     "output_type": "stream",
     "text": [
      "0.546559170331363\n",
      "Validation loss decreased (0.546657 --> 0.546559).  Saving model ...\n"
     ]
    },
    {
     "name": "stderr",
     "output_type": "stream",
     "text": [
      "Epoch: [1143]/[1200] Training: 100%|██████████| 7/7 [00:04<00:00,  1.45it/s, loss=3.92e-6, train_ca=100, train_wa=1]     \n",
      "Validating: 100%|██████████| 1/1 [00:00<00:00,  1.95it/s, val_loss=0.436, val_ca=95.6, val_wa=0.814]\n"
     ]
    },
    {
     "name": "stdout",
     "output_type": "stream",
     "text": [
      "0.5464622960861073\n",
      "Validation loss decreased (0.546559 --> 0.546462).  Saving model ...\n"
     ]
    },
    {
     "name": "stderr",
     "output_type": "stream",
     "text": [
      "Epoch: [1144]/[1200] Training: 100%|██████████| 7/7 [00:04<00:00,  1.41it/s, loss=2.38e-6, train_ca=100, train_wa=1]      \n",
      "Validating: 100%|██████████| 1/1 [00:00<00:00,  1.96it/s, val_loss=0.435, val_ca=95.6, val_wa=0.814]\n"
     ]
    },
    {
     "name": "stdout",
     "output_type": "stream",
     "text": [
      "0.5463648906813035\n",
      "Validation loss decreased (0.546462 --> 0.546365).  Saving model ...\n"
     ]
    },
    {
     "name": "stderr",
     "output_type": "stream",
     "text": [
      "Epoch: [1145]/[1200] Training: 100%|██████████| 7/7 [00:04<00:00,  1.46it/s, loss=5.54e-5, train_ca=100, train_wa=1]     \n",
      "Validating: 100%|██████████| 1/1 [00:00<00:00,  2.34it/s, val_loss=0.421, val_ca=95.6, val_wa=0.814]\n"
     ]
    },
    {
     "name": "stdout",
     "output_type": "stream",
     "text": [
      "0.5462557289427846\n",
      "Validation loss decreased (0.546365 --> 0.546256).  Saving model ...\n"
     ]
    },
    {
     "name": "stderr",
     "output_type": "stream",
     "text": [
      "Epoch: [1146]/[1200] Training: 100%|██████████| 7/7 [00:05<00:00,  1.40it/s, loss=8.89e-6, train_ca=100, train_wa=1]     \n",
      "Validating: 100%|██████████| 1/1 [00:00<00:00,  1.98it/s, val_loss=0.423, val_ca=95.6, val_wa=0.814]\n"
     ]
    },
    {
     "name": "stdout",
     "output_type": "stream",
     "text": [
      "0.5461482942519703\n",
      "Validation loss decreased (0.546256 --> 0.546148).  Saving model ...\n"
     ]
    },
    {
     "name": "stderr",
     "output_type": "stream",
     "text": [
      "Epoch: [1147]/[1200] Training: 100%|██████████| 7/7 [00:05<00:00,  1.37it/s, loss=1.84e-5, train_ca=100, train_wa=1]      \n",
      "Validating: 100%|██████████| 1/1 [00:00<00:00,  1.97it/s, val_loss=0.424, val_ca=95.6, val_wa=0.814]\n"
     ]
    },
    {
     "name": "stdout",
     "output_type": "stream",
     "text": [
      "0.5460416110470774\n",
      "Validation loss decreased (0.546148 --> 0.546042).  Saving model ...\n"
     ]
    },
    {
     "name": "stderr",
     "output_type": "stream",
     "text": [
      "Epoch: [1148]/[1200] Training: 100%|██████████| 7/7 [00:05<00:00,  1.36it/s, loss=1.14e-5, train_ca=100, train_wa=1]      \n",
      "Validating: 100%|██████████| 1/1 [00:00<00:00,  2.45it/s, val_loss=0.418, val_ca=95.8, val_wa=0.826]\n"
     ]
    },
    {
     "name": "stdout",
     "output_type": "stream",
     "text": [
      "0.5459300598113433\n",
      "Validation loss decreased (0.546042 --> 0.545930).  Saving model ...\n"
     ]
    },
    {
     "name": "stderr",
     "output_type": "stream",
     "text": [
      "Epoch: [1149]/[1200] Training: 100%|██████████| 7/7 [00:04<00:00,  1.47it/s, loss=3.98e-6, train_ca=100, train_wa=1]      \n",
      "Validating: 100%|██████████| 1/1 [00:00<00:00,  1.69it/s, val_loss=0.423, val_ca=95.6, val_wa=0.814]\n"
     ]
    },
    {
     "name": "stdout",
     "output_type": "stream",
     "text": [
      "0.5458235270452955\n",
      "Validation loss decreased (0.545930 --> 0.545824).  Saving model ...\n"
     ]
    },
    {
     "name": "stderr",
     "output_type": "stream",
     "text": [
      "Epoch: [1150]/[1200] Training: 100%|██████████| 7/7 [00:04<00:00,  1.48it/s, loss=7.2e-6, train_ca=100, train_wa=1]      \n",
      "Validating: 100%|██████████| 1/1 [00:00<00:00,  2.32it/s, val_loss=0.435, val_ca=95.6, val_wa=0.814]\n"
     ]
    },
    {
     "name": "stdout",
     "output_type": "stream",
     "text": [
      "0.5457270274766617\n",
      "Validation loss decreased (0.545824 --> 0.545727).  Saving model ...\n"
     ]
    },
    {
     "name": "stderr",
     "output_type": "stream",
     "text": [
      "Epoch: [1151]/[1200] Training: 100%|██████████| 7/7 [00:04<00:00,  1.51it/s, loss=6.65e-6, train_ca=100, train_wa=1]     \n",
      "Validating: 100%|██████████| 1/1 [00:00<00:00,  1.95it/s, val_loss=0.424, val_ca=95.6, val_wa=0.814]\n"
     ]
    },
    {
     "name": "stdout",
     "output_type": "stream",
     "text": [
      "0.5456217729518027\n",
      "Validation loss decreased (0.545727 --> 0.545622).  Saving model ...\n"
     ]
    },
    {
     "name": "stderr",
     "output_type": "stream",
     "text": [
      "Epoch: [1152]/[1200] Training: 100%|██████████| 7/7 [00:04<00:00,  1.47it/s, loss=5.54e-6, train_ca=100, train_wa=1]      \n",
      "Validating: 100%|██████████| 1/1 [00:00<00:00,  1.94it/s, val_loss=0.421, val_ca=95.8, val_wa=0.826]\n"
     ]
    },
    {
     "name": "stdout",
     "output_type": "stream",
     "text": [
      "0.5455140364025454\n",
      "Validation loss decreased (0.545622 --> 0.545514).  Saving model ...\n"
     ]
    },
    {
     "name": "stderr",
     "output_type": "stream",
     "text": [
      "Epoch: [1153]/[1200] Training: 100%|██████████| 7/7 [00:05<00:00,  1.36it/s, loss=6.03e-6, train_ca=100, train_wa=1]      \n",
      "Validating: 100%|██████████| 1/1 [00:00<00:00,  1.99it/s, val_loss=0.428, val_ca=95.6, val_wa=0.814]\n"
     ]
    },
    {
     "name": "stdout",
     "output_type": "stream",
     "text": [
      "0.5454126926469597\n",
      "Validation loss decreased (0.545514 --> 0.545413).  Saving model ...\n"
     ]
    },
    {
     "name": "stderr",
     "output_type": "stream",
     "text": [
      "Epoch: [1154]/[1200] Training: 100%|██████████| 7/7 [00:04<00:00,  1.42it/s, loss=5.36e-6, train_ca=100, train_wa=1]      \n",
      "Validating: 100%|██████████| 1/1 [00:00<00:00,  2.50it/s, val_loss=0.419, val_ca=95.6, val_wa=0.814]\n"
     ]
    },
    {
     "name": "stdout",
     "output_type": "stream",
     "text": [
      "0.5453035421282775\n",
      "Validation loss decreased (0.545413 --> 0.545304).  Saving model ...\n"
     ]
    },
    {
     "name": "stderr",
     "output_type": "stream",
     "text": [
      "Epoch: [1155]/[1200] Training: 100%|██████████| 7/7 [00:04<00:00,  1.47it/s, loss=7.23e-6, train_ca=100, train_wa=1]     \n",
      "Validating: 100%|██████████| 1/1 [00:00<00:00,  1.96it/s, val_loss=0.425, val_ca=95.6, val_wa=0.814]\n"
     ]
    },
    {
     "name": "stdout",
     "output_type": "stream",
     "text": [
      "0.5451995855327711\n",
      "Validation loss decreased (0.545304 --> 0.545200).  Saving model ...\n"
     ]
    },
    {
     "name": "stderr",
     "output_type": "stream",
     "text": [
      "Epoch: [1156]/[1200] Training: 100%|██████████| 7/7 [00:05<00:00,  1.39it/s, loss=0.0293, train_ca=97.1, train_wa=0.8]    \n",
      "Validating: 100%|██████████| 1/1 [00:00<00:00,  1.94it/s, val_loss=0.42, val_ca=95.8, val_wa=0.814]\n"
     ]
    },
    {
     "name": "stdout",
     "output_type": "stream",
     "text": [
      "0.5450913853595911\n",
      "Validation loss decreased (0.545200 --> 0.545091).  Saving model ...\n"
     ]
    },
    {
     "name": "stderr",
     "output_type": "stream",
     "text": [
      "Epoch: [1157]/[1200] Training: 100%|██████████| 7/7 [00:04<00:00,  1.56it/s, loss=3.65e-6, train_ca=100, train_wa=1]     \n",
      "Validating: 100%|██████████| 1/1 [00:00<00:00,  2.40it/s, val_loss=0.426, val_ca=95.8, val_wa=0.802]\n"
     ]
    },
    {
     "name": "stdout",
     "output_type": "stream",
     "text": [
      "0.5449886817012602\n",
      "Validation loss decreased (0.545091 --> 0.544989).  Saving model ...\n"
     ]
    },
    {
     "name": "stderr",
     "output_type": "stream",
     "text": [
      "Epoch: [1158]/[1200] Training: 100%|██████████| 7/7 [00:05<00:00,  1.37it/s, loss=1.24e-5, train_ca=100, train_wa=1]      \n",
      "Validating: 100%|██████████| 1/1 [00:00<00:00,  1.63it/s, val_loss=0.443, val_ca=95.8, val_wa=0.814]\n"
     ]
    },
    {
     "name": "stdout",
     "output_type": "stream",
     "text": [
      "0.5449011190698064\n",
      "Validation loss decreased (0.544989 --> 0.544901).  Saving model ...\n"
     ]
    },
    {
     "name": "stderr",
     "output_type": "stream",
     "text": [
      "Epoch: [1159]/[1200] Training: 100%|██████████| 7/7 [00:04<00:00,  1.44it/s, loss=0.000243, train_ca=100, train_wa=1]     \n",
      "Validating: 100%|██████████| 1/1 [00:00<00:00,  2.54it/s, val_loss=0.453, val_ca=95.8, val_wa=0.814]\n"
     ]
    },
    {
     "name": "stdout",
     "output_type": "stream",
     "text": [
      "0.5448223583971397\n",
      "Validation loss decreased (0.544901 --> 0.544822).  Saving model ...\n"
     ]
    },
    {
     "name": "stderr",
     "output_type": "stream",
     "text": [
      "Epoch: [1160]/[1200] Training: 100%|██████████| 7/7 [00:05<00:00,  1.36it/s, loss=0.000333, train_ca=100, train_wa=1]     \n",
      "Validating: 100%|██████████| 1/1 [00:00<00:00,  1.71it/s, val_loss=0.443, val_ca=95.5, val_wa=0.802]\n"
     ]
    },
    {
     "name": "stdout",
     "output_type": "stream",
     "text": [
      "0.5447349658367351\n",
      "Validation loss decreased (0.544822 --> 0.544735).  Saving model ...\n"
     ]
    },
    {
     "name": "stderr",
     "output_type": "stream",
     "text": [
      "Epoch: [1161]/[1200] Training: 100%|██████████| 7/7 [00:05<00:00,  1.36it/s, loss=0.00561, train_ca=100, train_wa=1]      \n",
      "Validating: 100%|██████████| 1/1 [00:00<00:00,  2.45it/s, val_loss=0.453, val_ca=95.8, val_wa=0.826]\n"
     ]
    },
    {
     "name": "stdout",
     "output_type": "stream",
     "text": [
      "0.5446557092287371\n",
      "Validation loss decreased (0.544735 --> 0.544656).  Saving model ...\n"
     ]
    },
    {
     "name": "stderr",
     "output_type": "stream",
     "text": [
      "Epoch: [1162]/[1200] Training: 100%|██████████| 7/7 [00:04<00:00,  1.43it/s, loss=3.56e-6, train_ca=100, train_wa=1]      \n",
      "Validating: 100%|██████████| 1/1 [00:00<00:00,  2.00it/s, val_loss=0.451, val_ca=95.8, val_wa=0.814]\n"
     ]
    },
    {
     "name": "stdout",
     "output_type": "stream",
     "text": [
      "0.544575571809028\n",
      "Validation loss decreased (0.544656 --> 0.544576).  Saving model ...\n"
     ]
    },
    {
     "name": "stderr",
     "output_type": "stream",
     "text": [
      "Epoch: [1163]/[1200] Training: 100%|██████████| 7/7 [00:04<00:00,  1.41it/s, loss=0.000268, train_ca=100, train_wa=1]    \n",
      "Validating: 100%|██████████| 1/1 [00:00<00:00,  1.67it/s, val_loss=0.4, val_ca=96.5, val_wa=0.826]\n"
     ]
    },
    {
     "name": "stdout",
     "output_type": "stream",
     "text": [
      "0.5444514738899444\n",
      "Validation loss decreased (0.544576 --> 0.544451).  Saving model ...\n"
     ]
    },
    {
     "name": "stderr",
     "output_type": "stream",
     "text": [
      "Epoch: [1164]/[1200] Training: 100%|██████████| 7/7 [00:04<00:00,  1.42it/s, loss=0.0217, train_ca=97.1, train_wa=0.8]   \n",
      "Validating: 100%|██████████| 1/1 [00:00<00:00,  1.68it/s, val_loss=0.381, val_ca=96.3, val_wa=0.802]\n"
     ]
    },
    {
     "name": "stdout",
     "output_type": "stream",
     "text": [
      "0.5443114368420727\n",
      "Validation loss decreased (0.544451 --> 0.544311).  Saving model ...\n"
     ]
    },
    {
     "name": "stderr",
     "output_type": "stream",
     "text": [
      "Epoch: [1165]/[1200] Training: 100%|██████████| 7/7 [00:05<00:00,  1.38it/s, loss=3.33e-5, train_ca=100, train_wa=1]     \n",
      "Validating: 100%|██████████| 1/1 [00:00<00:00,  1.94it/s, val_loss=0.367, val_ca=95.7, val_wa=0.802]\n"
     ]
    },
    {
     "name": "stdout",
     "output_type": "stream",
     "text": [
      "0.5441593363842805\n",
      "Validation loss decreased (0.544311 --> 0.544159).  Saving model ...\n"
     ]
    },
    {
     "name": "stderr",
     "output_type": "stream",
     "text": [
      "Epoch: [1166]/[1200] Training: 100%|██████████| 7/7 [00:05<00:00,  1.37it/s, loss=0.000161, train_ca=100, train_wa=1]    \n",
      "Validating: 100%|██████████| 1/1 [00:00<00:00,  1.91it/s, val_loss=0.563, val_ca=93.9, val_wa=0.744]\n"
     ]
    },
    {
     "name": "stdout",
     "output_type": "stream",
     "text": [
      "0.5441758555602537\n",
      "EarlyStopping counter: (-0.544159 1 out of 15)\n"
     ]
    },
    {
     "name": "stderr",
     "output_type": "stream",
     "text": [
      "Epoch: [1167]/[1200] Training: 100%|██████████| 7/7 [00:05<00:00,  1.38it/s, loss=0.0312, train_ca=97.1, train_wa=0.8]   \n",
      "Validating: 100%|██████████| 1/1 [00:00<00:00,  1.97it/s, val_loss=0.549, val_ca=95.4, val_wa=0.779]\n"
     ]
    },
    {
     "name": "stdout",
     "output_type": "stream",
     "text": [
      "0.544180395615417\n",
      "EarlyStopping counter: (-0.544159 2 out of 15)\n"
     ]
    },
    {
     "name": "stderr",
     "output_type": "stream",
     "text": [
      "Epoch: [1168]/[1200] Training: 100%|██████████| 7/7 [00:04<00:00,  1.43it/s, loss=0.000515, train_ca=100, train_wa=1]    \n",
      "Validating: 100%|██████████| 1/1 [00:00<00:00,  1.91it/s, val_loss=0.531, val_ca=94.4, val_wa=0.698]\n"
     ]
    },
    {
     "name": "stdout",
     "output_type": "stream",
     "text": [
      "0.544169281792437\n",
      "EarlyStopping counter: (-0.544159 3 out of 15)\n"
     ]
    },
    {
     "name": "stderr",
     "output_type": "stream",
     "text": [
      "Epoch: [1169]/[1200] Training: 100%|██████████| 7/7 [00:05<00:00,  1.38it/s, loss=0.000219, train_ca=100, train_wa=1]    \n",
      "Validating: 100%|██████████| 1/1 [00:00<00:00,  1.99it/s, val_loss=0.479, val_ca=94.8, val_wa=0.721]\n"
     ]
    },
    {
     "name": "stdout",
     "output_type": "stream",
     "text": [
      "0.5441132825119286\n",
      "Validation loss decreased (0.544159 --> 0.544113).  Saving model ...\n"
     ]
    },
    {
     "name": "stderr",
     "output_type": "stream",
     "text": [
      "Epoch: [1170]/[1200] Training: 100%|██████████| 7/7 [00:04<00:00,  1.47it/s, loss=0.000217, train_ca=100, train_wa=1]    \n",
      "Validating: 100%|██████████| 1/1 [00:00<00:00,  1.65it/s, val_loss=0.496, val_ca=95.2, val_wa=0.767]\n"
     ]
    },
    {
     "name": "stdout",
     "output_type": "stream",
     "text": [
      "0.5440721592449491\n",
      "Validation loss decreased (0.544113 --> 0.544072).  Saving model ...\n"
     ]
    },
    {
     "name": "stderr",
     "output_type": "stream",
     "text": [
      "Epoch: [1171]/[1200] Training: 100%|██████████| 7/7 [00:04<00:00,  1.51it/s, loss=0.000172, train_ca=100, train_wa=1]    \n",
      "Validating: 100%|██████████| 1/1 [00:00<00:00,  1.95it/s, val_loss=0.592, val_ca=93.2, val_wa=0.651]\n"
     ]
    },
    {
     "name": "stdout",
     "output_type": "stream",
     "text": [
      "0.5441131999578013\n",
      "EarlyStopping counter: (-0.544072 1 out of 15)\n"
     ]
    },
    {
     "name": "stderr",
     "output_type": "stream",
     "text": [
      "Epoch: [1172]/[1200] Training: 100%|██████████| 7/7 [00:05<00:00,  1.40it/s, loss=0.00105, train_ca=100, train_wa=1]     \n",
      "Validating: 100%|██████████| 1/1 [00:00<00:00,  1.94it/s, val_loss=0.623, val_ca=93, val_wa=0.686]\n"
     ]
    },
    {
     "name": "stdout",
     "output_type": "stream",
     "text": [
      "0.5441804034492632\n",
      "EarlyStopping counter: (-0.544072 2 out of 15)\n"
     ]
    },
    {
     "name": "stderr",
     "output_type": "stream",
     "text": [
      "Epoch: [1173]/[1200] Training: 100%|██████████| 7/7 [00:05<00:00,  1.35it/s, loss=0.112, train_ca=97.1, train_wa=0.8]    \n",
      "Validating: 100%|██████████| 1/1 [00:00<00:00,  2.45it/s, val_loss=0.541, val_ca=93.8, val_wa=0.709]\n"
     ]
    },
    {
     "name": "stdout",
     "output_type": "stream",
     "text": [
      "0.5441779024296618\n",
      "EarlyStopping counter: (-0.544072 3 out of 15)\n"
     ]
    },
    {
     "name": "stderr",
     "output_type": "stream",
     "text": [
      "Epoch: [1174]/[1200] Training: 100%|██████████| 7/7 [00:05<00:00,  1.35it/s, loss=0.161, train_ca=97.1, train_wa=0.8]    \n",
      "Validating: 100%|██████████| 1/1 [00:00<00:00,  1.97it/s, val_loss=0.377, val_ca=95.6, val_wa=0.791]\n"
     ]
    },
    {
     "name": "stdout",
     "output_type": "stream",
     "text": [
      "0.5440358791221567\n",
      "Validation loss decreased (0.544072 --> 0.544036).  Saving model ...\n"
     ]
    },
    {
     "name": "stderr",
     "output_type": "stream",
     "text": [
      "Epoch: [1175]/[1200] Training: 100%|██████████| 7/7 [00:04<00:00,  1.45it/s, loss=0.0626, train_ca=97.1, train_wa=0.8]   \n",
      "Validating: 100%|██████████| 1/1 [00:00<00:00,  1.64it/s, val_loss=0.394, val_ca=95.2, val_wa=0.767]\n"
     ]
    },
    {
     "name": "stdout",
     "output_type": "stream",
     "text": [
      "0.5439087317064848\n",
      "Validation loss decreased (0.544036 --> 0.543909).  Saving model ...\n"
     ]
    },
    {
     "name": "stderr",
     "output_type": "stream",
     "text": [
      "Epoch: [1176]/[1200] Training: 100%|██████████| 7/7 [00:05<00:00,  1.35it/s, loss=0.000458, train_ca=100, train_wa=1]    \n",
      "Validating: 100%|██████████| 1/1 [00:00<00:00,  1.92it/s, val_loss=0.534, val_ca=94.5, val_wa=0.767]\n"
     ]
    },
    {
     "name": "stdout",
     "output_type": "stream",
     "text": [
      "0.5439004725531528\n",
      "Validation loss decreased (0.543909 --> 0.543900).  Saving model ...\n"
     ]
    },
    {
     "name": "stderr",
     "output_type": "stream",
     "text": [
      "Epoch: [1177]/[1200] Training: 100%|██████████| 7/7 [00:04<00:00,  1.41it/s, loss=0.0125, train_ca=100, train_wa=1]      \n",
      "Validating: 100%|██████████| 1/1 [00:00<00:00,  2.47it/s, val_loss=0.442, val_ca=94.6, val_wa=0.779]\n"
     ]
    },
    {
     "name": "stdout",
     "output_type": "stream",
     "text": [
      "0.5438137445741027\n",
      "Validation loss decreased (0.543900 --> 0.543814).  Saving model ...\n"
     ]
    },
    {
     "name": "stderr",
     "output_type": "stream",
     "text": [
      "Epoch: [1178]/[1200] Training: 100%|██████████| 7/7 [00:05<00:00,  1.34it/s, loss=0.0655, train_ca=97.1, train_wa=0.8]   \n",
      "Validating: 100%|██████████| 1/1 [00:00<00:00,  1.64it/s, val_loss=0.369, val_ca=95.3, val_wa=0.791]\n"
     ]
    },
    {
     "name": "stdout",
     "output_type": "stream",
     "text": [
      "0.5436654473260297\n",
      "Validation loss decreased (0.543814 --> 0.543665).  Saving model ...\n"
     ]
    },
    {
     "name": "stderr",
     "output_type": "stream",
     "text": [
      "Epoch: [1179]/[1200] Training: 100%|██████████| 7/7 [00:04<00:00,  1.40it/s, loss=0.0129, train_ca=100, train_wa=1]      \n",
      "Validating: 100%|██████████| 1/1 [00:00<00:00,  1.93it/s, val_loss=0.386, val_ca=94.8, val_wa=0.767]\n"
     ]
    },
    {
     "name": "stdout",
     "output_type": "stream",
     "text": [
      "0.5435316517986957\n",
      "Validation loss decreased (0.543665 --> 0.543532).  Saving model ...\n"
     ]
    },
    {
     "name": "stderr",
     "output_type": "stream",
     "text": [
      "Epoch: [1180]/[1200] Training: 100%|██████████| 7/7 [00:04<00:00,  1.42it/s, loss=4.05e-5, train_ca=100, train_wa=1]     \n",
      "Validating: 100%|██████████| 1/1 [00:00<00:00,  2.43it/s, val_loss=0.338, val_ca=95.8, val_wa=0.779]\n"
     ]
    },
    {
     "name": "stdout",
     "output_type": "stream",
     "text": [
      "0.5433581886709039\n",
      "Validation loss decreased (0.543532 --> 0.543358).  Saving model ...\n"
     ]
    },
    {
     "name": "stderr",
     "output_type": "stream",
     "text": [
      "Epoch: [1181]/[1200] Training: 100%|██████████| 7/7 [00:04<00:00,  1.45it/s, loss=1.78e-5, train_ca=100, train_wa=1]    \n",
      "Validating: 100%|██████████| 1/1 [00:00<00:00,  1.63it/s, val_loss=0.408, val_ca=95.2, val_wa=0.744]\n"
     ]
    },
    {
     "name": "stdout",
     "output_type": "stream",
     "text": [
      "0.5432434244772588\n",
      "Validation loss decreased (0.543358 --> 0.543243).  Saving model ...\n"
     ]
    },
    {
     "name": "stderr",
     "output_type": "stream",
     "text": [
      "Epoch: [1182]/[1200] Training: 100%|██████████| 7/7 [00:04<00:00,  1.43it/s, loss=0.000381, train_ca=100, train_wa=1]    \n",
      "Validating: 100%|██████████| 1/1 [00:00<00:00,  1.66it/s, val_loss=0.343, val_ca=96.2, val_wa=0.779]\n"
     ]
    },
    {
     "name": "stdout",
     "output_type": "stream",
     "text": [
      "0.5430740210152155\n",
      "Validation loss decreased (0.543243 --> 0.543074).  Saving model ...\n"
     ]
    },
    {
     "name": "stderr",
     "output_type": "stream",
     "text": [
      "Epoch: [1183]/[1200] Training: 100%|██████████| 7/7 [00:05<00:00,  1.37it/s, loss=0.000182, train_ca=100, train_wa=1]    \n",
      "Validating: 100%|██████████| 1/1 [00:00<00:00,  1.63it/s, val_loss=0.349, val_ca=95.8, val_wa=0.791]\n"
     ]
    },
    {
     "name": "stdout",
     "output_type": "stream",
     "text": [
      "0.5429105382931383\n",
      "Validation loss decreased (0.543074 --> 0.542911).  Saving model ...\n"
     ]
    },
    {
     "name": "stderr",
     "output_type": "stream",
     "text": [
      "Epoch: [1184]/[1200] Training: 100%|██████████| 7/7 [00:05<00:00,  1.39it/s, loss=0.000146, train_ca=100, train_wa=1]    \n",
      "Validating: 100%|██████████| 1/1 [00:00<00:00,  1.96it/s, val_loss=0.353, val_ca=95.8, val_wa=0.791]\n"
     ]
    },
    {
     "name": "stdout",
     "output_type": "stream",
     "text": [
      "0.5427500207046232\n",
      "Validation loss decreased (0.542911 --> 0.542750).  Saving model ...\n"
     ]
    },
    {
     "name": "stderr",
     "output_type": "stream",
     "text": [
      "Epoch: [1185]/[1200] Training: 100%|██████████| 7/7 [00:05<00:00,  1.39it/s, loss=5.65e-5, train_ca=100, train_wa=1]      \n",
      "Validating: 100%|██████████| 1/1 [00:00<00:00,  1.63it/s, val_loss=0.363, val_ca=96, val_wa=0.802]\n"
     ]
    },
    {
     "name": "stdout",
     "output_type": "stream",
     "text": [
      "0.5425988975300343\n",
      "Validation loss decreased (0.542750 --> 0.542599).  Saving model ...\n"
     ]
    },
    {
     "name": "stderr",
     "output_type": "stream",
     "text": [
      "Epoch: [1186]/[1200] Training: 100%|██████████| 7/7 [00:04<00:00,  1.45it/s, loss=2.09e-5, train_ca=100, train_wa=1]      \n",
      "Validating: 100%|██████████| 1/1 [00:00<00:00,  1.65it/s, val_loss=0.37, val_ca=96, val_wa=0.802]\n"
     ]
    },
    {
     "name": "stdout",
     "output_type": "stream",
     "text": [
      "0.5424538338274667\n",
      "Validation loss decreased (0.542599 --> 0.542454).  Saving model ...\n"
     ]
    },
    {
     "name": "stderr",
     "output_type": "stream",
     "text": [
      "Epoch: [1187]/[1200] Training: 100%|██████████| 7/7 [00:04<00:00,  1.53it/s, loss=9.24e-5, train_ca=100, train_wa=1]     \n",
      "Validating: 100%|██████████| 1/1 [00:00<00:00,  1.99it/s, val_loss=0.37, val_ca=96, val_wa=0.802]\n"
     ]
    },
    {
     "name": "stdout",
     "output_type": "stream",
     "text": [
      "0.542308557173903\n",
      "Validation loss decreased (0.542454 --> 0.542309).  Saving model ...\n"
     ]
    },
    {
     "name": "stderr",
     "output_type": "stream",
     "text": [
      "Epoch: [1188]/[1200] Training: 100%|██████████| 7/7 [00:05<00:00,  1.39it/s, loss=0.000169, train_ca=100, train_wa=1]     \n",
      "Validating: 100%|██████████| 1/1 [00:00<00:00,  1.93it/s, val_loss=0.366, val_ca=96.1, val_wa=0.826]\n"
     ]
    },
    {
     "name": "stdout",
     "output_type": "stream",
     "text": [
      "0.5421605958157227\n",
      "Validation loss decreased (0.542309 --> 0.542161).  Saving model ...\n"
     ]
    },
    {
     "name": "stderr",
     "output_type": "stream",
     "text": [
      "Epoch: [1189]/[1200] Training: 100%|██████████| 7/7 [00:05<00:00,  1.36it/s, loss=5.46e-5, train_ca=100, train_wa=1]     \n",
      "Validating: 100%|██████████| 1/1 [00:00<00:00,  1.99it/s, val_loss=0.378, val_ca=96.1, val_wa=0.826]\n"
     ]
    },
    {
     "name": "stdout",
     "output_type": "stream",
     "text": [
      "0.5420231022922859\n",
      "Validation loss decreased (0.542161 --> 0.542023).  Saving model ...\n"
     ]
    },
    {
     "name": "stderr",
     "output_type": "stream",
     "text": [
      "Epoch: [1190]/[1200] Training: 100%|██████████| 7/7 [00:05<00:00,  1.38it/s, loss=2.08e-5, train_ca=100, train_wa=1]     \n",
      "Validating: 100%|██████████| 1/1 [00:00<00:00,  2.38it/s, val_loss=0.38, val_ca=96.1, val_wa=0.826]\n"
     ]
    },
    {
     "name": "stdout",
     "output_type": "stream",
     "text": [
      "0.5418867957121973\n",
      "Validation loss decreased (0.542023 --> 0.541887).  Saving model ...\n"
     ]
    },
    {
     "name": "stderr",
     "output_type": "stream",
     "text": [
      "Epoch: [1191]/[1200] Training: 100%|██████████| 7/7 [00:04<00:00,  1.48it/s, loss=3.33e-5, train_ca=100, train_wa=1]     \n",
      "Validating: 100%|██████████| 1/1 [00:00<00:00,  1.98it/s, val_loss=0.38, val_ca=96.1, val_wa=0.814]\n"
     ]
    },
    {
     "name": "stdout",
     "output_type": "stream",
     "text": [
      "0.5417513148382943\n",
      "Validation loss decreased (0.541887 --> 0.541751).  Saving model ...\n"
     ]
    },
    {
     "name": "stderr",
     "output_type": "stream",
     "text": [
      "Epoch: [1192]/[1200] Training: 100%|██████████| 7/7 [00:05<00:00,  1.37it/s, loss=0.000374, train_ca=100, train_wa=1]    \n",
      "Validating: 100%|██████████| 1/1 [00:00<00:00,  1.98it/s, val_loss=0.384, val_ca=96, val_wa=0.814]\n"
     ]
    },
    {
     "name": "stdout",
     "output_type": "stream",
     "text": [
      "0.5416193783183393\n",
      "Validation loss decreased (0.541751 --> 0.541619).  Saving model ...\n"
     ]
    },
    {
     "name": "stderr",
     "output_type": "stream",
     "text": [
      "Epoch: [1193]/[1200] Training: 100%|██████████| 7/7 [00:04<00:00,  1.45it/s, loss=0.000166, train_ca=100, train_wa=1]    \n",
      "Validating: 100%|██████████| 1/1 [00:00<00:00,  1.67it/s, val_loss=0.403, val_ca=96, val_wa=0.826]\n"
     ]
    },
    {
     "name": "stdout",
     "output_type": "stream",
     "text": [
      "0.5415031808440156\n",
      "Validation loss decreased (0.541619 --> 0.541503).  Saving model ...\n"
     ]
    },
    {
     "name": "stderr",
     "output_type": "stream",
     "text": [
      "Epoch: [1194]/[1200] Training: 100%|██████████| 7/7 [00:05<00:00,  1.29it/s, loss=1.22e-5, train_ca=100, train_wa=1]     \n",
      "Validating: 100%|██████████| 1/1 [00:00<00:00,  1.96it/s, val_loss=0.423, val_ca=96, val_wa=0.826]\n"
     ]
    },
    {
     "name": "stdout",
     "output_type": "stream",
     "text": [
      "0.5414040918184762\n",
      "Validation loss decreased (0.541503 --> 0.541404).  Saving model ...\n"
     ]
    },
    {
     "name": "stderr",
     "output_type": "stream",
     "text": [
      "Epoch: [1195]/[1200] Training: 100%|██████████| 7/7 [00:05<00:00,  1.40it/s, loss=5.12e-5, train_ca=100, train_wa=1]     \n",
      "Validating: 100%|██████████| 1/1 [00:00<00:00,  1.99it/s, val_loss=0.431, val_ca=95.6, val_wa=0.814]\n"
     ]
    },
    {
     "name": "stdout",
     "output_type": "stream",
     "text": [
      "0.5413121193423307\n",
      "Validation loss decreased (0.541404 --> 0.541312).  Saving model ...\n"
     ]
    },
    {
     "name": "stderr",
     "output_type": "stream",
     "text": [
      "Epoch: [1196]/[1200] Training: 100%|██████████| 7/7 [00:05<00:00,  1.36it/s, loss=0.000101, train_ca=100, train_wa=1]    \n",
      "Validating: 100%|██████████| 1/1 [00:00<00:00,  1.94it/s, val_loss=0.426, val_ca=95.8, val_wa=0.814]\n"
     ]
    },
    {
     "name": "stdout",
     "output_type": "stream",
     "text": [
      "0.5412162533387517\n",
      "Validation loss decreased (0.541312 --> 0.541216).  Saving model ...\n"
     ]
    },
    {
     "name": "stderr",
     "output_type": "stream",
     "text": [
      "Epoch: [1197]/[1200] Training: 100%|██████████| 7/7 [00:04<00:00,  1.42it/s, loss=2.31e-5, train_ca=100, train_wa=1]      \n",
      "Validating: 100%|██████████| 1/1 [00:00<00:00,  2.53it/s, val_loss=0.41, val_ca=96.1, val_wa=0.814]\n"
     ]
    },
    {
     "name": "stdout",
     "output_type": "stream",
     "text": [
      "0.541106754287866\n",
      "Validation loss decreased (0.541216 --> 0.541107).  Saving model ...\n"
     ]
    },
    {
     "name": "stderr",
     "output_type": "stream",
     "text": [
      "Epoch: [1198]/[1200] Training: 100%|██████████| 7/7 [00:05<00:00,  1.38it/s, loss=2.08e-5, train_ca=100, train_wa=1]     \n",
      "Validating: 100%|██████████| 1/1 [00:00<00:00,  1.96it/s, val_loss=0.405, val_ca=96.1, val_wa=0.814]\n"
     ]
    },
    {
     "name": "stdout",
     "output_type": "stream",
     "text": [
      "0.5409934930255016\n",
      "Validation loss decreased (0.541107 --> 0.540993).  Saving model ...\n"
     ]
    }
   ],
   "source": [
    "model = CRNN(args)\n",
    "args['criterion'] = CustomCTCLoss()\n",
    "savepath = os.path.join(args['save_dir'], args['name'])\n",
    "# gmkdir(savepath)\n",
    "# gmkdir(args['log_dir'])\n",
    "# optimizer = torch.optim.Adam(model.parameters(), lr=args['lr'])\n",
    "# learner = Learner(model, optimizer, savepath=savepath, resume=args['resume'])\n",
    "# learner.fit(args)"
   ]
  },
  {
   "cell_type": "markdown",
   "id": "136bc181",
   "metadata": {},
   "source": [
    "# Evaluation and testing"
   ]
  },
  {
   "cell_type": "code",
   "execution_count": null,
   "id": "556ed2de",
   "metadata": {},
   "outputs": [],
   "source": [
    "import matplotlib.pyplot as plt\n",
    "from torchvision.utils import make_grid"
   ]
  },
  {
   "cell_type": "code",
   "execution_count": null,
   "id": "e48a5aaa",
   "metadata": {},
   "outputs": [],
   "source": [
    "device = torch.device(\"cuda:0\" if torch.cuda.is_available() else \"cpu\")\n",
    "def get_accuracy(args):\n",
    "    loader = torch.utils.data.DataLoader(args['data'],\n",
    "                batch_size=args['batch_size'],\n",
    "                collate_fn=args['collate_fn'])\n",
    "    model = args['model']\n",
    "    model.eval()\n",
    "    converter = OCRLabelConverter(args['alphabet'])\n",
    "    evaluator = Eval()\n",
    "    labels, predictions, images = [], [], []\n",
    "    for iteration, batch in enumerate(tqdm(loader)):\n",
    "        input_, targets = batch['img'].to(device), batch['label']\n",
    "        images.extend(input_.squeeze().detach())\n",
    "        labels.extend(targets)\n",
    "        targets, lengths = converter.encode(targets)\n",
    "        logits = model(input_).transpose(1, 0)\n",
    "        logits = torch.nn.functional.log_softmax(logits, 2)\n",
    "        logits = logits.contiguous().cpu()\n",
    "        T, B, H = logits.size()\n",
    "        pred_sizes = torch.LongTensor([T for i in range(B)])\n",
    "        probs, pos = logits.max(2)\n",
    "        pos = pos.transpose(1, 0).contiguous().view(-1)\n",
    "        sim_preds = converter.decode(pos.data, pred_sizes.data, raw=False)\n",
    "        predictions.extend(sim_preds)\n",
    "        \n",
    "    make_grid(images[:10], nrow=3)\n",
    "    fig=plt.figure(figsize=(8, 8))\n",
    "    columns = 5\n",
    "    rows = 5\n",
    "    pairs = list(zip(images, predictions))\n",
    "    indices = np.random.permutation(len(pairs))\n",
    "#     print(indices)\n",
    "#     for i in range(1, columns*rows +1):\n",
    "    for i in range(1, len(indices)):\n",
    "        img = images[indices[i]].cpu()\n",
    "        img = (img - img.min())/(img.max() - img.min())\n",
    "        img = np.array(img * 255.0, dtype=np.uint8)\n",
    "        fig.add_subplot(rows, columns, i)\n",
    "        plt.title(predictions[indices[i]])\n",
    "        plt.axis('off')\n",
    "        plt.imshow(img, cmap='gray')\n",
    "    plt.show()\n",
    "    ca = np.mean((list(map(evaluator.char_accuracy, list(zip(predictions, labels))))))\n",
    "    wa = np.mean((list(map(evaluator.word_accuracy_line, list(zip(predictions, labels))))))\n",
    "    return ca, wa"
   ]
  },
  {
   "cell_type": "code",
   "execution_count": null,
   "id": "0a9a21b4",
   "metadata": {},
   "outputs": [
    {
     "name": "stdout",
     "output_type": "stream",
     "text": [
      "Loading model ./checkpoints/only_good_wo_contrast/best.ckpt\n"
     ]
    },
    {
     "name": "stderr",
     "output_type": "stream",
     "text": [
      "100%|██████████| 1/1 [00:00<00:00, 28.40it/s]\n"
     ]
    },
    {
     "data": {
      "image/png": "[encoded data removed]",
      "text/plain": [
       "<Figure size 576x576 with 24 Axes>"
      ]
     },
     "metadata": {
      "needs_background": "light"
     },
     "output_type": "display_data"
    },
    {
     "name": "stdout",
     "output_type": "stream",
     "text": [
      "Character Accuracy: 53.00\n",
      "Word Accuracy: 0.16\n"
     ]
    }
   ],
   "source": [
    "args['imgdir'] = 'test'\n",
    "args['data'] = SynthDataset(args)\n",
    "resume_file = os.path.join(args['save_dir'], args['name'], 'best.ckpt')\n",
    "if os.path.isfile(resume_file):\n",
    "    print('Loading model %s'%resume_file)\n",
    "    checkpoint = torch.load(resume_file)\n",
    "#     model.load_state_dict(checkpoint['state_dict'])\n",
    "    model.load_state_dict(checkpoint['state_dict'], strict=False) # If mutli GPU\n",
    "    args['model'] = model\n",
    "    ca, wa = get_accuracy(args)\n",
    "    print(\"Character Accuracy: %.2f\\nWord Accuracy: %.2f\"%(ca, wa))\n",
    "else:\n",
    "    print(\"=> no checkpoint found at '{}'\".format(os.path.join(args['save_dir'], args['name'])))\n",
    "    print('Exiting')"
   ]
  },
  {
   "cell_type": "code",
   "execution_count": null,
   "id": "f3b493c7",
   "metadata": {},
   "outputs": [],
   "source": []
  }
 ],
 "metadata": {
  "kernelspec": {
   "display_name": "Python 3 (ipykernel)",
   "language": "python",
   "name": "python3"
  },
  "language_info": {
   "codemirror_mode": {
    "name": "ipython",
    "version": 3
   },
   "file_extension": ".py",
   "mimetype": "text/x-python",
   "name": "python",
   "nbconvert_exporter": "python",
   "pygments_lexer": "ipython3",
   "version": "3.10.12"
  }
 },
 "nbformat": 4,
 "nbformat_minor": 5
}
